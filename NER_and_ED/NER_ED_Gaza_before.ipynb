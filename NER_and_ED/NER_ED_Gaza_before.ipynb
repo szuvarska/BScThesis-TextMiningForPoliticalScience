{
 "cells": [
  {
   "cell_type": "code",
   "id": "initial_id",
   "metadata": {
    "collapsed": true,
    "ExecuteTime": {
     "end_time": "2024-12-08T19:08:46.763051900Z",
     "start_time": "2024-12-08T19:08:32.245590500Z"
    }
   },
   "source": [
    "from NER_ED_script import perform_ner, calculate_entity_distribution, find_most_common_entity_types, find_most_common_entities_per_type"
   ],
   "outputs": [],
   "execution_count": 1
  },
  {
   "metadata": {
    "ExecuteTime": {
     "end_time": "2024-12-08T19:08:46.771987900Z",
     "start_time": "2024-12-08T19:08:46.763051900Z"
    }
   },
   "cell_type": "code",
   "source": [
    "file_name = \"../Data/gaza_textcontain_before_new_preprocessed.csv\"\n",
    "dict_name = \"dict_gaza.csv\"\n",
    "ner_file = \"Results/Gaza_before_with_NER.csv\"\n",
    "dataset_name = \"Gaza before conflict\"\n",
    "entities_file = \"Results/Gaza_before_top_40_entities.csv\""
   ],
   "id": "b6e1668d16ae992b",
   "outputs": [],
   "execution_count": 2
  },
  {
   "metadata": {
    "ExecuteTime": {
     "end_time": "2024-12-08T19:24:23.866130800Z",
     "start_time": "2024-12-08T19:08:46.772987800Z"
    }
   },
   "cell_type": "code",
   "source": [
    "df = perform_ner(file_name, dict_name, ner_file)"
   ],
   "id": "77bd790aefe6794f",
   "outputs": [
    {
     "name": "stderr",
     "output_type": "stream",
     "text": [
      "Some weights of the model checkpoint at dbmdz/bert-large-cased-finetuned-conll03-english were not used when initializing BertForTokenClassification: ['bert.pooler.dense.weight', 'bert.pooler.dense.bias']\n",
      "- This IS expected if you are initializing BertForTokenClassification from the checkpoint of a model trained on another task or with another architecture (e.g. initializing a BertForSequenceClassification model from a BertForPreTraining model).\n",
      "- This IS NOT expected if you are initializing BertForTokenClassification from the checkpoint of a model that you expect to be exactly identical (initializing a BertForSequenceClassification model from a BertForSequenceClassification model).\n",
      "\n",
      "KeyboardInterrupt\n",
      "\n"
     ]
    }
   ],
   "execution_count": 3
  },
  {
   "metadata": {},
   "cell_type": "code",
   "source": [
    "calculate_entity_distribution(df, dataset_name)"
   ],
   "id": "2b99f6cb50222e6a",
   "outputs": [],
   "execution_count": null
  },
  {
   "metadata": {},
   "cell_type": "code",
   "source": [
    "find_most_common_entity_types(df, dataset_name)"
   ],
   "id": "f544ae3f214db375",
   "outputs": [],
   "execution_count": null
  },
  {
   "metadata": {},
   "cell_type": "code",
   "source": [
    "find_most_common_entities_per_type(df, dataset_name, entities_file)"
   ],
   "id": "b524467fd0a78020",
   "outputs": [],
   "execution_count": null
  }
 ],
 "metadata": {
  "kernelspec": {
   "display_name": "Python 3",
   "language": "python",
   "name": "python3"
  },
  "language_info": {
   "codemirror_mode": {
    "name": "ipython",
    "version": 2
   },
   "file_extension": ".py",
   "mimetype": "text/x-python",
   "name": "python",
   "nbconvert_exporter": "python",
   "pygments_lexer": "ipython2",
   "version": "2.7.6"
  }
 },
 "nbformat": 4,
 "nbformat_minor": 5
}
