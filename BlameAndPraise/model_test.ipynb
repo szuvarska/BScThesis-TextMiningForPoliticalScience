{
 "cells": [
  {
   "cell_type": "code",
   "execution_count": 16,
   "metadata": {
    "collapsed": true,
    "ExecuteTime": {
     "end_time": "2025-01-05T16:34:27.104986800Z",
     "start_time": "2025-01-05T16:34:26.643888200Z"
    }
   },
   "outputs": [],
   "source": [
    "import pandas as pd"
   ]
  },
  {
   "cell_type": "code",
   "execution_count": null,
   "outputs": [],
   "source": [
    "#TODO 1: Folter BratData contains empty data\n",
    "#dla kazdej pary plikow, ktroe maja te sama nazwe ale rozne rozszerzenia\n",
    "#wczytac zdania z pliku txt i etykiety z pliku ann\n",
    "#wypierdolic li ijki zaczynajace się od A\n",
    "#ramka danych id, annotaion_category, if T: begin char, end char, text, if R: arg1, arg2"
   ],
   "metadata": {
    "collapsed": false
   }
  },
  {
   "cell_type": "code",
   "execution_count": 100,
   "outputs": [
    {
     "name": "stdout",
     "output_type": "stream",
     "text": [
      "5625\n"
     ]
    }
   ],
   "source": [
    "#wczytaj pliki z folderu BratData\n",
    "import os\n",
    "\n",
    "\n",
    "#read txt file\n",
    "def read_txt_file(file_path):\n",
    "    with open(file_path, 'r') as file:\n",
    "        return file.read()\n",
    "\n",
    "path = \"../BRAT_Data/Ukraine_after/Articles_for_Ania/2022-06-08_DIPLOMACY_China,_Central_Asia_agree_on_broad_cooperation_cov.txt\"\n",
    "txt = read_txt_file(path)\n",
    "#print(txt)\n",
    "print(len(txt))"
   ],
   "metadata": {
    "collapsed": false,
    "ExecuteTime": {
     "end_time": "2025-01-05T19:57:48.379211400Z",
     "start_time": "2025-01-05T19:57:48.367301Z"
    }
   }
  },
  {
   "cell_type": "code",
   "execution_count": null,
   "outputs": [],
   "source": [],
   "metadata": {
    "collapsed": false
   }
  },
  {
   "cell_type": "code",
   "execution_count": 96,
   "outputs": [
    {
     "data": {
      "text/plain": "    start   end                                               text\n0     348   566  China and five Central Asian countries achieve...\n1     567   902  Chinese analysts said the outcomes addressed t...\n2     903  1117  State Councilor and Foreign Minister Wang Yi a...\n3    1118  1299  Wang said that the most important outcome of t...\n4    1300  1945  The meeting also adopted four documents includ...\n5    1946  2511  Wang said that China will always firmly suppor...\n6    2512  2814  Chinese analysts said that the C+C5 foreign mi...\n7    2815  2957  The fruitful achievements of the meeting sugge...\n8    2958  3398  Qian Feng, director of the research department...\n9    3399  3486  Cooperation with China has addressed the pragm...\n10   3487  3686  The region has also been under great pressure ...\n11   3687  3911  The US has intensified its efforts to form a s...\n12   3912  4462  Zhang Hong, an associate research fellow at th...\n13   4463  4782  But analysts said the US' value diplomacy can ...\n14   4783  4928  However, China's cooperation in the region foc...\n15   4929  5147  Amid enhanced relations between China and Cent...\n16   5148  5263  An article posted by TIME magazine said \"Centr...\n17   5264  5393  \"Zhang slammed such speculation, saying that g...\n18   5394  5624  He said that the China-Kyrgyzstan-Uzbekistan r...",
      "text/html": "<div>\n<style scoped>\n    .dataframe tbody tr th:only-of-type {\n        vertical-align: middle;\n    }\n\n    .dataframe tbody tr th {\n        vertical-align: top;\n    }\n\n    .dataframe thead th {\n        text-align: right;\n    }\n</style>\n<table border=\"1\" class=\"dataframe\">\n  <thead>\n    <tr style=\"text-align: right;\">\n      <th></th>\n      <th>start</th>\n      <th>end</th>\n      <th>text</th>\n    </tr>\n  </thead>\n  <tbody>\n    <tr>\n      <th>0</th>\n      <td>348</td>\n      <td>566</td>\n      <td>China and five Central Asian countries achieve...</td>\n    </tr>\n    <tr>\n      <th>1</th>\n      <td>567</td>\n      <td>902</td>\n      <td>Chinese analysts said the outcomes addressed t...</td>\n    </tr>\n    <tr>\n      <th>2</th>\n      <td>903</td>\n      <td>1117</td>\n      <td>State Councilor and Foreign Minister Wang Yi a...</td>\n    </tr>\n    <tr>\n      <th>3</th>\n      <td>1118</td>\n      <td>1299</td>\n      <td>Wang said that the most important outcome of t...</td>\n    </tr>\n    <tr>\n      <th>4</th>\n      <td>1300</td>\n      <td>1945</td>\n      <td>The meeting also adopted four documents includ...</td>\n    </tr>\n    <tr>\n      <th>5</th>\n      <td>1946</td>\n      <td>2511</td>\n      <td>Wang said that China will always firmly suppor...</td>\n    </tr>\n    <tr>\n      <th>6</th>\n      <td>2512</td>\n      <td>2814</td>\n      <td>Chinese analysts said that the C+C5 foreign mi...</td>\n    </tr>\n    <tr>\n      <th>7</th>\n      <td>2815</td>\n      <td>2957</td>\n      <td>The fruitful achievements of the meeting sugge...</td>\n    </tr>\n    <tr>\n      <th>8</th>\n      <td>2958</td>\n      <td>3398</td>\n      <td>Qian Feng, director of the research department...</td>\n    </tr>\n    <tr>\n      <th>9</th>\n      <td>3399</td>\n      <td>3486</td>\n      <td>Cooperation with China has addressed the pragm...</td>\n    </tr>\n    <tr>\n      <th>10</th>\n      <td>3487</td>\n      <td>3686</td>\n      <td>The region has also been under great pressure ...</td>\n    </tr>\n    <tr>\n      <th>11</th>\n      <td>3687</td>\n      <td>3911</td>\n      <td>The US has intensified its efforts to form a s...</td>\n    </tr>\n    <tr>\n      <th>12</th>\n      <td>3912</td>\n      <td>4462</td>\n      <td>Zhang Hong, an associate research fellow at th...</td>\n    </tr>\n    <tr>\n      <th>13</th>\n      <td>4463</td>\n      <td>4782</td>\n      <td>But analysts said the US' value diplomacy can ...</td>\n    </tr>\n    <tr>\n      <th>14</th>\n      <td>4783</td>\n      <td>4928</td>\n      <td>However, China's cooperation in the region foc...</td>\n    </tr>\n    <tr>\n      <th>15</th>\n      <td>4929</td>\n      <td>5147</td>\n      <td>Amid enhanced relations between China and Cent...</td>\n    </tr>\n    <tr>\n      <th>16</th>\n      <td>5148</td>\n      <td>5263</td>\n      <td>An article posted by TIME magazine said \"Centr...</td>\n    </tr>\n    <tr>\n      <th>17</th>\n      <td>5264</td>\n      <td>5393</td>\n      <td>\"Zhang slammed such speculation, saying that g...</td>\n    </tr>\n    <tr>\n      <th>18</th>\n      <td>5394</td>\n      <td>5624</td>\n      <td>He said that the China-Kyrgyzstan-Uzbekistan r...</td>\n    </tr>\n  </tbody>\n</table>\n</div>"
     },
     "execution_count": 96,
     "metadata": {},
     "output_type": "execute_result"
    }
   ],
   "source": [
    "#read sentences from txt file and save char index od begining and end of sentence\n",
    "#sencences are in new lines\n",
    "def read_sentences(txt):\n",
    "    sentences = []\n",
    "    start = 0\n",
    "    end = 0\n",
    "    for i in range(len(txt)):\n",
    "        if txt[i] == '\\n':\n",
    "            end = i\n",
    "            sentences.append((start, end, txt[start:end]))\n",
    "            start = i+1\n",
    "    sentences = sentences[7:]\n",
    "    sentences = pd.DataFrame(sentences, columns=['start', 'end', 'text'])\n",
    "    return sentences\n",
    "\n",
    "sentences = read_sentences(txt)\n",
    "sentences"
   ],
   "metadata": {
    "collapsed": false,
    "ExecuteTime": {
     "end_time": "2025-01-05T19:32:38.694901900Z",
     "start_time": "2025-01-05T19:32:38.680749800Z"
    }
   }
  },
  {
   "cell_type": "code",
   "execution_count": 87,
   "outputs": [
    {
     "name": "stdout",
     "output_type": "stream",
     "text": [
      "['T1', 'event 722 746', 'Russia-Ukraine conflict,']\n",
      "['T2', 'blame 610 721', 'the region\\'s most acute challenges of an economic downturn and the threat of a \"color revolution\" following the']\n",
      "['R1', 'refers Arg1:T2 Arg2:T1', '']\n",
      "['T3', 'group_of_countries 346 384', 'China and five Central Asian countries']\n",
      "['T4', 'praise 385 563', \"achieved fruitful cooperation and broad consensus on issues covering the economy, trade and security during Wednesday's third China+Central Asia (C+C5) foreign ministers' meeting\"]\n",
      "['T5', 'praise 587 707', 'the outcomes addressed the region\\'s most acute challenges of an economic downturn and the threat of a \"color revolution\"']\n",
      "['R2', 'refers Arg1:T4 Arg2:T3', '']\n",
      "['R3', 'refers Arg1:T5 Arg2:T3', '']\n",
      "['T6', 'event 3248 3275', 'the Russia-Ukraine conflict']\n",
      "['T7', 'blame 3102 3249', 'Central Asian countries face great challenges in improving their economies and stabilizing supply chains, which were hit hard by the pandemic and t']\n",
      "['R4', 'refers Arg1:T7 Arg2:T6', '']\n",
      "['T8', 'geographic_location 3540 3542', 'US']\n",
      "['T9', 'blame 3485 3539', 'The region has also been under great pressure from the']\n",
      "['R5', 'refers Arg1:T9 Arg2:T8', '']\n",
      "['T10', 'blame 3548 3672', 'some regional countries are worried about possible sanctions from the US over their positions on the Russia-Ukraine conflict']\n",
      "['T11', 'geographic_location 3614 3620', 'the US']\n",
      "['R6', 'refers Arg1:T10 Arg2:T11', '']\n",
      "['T12', 'geographic_location 3414 3419', 'China']\n",
      "['T13', 'praise 3397 3483', 'Cooperation with China has addressed the pragmatic and urgent needs of these countries']\n",
      "['R7', 'refers Arg1:T13 Arg2:T12', '']\n"
     ]
    },
    {
     "data": {
      "text/plain": "     id             category  arg1  arg2  \\\n0    T1                event   722   746   \n1    T2                blame   610   721   \n2    R1               refers    T2    T1   \n3    T3   group_of_countries   346   384   \n4    T4               praise   385   563   \n5    T5               praise   587   707   \n6    R2               refers    T4    T3   \n7    R3               refers    T5    T3   \n8    T6                event  3248  3275   \n9    T7                blame  3102  3249   \n10   R4               refers    T7    T6   \n11   T8  geographic_location  3540  3542   \n12   T9                blame  3485  3539   \n13   R5               refers    T9    T8   \n14  T10                blame  3548  3672   \n15  T11  geographic_location  3614  3620   \n16   R6               refers   T10   T11   \n17  T12  geographic_location  3414  3419   \n18  T13               praise  3397  3483   \n19   R7               refers   T13   T12   \n\n                                                 text  \n0                            Russia-Ukraine conflict,  \n1   the region's most acute challenges of an econo...  \n2                                                      \n3              China and five Central Asian countries  \n4   achieved fruitful cooperation and broad consen...  \n5   the outcomes addressed the region's most acute...  \n6                                                      \n7                                                      \n8                         the Russia-Ukraine conflict  \n9   Central Asian countries face great challenges ...  \n10                                                     \n11                                                 US  \n12  The region has also been under great pressure ...  \n13                                                     \n14  some regional countries are worried about poss...  \n15                                             the US  \n16                                                     \n17                                              China  \n18  Cooperation with China has addressed the pragm...  \n19                                                     ",
      "text/html": "<div>\n<style scoped>\n    .dataframe tbody tr th:only-of-type {\n        vertical-align: middle;\n    }\n\n    .dataframe tbody tr th {\n        vertical-align: top;\n    }\n\n    .dataframe thead th {\n        text-align: right;\n    }\n</style>\n<table border=\"1\" class=\"dataframe\">\n  <thead>\n    <tr style=\"text-align: right;\">\n      <th></th>\n      <th>id</th>\n      <th>category</th>\n      <th>arg1</th>\n      <th>arg2</th>\n      <th>text</th>\n    </tr>\n  </thead>\n  <tbody>\n    <tr>\n      <th>0</th>\n      <td>T1</td>\n      <td>event</td>\n      <td>722</td>\n      <td>746</td>\n      <td>Russia-Ukraine conflict,</td>\n    </tr>\n    <tr>\n      <th>1</th>\n      <td>T2</td>\n      <td>blame</td>\n      <td>610</td>\n      <td>721</td>\n      <td>the region's most acute challenges of an econo...</td>\n    </tr>\n    <tr>\n      <th>2</th>\n      <td>R1</td>\n      <td>refers</td>\n      <td>T2</td>\n      <td>T1</td>\n      <td></td>\n    </tr>\n    <tr>\n      <th>3</th>\n      <td>T3</td>\n      <td>group_of_countries</td>\n      <td>346</td>\n      <td>384</td>\n      <td>China and five Central Asian countries</td>\n    </tr>\n    <tr>\n      <th>4</th>\n      <td>T4</td>\n      <td>praise</td>\n      <td>385</td>\n      <td>563</td>\n      <td>achieved fruitful cooperation and broad consen...</td>\n    </tr>\n    <tr>\n      <th>5</th>\n      <td>T5</td>\n      <td>praise</td>\n      <td>587</td>\n      <td>707</td>\n      <td>the outcomes addressed the region's most acute...</td>\n    </tr>\n    <tr>\n      <th>6</th>\n      <td>R2</td>\n      <td>refers</td>\n      <td>T4</td>\n      <td>T3</td>\n      <td></td>\n    </tr>\n    <tr>\n      <th>7</th>\n      <td>R3</td>\n      <td>refers</td>\n      <td>T5</td>\n      <td>T3</td>\n      <td></td>\n    </tr>\n    <tr>\n      <th>8</th>\n      <td>T6</td>\n      <td>event</td>\n      <td>3248</td>\n      <td>3275</td>\n      <td>the Russia-Ukraine conflict</td>\n    </tr>\n    <tr>\n      <th>9</th>\n      <td>T7</td>\n      <td>blame</td>\n      <td>3102</td>\n      <td>3249</td>\n      <td>Central Asian countries face great challenges ...</td>\n    </tr>\n    <tr>\n      <th>10</th>\n      <td>R4</td>\n      <td>refers</td>\n      <td>T7</td>\n      <td>T6</td>\n      <td></td>\n    </tr>\n    <tr>\n      <th>11</th>\n      <td>T8</td>\n      <td>geographic_location</td>\n      <td>3540</td>\n      <td>3542</td>\n      <td>US</td>\n    </tr>\n    <tr>\n      <th>12</th>\n      <td>T9</td>\n      <td>blame</td>\n      <td>3485</td>\n      <td>3539</td>\n      <td>The region has also been under great pressure ...</td>\n    </tr>\n    <tr>\n      <th>13</th>\n      <td>R5</td>\n      <td>refers</td>\n      <td>T9</td>\n      <td>T8</td>\n      <td></td>\n    </tr>\n    <tr>\n      <th>14</th>\n      <td>T10</td>\n      <td>blame</td>\n      <td>3548</td>\n      <td>3672</td>\n      <td>some regional countries are worried about poss...</td>\n    </tr>\n    <tr>\n      <th>15</th>\n      <td>T11</td>\n      <td>geographic_location</td>\n      <td>3614</td>\n      <td>3620</td>\n      <td>the US</td>\n    </tr>\n    <tr>\n      <th>16</th>\n      <td>R6</td>\n      <td>refers</td>\n      <td>T10</td>\n      <td>T11</td>\n      <td></td>\n    </tr>\n    <tr>\n      <th>17</th>\n      <td>T12</td>\n      <td>geographic_location</td>\n      <td>3414</td>\n      <td>3419</td>\n      <td>China</td>\n    </tr>\n    <tr>\n      <th>18</th>\n      <td>T13</td>\n      <td>praise</td>\n      <td>3397</td>\n      <td>3483</td>\n      <td>Cooperation with China has addressed the pragm...</td>\n    </tr>\n    <tr>\n      <th>19</th>\n      <td>R7</td>\n      <td>refers</td>\n      <td>T13</td>\n      <td>T12</td>\n      <td></td>\n    </tr>\n  </tbody>\n</table>\n</div>"
     },
     "execution_count": 87,
     "metadata": {},
     "output_type": "execute_result"
    }
   ],
   "source": [
    "#read ann\n",
    "ann = read_txt_file(path.replace('.txt', '.ann'))\n",
    "\n",
    "def clean_ann(ann):\n",
    "    ids, categories, arg1s, arg2s, texts = [], [], [], [], []\n",
    "    ann = ann.split('\\n')\n",
    "    while ann[-1] == '':\n",
    "        ann = ann[:-1]\n",
    "    ann = [a for a in ann if a[0][0] != 'A']\n",
    "    for a in ann:\n",
    "        ann_split = a.split('\\t')\n",
    "        ids.append(ann_split[0])\n",
    "        args = ann_split[1].split()\n",
    "        categories.append(args[0])\n",
    "\n",
    "        if args[0] == 'refers':\n",
    "            arg1s.append(args[1].split(':')[1])\n",
    "            arg2s.append(args[2].split(':')[1])\n",
    "        else:\n",
    "            arg1s.append(args[1])\n",
    "            arg2s.append(args[2])\n",
    "        texts.append(ann_split[2])\n",
    "\n",
    "    return pd.DataFrame({'id': ids, 'category': categories, 'arg1': arg1s, 'arg2': arg2s, 'text': texts})\n",
    "\n",
    "ann_df = clean_ann(ann)\n",
    "ann_df"
   ],
   "metadata": {
    "collapsed": false,
    "ExecuteTime": {
     "end_time": "2025-01-05T19:25:04.875405200Z",
     "start_time": "2025-01-05T19:25:04.860444800Z"
    }
   }
  },
  {
   "cell_type": "code",
   "execution_count": 88,
   "outputs": [
    {
     "data": {
      "text/plain": "   id arg1 arg2\n0  R1   T2   T1\n1  R2   T4   T3\n2  R3   T5   T3\n3  R4   T7   T6\n4  R5   T9   T8\n5  R6  T10  T11\n6  R7  T13  T12",
      "text/html": "<div>\n<style scoped>\n    .dataframe tbody tr th:only-of-type {\n        vertical-align: middle;\n    }\n\n    .dataframe tbody tr th {\n        vertical-align: top;\n    }\n\n    .dataframe thead th {\n        text-align: right;\n    }\n</style>\n<table border=\"1\" class=\"dataframe\">\n  <thead>\n    <tr style=\"text-align: right;\">\n      <th></th>\n      <th>id</th>\n      <th>arg1</th>\n      <th>arg2</th>\n    </tr>\n  </thead>\n  <tbody>\n    <tr>\n      <th>0</th>\n      <td>R1</td>\n      <td>T2</td>\n      <td>T1</td>\n    </tr>\n    <tr>\n      <th>1</th>\n      <td>R2</td>\n      <td>T4</td>\n      <td>T3</td>\n    </tr>\n    <tr>\n      <th>2</th>\n      <td>R3</td>\n      <td>T5</td>\n      <td>T3</td>\n    </tr>\n    <tr>\n      <th>3</th>\n      <td>R4</td>\n      <td>T7</td>\n      <td>T6</td>\n    </tr>\n    <tr>\n      <th>4</th>\n      <td>R5</td>\n      <td>T9</td>\n      <td>T8</td>\n    </tr>\n    <tr>\n      <th>5</th>\n      <td>R6</td>\n      <td>T10</td>\n      <td>T11</td>\n    </tr>\n    <tr>\n      <th>6</th>\n      <td>R7</td>\n      <td>T13</td>\n      <td>T12</td>\n    </tr>\n  </tbody>\n</table>\n</div>"
     },
     "execution_count": 88,
     "metadata": {},
     "output_type": "execute_result"
    }
   ],
   "source": [
    "#make realations df\n",
    "def make_relations_df(ann_df):\n",
    "    relations = ann_df[ann_df['category'] == 'refers']\n",
    "    relations = relations.drop(columns=['category', 'text'])\n",
    "    relations = relations.reset_index(drop=True)\n",
    "    return relations\n",
    "relations = make_relations_df(ann_df)\n",
    "relations"
   ],
   "metadata": {
    "collapsed": false,
    "ExecuteTime": {
     "end_time": "2025-01-05T19:25:10.044448800Z",
     "start_time": "2025-01-05T19:25:10.042954500Z"
    }
   }
  },
  {
   "cell_type": "code",
   "execution_count": 89,
   "outputs": [
    {
     "data": {
      "text/plain": "  annotation_category                                         annotation  \\\n0               blame  the region's most acute challenges of an econo...   \n1               blame  Central Asian countries face great challenges ...   \n2               blame  some regional countries are worried about poss...   \n\n                        entity  \\\n0     Russia-Ukraine conflict,   \n1  the Russia-Ukraine conflict   \n2                       the US   \n\n                                            sentence  \n0  Chinese analysts said the outcomes addressed t...  \n1  Qian Feng, director of the research department...  \n2  The region has also been under great pressure ...  ",
      "text/html": "<div>\n<style scoped>\n    .dataframe tbody tr th:only-of-type {\n        vertical-align: middle;\n    }\n\n    .dataframe tbody tr th {\n        vertical-align: top;\n    }\n\n    .dataframe thead th {\n        text-align: right;\n    }\n</style>\n<table border=\"1\" class=\"dataframe\">\n  <thead>\n    <tr style=\"text-align: right;\">\n      <th></th>\n      <th>annotation_category</th>\n      <th>annotation</th>\n      <th>entity</th>\n      <th>sentence</th>\n    </tr>\n  </thead>\n  <tbody>\n    <tr>\n      <th>0</th>\n      <td>blame</td>\n      <td>the region's most acute challenges of an econo...</td>\n      <td>Russia-Ukraine conflict,</td>\n      <td>Chinese analysts said the outcomes addressed t...</td>\n    </tr>\n    <tr>\n      <th>1</th>\n      <td>blame</td>\n      <td>Central Asian countries face great challenges ...</td>\n      <td>the Russia-Ukraine conflict</td>\n      <td>Qian Feng, director of the research department...</td>\n    </tr>\n    <tr>\n      <th>2</th>\n      <td>blame</td>\n      <td>some regional countries are worried about poss...</td>\n      <td>the US</td>\n      <td>The region has also been under great pressure ...</td>\n    </tr>\n  </tbody>\n</table>\n</div>"
     },
     "execution_count": 89,
     "metadata": {},
     "output_type": "execute_result"
    }
   ],
   "source": [
    "#make final df\n",
    "def make_final_df(relations, ann_df, sentences):\n",
    "    categories2 = []\n",
    "    arg1s = []\n",
    "    arg2s = []\n",
    "    whole_sentences = []\n",
    "\n",
    "    for _, row in relations.iterrows():\n",
    "        arg1 = row['arg1']\n",
    "        arg2 = row['arg2']\n",
    "        arg1_row = ann_df[ann_df['id'] == arg1]\n",
    "        arg2_row = ann_df[ann_df['id'] == arg2]\n",
    "\n",
    "        if not arg1_row['category'].values[0] in ['blame', 'praise']:\n",
    "            arg1_row, arg2_row = arg2_row, arg1_row\n",
    "\n",
    "        #check if both arg1 and arg2 are in the same sentence\n",
    "        arg1_start = int(arg1_row['arg1'])\n",
    "        arg1_end = int(arg1_row['arg2'])\n",
    "        arg2_start = int(arg2_row['arg1'])\n",
    "        arg2_end = int(arg2_row['arg2'])\n",
    "        arg1_sentence = sentences[(sentences['start'] <= arg1_start) & (sentences['end'] >= arg1_end)]\n",
    "        arg2_sentence = sentences[(sentences['start'] <= arg2_start) & (sentences['end'] >= arg2_end)]\n",
    "        if arg1_sentence.empty or arg2_sentence.empty or arg1_sentence.index[0] != arg2_sentence.index[0]:\n",
    "            continue\n",
    "        else:\n",
    "            categories2.append(arg1_row['category'].values[0])\n",
    "            arg1s.append(arg1_row['text'].values[0])\n",
    "            arg2s.append(arg2_row['text'].values[0])\n",
    "            whole_sentences.append(arg1_sentence['text'].values[0])\n",
    "\n",
    "    return pd.DataFrame({'annotation_category': categories2, 'annotation': arg1s, 'entity': arg2s, 'sentence': whole_sentences})\n",
    "\n",
    "final_df = make_final_df(relations, ann_df, sentences)\n",
    "final_df"
   ],
   "metadata": {
    "collapsed": false,
    "ExecuteTime": {
     "end_time": "2025-01-05T19:25:12.310283Z",
     "start_time": "2025-01-05T19:25:12.267979800Z"
    }
   }
  },
  {
   "cell_type": "code",
   "execution_count": 61,
   "outputs": [
    {
     "name": "stdout",
     "output_type": "stream",
     "text": [
      "Speaking to the Rossiya-1 state television channel on Sunday, Russian President Vladimir Putin warned the US that his country would strike new targets if advanced rocket systems were supplied to Ukraine, adding that the new arms deliveries to Kiev are aimed at \"prolonging the conflict.\n",
      "new arms deliveries to Kiev are aimed at \"prolonging the conflict.\n"
     ]
    }
   ],
   "source": [
    "print(final_df['sentence'][0])\n",
    "print(final_df['arg1'][0])"
   ],
   "metadata": {
    "collapsed": false,
    "ExecuteTime": {
     "end_time": "2025-01-05T17:37:01.697348700Z",
     "start_time": "2025-01-05T17:37:01.683566300Z"
    }
   }
  },
  {
   "cell_type": "code",
   "execution_count": 90,
   "outputs": [
    {
     "data": {
      "text/plain": "  annotation_category                                         annotation  \\\n0               blame  the region's most acute challenges of an econo...   \n1               blame  Central Asian countries face great challenges ...   \n2               blame  some regional countries are worried about poss...   \n\n                        entity  \\\n0     Russia-Ukraine conflict,   \n1  the Russia-Ukraine conflict   \n2                       the US   \n\n                                            sentence entities_annotated  \n0  Chinese analysts said the outcomes addressed t...  [Russia, Ukraine]  \n1  Qian Feng, director of the research department...  [Russia, Ukraine]  \n2  The region has also been under great pressure ...               [US]  ",
      "text/html": "<div>\n<style scoped>\n    .dataframe tbody tr th:only-of-type {\n        vertical-align: middle;\n    }\n\n    .dataframe tbody tr th {\n        vertical-align: top;\n    }\n\n    .dataframe thead th {\n        text-align: right;\n    }\n</style>\n<table border=\"1\" class=\"dataframe\">\n  <thead>\n    <tr style=\"text-align: right;\">\n      <th></th>\n      <th>annotation_category</th>\n      <th>annotation</th>\n      <th>entity</th>\n      <th>sentence</th>\n      <th>entities_annotated</th>\n    </tr>\n  </thead>\n  <tbody>\n    <tr>\n      <th>0</th>\n      <td>blame</td>\n      <td>the region's most acute challenges of an econo...</td>\n      <td>Russia-Ukraine conflict,</td>\n      <td>Chinese analysts said the outcomes addressed t...</td>\n      <td>[Russia, Ukraine]</td>\n    </tr>\n    <tr>\n      <th>1</th>\n      <td>blame</td>\n      <td>Central Asian countries face great challenges ...</td>\n      <td>the Russia-Ukraine conflict</td>\n      <td>Qian Feng, director of the research department...</td>\n      <td>[Russia, Ukraine]</td>\n    </tr>\n    <tr>\n      <th>2</th>\n      <td>blame</td>\n      <td>some regional countries are worried about poss...</td>\n      <td>the US</td>\n      <td>The region has also been under great pressure ...</td>\n      <td>[US]</td>\n    </tr>\n  </tbody>\n</table>\n</div>"
     },
     "execution_count": 90,
     "metadata": {},
     "output_type": "execute_result"
    }
   ],
   "source": [
    "#add ner in sentence\n",
    "import spacy\n",
    "\n",
    "def add_ner_to_sentence(final_df):\n",
    "    nlp = spacy.load('en_core_web_sm')\n",
    "    all_entities = []\n",
    "    all_entities_annotated = []\n",
    "\n",
    "    entity_legend = {\n",
    "        \"ORG\": \"Organizations: companies, agencies, institutions, etc.\",\n",
    "        \"PERSON\": \"People (including fictional)\",\n",
    "        \"GPE\": \"Geopolitical entities: countries, cities, states\",\n",
    "        \"LOC\": \"Non-geopolitical locations: mountain ranges, bodies of water, etc.\",\n",
    "        \"NORP\": \"Nationalities or religious or political groups\",\n",
    "        \"EVENT\": \"Named events: hurricanes, battles, wars, sports events, etc.\"\n",
    "    }\n",
    "\n",
    "    for i in range(len(final_df)):\n",
    "        sentence = final_df['sentence'][i]\n",
    "        doc = nlp(sentence)\n",
    "        entities = [(ent.text) for ent in doc.ents if ent.label_ in entity_legend.keys()]\n",
    "        entities = list(set(entities))\n",
    "        entities_annotated = [ ent for ent in entities if ent in final_df['entity'][i]]\n",
    "\n",
    "        all_entities.append(entities)\n",
    "        all_entities_annotated.append(entities_annotated)\n",
    "\n",
    "    final_df['entities_annotated'] = all_entities_annotated\n",
    "\n",
    "    return final_df\n",
    "\n",
    "final_df = add_ner_to_sentence(final_df)\n",
    "final_df"
   ],
   "metadata": {
    "collapsed": false,
    "ExecuteTime": {
     "end_time": "2025-01-05T19:25:27.085109800Z",
     "start_time": "2025-01-05T19:25:26.474348500Z"
    }
   }
  },
  {
   "cell_type": "code",
   "execution_count": 91,
   "outputs": [
    {
     "data": {
      "text/plain": "  annotation_category                                         annotation  \\\n0               blame  the region's most acute challenges of an econo...   \n1               blame  the region's most acute challenges of an econo...   \n2               blame  Central Asian countries face great challenges ...   \n3               blame  Central Asian countries face great challenges ...   \n4               blame  some regional countries are worried about poss...   \n\n                        entity  \\\n0     Russia-Ukraine conflict,   \n1     Russia-Ukraine conflict,   \n2  the Russia-Ukraine conflict   \n3  the Russia-Ukraine conflict   \n4                       the US   \n\n                                            sentence entity_atomized  \n0  Chinese analysts said the outcomes addressed t...          Russia  \n1  Chinese analysts said the outcomes addressed t...         Ukraine  \n2  Qian Feng, director of the research department...          Russia  \n3  Qian Feng, director of the research department...         Ukraine  \n4  The region has also been under great pressure ...              US  ",
      "text/html": "<div>\n<style scoped>\n    .dataframe tbody tr th:only-of-type {\n        vertical-align: middle;\n    }\n\n    .dataframe tbody tr th {\n        vertical-align: top;\n    }\n\n    .dataframe thead th {\n        text-align: right;\n    }\n</style>\n<table border=\"1\" class=\"dataframe\">\n  <thead>\n    <tr style=\"text-align: right;\">\n      <th></th>\n      <th>annotation_category</th>\n      <th>annotation</th>\n      <th>entity</th>\n      <th>sentence</th>\n      <th>entity_atomized</th>\n    </tr>\n  </thead>\n  <tbody>\n    <tr>\n      <th>0</th>\n      <td>blame</td>\n      <td>the region's most acute challenges of an econo...</td>\n      <td>Russia-Ukraine conflict,</td>\n      <td>Chinese analysts said the outcomes addressed t...</td>\n      <td>Russia</td>\n    </tr>\n    <tr>\n      <th>1</th>\n      <td>blame</td>\n      <td>the region's most acute challenges of an econo...</td>\n      <td>Russia-Ukraine conflict,</td>\n      <td>Chinese analysts said the outcomes addressed t...</td>\n      <td>Ukraine</td>\n    </tr>\n    <tr>\n      <th>2</th>\n      <td>blame</td>\n      <td>Central Asian countries face great challenges ...</td>\n      <td>the Russia-Ukraine conflict</td>\n      <td>Qian Feng, director of the research department...</td>\n      <td>Russia</td>\n    </tr>\n    <tr>\n      <th>3</th>\n      <td>blame</td>\n      <td>Central Asian countries face great challenges ...</td>\n      <td>the Russia-Ukraine conflict</td>\n      <td>Qian Feng, director of the research department...</td>\n      <td>Ukraine</td>\n    </tr>\n    <tr>\n      <th>4</th>\n      <td>blame</td>\n      <td>some regional countries are worried about poss...</td>\n      <td>the US</td>\n      <td>The region has also been under great pressure ...</td>\n      <td>US</td>\n    </tr>\n  </tbody>\n</table>\n</div>"
     },
     "execution_count": 91,
     "metadata": {},
     "output_type": "execute_result"
    }
   ],
   "source": [
    "#atomize entities\n",
    "def atomize_entities(final_df):\n",
    "    atomized_df = pd.DataFrame(columns=['annotation_category', 'annotation', 'entity', 'sentence', 'entity_atomized'])\n",
    "    for i in range(len(final_df)):\n",
    "        # for every value in entities_annotated make a seperate row and add it to a new df\n",
    "        if len(final_df['entities_annotated'][i]) > 0:\n",
    "            for ent in final_df['entities_annotated'][i]:\n",
    "                new_row = pd.DataFrame([{\n",
    "                    'annotation_category': final_df['annotation_category'][i],\n",
    "                    'annotation': final_df['annotation'][i],\n",
    "                    'entity': final_df['entity'][i],\n",
    "                    'sentence': final_df['sentence'][i],\n",
    "                    'entity_atomized': ent\n",
    "                }])\n",
    "                atomized_df = pd.concat([atomized_df, new_row], ignore_index=True)\n",
    "        else:\n",
    "            new_row = pd.DataFrame([{\n",
    "                    'annotation_category': final_df['annotation_category'][i],\n",
    "                    'annotation': final_df['annotation'][i],\n",
    "                    'entity': final_df['entity'][i],\n",
    "                    'sentence': final_df['sentence'][i],\n",
    "                    'entity_atomized': final_df['entity'][i]\n",
    "                }])\n",
    "            atomized_df = pd.concat([atomized_df, new_row], ignore_index=True)\n",
    "\n",
    "    return atomized_df\n",
    "atomized_df = atomize_entities(final_df)\n",
    "atomized_df"
   ],
   "metadata": {
    "collapsed": false,
    "ExecuteTime": {
     "end_time": "2025-01-05T19:25:33.966820100Z",
     "start_time": "2025-01-05T19:25:33.942585100Z"
    }
   }
  },
  {
   "cell_type": "code",
   "execution_count": 93,
   "outputs": [],
   "source": [
    "def perform_preprocessing(path):\n",
    "    txt = read_txt_file(path)\n",
    "    sentences = read_sentences(txt)\n",
    "    ann = read_txt_file(path.replace('.txt', '.ann'))\n",
    "    if len(ann) < 10: return None\n",
    "    ann_df = clean_ann(ann)\n",
    "    relations = make_relations_df(ann_df)\n",
    "    final_df = make_final_df(relations, ann_df, sentences)\n",
    "    final_df = add_ner_to_sentence(final_df)\n",
    "    atomized_df = atomize_entities(final_df)\n",
    "    return atomized_df"
   ],
   "metadata": {
    "collapsed": false,
    "ExecuteTime": {
     "end_time": "2025-01-05T19:31:18.243755400Z",
     "start_time": "2025-01-05T19:31:18.243242300Z"
    }
   }
  },
  {
   "cell_type": "code",
   "execution_count": 97,
   "outputs": [
    {
     "name": "stdout",
     "output_type": "stream",
     "text": [
      "['T1', 'event 722 746', 'Russia-Ukraine conflict,']\n",
      "['T2', 'blame 610 721', 'the region\\'s most acute challenges of an economic downturn and the threat of a \"color revolution\" following the']\n",
      "['R1', 'refers Arg1:T2 Arg2:T1', '']\n",
      "['T3', 'group_of_countries 346 384', 'China and five Central Asian countries']\n",
      "['T4', 'praise 385 563', \"achieved fruitful cooperation and broad consensus on issues covering the economy, trade and security during Wednesday's third China+Central Asia (C+C5) foreign ministers' meeting\"]\n",
      "['T5', 'praise 587 707', 'the outcomes addressed the region\\'s most acute challenges of an economic downturn and the threat of a \"color revolution\"']\n",
      "['R2', 'refers Arg1:T4 Arg2:T3', '']\n",
      "['R3', 'refers Arg1:T5 Arg2:T3', '']\n",
      "['T6', 'event 3248 3275', 'the Russia-Ukraine conflict']\n",
      "['T7', 'blame 3102 3249', 'Central Asian countries face great challenges in improving their economies and stabilizing supply chains, which were hit hard by the pandemic and t']\n",
      "['R4', 'refers Arg1:T7 Arg2:T6', '']\n",
      "['T8', 'geographic_location 3540 3542', 'US']\n",
      "['T9', 'blame 3485 3539', 'The region has also been under great pressure from the']\n",
      "['R5', 'refers Arg1:T9 Arg2:T8', '']\n",
      "['T10', 'blame 3548 3672', 'some regional countries are worried about possible sanctions from the US over their positions on the Russia-Ukraine conflict']\n",
      "['T11', 'geographic_location 3614 3620', 'the US']\n",
      "['R6', 'refers Arg1:T10 Arg2:T11', '']\n",
      "['T12', 'geographic_location 3414 3419', 'China']\n",
      "['T13', 'praise 3397 3483', 'Cooperation with China has addressed the pragmatic and urgent needs of these countries']\n",
      "['R7', 'refers Arg1:T13 Arg2:T12', '']\n"
     ]
    },
    {
     "data": {
      "text/plain": "  annotation_category                                         annotation  \\\n0               blame  the region's most acute challenges of an econo...   \n1               blame  the region's most acute challenges of an econo...   \n2               blame  Central Asian countries face great challenges ...   \n3               blame  Central Asian countries face great challenges ...   \n4               blame  some regional countries are worried about poss...   \n\n                        entity  \\\n0     Russia-Ukraine conflict,   \n1     Russia-Ukraine conflict,   \n2  the Russia-Ukraine conflict   \n3  the Russia-Ukraine conflict   \n4                       the US   \n\n                                            sentence entity_atomized  \n0  Chinese analysts said the outcomes addressed t...          Russia  \n1  Chinese analysts said the outcomes addressed t...         Ukraine  \n2  Qian Feng, director of the research department...          Russia  \n3  Qian Feng, director of the research department...         Ukraine  \n4  The region has also been under great pressure ...              US  ",
      "text/html": "<div>\n<style scoped>\n    .dataframe tbody tr th:only-of-type {\n        vertical-align: middle;\n    }\n\n    .dataframe tbody tr th {\n        vertical-align: top;\n    }\n\n    .dataframe thead th {\n        text-align: right;\n    }\n</style>\n<table border=\"1\" class=\"dataframe\">\n  <thead>\n    <tr style=\"text-align: right;\">\n      <th></th>\n      <th>annotation_category</th>\n      <th>annotation</th>\n      <th>entity</th>\n      <th>sentence</th>\n      <th>entity_atomized</th>\n    </tr>\n  </thead>\n  <tbody>\n    <tr>\n      <th>0</th>\n      <td>blame</td>\n      <td>the region's most acute challenges of an econo...</td>\n      <td>Russia-Ukraine conflict,</td>\n      <td>Chinese analysts said the outcomes addressed t...</td>\n      <td>Russia</td>\n    </tr>\n    <tr>\n      <th>1</th>\n      <td>blame</td>\n      <td>the region's most acute challenges of an econo...</td>\n      <td>Russia-Ukraine conflict,</td>\n      <td>Chinese analysts said the outcomes addressed t...</td>\n      <td>Ukraine</td>\n    </tr>\n    <tr>\n      <th>2</th>\n      <td>blame</td>\n      <td>Central Asian countries face great challenges ...</td>\n      <td>the Russia-Ukraine conflict</td>\n      <td>Qian Feng, director of the research department...</td>\n      <td>Russia</td>\n    </tr>\n    <tr>\n      <th>3</th>\n      <td>blame</td>\n      <td>Central Asian countries face great challenges ...</td>\n      <td>the Russia-Ukraine conflict</td>\n      <td>Qian Feng, director of the research department...</td>\n      <td>Ukraine</td>\n    </tr>\n    <tr>\n      <th>4</th>\n      <td>blame</td>\n      <td>some regional countries are worried about poss...</td>\n      <td>the US</td>\n      <td>The region has also been under great pressure ...</td>\n      <td>US</td>\n    </tr>\n  </tbody>\n</table>\n</div>"
     },
     "execution_count": 97,
     "metadata": {},
     "output_type": "execute_result"
    }
   ],
   "source": [
    "path = \"../BRAT_Data/Ukraine_after/Articles_for_Ania/2022-06-08_DIPLOMACY_China,_Central_Asia_agree_on_broad_cooperation_cov.txt\"\n",
    "\n",
    "df = perform_preprocessing(path)\n",
    "df"
   ],
   "metadata": {
    "collapsed": false,
    "ExecuteTime": {
     "end_time": "2025-01-05T19:32:45.321192300Z",
     "start_time": "2025-01-05T19:32:44.862591Z"
    }
   }
  }
 ],
 "metadata": {
  "kernelspec": {
   "display_name": "Python 3",
   "language": "python",
   "name": "python3"
  },
  "language_info": {
   "codemirror_mode": {
    "name": "ipython",
    "version": 2
   },
   "file_extension": ".py",
   "mimetype": "text/x-python",
   "name": "python",
   "nbconvert_exporter": "python",
   "pygments_lexer": "ipython2",
   "version": "2.7.6"
  }
 },
 "nbformat": 4,
 "nbformat_minor": 0
}
