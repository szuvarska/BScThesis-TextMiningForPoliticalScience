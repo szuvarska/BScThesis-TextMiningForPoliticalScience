{
 "cells": [
  {
   "metadata": {
    "ExecuteTime": {
     "end_time": "2025-01-19T19:22:26.619898Z",
     "start_time": "2025-01-19T19:22:26.609024Z"
    }
   },
   "cell_type": "code",
   "source": [
    "import pandas as pd\n",
    "from bertopic import BERTopic\n",
    "from sklearn.model_selection import train_test_split\n",
    "from bertopic.vectorizers import ClassTfidfTransformer\n",
    "from bertopic.dimensionality import BaseDimensionalityReduction\n",
    "from sklearn.linear_model import LogisticRegression\n",
    "from sklearn.metrics import confusion_matrix\n",
    "import seaborn as sns\n",
    "import matplotlib.pyplot as plt\n",
    "from tqdm import tqdm\n",
    "\n",
    "from sklearn.discriminant_analysis import LinearDiscriminantAnalysis\n",
    "from sklearn.svm import SVC\n",
    "from sklearn.tree import DecisionTreeClassifier\n",
    "from sklearn.neural_network import MLPClassifier\n",
    "from sklearn.ensemble import AdaBoostClassifier, RandomForestClassifier"
   ],
   "id": "e400c5b25cc28e9f",
   "outputs": [],
   "execution_count": 124
  },
  {
   "metadata": {},
   "cell_type": "markdown",
   "source": [
    "# Preporcessing\n",
    "\n"
   ],
   "id": "80daf52ace9c0747"
  },
  {
   "cell_type": "code",
   "id": "initial_id",
   "metadata": {
    "collapsed": true,
    "ExecuteTime": {
     "end_time": "2025-01-19T18:01:05.569565Z",
     "start_time": "2025-01-19T18:01:05.520810Z"
    }
   },
   "source": [
    "merged_dataframe = pd.read_csv('merged_dataframe.csv')\n",
    "merged_sentences = pd.read_csv('merged_sentences.csv')\n",
    "merged_dataframe"
   ],
   "outputs": [
    {
     "data": {
      "text/plain": [
       "    annotation_category                                         annotation  \\\n",
       "0                 blame  new arms deliveries to Kiev are aimed at \"prol...   \n",
       "1                 blame  has been sending more advanced and heavier wea...   \n",
       "2                 blame  clearly knows that a prolonged conflict betwee...   \n",
       "3                 blame  has put its national interests into considerat...   \n",
       "4                 blame  With self-interests in mind, the US will not s...   \n",
       "..                  ...                                                ...   \n",
       "406               blame  US inflation will become higher, ordinary peop...   \n",
       "407               blame  US inflation will become higher, ordinary peop...   \n",
       "408               blame  would undermine US oil companies, and they wil...   \n",
       "409               blame  would undermine US oil companies, and they wil...   \n",
       "410               blame                         are doomed to be unpopular   \n",
       "\n",
       "                                                entity  \\\n",
       "0                                                   US   \n",
       "1                                                   US   \n",
       "2                                                   US   \n",
       "3                                                   US   \n",
       "4                                                   US   \n",
       "..                                                 ...   \n",
       "406       If the US does prohibit oil exports to China   \n",
       "407       If the US does prohibit oil exports to China   \n",
       "408  Prohibiting the export of oil and petroleum pr...   \n",
       "409  Prohibiting the export of oil and petroleum pr...   \n",
       "410  political calculations by politicians like Rub...   \n",
       "\n",
       "                                              sentence  entity_atomized  \\\n",
       "0    Speaking to the Rossiya-1 state television cha...               US   \n",
       "1    From the beginning, the US has been sending mo...               US   \n",
       "2    The US clearly knows that a prolonged conflict...               US   \n",
       "3    The US has put its national interests into con...               US   \n",
       "4    With self-interests in mind, the US will not s...               US   \n",
       "..                                                 ...              ...   \n",
       "406  The US only has itself to blame for the curren...               US   \n",
       "407  The US only has itself to blame for the curren...            China   \n",
       "408  Prohibiting the export of oil and petroleum pr...               US   \n",
       "409  Prohibiting the export of oil and petroleum pr...            China   \n",
       "410  Such political calculations by politicians lik...  Rubio and Scott   \n",
       "\n",
       "     sentiment  tsc_sentiment  blame  praise  \n",
       "0           -1              0      1       0  \n",
       "1           -1              0      1       0  \n",
       "2            1              0      1       0  \n",
       "3            1              0      1       0  \n",
       "4           -1              0      1       0  \n",
       "..         ...            ...    ...     ...  \n",
       "406         -1              0      1       0  \n",
       "407         -1             -1      1       0  \n",
       "408         -1              0      1       0  \n",
       "409         -1             -1      1       0  \n",
       "410         -1             -1      1       0  \n",
       "\n",
       "[411 rows x 9 columns]"
      ],
      "text/html": [
       "<div>\n",
       "<style scoped>\n",
       "    .dataframe tbody tr th:only-of-type {\n",
       "        vertical-align: middle;\n",
       "    }\n",
       "\n",
       "    .dataframe tbody tr th {\n",
       "        vertical-align: top;\n",
       "    }\n",
       "\n",
       "    .dataframe thead th {\n",
       "        text-align: right;\n",
       "    }\n",
       "</style>\n",
       "<table border=\"1\" class=\"dataframe\">\n",
       "  <thead>\n",
       "    <tr style=\"text-align: right;\">\n",
       "      <th></th>\n",
       "      <th>annotation_category</th>\n",
       "      <th>annotation</th>\n",
       "      <th>entity</th>\n",
       "      <th>sentence</th>\n",
       "      <th>entity_atomized</th>\n",
       "      <th>sentiment</th>\n",
       "      <th>tsc_sentiment</th>\n",
       "      <th>blame</th>\n",
       "      <th>praise</th>\n",
       "    </tr>\n",
       "  </thead>\n",
       "  <tbody>\n",
       "    <tr>\n",
       "      <th>0</th>\n",
       "      <td>blame</td>\n",
       "      <td>new arms deliveries to Kiev are aimed at \"prol...</td>\n",
       "      <td>US</td>\n",
       "      <td>Speaking to the Rossiya-1 state television cha...</td>\n",
       "      <td>US</td>\n",
       "      <td>-1</td>\n",
       "      <td>0</td>\n",
       "      <td>1</td>\n",
       "      <td>0</td>\n",
       "    </tr>\n",
       "    <tr>\n",
       "      <th>1</th>\n",
       "      <td>blame</td>\n",
       "      <td>has been sending more advanced and heavier wea...</td>\n",
       "      <td>US</td>\n",
       "      <td>From the beginning, the US has been sending mo...</td>\n",
       "      <td>US</td>\n",
       "      <td>-1</td>\n",
       "      <td>0</td>\n",
       "      <td>1</td>\n",
       "      <td>0</td>\n",
       "    </tr>\n",
       "    <tr>\n",
       "      <th>2</th>\n",
       "      <td>blame</td>\n",
       "      <td>clearly knows that a prolonged conflict betwee...</td>\n",
       "      <td>US</td>\n",
       "      <td>The US clearly knows that a prolonged conflict...</td>\n",
       "      <td>US</td>\n",
       "      <td>1</td>\n",
       "      <td>0</td>\n",
       "      <td>1</td>\n",
       "      <td>0</td>\n",
       "    </tr>\n",
       "    <tr>\n",
       "      <th>3</th>\n",
       "      <td>blame</td>\n",
       "      <td>has put its national interests into considerat...</td>\n",
       "      <td>US</td>\n",
       "      <td>The US has put its national interests into con...</td>\n",
       "      <td>US</td>\n",
       "      <td>1</td>\n",
       "      <td>0</td>\n",
       "      <td>1</td>\n",
       "      <td>0</td>\n",
       "    </tr>\n",
       "    <tr>\n",
       "      <th>4</th>\n",
       "      <td>blame</td>\n",
       "      <td>With self-interests in mind, the US will not s...</td>\n",
       "      <td>US</td>\n",
       "      <td>With self-interests in mind, the US will not s...</td>\n",
       "      <td>US</td>\n",
       "      <td>-1</td>\n",
       "      <td>0</td>\n",
       "      <td>1</td>\n",
       "      <td>0</td>\n",
       "    </tr>\n",
       "    <tr>\n",
       "      <th>...</th>\n",
       "      <td>...</td>\n",
       "      <td>...</td>\n",
       "      <td>...</td>\n",
       "      <td>...</td>\n",
       "      <td>...</td>\n",
       "      <td>...</td>\n",
       "      <td>...</td>\n",
       "      <td>...</td>\n",
       "      <td>...</td>\n",
       "    </tr>\n",
       "    <tr>\n",
       "      <th>406</th>\n",
       "      <td>blame</td>\n",
       "      <td>US inflation will become higher, ordinary peop...</td>\n",
       "      <td>If the US does prohibit oil exports to China</td>\n",
       "      <td>The US only has itself to blame for the curren...</td>\n",
       "      <td>US</td>\n",
       "      <td>-1</td>\n",
       "      <td>0</td>\n",
       "      <td>1</td>\n",
       "      <td>0</td>\n",
       "    </tr>\n",
       "    <tr>\n",
       "      <th>407</th>\n",
       "      <td>blame</td>\n",
       "      <td>US inflation will become higher, ordinary peop...</td>\n",
       "      <td>If the US does prohibit oil exports to China</td>\n",
       "      <td>The US only has itself to blame for the curren...</td>\n",
       "      <td>China</td>\n",
       "      <td>-1</td>\n",
       "      <td>-1</td>\n",
       "      <td>1</td>\n",
       "      <td>0</td>\n",
       "    </tr>\n",
       "    <tr>\n",
       "      <th>408</th>\n",
       "      <td>blame</td>\n",
       "      <td>would undermine US oil companies, and they wil...</td>\n",
       "      <td>Prohibiting the export of oil and petroleum pr...</td>\n",
       "      <td>Prohibiting the export of oil and petroleum pr...</td>\n",
       "      <td>US</td>\n",
       "      <td>-1</td>\n",
       "      <td>0</td>\n",
       "      <td>1</td>\n",
       "      <td>0</td>\n",
       "    </tr>\n",
       "    <tr>\n",
       "      <th>409</th>\n",
       "      <td>blame</td>\n",
       "      <td>would undermine US oil companies, and they wil...</td>\n",
       "      <td>Prohibiting the export of oil and petroleum pr...</td>\n",
       "      <td>Prohibiting the export of oil and petroleum pr...</td>\n",
       "      <td>China</td>\n",
       "      <td>-1</td>\n",
       "      <td>-1</td>\n",
       "      <td>1</td>\n",
       "      <td>0</td>\n",
       "    </tr>\n",
       "    <tr>\n",
       "      <th>410</th>\n",
       "      <td>blame</td>\n",
       "      <td>are doomed to be unpopular</td>\n",
       "      <td>political calculations by politicians like Rub...</td>\n",
       "      <td>Such political calculations by politicians lik...</td>\n",
       "      <td>Rubio and Scott</td>\n",
       "      <td>-1</td>\n",
       "      <td>-1</td>\n",
       "      <td>1</td>\n",
       "      <td>0</td>\n",
       "    </tr>\n",
       "  </tbody>\n",
       "</table>\n",
       "<p>411 rows × 9 columns</p>\n",
       "</div>"
      ]
     },
     "execution_count": 73,
     "metadata": {},
     "output_type": "execute_result"
    }
   ],
   "execution_count": 73
  },
  {
   "metadata": {
    "ExecuteTime": {
     "end_time": "2025-01-19T17:44:40.592611Z",
     "start_time": "2025-01-19T17:44:40.581564Z"
    }
   },
   "cell_type": "code",
   "source": [
    "#drop duplicates\n",
    "merged_dataframe = merged_dataframe.drop_duplicates(subset= ['sentence', 'annotation_category'])\n",
    "merged_dataframe = merged_dataframe.sample(frac=1).reset_index(drop=True)\n",
    "merged_dataframe"
   ],
   "id": "5f283ec24ab8e878",
   "outputs": [
    {
     "data": {
      "text/plain": [
       "    annotation_category                                         annotation  \\\n",
       "0                 blame  is \"causing a deterioration of the security en...   \n",
       "1                 blame  it will be difficult for the EU to truly becom...   \n",
       "2                 blame             may risk triggering a global recession   \n",
       "3                 blame  have chosen to follow the US to attack China o...   \n",
       "4                 blame  was stepping up its efforts to recruit members...   \n",
       "..                  ...                                                ...   \n",
       "245               blame  has ramped up efforts to link the Russia-Ukrai...   \n",
       "246               blame  has frequently used the Taiwan question to pro...   \n",
       "247               blame         Europe's problems are the world's problems   \n",
       "248               blame  Japan and China have been in \"opposing camps\" ...   \n",
       "249              praise  is willing to work with Russia to continue sup...   \n",
       "\n",
       "                                                entity  \\\n",
       "0                          the Russia-Ukraine conflict   \n",
       "1    If the US-led value alliance dominates the dev...   \n",
       "2                           US-led interest rate hikes   \n",
       "3                                  Japan and Australia   \n",
       "4                                                   US   \n",
       "..                                                 ...   \n",
       "245                                         Washington   \n",
       "246                                         Washington   \n",
       "247                                             Europe   \n",
       "248                                              Japan   \n",
       "249                                              China   \n",
       "\n",
       "                                              sentence entity_atomized  \\\n",
       "0    On Tuesday, Japanese and NATO officials agreed...          Russia   \n",
       "1    If the US-led value alliance dominates the dev...              US   \n",
       "2    Compared with those eurozone countries, more e...              US   \n",
       "3    Only states like Japan and Australia have chos...       Australia   \n",
       "4    Previous reports show that the Russian Foreign...              US   \n",
       "..                                                 ...             ...   \n",
       "245  The Chinese defense minister's remarks stresse...      Washington   \n",
       "246  The allegation was soon clarified by a former ...      Washington   \n",
       "247  However, Jaishankar went so far as to complain...          Europe   \n",
       "248  According to Japanese media, Japan and China h...           Japan   \n",
       "249  China is willing to work with Russia to contin...           China   \n",
       "\n",
       "     sentiment  tsc_sentiment  blame  praise  \n",
       "0            1             -1      1       0  \n",
       "1            1             -1      1       0  \n",
       "2           -1             -1      1       0  \n",
       "3            1              1      1       0  \n",
       "4           -1             -1      1       0  \n",
       "..         ...            ...    ...     ...  \n",
       "245         -1              0      1       0  \n",
       "246         -1              1      1       0  \n",
       "247         -1              0      1       0  \n",
       "248         -1              0      1       0  \n",
       "249          1              0      0       1  \n",
       "\n",
       "[250 rows x 9 columns]"
      ],
      "text/html": [
       "<div>\n",
       "<style scoped>\n",
       "    .dataframe tbody tr th:only-of-type {\n",
       "        vertical-align: middle;\n",
       "    }\n",
       "\n",
       "    .dataframe tbody tr th {\n",
       "        vertical-align: top;\n",
       "    }\n",
       "\n",
       "    .dataframe thead th {\n",
       "        text-align: right;\n",
       "    }\n",
       "</style>\n",
       "<table border=\"1\" class=\"dataframe\">\n",
       "  <thead>\n",
       "    <tr style=\"text-align: right;\">\n",
       "      <th></th>\n",
       "      <th>annotation_category</th>\n",
       "      <th>annotation</th>\n",
       "      <th>entity</th>\n",
       "      <th>sentence</th>\n",
       "      <th>entity_atomized</th>\n",
       "      <th>sentiment</th>\n",
       "      <th>tsc_sentiment</th>\n",
       "      <th>blame</th>\n",
       "      <th>praise</th>\n",
       "    </tr>\n",
       "  </thead>\n",
       "  <tbody>\n",
       "    <tr>\n",
       "      <th>0</th>\n",
       "      <td>blame</td>\n",
       "      <td>is \"causing a deterioration of the security en...</td>\n",
       "      <td>the Russia-Ukraine conflict</td>\n",
       "      <td>On Tuesday, Japanese and NATO officials agreed...</td>\n",
       "      <td>Russia</td>\n",
       "      <td>1</td>\n",
       "      <td>-1</td>\n",
       "      <td>1</td>\n",
       "      <td>0</td>\n",
       "    </tr>\n",
       "    <tr>\n",
       "      <th>1</th>\n",
       "      <td>blame</td>\n",
       "      <td>it will be difficult for the EU to truly becom...</td>\n",
       "      <td>If the US-led value alliance dominates the dev...</td>\n",
       "      <td>If the US-led value alliance dominates the dev...</td>\n",
       "      <td>US</td>\n",
       "      <td>1</td>\n",
       "      <td>-1</td>\n",
       "      <td>1</td>\n",
       "      <td>0</td>\n",
       "    </tr>\n",
       "    <tr>\n",
       "      <th>2</th>\n",
       "      <td>blame</td>\n",
       "      <td>may risk triggering a global recession</td>\n",
       "      <td>US-led interest rate hikes</td>\n",
       "      <td>Compared with those eurozone countries, more e...</td>\n",
       "      <td>US</td>\n",
       "      <td>-1</td>\n",
       "      <td>-1</td>\n",
       "      <td>1</td>\n",
       "      <td>0</td>\n",
       "    </tr>\n",
       "    <tr>\n",
       "      <th>3</th>\n",
       "      <td>blame</td>\n",
       "      <td>have chosen to follow the US to attack China o...</td>\n",
       "      <td>Japan and Australia</td>\n",
       "      <td>Only states like Japan and Australia have chos...</td>\n",
       "      <td>Australia</td>\n",
       "      <td>1</td>\n",
       "      <td>1</td>\n",
       "      <td>1</td>\n",
       "      <td>0</td>\n",
       "    </tr>\n",
       "    <tr>\n",
       "      <th>4</th>\n",
       "      <td>blame</td>\n",
       "      <td>was stepping up its efforts to recruit members...</td>\n",
       "      <td>US</td>\n",
       "      <td>Previous reports show that the Russian Foreign...</td>\n",
       "      <td>US</td>\n",
       "      <td>-1</td>\n",
       "      <td>-1</td>\n",
       "      <td>1</td>\n",
       "      <td>0</td>\n",
       "    </tr>\n",
       "    <tr>\n",
       "      <th>...</th>\n",
       "      <td>...</td>\n",
       "      <td>...</td>\n",
       "      <td>...</td>\n",
       "      <td>...</td>\n",
       "      <td>...</td>\n",
       "      <td>...</td>\n",
       "      <td>...</td>\n",
       "      <td>...</td>\n",
       "      <td>...</td>\n",
       "    </tr>\n",
       "    <tr>\n",
       "      <th>245</th>\n",
       "      <td>blame</td>\n",
       "      <td>has ramped up efforts to link the Russia-Ukrai...</td>\n",
       "      <td>Washington</td>\n",
       "      <td>The Chinese defense minister's remarks stresse...</td>\n",
       "      <td>Washington</td>\n",
       "      <td>-1</td>\n",
       "      <td>0</td>\n",
       "      <td>1</td>\n",
       "      <td>0</td>\n",
       "    </tr>\n",
       "    <tr>\n",
       "      <th>246</th>\n",
       "      <td>blame</td>\n",
       "      <td>has frequently used the Taiwan question to pro...</td>\n",
       "      <td>Washington</td>\n",
       "      <td>The allegation was soon clarified by a former ...</td>\n",
       "      <td>Washington</td>\n",
       "      <td>-1</td>\n",
       "      <td>1</td>\n",
       "      <td>1</td>\n",
       "      <td>0</td>\n",
       "    </tr>\n",
       "    <tr>\n",
       "      <th>247</th>\n",
       "      <td>blame</td>\n",
       "      <td>Europe's problems are the world's problems</td>\n",
       "      <td>Europe</td>\n",
       "      <td>However, Jaishankar went so far as to complain...</td>\n",
       "      <td>Europe</td>\n",
       "      <td>-1</td>\n",
       "      <td>0</td>\n",
       "      <td>1</td>\n",
       "      <td>0</td>\n",
       "    </tr>\n",
       "    <tr>\n",
       "      <th>248</th>\n",
       "      <td>blame</td>\n",
       "      <td>Japan and China have been in \"opposing camps\" ...</td>\n",
       "      <td>Japan</td>\n",
       "      <td>According to Japanese media, Japan and China h...</td>\n",
       "      <td>Japan</td>\n",
       "      <td>-1</td>\n",
       "      <td>0</td>\n",
       "      <td>1</td>\n",
       "      <td>0</td>\n",
       "    </tr>\n",
       "    <tr>\n",
       "      <th>249</th>\n",
       "      <td>praise</td>\n",
       "      <td>is willing to work with Russia to continue sup...</td>\n",
       "      <td>China</td>\n",
       "      <td>China is willing to work with Russia to contin...</td>\n",
       "      <td>China</td>\n",
       "      <td>1</td>\n",
       "      <td>0</td>\n",
       "      <td>0</td>\n",
       "      <td>1</td>\n",
       "    </tr>\n",
       "  </tbody>\n",
       "</table>\n",
       "<p>250 rows × 9 columns</p>\n",
       "</div>"
      ]
     },
     "execution_count": 68,
     "metadata": {},
     "output_type": "execute_result"
    }
   ],
   "execution_count": 68
  },
  {
   "metadata": {
    "ExecuteTime": {
     "end_time": "2025-01-19T18:06:40.241749Z",
     "start_time": "2025-01-19T18:06:40.211666Z"
    }
   },
   "cell_type": "code",
   "source": [
    "#full dataset\n",
    "full_df = merged_dataframe[['sentence', 'blame', 'praise', 'annotation_category']]\n",
    "full_df = merged_sentences.merge(full_df, left_on='sentence', right_on='sentence', how='left')\n",
    "full_df = full_df.fillna(0)\n",
    "full_df['blame'] = full_df['blame'].astype(int)\n",
    "full_df['praise'] = full_df['praise'].astype(int)\n",
    "#map annotation category\n",
    "full_df['annotation_category'] = full_df['annotation_category'].apply(lambda x: -1 if x == 'blame' else 1 if x =='praise' else 0)\n",
    "full_df"
   ],
   "id": "2eff76dc0da14c7f",
   "outputs": [
    {
     "data": {
      "text/plain": [
       "                                                sentence  blame  praise  \\\n",
       "0      Speaking to the Rossiya-1 state television cha...      1       0   \n",
       "1      \"Putin's remarks came a few days after US Pres...      0       0   \n",
       "2         \"Putin did not specify which targets he meant.      0       0   \n",
       "3      Song Zhongping, a Beijing-based military exper...      0       0   \n",
       "4      From the beginning, the US has been sending mo...      1       0   \n",
       "...                                                  ...    ...     ...   \n",
       "12960  That must be respected, as we would expect Chi...      0       0   \n",
       "12961  Of course, one can have opinions on these things.      0       0   \n",
       "12962         One can even make criticisms if one wants.      0       0   \n",
       "12963  But they shouldn't interfere in state relation...      0       0   \n",
       "12964    So it's not really a direct concern of Britain.      0       0   \n",
       "\n",
       "       annotation_category  \n",
       "0                       -1  \n",
       "1                        0  \n",
       "2                        0  \n",
       "3                        0  \n",
       "4                       -1  \n",
       "...                    ...  \n",
       "12960                    0  \n",
       "12961                    0  \n",
       "12962                    0  \n",
       "12963                    0  \n",
       "12964                    0  \n",
       "\n",
       "[12965 rows x 4 columns]"
      ],
      "text/html": [
       "<div>\n",
       "<style scoped>\n",
       "    .dataframe tbody tr th:only-of-type {\n",
       "        vertical-align: middle;\n",
       "    }\n",
       "\n",
       "    .dataframe tbody tr th {\n",
       "        vertical-align: top;\n",
       "    }\n",
       "\n",
       "    .dataframe thead th {\n",
       "        text-align: right;\n",
       "    }\n",
       "</style>\n",
       "<table border=\"1\" class=\"dataframe\">\n",
       "  <thead>\n",
       "    <tr style=\"text-align: right;\">\n",
       "      <th></th>\n",
       "      <th>sentence</th>\n",
       "      <th>blame</th>\n",
       "      <th>praise</th>\n",
       "      <th>annotation_category</th>\n",
       "    </tr>\n",
       "  </thead>\n",
       "  <tbody>\n",
       "    <tr>\n",
       "      <th>0</th>\n",
       "      <td>Speaking to the Rossiya-1 state television cha...</td>\n",
       "      <td>1</td>\n",
       "      <td>0</td>\n",
       "      <td>-1</td>\n",
       "    </tr>\n",
       "    <tr>\n",
       "      <th>1</th>\n",
       "      <td>\"Putin's remarks came a few days after US Pres...</td>\n",
       "      <td>0</td>\n",
       "      <td>0</td>\n",
       "      <td>0</td>\n",
       "    </tr>\n",
       "    <tr>\n",
       "      <th>2</th>\n",
       "      <td>\"Putin did not specify which targets he meant.</td>\n",
       "      <td>0</td>\n",
       "      <td>0</td>\n",
       "      <td>0</td>\n",
       "    </tr>\n",
       "    <tr>\n",
       "      <th>3</th>\n",
       "      <td>Song Zhongping, a Beijing-based military exper...</td>\n",
       "      <td>0</td>\n",
       "      <td>0</td>\n",
       "      <td>0</td>\n",
       "    </tr>\n",
       "    <tr>\n",
       "      <th>4</th>\n",
       "      <td>From the beginning, the US has been sending mo...</td>\n",
       "      <td>1</td>\n",
       "      <td>0</td>\n",
       "      <td>-1</td>\n",
       "    </tr>\n",
       "    <tr>\n",
       "      <th>...</th>\n",
       "      <td>...</td>\n",
       "      <td>...</td>\n",
       "      <td>...</td>\n",
       "      <td>...</td>\n",
       "    </tr>\n",
       "    <tr>\n",
       "      <th>12960</th>\n",
       "      <td>That must be respected, as we would expect Chi...</td>\n",
       "      <td>0</td>\n",
       "      <td>0</td>\n",
       "      <td>0</td>\n",
       "    </tr>\n",
       "    <tr>\n",
       "      <th>12961</th>\n",
       "      <td>Of course, one can have opinions on these things.</td>\n",
       "      <td>0</td>\n",
       "      <td>0</td>\n",
       "      <td>0</td>\n",
       "    </tr>\n",
       "    <tr>\n",
       "      <th>12962</th>\n",
       "      <td>One can even make criticisms if one wants.</td>\n",
       "      <td>0</td>\n",
       "      <td>0</td>\n",
       "      <td>0</td>\n",
       "    </tr>\n",
       "    <tr>\n",
       "      <th>12963</th>\n",
       "      <td>But they shouldn't interfere in state relation...</td>\n",
       "      <td>0</td>\n",
       "      <td>0</td>\n",
       "      <td>0</td>\n",
       "    </tr>\n",
       "    <tr>\n",
       "      <th>12964</th>\n",
       "      <td>So it's not really a direct concern of Britain.</td>\n",
       "      <td>0</td>\n",
       "      <td>0</td>\n",
       "      <td>0</td>\n",
       "    </tr>\n",
       "  </tbody>\n",
       "</table>\n",
       "<p>12965 rows × 4 columns</p>\n",
       "</div>"
      ]
     },
     "execution_count": 82,
     "metadata": {},
     "output_type": "execute_result"
    }
   ],
   "execution_count": 82
  },
  {
   "metadata": {
    "ExecuteTime": {
     "end_time": "2025-01-19T18:26:14.641481Z",
     "start_time": "2025-01-19T18:26:14.626571Z"
    }
   },
   "cell_type": "code",
   "source": [
    "#balanced dataset\n",
    "blame_df = full_df[full_df['annotation_category'] == -1]\n",
    "praise_df = full_df[full_df['annotation_category'] == 1]\n",
    "neutral_df = full_df[full_df['annotation_category'] == 0]\n",
    "min_size = min(len(blame_df), len(praise_df))\n",
    "max_size = max(len(blame_df), len(praise_df))\n",
    "\n",
    "neutral_sampled = neutral_df.sample(max_size, random_state=42)\n",
    "full_balanced_df = pd.concat([blame_df, praise_df, neutral_sampled], ignore_index=True)\n",
    "full_balanced_df = full_balanced_df.sample(frac=1, random_state=42).reset_index(drop=True)\n",
    "#full_balanced_df = full_balanced_df.drop_duplicates(subset= ['sentence', 'annotation_category'])\n",
    "\n",
    "#summarize the balanced dataset\n",
    "print(f\"Blame: {sum(full_balanced_df['annotation_category'] == -1)}\")\n",
    "print(f\"Praise: {sum(full_balanced_df['annotation_category'] == 1)}\")\n",
    "print(f\"Neutral: {sum(full_balanced_df['annotation_category'] == 0)}\")\n",
    "full_balanced_df\n"
   ],
   "id": "2755267150728c6a",
   "outputs": [
    {
     "name": "stdout",
     "output_type": "stream",
     "text": [
      "Blame: 296\n",
      "Praise: 118\n",
      "Neutral: 296\n"
     ]
    }
   ],
   "execution_count": 111
  },
  {
   "metadata": {
    "ExecuteTime": {
     "end_time": "2025-01-19T18:26:19.065866Z",
     "start_time": "2025-01-19T18:26:19.059042Z"
    }
   },
   "cell_type": "code",
   "source": [
    "#Train test split\n",
    "y =  full_balanced_df['annotation_category']\n",
    "docs = full_balanced_df['sentence']\n",
    "X_train, X_test, y_train, y_test = train_test_split(docs, y, test_size=0.2, random_state=42)"
   ],
   "id": "b3a534c67084f6fc",
   "outputs": [],
   "execution_count": 112
  },
  {
   "metadata": {},
   "cell_type": "markdown",
   "source": "# Modeling",
   "id": "fec25b5871046c1e"
  },
  {
   "metadata": {
    "ExecuteTime": {
     "end_time": "2025-01-19T19:26:50.101808Z",
     "start_time": "2025-01-19T19:26:50.094010Z"
    }
   },
   "cell_type": "code",
   "source": [
    "#classifiers\n",
    "classifiers = [\n",
    "    LogisticRegression(),\n",
    "    LinearDiscriminantAnalysis(),\n",
    "    SVC(),\n",
    "    DecisionTreeClassifier(),\n",
    "    MLPClassifier(max_iter=10000),\n",
    "]\n",
    "classifiers_names = [\n",
    "    'Logistic Regression',\n",
    "    'Linear Discriminant Analysis',\n",
    "    'Support Vector Classification',\n",
    "    'Decision Tree Classifier',\n",
    "    'MLP Classifier',\n",
    "]\n",
    "\n",
    "y_preds = []\n"
   ],
   "id": "b5a32e038d11a570",
   "outputs": [],
   "execution_count": 128
  },
  {
   "metadata": {
    "ExecuteTime": {
     "end_time": "2025-01-19T19:59:33.733025Z",
     "start_time": "2025-01-19T19:58:10.324349Z"
    }
   },
   "cell_type": "code",
   "source": [
    "for clf in tqdm(classifiers):\n",
    "        empty_dimensionality_model = BaseDimensionalityReduction()\n",
    "        ctfidf_model = ClassTfidfTransformer(reduce_frequent_words=True)\n",
    "\n",
    "        topic_model= BERTopic(\n",
    "        umap_model=empty_dimensionality_model,\n",
    "        hdbscan_model=clf,\n",
    "        ctfidf_model=ctfidf_model\n",
    "        )\n",
    "        topics, probs = topic_model.fit_transform(list(X_train), y=list(y_train))\n",
    "        y_predicted, probs_predicted  = topic_model.transform(list(X_test))\n",
    "        y_preds.append(y_predicted)"
   ],
   "id": "ec3fa4c6ab0d41f6",
   "outputs": [
    {
     "name": "stderr",
     "output_type": "stream",
     "text": [
      "100%|██████████| 5/5 [01:23<00:00, 16.68s/it]\n"
     ]
    }
   ],
   "execution_count": 144
  },
  {
   "metadata": {
    "ExecuteTime": {
     "end_time": "2025-01-19T18:30:46.793871Z",
     "start_time": "2025-01-19T18:30:46.784359Z"
    }
   },
   "cell_type": "code",
   "source": [
    "\n",
    "print(f\"Blame: {sum(x == -1 for x in y_predicted)}\")\n",
    "print(f\"Praise: {sum(x == 1 for x in y_predicted)}\")\n",
    "print(f\"Neutral: {sum(x == 0 for x in y_predicted)}\")"
   ],
   "id": "ea9c688d3441e4e1",
   "outputs": [
    {
     "name": "stdout",
     "output_type": "stream",
     "text": [
      "Blame: 66\n",
      "Praise: 33\n",
      "Neutral: 43\n"
     ]
    }
   ],
   "execution_count": 120
  },
  {
   "metadata": {
    "ExecuteTime": {
     "end_time": "2025-01-19T19:59:39.803308Z",
     "start_time": "2025-01-19T19:59:39.269779Z"
    }
   },
   "cell_type": "code",
   "source": [
    "for y_pred, clf_name in zip(y_preds, classifiers_names):\n",
    "        cm = confusion_matrix(y_test, y_pred)\n",
    "        accuracy = round(sum(y_test == y_pred) / len(y_test)*100, 2)\n",
    "\n",
    "        # Plot the confusion matrix\n",
    "        plt.figure(figsize=(8, 6))\n",
    "        sns.heatmap(cm, annot=True, fmt='d', cmap='Blues', xticklabels=['Blame', 'Other', 'Praise'], yticklabels=['Blame', 'Other', 'Praise'])\n",
    "        plt.xlabel('Predicted')\n",
    "        plt.ylabel('Actual')\n",
    "        plt.title(f'Confusion Matrix: {clf_name} \\n Accuracy: {accuracy}%')\n",
    "\n",
    "        plt.show()\n",
    "#format accuracy to 2 decimal places\n"
   ],
   "id": "547baa9c34381280",
   "outputs": [
    {
     "data": {
      "text/plain": [
       "<Figure size 800x600 with 2 Axes>"
      ],
      "image/png": "[encoded data removed]"
     },
     "metadata": {},
     "output_type": "display_data"
    },
    {
     "data": {
      "text/plain": [
       "<Figure size 800x600 with 2 Axes>"
      ],
      "image/png": "[encoded data removed]"
     },
     "metadata": {},
     "output_type": "display_data"
    },
    {
     "data": {
      "text/plain": [
       "<Figure size 800x600 with 2 Axes>"
      ],
      "image/png": "[encoded data removed]"
     },
     "metadata": {},
     "output_type": "display_data"
    },
    {
     "data": {
      "text/plain": [
       "<Figure size 800x600 with 2 Axes>"
      ],
      "image/png": "[encoded data removed]"
     },
     "metadata": {},
     "output_type": "display_data"
    },
    {
     "data": {
      "text/plain": [
       "<Figure size 800x600 with 2 Axes>"
      ],
      "image/png": "[encoded data removed]"
     },
     "metadata": {},
     "output_type": "display_data"
    }
   ],
   "execution_count": 145
  },
  {
   "metadata": {},
   "cell_type": "markdown",
   "source": "# Fine tune SVC",
   "id": "b7130c6fb223b3e6"
  },
  {
   "metadata": {
    "ExecuteTime": {
     "end_time": "2025-01-19T20:15:32.030055Z",
     "start_time": "2025-01-19T20:15:32.026154Z"
    }
   },
   "cell_type": "code",
   "source": [
    "from sklearn.model_selection import ParameterGrid\n",
    "param_grid = {\n",
    "    'kernel': ['poly'],\n",
    "    'degree': [2, 3, 4, 5, 6],\n",
    "}\n",
    "grid = ParameterGrid(param_grid)"
   ],
   "id": "c0ff844f69730e62",
   "outputs": [],
   "execution_count": 148
  },
  {
   "metadata": {
    "ExecuteTime": {
     "end_time": "2025-01-19T20:16:55.437290Z",
     "start_time": "2025-01-19T20:15:35.190301Z"
    }
   },
   "cell_type": "code",
   "source": [
    "best_accuracy = 0\n",
    "best_params = None\n",
    "best_clf = None\n",
    "for params in tqdm(grid):\n",
    "    clf = SVC(**params)\n",
    "    empty_dimensionality_model = BaseDimensionalityReduction()\n",
    "    ctfidf_model = ClassTfidfTransformer(reduce_frequent_words=True)\n",
    "\n",
    "    topic_model= BERTopic(\n",
    "    umap_model=empty_dimensionality_model,\n",
    "    hdbscan_model=clf,\n",
    "    ctfidf_model=ctfidf_model\n",
    "    )\n",
    "    topics, probs = topic_model.fit_transform(list(X_train), y=list(y_train))\n",
    "    y_predicted, probs_predicted  = topic_model.transform(list(X_test))\n",
    "    accuracy = round(sum(y_test == y_predicted) / len(y_test)*100, 2)\n",
    "    if accuracy > best_accuracy:\n",
    "        best_accuracy = accuracy\n",
    "        best_params = params\n",
    "        best_clf = clf\n",
    "        print(f\"Best accuracy: {best_accuracy}%\")\n",
    "        print(f\"Best params: {best_params}\")\n",
    "        print(f\"Best clf: {best_clf}\")"
   ],
   "id": "44bc998eef413c32",
   "outputs": [
    {
     "name": "stderr",
     "output_type": "stream",
     "text": [
      " 20%|██        | 1/5 [00:15<01:03, 15.79s/it]"
     ]
    },
    {
     "name": "stdout",
     "output_type": "stream",
     "text": [
      "Best accuracy: 83.1%\n",
      "Best params: {'degree': 2, 'kernel': 'poly'}\n",
      "Best clf: SVC(degree=2, kernel='poly')\n"
     ]
    },
    {
     "name": "stderr",
     "output_type": "stream",
     "text": [
      "100%|██████████| 5/5 [01:20<00:00, 16.05s/it]\n"
     ]
    }
   ],
   "execution_count": 149
  },
  {
   "metadata": {
    "ExecuteTime": {
     "end_time": "2025-01-19T20:25:44.591647Z",
     "start_time": "2025-01-19T20:25:27.639689Z"
    }
   },
   "cell_type": "code",
   "source": [
    "empty_dimensionality_model = BaseDimensionalityReduction()\n",
    "ctfidf_model = ClassTfidfTransformer(reduce_frequent_words=True)\n",
    "\n",
    "topic_model= BERTopic(\n",
    "umap_model=empty_dimensionality_model,\n",
    "hdbscan_model= SVC(),\n",
    "ctfidf_model=ctfidf_model\n",
    ")\n",
    "topics, probs = topic_model.fit_transform(list(X_train), y=list(y_train))\n",
    "y_predicted, probs_predicted  = topic_model.transform(list(X_test))\n",
    "\n",
    "cm = confusion_matrix(y_test, y_predicted)\n",
    "accuracy = round(sum(y_test == y_predicted) / len(y_test)*100, 2)\n",
    "\n",
    "# Plot the confusion matrix\n",
    "plt.figure(figsize=(8, 6))\n",
    "sns.heatmap(cm, annot=True, fmt='d', cmap='Blues', xticklabels=['Blame', 'Other', 'Praise'], yticklabels=['Blame', 'Other', 'Praise'])\n",
    "plt.xlabel('Predicted')\n",
    "plt.ylabel('Actual')\n",
    "plt.title(f'Confusion Matrix: BERTopic + SVC \\n Accuracy: {accuracy}%')\n"
   ],
   "id": "fb8f248ad01a0893",
   "outputs": [
    {
     "data": {
      "text/plain": [
       "Text(0.5, 1.0, 'Confusion Matrix: BERTopic + SVC \\n Accuracy: 83.1%')"
      ]
     },
     "execution_count": 152,
     "metadata": {},
     "output_type": "execute_result"
    },
    {
     "data": {
      "text/plain": [
       "<Figure size 800x600 with 2 Axes>"
      ],
      "image/png": "[encoded data removed]"
     },
     "metadata": {},
     "output_type": "display_data"
    }
   ],
   "execution_count": 152
  }
 ],
 "metadata": {
  "kernelspec": {
   "display_name": "Python 3",
   "language": "python",
   "name": "python3"
  },
  "language_info": {
   "codemirror_mode": {
    "name": "ipython",
    "version": 2
   },
   "file_extension": ".py",
   "mimetype": "text/x-python",
   "name": "python",
   "nbconvert_exporter": "python",
   "pygments_lexer": "ipython2",
   "version": "2.7.6"
  }
 },
 "nbformat": 4,
 "nbformat_minor": 5
}
