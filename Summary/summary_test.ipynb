{
 "cells": [
  {
   "cell_type": "code",
   "id": "initial_id",
   "metadata": {
    "collapsed": true,
    "ExecuteTime": {
     "end_time": "2025-01-11T17:14:31.687722Z",
     "start_time": "2025-01-11T17:13:13.821427Z"
    }
   },
   "source": [
    "import pandas as pd\n",
    "from transformers import pipeline\n",
    "\n",
    "summarizer = pipeline(\"summarization\", model=\"facebook/bart-large-cnn\")"
   ],
   "outputs": [
    {
     "data": {
      "text/plain": [
       "Downloading:   0%|          | 0.00/1.58k [00:00<?, ?B/s]"
      ],
      "application/vnd.jupyter.widget-view+json": {
       "version_major": 2,
       "version_minor": 0,
       "model_id": "62f4152ecd0f4c848b726783661d8d8e"
      }
     },
     "metadata": {},
     "output_type": "display_data"
    },
    {
     "name": "stderr",
     "output_type": "stream",
     "text": [
      "C:\\Users\\lukas\\PycharmProjects\\Code\\Lib\\site-packages\\huggingface_hub\\file_download.py:127: UserWarning: `huggingface_hub` cache-system uses symlinks by default to efficiently store duplicated files but your machine does not support them in C:\\Users\\lukas\\.cache\\huggingface\\hub. Caching files will still work but in a degraded version that might require more space on your disk. This warning can be disabled by setting the `HF_HUB_DISABLE_SYMLINKS_WARNING` environment variable. For more details, see https://huggingface.co/docs/huggingface_hub/how-to-cache#limitations.\n",
      "To support symlinks on Windows, you either need to activate Developer Mode or to run Python as an administrator. In order to see activate developer mode, see this article: https://docs.microsoft.com/en-us/windows/apps/get-started/enable-your-device-for-development\n",
      "  warnings.warn(message)\n"
     ]
    },
    {
     "data": {
      "text/plain": [
       "Downloading:   0%|          | 0.00/1.63G [00:00<?, ?B/s]"
      ],
      "application/vnd.jupyter.widget-view+json": {
       "version_major": 2,
       "version_minor": 0,
       "model_id": "ff8b8e12e1b04af4abd429a1fdeb096a"
      }
     },
     "metadata": {},
     "output_type": "display_data"
    },
    {
     "data": {
      "text/plain": [
       "Downloading:   0%|          | 0.00/899k [00:00<?, ?B/s]"
      ],
      "application/vnd.jupyter.widget-view+json": {
       "version_major": 2,
       "version_minor": 0,
       "model_id": "0d7456d4f09c4e3da7e4eb92ff99ba52"
      }
     },
     "metadata": {},
     "output_type": "display_data"
    },
    {
     "data": {
      "text/plain": [
       "Downloading:   0%|          | 0.00/456k [00:00<?, ?B/s]"
      ],
      "application/vnd.jupyter.widget-view+json": {
       "version_major": 2,
       "version_minor": 0,
       "model_id": "48cfd19ea49f4e0a94b85d9e6b70735b"
      }
     },
     "metadata": {},
     "output_type": "display_data"
    },
    {
     "data": {
      "text/plain": [
       "Downloading:   0%|          | 0.00/1.36M [00:00<?, ?B/s]"
      ],
      "application/vnd.jupyter.widget-view+json": {
       "version_major": 2,
       "version_minor": 0,
       "model_id": "b710a3fa831e4bf4be9e8a290e1697fb"
      }
     },
     "metadata": {},
     "output_type": "display_data"
    }
   ],
   "execution_count": 1
  },
  {
   "metadata": {
    "ExecuteTime": {
     "end_time": "2025-01-11T17:18:34.311957Z",
     "start_time": "2025-01-11T17:18:34.289228Z"
    }
   },
   "cell_type": "code",
   "source": [
    "df = pd.read_csv(\"../Data/ukraine_textcontain_before_new_preprocessed.csv\")\n",
    "article_sample = df.iloc[0][\"article_text\"]"
   ],
   "id": "e967b85c2c6d727",
   "outputs": [],
   "execution_count": 3
  },
  {
   "metadata": {
    "ExecuteTime": {
     "end_time": "2025-01-11T17:18:39.217015Z",
     "start_time": "2025-01-11T17:18:39.212533Z"
    }
   },
   "cell_type": "code",
   "source": "article_sample",
   "id": "f1e2be1c9c861f18",
   "outputs": [
    {
     "data": {
      "text/plain": [
       "'Russian President Vladimir Putin on Monday signed two decrees recognizing \"the Lugansk People\\'s Republic (LPR)\" and \"the Donetsk People\\'s Republic (DPR)\" as independent and sovereign states. Ukraine decided to recall its charge d\\'affairs in Russia and will reconsider its diplomatic relations with Russia. The sudden change in the Ukraine situation has aroused great concern around the world. In this regard, Chinese State Councilor and Foreign Minister Wang Yi said on Tuesday that the legitimate security concerns of any country must be\\u2002respected,\\u2002and the purposes and principles of the UN Charter must be upheld. He said China once again called on all parties to exercise restraint, appreciate\\u2002the importance of implementing the principle of indivisible security, and de-escalate the situation and resolve differences through dialogue and negotiations.It should be noted that it is very regrettable that the Ukrainian issue has evolved so far. The US has continued its intensive containment on Russia, which finally forced Russia to try to realize its security demands in such a way. This is the outburst of the dissatisfaction of the party whose security demands have been ignored for a long time since the end of the Cold War. The situation in Ukraine is deteriorating. At this time, the international community cannot discard its efforts for peace and to avoid further escalating the situation.The prospect of the situation between Russia and Ukraine remains highly uncertain. The US and Western countries immediately condemned Russia\\'s move. The White House officials said further \"coordinated\" sanctions directed at Russia would be announced on Tuesday. UN Secretary-General António Guterres said Russia\\'s decision is \"a violation of the territorial integrity and sovereignty of Ukraine and inconsistent with the principles of the Charter of the United Nations.\" He called for addressing \"all issues peacefully.\" Many countries said they should not give up diplomatic means to peacefully solve the problem and underlined that \"constructive diplomacy is the need of the hour.\"The Russia-Ukraine crisis is a dual crisis, in which bilateral conflicts between Russia and Ukraine are intertwined with the strategic suppression that NATO\\'s eastward expansion has brought to Russia. All relevant parties have put forward their own security demands before. Although no consensus was reached, that doesn\\'t necessarily mean a complete breakup of negotiations. It hasn\\'t reached the point that the issue must be solved by war. Whether the situation will further escalate next mainly depends on the scale of the US sanctions imposed on Russia and whether Russia will be provoked to take more aggressive measures.Peace and no war is in the biggest and common interests of all countries in the European continent. In this sense, only by achieving a soft landing for the Russia-Ukraine crisis can Europe realize peace. True security should be inalienable, common, integrated, cooperative and sustainable. This means all sides\\' security interests should be respected and safeguarded, and if any party\\'s security concerns are ignored or even trampled on, geopolitical disputes will continue and never cease. The knot must be untied by the one who tied it. Russia and Ukraine need to have face-to-face dialogues. The US and NATO should be pulled back from the Russia-Ukraine crisis as much as possible and there should be no more complicated elements added to influence the situation.In particular, at a time when the situation is uncertain, all sides should leave some space for Russia and Ukraine to solve the problems. Confrontation, sanctions, or even a direct battle will not help ease tensions. The flames scattered in eastern Ukraine are reminding all parties of the fact that blindly imposing pressure will only lead to an escalation of conflicts. What is most needed there are restraints and rationality, as well as constructive efforts of the international community.\\xa0\\xa0\\xa0China has no self-interest in the Ukraine issue. It has always upheld a fair and responsible attitude and will decide its own position based on the merits of the matter itself. Although all parties have different views on the Ukraine crisis, the top priority now is to avoid any actions that could intensify tensions. The international community should reach such a consensus as soon as possible. The development of the Ukraine situation is the result of a series of complex factors. Now that it has come to the brink of a cliff, all parties should work together to pull it back.'"
      ]
     },
     "execution_count": 4,
     "metadata": {},
     "output_type": "execute_result"
    }
   ],
   "execution_count": 4
  },
  {
   "metadata": {
    "ExecuteTime": {
     "end_time": "2025-01-11T17:21:46.188983Z",
     "start_time": "2025-01-11T17:21:35.577600Z"
    }
   },
   "cell_type": "code",
   "source": [
    "summary = summarizer(article_sample, max_length=150, min_length=30, do_sample=False)\n",
    "summary[0][\"summary_text\"]"
   ],
   "id": "a99fc73dd81fa942",
   "outputs": [
    {
     "data": {
      "text/plain": [
       "'Russian President Vladimir Putin on Monday signed two decrees recognizing \"the Lugansk People\\'s Republic (LPR)\" and \"the Donetsk People\\'sRepublic (DPR)\" as independent and sovereign states. Ukraine decided to recall its charge d\\'affairs in Russia and will reconsider its diplomatic relations with Russia. The prospect of the situation between Russia and Ukraine remains highly uncertain.'"
      ]
     },
     "execution_count": 6,
     "metadata": {},
     "output_type": "execute_result"
    }
   ],
   "execution_count": 6
  },
  {
   "metadata": {},
   "cell_type": "code",
   "outputs": [],
   "execution_count": null,
   "source": "",
   "id": "440f425be39af812"
  }
 ],
 "metadata": {
  "kernelspec": {
   "display_name": "Python 3",
   "language": "python",
   "name": "python3"
  },
  "language_info": {
   "codemirror_mode": {
    "name": "ipython",
    "version": 2
   },
   "file_extension": ".py",
   "mimetype": "text/x-python",
   "name": "python",
   "nbconvert_exporter": "python",
   "pygments_lexer": "ipython2",
   "version": "2.7.6"
  }
 },
 "nbformat": 4,
 "nbformat_minor": 5
}
