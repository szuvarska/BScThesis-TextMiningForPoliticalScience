{
 "cells": [
  {
   "metadata": {
    "collapsed": true,
    "ExecuteTime": {
     "end_time": "2025-01-11T18:10:12.457454Z",
     "start_time": "2025-01-11T18:10:00.429071Z"
    }
   },
   "cell_type": "code",
   "source": [
    "import pandas as pd\n",
    "from Summary_script import summarize_text, download_summary_model"
   ],
   "id": "initial_id",
   "outputs": [],
   "execution_count": 1
  },
  {
   "metadata": {
    "ExecuteTime": {
     "end_time": "2025-01-11T18:10:43.319503Z",
     "start_time": "2025-01-11T18:10:38.605444Z"
    }
   },
   "cell_type": "code",
   "source": [
    "df = pd.read_csv(\"../Data/ukraine_textcontain_before_new_preprocessed.csv\")\n",
    "download_summary_model()"
   ],
   "id": "e967b85c2c6d727",
   "outputs": [
    {
     "name": "stdout",
     "output_type": "stream",
     "text": [
      "Downloading 'facebook/bart-large-cnn'...\n",
      "Model downloaded!\n"
     ]
    }
   ],
   "execution_count": 3
  },
  {
   "metadata": {
    "ExecuteTime": {
     "end_time": "2025-01-11T18:13:06.281403Z",
     "start_time": "2025-01-11T18:13:06.277062Z"
    }
   },
   "cell_type": "code",
   "source": [
    "article_sample = df.iloc[4][\"article_text\"]\n",
    "article_sample"
   ],
   "id": "f1e2be1c9c861f18",
   "outputs": [
    {
     "data": {
      "text/plain": [
       "'\\xa0The European Union (EU) is ready to take further action against Russia if it continues to escalate the crisis, European Commission President Ursula von der Leyen warned here on Tuesday.In a statement, von der Leyen said EU member states had given their political consent to a new package of sanctions against Russia following its recognition of the independence of the Ukrainian regions of Donetsk and Luhansk.The package contains a number of \"calibrated measures\" targeting banks that finance the Russian military apparatus and contribute to the destabilization of Ukraine.It also bans trade between the two breakaway regions and the EU, as it did with Crimea in 2014, and limits the Russian government\\'s ability to raise capital on the EU\\'s financial markets.Russian President Vladimir Putin on Monday evening signed decrees recognizing the independence of two self-proclaimed regions in eastern Ukraine\\'s Donbass as \"the Lugansk People\\'s Republic (LPR)\" and \"the Donetsk People\\'s Republic (DPR).\"Russia has done everything to preserve the territorial integrity of Ukraine by fighting for the implementation of 2015 Minsk agreement, but all the efforts ended up in vain, Putin said on Monday.The security crisis occurred due to NATO\\'s eastward expansion, which has led to the loss of mutual trust with Russia, he noted.According to Josep Borrell, EU\\'s High Representative for Foreign Affairs and Security Policy, the package comprises sanctions against 351 members of the Russian State Duma (lower house of the country\\'s Federal Assembly) who voted to recognize the two regions.The EU will also \"target 27 individuals and entities who are playing a role in undermining or threatening Ukraine\\'s territorial integrity, sovereignty and independence,\" he said.Furthermore, the sanctions aim to target the Russian state\\'s ability to access the EU\\'s capital and financial markets and services.\"If Russia continues to escalate this crisis that it has created, we are ready to take further action in response,\" von der Leyen said.On the controversial Russia-Germany Nord Stream 2 gas pipeline, von der Leyen said she believed that the German government was \"absolutely right\" to stop the project, which must be assessed in light of the security of energy supply for all of Europe.\"This crisis shows that Europe is still too dependent on Russian gas. We have to diversify our suppliers and massively invest in renewables. This is a strategic investment in our energy independence,\" she said.The conflict in eastern Ukraine began in April 2014 with fightings between the Ukrainian government troops and local armed groups who seized several towns.With the mediation of the global community, the two sides in Belarus\\' capital of Minsk reached ceasefire agreements in September 2014 and February 2015 respectively.Russia has been seeking NATO\\'s guarantee to halt eastward expansion. However, U.S. President Joe Biden\\'s administration took a hard line against Russia, supporting Ukraine\\'s efforts to join the U.S.-led military alliance and increasing its military assistance to Ukraine, which has re-escalated tensions in the region.The situation in eastern Ukraine has been getting worse since Feb. 17, as the Ukrainian government and local armed groups blamed each other for launching aggressive bombards.'"
      ]
     },
     "execution_count": 10,
     "metadata": {},
     "output_type": "execute_result"
    }
   ],
   "execution_count": 10
  },
  {
   "metadata": {
    "ExecuteTime": {
     "end_time": "2025-01-11T18:13:18.092973Z",
     "start_time": "2025-01-11T18:13:09.303453Z"
    }
   },
   "cell_type": "code",
   "source": [
    "from Summary_script import summarizer\n",
    "summary = summarizer(article_sample, max_length=150, min_length=50, do_sample=False)\n",
    "summary[0][\"summary_text\"]"
   ],
   "id": "a99fc73dd81fa942",
   "outputs": [
    {
     "data": {
      "text/plain": [
       "'EU member states have given their political consent to a new package of sanctions against Russia. The package contains a number of \"calibrated measures\" targeting banks that finance the Russian military apparatus. It also bans trade between the two breakaway regions and the EU, as it did with Crimea in 2014.'"
      ]
     },
     "execution_count": 11,
     "metadata": {},
     "output_type": "execute_result"
    }
   ],
   "execution_count": 11
  },
  {
   "metadata": {},
   "cell_type": "code",
   "outputs": [],
   "execution_count": null,
   "source": "",
   "id": "440f425be39af812"
  }
 ],
 "metadata": {
  "kernelspec": {
   "display_name": "Python 3",
   "language": "python",
   "name": "python3"
  },
  "language_info": {
   "codemirror_mode": {
    "name": "ipython",
    "version": 2
   },
   "file_extension": ".py",
   "mimetype": "text/x-python",
   "name": "python",
   "nbconvert_exporter": "python",
   "pygments_lexer": "ipython2",
   "version": "2.7.6"
  }
 },
 "nbformat": 4,
 "nbformat_minor": 5
}
