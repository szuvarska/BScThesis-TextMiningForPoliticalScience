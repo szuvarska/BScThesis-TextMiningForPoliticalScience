{
 "cells": [
  {
   "metadata": {
    "collapsed": true,
    "ExecuteTime": {
     "end_time": "2025-01-12T14:39:59.905049Z",
     "start_time": "2025-01-12T14:39:59.498476Z"
    }
   },
   "cell_type": "code",
   "source": "import pandas as pd",
   "id": "initial_id",
   "outputs": [],
   "execution_count": 1
  },
  {
   "metadata": {
    "ExecuteTime": {
     "end_time": "2025-01-12T14:39:59.931841Z",
     "start_time": "2025-01-12T14:39:59.909047Z"
    }
   },
   "cell_type": "code",
   "source": "df = pd.read_csv(\"../Data/ukraine_textcontain_before_new_preprocessed.csv\")\n",
   "id": "e967b85c2c6d727",
   "outputs": [],
   "execution_count": 2
  },
  {
   "metadata": {
    "ExecuteTime": {
     "end_time": "2025-01-12T14:40:11.295224Z",
     "start_time": "2025-01-12T14:40:00.179788Z"
    }
   },
   "cell_type": "code",
   "source": [
    "from Summary_script import download_summary_model\n",
    "download_summary_model()"
   ],
   "id": "8a2158d3bef11df1",
   "outputs": [
    {
     "name": "stdout",
     "output_type": "stream",
     "text": [
      "Downloading 'facebook/bart-large-cnn'...\n",
      "Model downloaded!\n"
     ]
    }
   ],
   "execution_count": 3
  },
  {
   "metadata": {
    "ExecuteTime": {
     "end_time": "2025-01-12T14:41:19.546301Z",
     "start_time": "2025-01-12T14:41:00.351864Z"
    }
   },
   "cell_type": "code",
   "source": [
    "from Summary_script import summarize_text\n",
    "article_sample = df.iloc[121][\"article_text\"]\n",
    "summarize_text(article_sample)"
   ],
   "id": "a99fc73dd81fa942",
   "outputs": [
    {
     "name": "stdout",
     "output_type": "stream",
     "text": [
      "Summarizing 2 chunks...\n"
     ]
    },
    {
     "data": {
      "text/plain": [
       "'Senior diplomats from Russia and US held talks on Monday in Geneva, dubbed the \"capital of peace\" The meeting will be followed by a Russia-NATO meeting in Brussels on Wednesday and a meeting with the Organization for Security and Cooperation in Europe (OSCE) on Thursday. Russia clarified its demands including the ban on further NATO expansion in Eastern Europe. Russia has expressed its willingness to pursue peace, warning the US and NATO that it is putting on the table possible solutions for a smooth, cooperative solution to the crisis in Ukraine. China is a stabilizer and peacebuilder in the uncertain world, professor Li Haidong said.'"
      ]
     },
     "execution_count": 5,
     "metadata": {},
     "output_type": "execute_result"
    }
   ],
   "execution_count": 5
  },
  {
   "metadata": {
    "ExecuteTime": {
     "end_time": "2025-01-12T14:40:13.618748900Z",
     "start_time": "2025-01-12T14:08:03.917586Z"
    }
   },
   "cell_type": "code",
   "source": "",
   "id": "440f425be39af812",
   "outputs": [],
   "execution_count": null
  }
 ],
 "metadata": {
  "kernelspec": {
   "display_name": "Python 3",
   "language": "python",
   "name": "python3"
  },
  "language_info": {
   "codemirror_mode": {
    "name": "ipython",
    "version": 2
   },
   "file_extension": ".py",
   "mimetype": "text/x-python",
   "name": "python",
   "nbconvert_exporter": "python",
   "pygments_lexer": "ipython2",
   "version": "2.7.6"
  }
 },
 "nbformat": 4,
 "nbformat_minor": 5
}
