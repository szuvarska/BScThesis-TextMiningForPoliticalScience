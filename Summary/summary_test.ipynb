{
 "cells": [
  {
   "metadata": {
    "collapsed": true,
    "ExecuteTime": {
     "end_time": "2025-01-12T19:37:21.389405Z",
     "start_time": "2025-01-12T19:37:20.682463Z"
    }
   },
   "cell_type": "code",
   "source": "import pandas as pd",
   "id": "initial_id",
   "outputs": [],
   "execution_count": 1
  },
  {
   "metadata": {
    "ExecuteTime": {
     "end_time": "2025-01-12T19:37:23.417916Z",
     "start_time": "2025-01-12T19:37:23.366938Z"
    }
   },
   "cell_type": "code",
   "source": [
    "df = pd.read_csv(\"../Data/gaza_textcontain_after_new_preprocessed.csv\")\n",
    "df"
   ],
   "id": "e967b85c2c6d727",
   "outputs": [
    {
     "data": {
      "text/plain": [
       "     Unnamed: 0                                      article_title  \\\n",
       "0             0  Palestinian death toll in Gaza from Israeli at...   \n",
       "1             1  Daily life at Al-Maghazi refugee camp in Gaza ...   \n",
       "2             2  Two-State solution only way to break vicious c...   \n",
       "3             3        Biden to deliver State of the Union address   \n",
       "4             4  Houthi attacks in Red Sea reports first fatali...   \n",
       "..          ...                                                ...   \n",
       "484         485  Political efforts must be intensified to solve...   \n",
       "485         486  US biased attitude in Israel-Palestine conflic...   \n",
       "486         487  US inability to reconcile Israel-Palestine con...   \n",
       "487         488  Israel’s deepening attacks in Gaza likely to e...   \n",
       "488         489  GT Exclusive: Mainland tax, natural resource a...   \n",
       "\n",
       "                        author published_time  \\\n",
       "0                       Xinhua     2024-03-07   \n",
       "1                       Xinhua     2024-03-07   \n",
       "2                 Global Times     2024-03-07   \n",
       "3           GT staff reporters     2024-03-07   \n",
       "4                     Fan Anqi     2024-03-07   \n",
       "..                         ...            ...   \n",
       "484  Xie Wenting and Bai Yunyi     2023-10-22   \n",
       "485                 Ma Xiaolin     2023-10-22   \n",
       "486               Global Times     2023-10-22   \n",
       "487                 Zhao Yusha     2023-10-22   \n",
       "488                    Liu Xin     2023-10-22   \n",
       "\n",
       "                                          article_text article_category_one  \\\n",
       "0     \\r\\n\\r\\nPeople walk past destroyed buildings ...                PHOTO   \n",
       "1     \\r\\n\\r\\nChildren are pictured at Al-Maghazi r...                PHOTO   \n",
       "2    There is no distinction between noble and humb...                CHINA   \n",
       "3    US President Joe Biden is expected to deliver ...                CHINA   \n",
       "4    A Houthi missile attack on a merchant ship in ...                CHINA   \n",
       "..                                                 ...                  ...   \n",
       "484  Editor's Note:The death toll among Palestinian...             IN-DEPTH   \n",
       "485  Any act that leads to civilian deaths and othe...              OPINION   \n",
       "486  US media is currently attempting to redirect t...              OPINION   \n",
       "487  Israel's deepening attacks in Gaza for what it...                CHINA   \n",
       "488  Chinese mainland tax authorities have conducte...                CHINA   \n",
       "\n",
       "    article_category_two                                picture_description  \\\n",
       "0                  WORLD  A young man walks past destroyed buildings in ...   \n",
       "1                  WORLD  A vendor makes desserts at Al-Maghazi refugee ...   \n",
       "2               POLITICS  People walk past destroyed buildings in the so...   \n",
       "3              DIPLOMACY  US President Joe Biden speaks during a meeting...   \n",
       "4              DIPLOMACY  A container ship sails in the Red Sea in the S...   \n",
       "..                   ...                                                ...   \n",
       "484   DIPLOMATIC CHANNEL  Teams conduct a search and rescue operation un...   \n",
       "485            VIEWPOINT                          Illustration: Liu Rui/ GT   \n",
       "486             OBSERVER  NUSEIRAT, GAZA - OCTOBER 22: A view of destruc...   \n",
       "487            DIPLOMACY  Leaders and top officials from more than a doz...   \n",
       "488             POLITICS                                 Foxconn Photo: VCG   \n",
       "\n",
       "                 author_title  \\\n",
       "0    Author details not found   \n",
       "1    Author details not found   \n",
       "2    Author details not found   \n",
       "3    Author details not found   \n",
       "4    Author details not found   \n",
       "..                        ...   \n",
       "484  Author details not found   \n",
       "485  Author details not found   \n",
       "486  Author details not found   \n",
       "487         Reporter, Beijing   \n",
       "488         Reporter, Beijing   \n",
       "\n",
       "                                    author_description  \n",
       "0                             Author details not found  \n",
       "1                             Author details not found  \n",
       "2                             Author details not found  \n",
       "3                             Author details not found  \n",
       "4                             Author details not found  \n",
       "..                                                 ...  \n",
       "484                           Author details not found  \n",
       "485                           Author details not found  \n",
       "486                           Author details not found  \n",
       "487  Global Times reporter covering international a...  \n",
       "488  Liu Xin co-leads the Global Times China desk. ...  \n",
       "\n",
       "[489 rows x 10 columns]"
      ],
      "text/html": [
       "<div>\n",
       "<style scoped>\n",
       "    .dataframe tbody tr th:only-of-type {\n",
       "        vertical-align: middle;\n",
       "    }\n",
       "\n",
       "    .dataframe tbody tr th {\n",
       "        vertical-align: top;\n",
       "    }\n",
       "\n",
       "    .dataframe thead th {\n",
       "        text-align: right;\n",
       "    }\n",
       "</style>\n",
       "<table border=\"1\" class=\"dataframe\">\n",
       "  <thead>\n",
       "    <tr style=\"text-align: right;\">\n",
       "      <th></th>\n",
       "      <th>Unnamed: 0</th>\n",
       "      <th>article_title</th>\n",
       "      <th>author</th>\n",
       "      <th>published_time</th>\n",
       "      <th>article_text</th>\n",
       "      <th>article_category_one</th>\n",
       "      <th>article_category_two</th>\n",
       "      <th>picture_description</th>\n",
       "      <th>author_title</th>\n",
       "      <th>author_description</th>\n",
       "    </tr>\n",
       "  </thead>\n",
       "  <tbody>\n",
       "    <tr>\n",
       "      <th>0</th>\n",
       "      <td>0</td>\n",
       "      <td>Palestinian death toll in Gaza from Israeli at...</td>\n",
       "      <td>Xinhua</td>\n",
       "      <td>2024-03-07</td>\n",
       "      <td>\\r\\n\\r\\nPeople walk past destroyed buildings ...</td>\n",
       "      <td>PHOTO</td>\n",
       "      <td>WORLD</td>\n",
       "      <td>A young man walks past destroyed buildings in ...</td>\n",
       "      <td>Author details not found</td>\n",
       "      <td>Author details not found</td>\n",
       "    </tr>\n",
       "    <tr>\n",
       "      <th>1</th>\n",
       "      <td>1</td>\n",
       "      <td>Daily life at Al-Maghazi refugee camp in Gaza ...</td>\n",
       "      <td>Xinhua</td>\n",
       "      <td>2024-03-07</td>\n",
       "      <td>\\r\\n\\r\\nChildren are pictured at Al-Maghazi r...</td>\n",
       "      <td>PHOTO</td>\n",
       "      <td>WORLD</td>\n",
       "      <td>A vendor makes desserts at Al-Maghazi refugee ...</td>\n",
       "      <td>Author details not found</td>\n",
       "      <td>Author details not found</td>\n",
       "    </tr>\n",
       "    <tr>\n",
       "      <th>2</th>\n",
       "      <td>2</td>\n",
       "      <td>Two-State solution only way to break vicious c...</td>\n",
       "      <td>Global Times</td>\n",
       "      <td>2024-03-07</td>\n",
       "      <td>There is no distinction between noble and humb...</td>\n",
       "      <td>CHINA</td>\n",
       "      <td>POLITICS</td>\n",
       "      <td>People walk past destroyed buildings in the so...</td>\n",
       "      <td>Author details not found</td>\n",
       "      <td>Author details not found</td>\n",
       "    </tr>\n",
       "    <tr>\n",
       "      <th>3</th>\n",
       "      <td>3</td>\n",
       "      <td>Biden to deliver State of the Union address</td>\n",
       "      <td>GT staff reporters</td>\n",
       "      <td>2024-03-07</td>\n",
       "      <td>US President Joe Biden is expected to deliver ...</td>\n",
       "      <td>CHINA</td>\n",
       "      <td>DIPLOMACY</td>\n",
       "      <td>US President Joe Biden speaks during a meeting...</td>\n",
       "      <td>Author details not found</td>\n",
       "      <td>Author details not found</td>\n",
       "    </tr>\n",
       "    <tr>\n",
       "      <th>4</th>\n",
       "      <td>4</td>\n",
       "      <td>Houthi attacks in Red Sea reports first fatali...</td>\n",
       "      <td>Fan Anqi</td>\n",
       "      <td>2024-03-07</td>\n",
       "      <td>A Houthi missile attack on a merchant ship in ...</td>\n",
       "      <td>CHINA</td>\n",
       "      <td>DIPLOMACY</td>\n",
       "      <td>A container ship sails in the Red Sea in the S...</td>\n",
       "      <td>Author details not found</td>\n",
       "      <td>Author details not found</td>\n",
       "    </tr>\n",
       "    <tr>\n",
       "      <th>...</th>\n",
       "      <td>...</td>\n",
       "      <td>...</td>\n",
       "      <td>...</td>\n",
       "      <td>...</td>\n",
       "      <td>...</td>\n",
       "      <td>...</td>\n",
       "      <td>...</td>\n",
       "      <td>...</td>\n",
       "      <td>...</td>\n",
       "      <td>...</td>\n",
       "    </tr>\n",
       "    <tr>\n",
       "      <th>484</th>\n",
       "      <td>485</td>\n",
       "      <td>Political efforts must be intensified to solve...</td>\n",
       "      <td>Xie Wenting and Bai Yunyi</td>\n",
       "      <td>2023-10-22</td>\n",
       "      <td>Editor's Note:The death toll among Palestinian...</td>\n",
       "      <td>IN-DEPTH</td>\n",
       "      <td>DIPLOMATIC CHANNEL</td>\n",
       "      <td>Teams conduct a search and rescue operation un...</td>\n",
       "      <td>Author details not found</td>\n",
       "      <td>Author details not found</td>\n",
       "    </tr>\n",
       "    <tr>\n",
       "      <th>485</th>\n",
       "      <td>486</td>\n",
       "      <td>US biased attitude in Israel-Palestine conflic...</td>\n",
       "      <td>Ma Xiaolin</td>\n",
       "      <td>2023-10-22</td>\n",
       "      <td>Any act that leads to civilian deaths and othe...</td>\n",
       "      <td>OPINION</td>\n",
       "      <td>VIEWPOINT</td>\n",
       "      <td>Illustration: Liu Rui/ GT</td>\n",
       "      <td>Author details not found</td>\n",
       "      <td>Author details not found</td>\n",
       "    </tr>\n",
       "    <tr>\n",
       "      <th>486</th>\n",
       "      <td>487</td>\n",
       "      <td>US inability to reconcile Israel-Palestine con...</td>\n",
       "      <td>Global Times</td>\n",
       "      <td>2023-10-22</td>\n",
       "      <td>US media is currently attempting to redirect t...</td>\n",
       "      <td>OPINION</td>\n",
       "      <td>OBSERVER</td>\n",
       "      <td>NUSEIRAT, GAZA - OCTOBER 22: A view of destruc...</td>\n",
       "      <td>Author details not found</td>\n",
       "      <td>Author details not found</td>\n",
       "    </tr>\n",
       "    <tr>\n",
       "      <th>487</th>\n",
       "      <td>488</td>\n",
       "      <td>Israel’s deepening attacks in Gaza likely to e...</td>\n",
       "      <td>Zhao Yusha</td>\n",
       "      <td>2023-10-22</td>\n",
       "      <td>Israel's deepening attacks in Gaza for what it...</td>\n",
       "      <td>CHINA</td>\n",
       "      <td>DIPLOMACY</td>\n",
       "      <td>Leaders and top officials from more than a doz...</td>\n",
       "      <td>Reporter, Beijing</td>\n",
       "      <td>Global Times reporter covering international a...</td>\n",
       "    </tr>\n",
       "    <tr>\n",
       "      <th>488</th>\n",
       "      <td>489</td>\n",
       "      <td>GT Exclusive: Mainland tax, natural resource a...</td>\n",
       "      <td>Liu Xin</td>\n",
       "      <td>2023-10-22</td>\n",
       "      <td>Chinese mainland tax authorities have conducte...</td>\n",
       "      <td>CHINA</td>\n",
       "      <td>POLITICS</td>\n",
       "      <td>Foxconn Photo: VCG</td>\n",
       "      <td>Reporter, Beijing</td>\n",
       "      <td>Liu Xin co-leads the Global Times China desk. ...</td>\n",
       "    </tr>\n",
       "  </tbody>\n",
       "</table>\n",
       "<p>489 rows × 10 columns</p>\n",
       "</div>"
      ]
     },
     "execution_count": 2,
     "metadata": {},
     "output_type": "execute_result"
    }
   ],
   "execution_count": 2
  },
  {
   "metadata": {
    "ExecuteTime": {
     "end_time": "2025-01-12T19:37:32.201431Z",
     "start_time": "2025-01-12T19:37:32.194971Z"
    }
   },
   "cell_type": "code",
   "source": "df.iloc[483]",
   "id": "ce7141691a569dd5",
   "outputs": [
    {
     "data": {
      "text/plain": [
       "Unnamed: 0                                                            484\n",
       "article_title                 US suffers from chronic strategic overreach\n",
       "author                                                     Brian Berletic\n",
       "published_time                                                 2023-10-22\n",
       "article_text            The US finds itself sponsoring two conflicts t...\n",
       "article_category_one                                              OPINION\n",
       "article_category_two                                            VIEWPOINT\n",
       "picture_description          Stretched too thin.Illustration: Chen Xia/GT\n",
       "author_title                                     Author details not found\n",
       "author_description                               Author details not found\n",
       "Name: 483, dtype: object"
      ]
     },
     "execution_count": 3,
     "metadata": {},
     "output_type": "execute_result"
    }
   ],
   "execution_count": 3
  },
  {
   "metadata": {
    "ExecuteTime": {
     "end_time": "2025-01-12T19:37:55.183221Z",
     "start_time": "2025-01-12T19:37:39.541523Z"
    }
   },
   "cell_type": "code",
   "source": [
    "from Summary_script import download_summary_model\n",
    "download_summary_model()"
   ],
   "id": "8a2158d3bef11df1",
   "outputs": [
    {
     "name": "stdout",
     "output_type": "stream",
     "text": [
      "Downloading 'facebook/bart-large-cnn'...\n",
      "Model downloaded!\n"
     ]
    }
   ],
   "execution_count": 4
  },
  {
   "metadata": {
    "ExecuteTime": {
     "end_time": "2025-01-12T19:38:24.560405Z",
     "start_time": "2025-01-12T19:38:05.058776Z"
    }
   },
   "cell_type": "code",
   "source": [
    "from Summary_script import summarize_text\n",
    "article_sample = df.iloc[483][\"article_text\"]\n",
    "summarize_text(article_sample)"
   ],
   "id": "a99fc73dd81fa942",
   "outputs": [
    {
     "name": "stdout",
     "output_type": "stream",
     "text": [
      "Summarizing 2 chunks...\n"
     ]
    },
    {
     "data": {
      "text/plain": [
       "'The US finds itself sponsoring two conflicts that are at the center of global attention. In Ukraine, the US leads its European allies in supplying weapons, ammunition and economic assistance to the Ukrainian government. In the Middle East, the U.S. is the primary sponsor of Israel as it disproportionately responds to the raids carried out by Hamas. The notion of the US leading an international \"rules-based\" order that the rest of the world \"finds its place within\" is problematic. The US accounts for only around 4 percent of the global population. Even the G7 nations combined, which includes the US, only account for 10 percent. China\\'s population alone accounts for over 17 percent of world\\'s total.'"
      ]
     },
     "execution_count": 5,
     "metadata": {},
     "output_type": "execute_result"
    }
   ],
   "execution_count": 5
  },
  {
   "metadata": {
    "ExecuteTime": {
     "end_time": "2025-01-12T19:04:19.533459Z",
     "start_time": "2025-01-12T19:04:19.530891Z"
    }
   },
   "cell_type": "code",
   "source": "",
   "id": "440f425be39af812",
   "outputs": [],
   "execution_count": null
  }
 ],
 "metadata": {
  "kernelspec": {
   "display_name": "Python 3",
   "language": "python",
   "name": "python3"
  },
  "language_info": {
   "codemirror_mode": {
    "name": "ipython",
    "version": 2
   },
   "file_extension": ".py",
   "mimetype": "text/x-python",
   "name": "python",
   "nbconvert_exporter": "python",
   "pygments_lexer": "ipython2",
   "version": "2.7.6"
  }
 },
 "nbformat": 4,
 "nbformat_minor": 5
}
