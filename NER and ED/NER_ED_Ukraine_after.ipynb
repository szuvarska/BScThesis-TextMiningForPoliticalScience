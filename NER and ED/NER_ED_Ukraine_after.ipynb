{
 "cells": [
  {
   "cell_type": "code",
   "id": "initial_id",
   "metadata": {
    "collapsed": true,
    "ExecuteTime": {
     "end_time": "2024-12-08T19:45:33.834608400Z",
     "start_time": "2024-12-08T19:45:27.692036900Z"
    }
   },
   "source": [
    "from NER_ED_script import perform_ner, calculate_entity_distribution, find_most_common_entity_types, find_most_common_entities_per_type\n",
    "import pandas as pd\n",
    "import ast"
   ],
   "outputs": [],
   "execution_count": 1
  },
  {
   "metadata": {
    "ExecuteTime": {
     "end_time": "2024-12-08T19:45:33.918267600Z",
     "start_time": "2024-12-08T19:45:33.834608400Z"
    }
   },
   "cell_type": "code",
   "source": [
    "file_name = \"../Data/ukraine_textcontain_after_new_preprocessed.csv\"\n",
    "dict_name = \"dict_ukraine.csv\"\n",
    "ner_file = \"Results/Ukraine_after_with_NER.csv\"\n",
    "dataset_name = \"Ukraine during conflict\"\n",
    "entities_file = \"Results/Ukraine_after_top_40_entities.csv\"\n",
    "df = pd.read_csv(ner_file)\n",
    "df['NER'] = df['NER'].apply(ast.literal_eval)"
   ],
   "id": "479dec74aa135059",
   "outputs": [],
   "execution_count": 2
  },
  {
   "metadata": {
    "ExecuteTime": {
     "end_time": "2024-12-08T19:45:33.922755300Z",
     "start_time": "2024-12-08T19:45:33.922755300Z"
    }
   },
   "cell_type": "code",
   "source": [
    "df = perform_ner(file_name, dict_name, ner_file)"
   ],
   "id": "f179793a0cc0452c",
   "outputs": [],
   "execution_count": 3
  },
  {
   "cell_type": "markdown",
   "source": [],
   "metadata": {
    "collapsed": false
   }
  },
  {
   "metadata": {
    "ExecuteTime": {
     "start_time": "2024-12-08T19:45:33.922755300Z"
    }
   },
   "cell_type": "code",
   "source": [
    "calculate_entity_distribution(df, dataset_name)"
   ],
   "id": "bc041adc79d73a7f",
   "outputs": [
    {
     "name": "stdout",
     "output_type": "stream",
     "text": [
      "   Unnamed: 0                                      article_title  \\\n",
      "0           0  US can no longer be perfunctory toward Guterre...   \n",
      "1           1  Healthy and stable China-S.Korea ties depend o...   \n",
      "2           2  China’s power in the world, economically and p...   \n",
      "3           3  Europe faces ‘coldest’ winter as energy crisis...   \n",
      "4           4  Severe drought in Europe ‘further expanding an...   \n",
      "\n",
      "          author published_time  \\\n",
      "0   Global Times     2022-08-22   \n",
      "1  Wang Junsheng     2022-08-23   \n",
      "2   Global Times     2022-08-23   \n",
      "3       Qi Xijia     2022-08-23   \n",
      "4            AFP     2022-08-23   \n",
      "\n",
      "                                        article_text article_category_one  \\\n",
      "0  Since this year, the UN (UN) has repeatedly so...              OPINION   \n",
      "1  Wednesday marks the 30th anniversary of the es...              OPINION   \n",
      "2  Editor's Note: For China people, the past deca...              OPINION   \n",
      "3  A deepening energy crisis in EU could put many...               SOURCE   \n",
      "4  A severe drought hitting swathes of EU is \"wor...                WORLD   \n",
      "\n",
      "  article_category_two                                picture_description  \\\n",
      "0            EDITORIAL  United Nations Secretary-General Antonio Guter...   \n",
      "1            VIEWPOINT                          Illustration: Chen Xia/GT   \n",
      "2            VIEWPOINT             Tower Bridge, London, the UK Photo:VCG   \n",
      "3              ECONOMY  A coal-fired power plant operated by German en...   \n",
      "4               EUROPE                      Picture description not found   \n",
      "\n",
      "               author_title        author_description  \\\n",
      "0  Author details not found  Author details not found   \n",
      "1  Author details not found  Author details not found   \n",
      "2  Author details not found  Author details not found   \n",
      "3  Author details not found  Author details not found   \n",
      "4  Author details not found  Author details not found   \n",
      "\n",
      "                                                 NER  Named_Entity_Words  \\\n",
      "0  {'UN': ('ORG', 4), 'EU': ('ORG', 1), 'Antonio ...                  28   \n",
      "1  {'China': ('LOC', 9), 'South Korea': ('LOC', 1...                  43   \n",
      "2  {'China': ('LOC', 14), 'UK': ('LOC', 7), 'Lond...                  40   \n",
      "3  {'EU': ('ORG', 14), 'Bloomberg': ('ORG', 2), '...                  39   \n",
      "4  {'EU': ('ORG', 11), 'Global Drought Observator...                  42   \n",
      "\n",
      "   total_words  Non_Entity_Words  \n",
      "0         5333              5305  \n",
      "1         4865              4822  \n",
      "2         9539              9499  \n",
      "3         3850              3811  \n",
      "4         2194              2152  \n",
      "Total Words:  2592948\n",
      "Total Named Entity Words:  20090\n",
      "Total Non-Named Entity Words:  2572858\n",
      "Average number of words per article: 5424.577405857741\n",
      "Percentage of words in articles that are named entities: 0.7747937868403069\n"
     ]
    }
   ],
   "execution_count": null
  },
  {
   "metadata": {},
   "cell_type": "code",
   "source": [
    "find_most_common_entity_types(df, dataset_name)"
   ],
   "id": "ffe17396985207dc",
   "outputs": [],
   "execution_count": null
  },
  {
   "metadata": {},
   "cell_type": "code",
   "source": [
    "find_most_common_entities_per_type(df, dataset_name, entities_file)"
   ],
   "id": "8a603583aa649580",
   "outputs": [],
   "execution_count": null
  }
 ],
 "metadata": {
  "kernelspec": {
   "display_name": "Python 3",
   "language": "python",
   "name": "python3"
  },
  "language_info": {
   "codemirror_mode": {
    "name": "ipython",
    "version": 2
   },
   "file_extension": ".py",
   "mimetype": "text/x-python",
   "name": "python",
   "nbconvert_exporter": "python",
   "pygments_lexer": "ipython2",
   "version": "2.7.6"
  }
 },
 "nbformat": 4,
 "nbformat_minor": 5
}
