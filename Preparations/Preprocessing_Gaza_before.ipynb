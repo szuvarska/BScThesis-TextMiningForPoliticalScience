{
 "cells": [
  {
   "cell_type": "code",
   "execution_count": 1,
   "metadata": {
    "collapsed": true,
    "ExecuteTime": {
     "end_time": "2024-11-13T18:06:44.210475900Z",
     "start_time": "2024-11-13T18:06:43.545722300Z"
    }
   },
   "outputs": [],
   "source": [
    "import pandas as pd\n",
    "import nltk\n",
    "from nltk.tokenize import word_tokenize\n",
    "from nltk.corpus import stopwords\n",
    "from nltk.probability import FreqDist"
   ]
  },
  {
   "cell_type": "code",
   "execution_count": 2,
   "outputs": [],
   "source": [
    "articles = pd.read_csv('Gaza_textcontain_before_new.csv')\n",
    "authors = pd.read_csv('Gaza_textcontain_before_new_authors.csv')"
   ],
   "metadata": {
    "collapsed": false,
    "ExecuteTime": {
     "end_time": "2024-11-13T18:06:44.255474300Z",
     "start_time": "2024-11-13T18:06:44.210475900Z"
    }
   }
  },
  {
   "cell_type": "code",
   "execution_count": 4,
   "outputs": [
    {
     "data": {
      "text/plain": "                                         article_title                 author  \\\n0    Various celebrations held across world to cele...              By Xinhua   \n1    First Saudi ambassador to Palestine arrives in...              By Xinhua   \n2    China releases a white paper on its proposals ...  By GT staff reporters   \n3                 Kaparot ceremony in Tel Aviv, Israel              By Xinhua   \n4    1,100 Gazan kidney patients facing drug shorta...              By Xinhua   \n..                                                 ...                    ...   \n477  F-35: Closer Look at Colossally Costly Jet Tha...             By Sputnik   \n478  Toxic explosion in Nebraska shows US unable to...             By Xu Yelu   \n479  Palestine sends rescue team to floods-hit east...              By Xinhua   \n480  Armed clashes in Palestinian refugee camp inte...              By Xinhua   \n481  Greek scholar believes in ‘endless possibiliti...              Xu Liuliu   \n\n    published_time                                       article_text  \\\n0       2023-09-29  Australian youths sing Chinese version of the ...   \n1       2023-09-27  Saudi ambassador to Palestine Naif bin Bandar ...   \n2       2023-09-26  Photo: Li Xuanmin/GT The Chinese government re...   \n3       2023-09-22  Ultra Orthodox Jews perform the Kaparot ceremo...   \n4       2023-09-21  A young Palestinian patient receives treatment...   \n..             ...                                                ...   \n477     2023-09-21  A US Marine Corps F-35B went down over South C...   \n478     2023-09-15  A resident of East Palestine in the state of O...   \n479     2023-09-14  Rescuers of a Palestinian rescue team prepare ...   \n480     2023-09-14  Palestinians from Ain Al-Helweh camp prepare t...   \n481     2023-09-14  The University of Athens Photo: VCGChongqing, ...   \n\n    article_category_one article_category_two  \\\n0                  PHOTO                WORLD   \n1                  PHOTO                WORLD   \n2                  CHINA             POLITICS   \n3                  PHOTO                WORLD   \n4                  PHOTO                WORLD   \n..                   ...                  ...   \n477                WORLD             AMERICAS   \n478                WORLD             AMERICAS   \n479                PHOTO                WORLD   \n480                PHOTO                WORLD   \n481                 ARTS    CULTURE & LEISURE   \n\n                                   picture_description  \n0    Australian youths sing Chinese version of the ...  \n1    Saudi ambassador to Palestine Naif bin Bandar ...  \n2                                 Photo: Li Xuanmin/GT  \n3    Ultra Orthodox Jews perform the Kaparot ceremo...  \n4    A young Palestinian patient receives treatment...  \n..                                                 ...  \n477                      Picture description not found  \n478  A resident of East Palestine in the state of O...  \n479  Rescuers of a Palestinian rescue team prepare ...  \n480  Palestinians from Ain Al-Helweh camp prepare t...  \n481                The University of Athens Photo: VCG  \n\n[482 rows x 7 columns]",
      "text/html": "<div>\n<style scoped>\n    .dataframe tbody tr th:only-of-type {\n        vertical-align: middle;\n    }\n\n    .dataframe tbody tr th {\n        vertical-align: top;\n    }\n\n    .dataframe thead th {\n        text-align: right;\n    }\n</style>\n<table border=\"1\" class=\"dataframe\">\n  <thead>\n    <tr style=\"text-align: right;\">\n      <th></th>\n      <th>article_title</th>\n      <th>author</th>\n      <th>published_time</th>\n      <th>article_text</th>\n      <th>article_category_one</th>\n      <th>article_category_two</th>\n      <th>picture_description</th>\n    </tr>\n  </thead>\n  <tbody>\n    <tr>\n      <th>0</th>\n      <td>Various celebrations held across world to cele...</td>\n      <td>By Xinhua</td>\n      <td>2023-09-29</td>\n      <td>Australian youths sing Chinese version of the ...</td>\n      <td>PHOTO</td>\n      <td>WORLD</td>\n      <td>Australian youths sing Chinese version of the ...</td>\n    </tr>\n    <tr>\n      <th>1</th>\n      <td>First Saudi ambassador to Palestine arrives in...</td>\n      <td>By Xinhua</td>\n      <td>2023-09-27</td>\n      <td>Saudi ambassador to Palestine Naif bin Bandar ...</td>\n      <td>PHOTO</td>\n      <td>WORLD</td>\n      <td>Saudi ambassador to Palestine Naif bin Bandar ...</td>\n    </tr>\n    <tr>\n      <th>2</th>\n      <td>China releases a white paper on its proposals ...</td>\n      <td>By GT staff reporters</td>\n      <td>2023-09-26</td>\n      <td>Photo: Li Xuanmin/GT The Chinese government re...</td>\n      <td>CHINA</td>\n      <td>POLITICS</td>\n      <td>Photo: Li Xuanmin/GT</td>\n    </tr>\n    <tr>\n      <th>3</th>\n      <td>Kaparot ceremony in Tel Aviv, Israel</td>\n      <td>By Xinhua</td>\n      <td>2023-09-22</td>\n      <td>Ultra Orthodox Jews perform the Kaparot ceremo...</td>\n      <td>PHOTO</td>\n      <td>WORLD</td>\n      <td>Ultra Orthodox Jews perform the Kaparot ceremo...</td>\n    </tr>\n    <tr>\n      <th>4</th>\n      <td>1,100 Gazan kidney patients facing drug shorta...</td>\n      <td>By Xinhua</td>\n      <td>2023-09-21</td>\n      <td>A young Palestinian patient receives treatment...</td>\n      <td>PHOTO</td>\n      <td>WORLD</td>\n      <td>A young Palestinian patient receives treatment...</td>\n    </tr>\n    <tr>\n      <th>...</th>\n      <td>...</td>\n      <td>...</td>\n      <td>...</td>\n      <td>...</td>\n      <td>...</td>\n      <td>...</td>\n      <td>...</td>\n    </tr>\n    <tr>\n      <th>477</th>\n      <td>F-35: Closer Look at Colossally Costly Jet Tha...</td>\n      <td>By Sputnik</td>\n      <td>2023-09-21</td>\n      <td>A US Marine Corps F-35B went down over South C...</td>\n      <td>WORLD</td>\n      <td>AMERICAS</td>\n      <td>Picture description not found</td>\n    </tr>\n    <tr>\n      <th>478</th>\n      <td>Toxic explosion in Nebraska shows US unable to...</td>\n      <td>By Xu Yelu</td>\n      <td>2023-09-15</td>\n      <td>A resident of East Palestine in the state of O...</td>\n      <td>WORLD</td>\n      <td>AMERICAS</td>\n      <td>A resident of East Palestine in the state of O...</td>\n    </tr>\n    <tr>\n      <th>479</th>\n      <td>Palestine sends rescue team to floods-hit east...</td>\n      <td>By Xinhua</td>\n      <td>2023-09-14</td>\n      <td>Rescuers of a Palestinian rescue team prepare ...</td>\n      <td>PHOTO</td>\n      <td>WORLD</td>\n      <td>Rescuers of a Palestinian rescue team prepare ...</td>\n    </tr>\n    <tr>\n      <th>480</th>\n      <td>Armed clashes in Palestinian refugee camp inte...</td>\n      <td>By Xinhua</td>\n      <td>2023-09-14</td>\n      <td>Palestinians from Ain Al-Helweh camp prepare t...</td>\n      <td>PHOTO</td>\n      <td>WORLD</td>\n      <td>Palestinians from Ain Al-Helweh camp prepare t...</td>\n    </tr>\n    <tr>\n      <th>481</th>\n      <td>Greek scholar believes in ‘endless possibiliti...</td>\n      <td>Xu Liuliu</td>\n      <td>2023-09-14</td>\n      <td>The University of Athens Photo: VCGChongqing, ...</td>\n      <td>ARTS</td>\n      <td>CULTURE &amp; LEISURE</td>\n      <td>The University of Athens Photo: VCG</td>\n    </tr>\n  </tbody>\n</table>\n<p>482 rows × 7 columns</p>\n</div>"
     },
     "execution_count": 4,
     "metadata": {},
     "output_type": "execute_result"
    }
   ],
   "source": [
    "# date published\n",
    "#remoe where published time = published time not found\n",
    "\n",
    "articles = articles.drop(articles[articles['published_time'] == 'Published time not found'].index)\n",
    "\n",
    "articles['published_time'] = articles['published_time'].str[11:]\n",
    "articles['published_time'] = articles['published_time'].str[:12]\n",
    "#to date mmm dd, yyyy\n",
    "articles['published_time'] = pd.to_datetime(articles['published_time'], format='%b %d, %Y')\n",
    "articles"
   ],
   "metadata": {
    "collapsed": false,
    "ExecuteTime": {
     "end_time": "2024-11-13T18:06:44.333475Z",
     "start_time": "2024-11-13T18:06:44.278493600Z"
    }
   }
  },
  {
   "cell_type": "code",
   "execution_count": 5,
   "outputs": [
    {
     "data": {
      "text/plain": "0                  By Xinhua\n1                  By Xinhua\n2      By GT staff reporters\n3                  By Xinhua\n4                  By Xinhua\n               ...          \n477               By Sputnik\n478               By Xu Yelu\n479                By Xinhua\n480                By Xinhua\n481                Xu Liuliu\nName: author, Length: 482, dtype: object"
     },
     "execution_count": 5,
     "metadata": {},
     "output_type": "execute_result"
    }
   ],
   "source": [
    "#stats published time\n",
    "articles['author']"
   ],
   "metadata": {
    "collapsed": false,
    "ExecuteTime": {
     "end_time": "2024-11-13T18:06:44.380488900Z",
     "start_time": "2024-11-13T18:06:44.307476500Z"
    }
   }
  },
  {
   "cell_type": "code",
   "execution_count": 6,
   "outputs": [
    {
     "data": {
      "text/plain": "                                         article_title              author  \\\n0    Various celebrations held across world to cele...              Xinhua   \n1    First Saudi ambassador to Palestine arrives in...              Xinhua   \n2    China releases a white paper on its proposals ...  GT staff reporters   \n3                 Kaparot ceremony in Tel Aviv, Israel              Xinhua   \n4    1,100 Gazan kidney patients facing drug shorta...              Xinhua   \n..                                                 ...                 ...   \n477  F-35: Closer Look at Colossally Costly Jet Tha...             Sputnik   \n478  Toxic explosion in Nebraska shows US unable to...             Xu Yelu   \n479  Palestine sends rescue team to floods-hit east...              Xinhua   \n480  Armed clashes in Palestinian refugee camp inte...              Xinhua   \n481  Greek scholar believes in ‘endless possibiliti...           Xu Liuliu   \n\n    published_time                                       article_text  \\\n0       2023-09-29  Australian youths sing Chinese version of the ...   \n1       2023-09-27  Saudi ambassador to Palestine Naif bin Bandar ...   \n2       2023-09-26  Photo: Li Xuanmin/GT The Chinese government re...   \n3       2023-09-22  Ultra Orthodox Jews perform the Kaparot ceremo...   \n4       2023-09-21  A young Palestinian patient receives treatment...   \n..             ...                                                ...   \n477     2023-09-21  A US Marine Corps F-35B went down over South C...   \n478     2023-09-15  A resident of East Palestine in the state of O...   \n479     2023-09-14  Rescuers of a Palestinian rescue team prepare ...   \n480     2023-09-14  Palestinians from Ain Al-Helweh camp prepare t...   \n481     2023-09-14  The University of Athens Photo: VCGChongqing, ...   \n\n    article_category_one article_category_two  \\\n0                  PHOTO                WORLD   \n1                  PHOTO                WORLD   \n2                  CHINA             POLITICS   \n3                  PHOTO                WORLD   \n4                  PHOTO                WORLD   \n..                   ...                  ...   \n477                WORLD             AMERICAS   \n478                WORLD             AMERICAS   \n479                PHOTO                WORLD   \n480                PHOTO                WORLD   \n481                 ARTS    CULTURE & LEISURE   \n\n                                   picture_description  \n0    Australian youths sing Chinese version of the ...  \n1    Saudi ambassador to Palestine Naif bin Bandar ...  \n2                                 Photo: Li Xuanmin/GT  \n3    Ultra Orthodox Jews perform the Kaparot ceremo...  \n4    A young Palestinian patient receives treatment...  \n..                                                 ...  \n477                      Picture description not found  \n478  A resident of East Palestine in the state of O...  \n479  Rescuers of a Palestinian rescue team prepare ...  \n480  Palestinians from Ain Al-Helweh camp prepare t...  \n481                The University of Athens Photo: VCG  \n\n[482 rows x 7 columns]",
      "text/html": "<div>\n<style scoped>\n    .dataframe tbody tr th:only-of-type {\n        vertical-align: middle;\n    }\n\n    .dataframe tbody tr th {\n        vertical-align: top;\n    }\n\n    .dataframe thead th {\n        text-align: right;\n    }\n</style>\n<table border=\"1\" class=\"dataframe\">\n  <thead>\n    <tr style=\"text-align: right;\">\n      <th></th>\n      <th>article_title</th>\n      <th>author</th>\n      <th>published_time</th>\n      <th>article_text</th>\n      <th>article_category_one</th>\n      <th>article_category_two</th>\n      <th>picture_description</th>\n    </tr>\n  </thead>\n  <tbody>\n    <tr>\n      <th>0</th>\n      <td>Various celebrations held across world to cele...</td>\n      <td>Xinhua</td>\n      <td>2023-09-29</td>\n      <td>Australian youths sing Chinese version of the ...</td>\n      <td>PHOTO</td>\n      <td>WORLD</td>\n      <td>Australian youths sing Chinese version of the ...</td>\n    </tr>\n    <tr>\n      <th>1</th>\n      <td>First Saudi ambassador to Palestine arrives in...</td>\n      <td>Xinhua</td>\n      <td>2023-09-27</td>\n      <td>Saudi ambassador to Palestine Naif bin Bandar ...</td>\n      <td>PHOTO</td>\n      <td>WORLD</td>\n      <td>Saudi ambassador to Palestine Naif bin Bandar ...</td>\n    </tr>\n    <tr>\n      <th>2</th>\n      <td>China releases a white paper on its proposals ...</td>\n      <td>GT staff reporters</td>\n      <td>2023-09-26</td>\n      <td>Photo: Li Xuanmin/GT The Chinese government re...</td>\n      <td>CHINA</td>\n      <td>POLITICS</td>\n      <td>Photo: Li Xuanmin/GT</td>\n    </tr>\n    <tr>\n      <th>3</th>\n      <td>Kaparot ceremony in Tel Aviv, Israel</td>\n      <td>Xinhua</td>\n      <td>2023-09-22</td>\n      <td>Ultra Orthodox Jews perform the Kaparot ceremo...</td>\n      <td>PHOTO</td>\n      <td>WORLD</td>\n      <td>Ultra Orthodox Jews perform the Kaparot ceremo...</td>\n    </tr>\n    <tr>\n      <th>4</th>\n      <td>1,100 Gazan kidney patients facing drug shorta...</td>\n      <td>Xinhua</td>\n      <td>2023-09-21</td>\n      <td>A young Palestinian patient receives treatment...</td>\n      <td>PHOTO</td>\n      <td>WORLD</td>\n      <td>A young Palestinian patient receives treatment...</td>\n    </tr>\n    <tr>\n      <th>...</th>\n      <td>...</td>\n      <td>...</td>\n      <td>...</td>\n      <td>...</td>\n      <td>...</td>\n      <td>...</td>\n      <td>...</td>\n    </tr>\n    <tr>\n      <th>477</th>\n      <td>F-35: Closer Look at Colossally Costly Jet Tha...</td>\n      <td>Sputnik</td>\n      <td>2023-09-21</td>\n      <td>A US Marine Corps F-35B went down over South C...</td>\n      <td>WORLD</td>\n      <td>AMERICAS</td>\n      <td>Picture description not found</td>\n    </tr>\n    <tr>\n      <th>478</th>\n      <td>Toxic explosion in Nebraska shows US unable to...</td>\n      <td>Xu Yelu</td>\n      <td>2023-09-15</td>\n      <td>A resident of East Palestine in the state of O...</td>\n      <td>WORLD</td>\n      <td>AMERICAS</td>\n      <td>A resident of East Palestine in the state of O...</td>\n    </tr>\n    <tr>\n      <th>479</th>\n      <td>Palestine sends rescue team to floods-hit east...</td>\n      <td>Xinhua</td>\n      <td>2023-09-14</td>\n      <td>Rescuers of a Palestinian rescue team prepare ...</td>\n      <td>PHOTO</td>\n      <td>WORLD</td>\n      <td>Rescuers of a Palestinian rescue team prepare ...</td>\n    </tr>\n    <tr>\n      <th>480</th>\n      <td>Armed clashes in Palestinian refugee camp inte...</td>\n      <td>Xinhua</td>\n      <td>2023-09-14</td>\n      <td>Palestinians from Ain Al-Helweh camp prepare t...</td>\n      <td>PHOTO</td>\n      <td>WORLD</td>\n      <td>Palestinians from Ain Al-Helweh camp prepare t...</td>\n    </tr>\n    <tr>\n      <th>481</th>\n      <td>Greek scholar believes in ‘endless possibiliti...</td>\n      <td>Xu Liuliu</td>\n      <td>2023-09-14</td>\n      <td>The University of Athens Photo: VCGChongqing, ...</td>\n      <td>ARTS</td>\n      <td>CULTURE &amp; LEISURE</td>\n      <td>The University of Athens Photo: VCG</td>\n    </tr>\n  </tbody>\n</table>\n<p>482 rows × 7 columns</p>\n</div>"
     },
     "execution_count": 6,
     "metadata": {},
     "output_type": "execute_result"
    }
   ],
   "source": [
    "# celan authors\n",
    "articles['author'] = articles['author'].apply(lambda x: x[3:] if x.startswith(\"By \") else x)\n",
    "articles"
   ],
   "metadata": {
    "collapsed": false,
    "ExecuteTime": {
     "end_time": "2024-11-13T18:06:44.439479300Z",
     "start_time": "2024-11-13T18:06:44.325475100Z"
    }
   }
  },
  {
   "cell_type": "code",
   "execution_count": 40,
   "outputs": [
    {
     "data": {
      "text/plain": "[array(['Xinhua', 'GT staff reporters', 'Sputnik', 'Xu Yelu', 'Xu Liuliu',\n        'Yang Sheng', 'Global Times', 'Lou Kang', 'VCG', 'Deng Xiaoci',\n        'Wan Hengyi', 'WAM', 'Yin Yeping', 'Long Xingchun and Wang Geyan',\n        'Mark Blacklock', 'Qi Xijia', 'Liu Xin', 'Maitreya Bhakal',\n        'Ding Long', 'Lu Wenao', 'Zhao Xiaozhuo', 'Wang Qi',\n        'Bradley Blankenship', 'Anthony Moretti', 'Kishore Mahbubani',\n        'Xie Wenting and Bai Yunyi', 'Fan Anqi', 'Author not found',\n        'Zhang Hua', 'Bai Yunyi', 'Ebrahim Hashem', 'Dakotah Lilly',\n        'Xin Ping', 'IC'], dtype=object),\n array(['Xu Liuliu', 'Yang Sheng', 'Deng Xiaoci', 'Liu Xin', 'Wang Qi',\n        'Bradley Blankenship'], dtype=object)]"
     },
     "execution_count": 40,
     "metadata": {},
     "output_type": "execute_result"
    }
   ],
   "source": [
    "[articles['author'].unique(), authors['author_name'].unique()]"
   ],
   "metadata": {
    "collapsed": false,
    "ExecuteTime": {
     "end_time": "2024-11-13T18:22:33.430171400Z",
     "start_time": "2024-11-13T18:22:33.405176300Z"
    }
   }
  },
  {
   "cell_type": "code",
   "execution_count": 7,
   "outputs": [
    {
     "data": {
      "text/plain": "                                         article_title              author  \\\n0    Various celebrations held across world to cele...              Xinhua   \n1    First Saudi ambassador to Palestine arrives in...              Xinhua   \n2    China releases a white paper on its proposals ...  GT staff reporters   \n3                 Kaparot ceremony in Tel Aviv, Israel              Xinhua   \n4    1,100 Gazan kidney patients facing drug shorta...              Xinhua   \n..                                                 ...                 ...   \n477  F-35: Closer Look at Colossally Costly Jet Tha...             Sputnik   \n478  Toxic explosion in Nebraska shows US unable to...             Xu Yelu   \n479  Palestine sends rescue team to floods-hit east...              Xinhua   \n480  Armed clashes in Palestinian refugee camp inte...              Xinhua   \n481  Greek scholar believes in ‘endless possibiliti...           Xu Liuliu   \n\n    published_time                                       article_text  \\\n0       2023-09-29   Musicians perform during a Mid-Autumn Festiva...   \n1       2023-09-27   \\n\\nSaudi ambassador to Palestine Naif bin Ba...   \n2       2023-09-26   The Chinese government released a white paper...   \n3       2023-09-22   \\n\\nUltra Orthodox Jews perform the Kaparot c...   \n4       2023-09-21   \\n\\nA young Palestinian patient receives trea...   \n..             ...                                                ...   \n477     2023-09-21  A US Marine Corps F-35B went down over South C...   \n478     2023-09-15  Barely two months after an explosion in Louisi...   \n479     2023-09-14   \\n\\nA rescuer of a Palestinian rescue team pr...   \n480     2023-09-14   \\n\\nDisplaced Palestinian children wait to mo...   \n481     2023-09-14  Chongqing, Sichuan, Shandong… Stelios Virvidak...   \n\n    article_category_one article_category_two  \\\n0                  PHOTO                WORLD   \n1                  PHOTO                WORLD   \n2                  CHINA             POLITICS   \n3                  PHOTO                WORLD   \n4                  PHOTO                WORLD   \n..                   ...                  ...   \n477                WORLD             AMERICAS   \n478                WORLD             AMERICAS   \n479                PHOTO                WORLD   \n480                PHOTO                WORLD   \n481                 ARTS    CULTURE & LEISURE   \n\n                                   picture_description  \n0    Australian youths sing Chinese version of the ...  \n1    Saudi ambassador to Palestine Naif bin Bandar ...  \n2                                 Photo: Li Xuanmin/GT  \n3    Ultra Orthodox Jews perform the Kaparot ceremo...  \n4    A young Palestinian patient receives treatment...  \n..                                                 ...  \n477                      Picture description not found  \n478  A resident of East Palestine in the state of O...  \n479  Rescuers of a Palestinian rescue team prepare ...  \n480  Palestinians from Ain Al-Helweh camp prepare t...  \n481                The University of Athens Photo: VCG  \n\n[482 rows x 7 columns]",
      "text/html": "<div>\n<style scoped>\n    .dataframe tbody tr th:only-of-type {\n        vertical-align: middle;\n    }\n\n    .dataframe tbody tr th {\n        vertical-align: top;\n    }\n\n    .dataframe thead th {\n        text-align: right;\n    }\n</style>\n<table border=\"1\" class=\"dataframe\">\n  <thead>\n    <tr style=\"text-align: right;\">\n      <th></th>\n      <th>article_title</th>\n      <th>author</th>\n      <th>published_time</th>\n      <th>article_text</th>\n      <th>article_category_one</th>\n      <th>article_category_two</th>\n      <th>picture_description</th>\n    </tr>\n  </thead>\n  <tbody>\n    <tr>\n      <th>0</th>\n      <td>Various celebrations held across world to cele...</td>\n      <td>Xinhua</td>\n      <td>2023-09-29</td>\n      <td>Musicians perform during a Mid-Autumn Festiva...</td>\n      <td>PHOTO</td>\n      <td>WORLD</td>\n      <td>Australian youths sing Chinese version of the ...</td>\n    </tr>\n    <tr>\n      <th>1</th>\n      <td>First Saudi ambassador to Palestine arrives in...</td>\n      <td>Xinhua</td>\n      <td>2023-09-27</td>\n      <td>\\n\\nSaudi ambassador to Palestine Naif bin Ba...</td>\n      <td>PHOTO</td>\n      <td>WORLD</td>\n      <td>Saudi ambassador to Palestine Naif bin Bandar ...</td>\n    </tr>\n    <tr>\n      <th>2</th>\n      <td>China releases a white paper on its proposals ...</td>\n      <td>GT staff reporters</td>\n      <td>2023-09-26</td>\n      <td>The Chinese government released a white paper...</td>\n      <td>CHINA</td>\n      <td>POLITICS</td>\n      <td>Photo: Li Xuanmin/GT</td>\n    </tr>\n    <tr>\n      <th>3</th>\n      <td>Kaparot ceremony in Tel Aviv, Israel</td>\n      <td>Xinhua</td>\n      <td>2023-09-22</td>\n      <td>\\n\\nUltra Orthodox Jews perform the Kaparot c...</td>\n      <td>PHOTO</td>\n      <td>WORLD</td>\n      <td>Ultra Orthodox Jews perform the Kaparot ceremo...</td>\n    </tr>\n    <tr>\n      <th>4</th>\n      <td>1,100 Gazan kidney patients facing drug shorta...</td>\n      <td>Xinhua</td>\n      <td>2023-09-21</td>\n      <td>\\n\\nA young Palestinian patient receives trea...</td>\n      <td>PHOTO</td>\n      <td>WORLD</td>\n      <td>A young Palestinian patient receives treatment...</td>\n    </tr>\n    <tr>\n      <th>...</th>\n      <td>...</td>\n      <td>...</td>\n      <td>...</td>\n      <td>...</td>\n      <td>...</td>\n      <td>...</td>\n      <td>...</td>\n    </tr>\n    <tr>\n      <th>477</th>\n      <td>F-35: Closer Look at Colossally Costly Jet Tha...</td>\n      <td>Sputnik</td>\n      <td>2023-09-21</td>\n      <td>A US Marine Corps F-35B went down over South C...</td>\n      <td>WORLD</td>\n      <td>AMERICAS</td>\n      <td>Picture description not found</td>\n    </tr>\n    <tr>\n      <th>478</th>\n      <td>Toxic explosion in Nebraska shows US unable to...</td>\n      <td>Xu Yelu</td>\n      <td>2023-09-15</td>\n      <td>Barely two months after an explosion in Louisi...</td>\n      <td>WORLD</td>\n      <td>AMERICAS</td>\n      <td>A resident of East Palestine in the state of O...</td>\n    </tr>\n    <tr>\n      <th>479</th>\n      <td>Palestine sends rescue team to floods-hit east...</td>\n      <td>Xinhua</td>\n      <td>2023-09-14</td>\n      <td>\\n\\nA rescuer of a Palestinian rescue team pr...</td>\n      <td>PHOTO</td>\n      <td>WORLD</td>\n      <td>Rescuers of a Palestinian rescue team prepare ...</td>\n    </tr>\n    <tr>\n      <th>480</th>\n      <td>Armed clashes in Palestinian refugee camp inte...</td>\n      <td>Xinhua</td>\n      <td>2023-09-14</td>\n      <td>\\n\\nDisplaced Palestinian children wait to mo...</td>\n      <td>PHOTO</td>\n      <td>WORLD</td>\n      <td>Palestinians from Ain Al-Helweh camp prepare t...</td>\n    </tr>\n    <tr>\n      <th>481</th>\n      <td>Greek scholar believes in ‘endless possibiliti...</td>\n      <td>Xu Liuliu</td>\n      <td>2023-09-14</td>\n      <td>Chongqing, Sichuan, Shandong… Stelios Virvidak...</td>\n      <td>ARTS</td>\n      <td>CULTURE &amp; LEISURE</td>\n      <td>The University of Athens Photo: VCG</td>\n    </tr>\n  </tbody>\n</table>\n<p>482 rows × 7 columns</p>\n</div>"
     },
     "execution_count": 7,
     "metadata": {},
     "output_type": "execute_result"
    }
   ],
   "source": [
    "articles['article_text'] = articles.apply(lambda x: x['article_text'].replace(x['picture_description'], ''), axis=1)\n",
    "articles"
   ],
   "metadata": {
    "collapsed": false,
    "ExecuteTime": {
     "end_time": "2024-11-13T18:06:44.440477500Z",
     "start_time": "2024-11-13T18:06:44.352475500Z"
    }
   }
  },
  {
   "cell_type": "code",
   "execution_count": 45,
   "outputs": [
    {
     "data": {
      "text/plain": "                                         article_title              author  \\\n0    Various celebrations held across world to cele...              Xinhua   \n1    First Saudi ambassador to Palestine arrives in...              Xinhua   \n2    China releases a white paper on its proposals ...  GT staff reporters   \n3                 Kaparot ceremony in Tel Aviv, Israel              Xinhua   \n4    1,100 Gazan kidney patients facing drug shorta...              Xinhua   \n..                                                 ...                 ...   \n481  Greek scholar believes in ‘endless possibiliti...           Xu Liuliu   \n481  Greek scholar believes in ‘endless possibiliti...           Xu Liuliu   \n481  Greek scholar believes in ‘endless possibiliti...           Xu Liuliu   \n481  Greek scholar believes in ‘endless possibiliti...           Xu Liuliu   \n481  Greek scholar believes in ‘endless possibiliti...           Xu Liuliu   \n\n    published_time                                       article_text  \\\n0       2023-09-29   Musicians perform during a Mid-Autumn Festiva...   \n1       2023-09-27   \\n\\nSaudi ambassador to Palestine Naif bin Ba...   \n2       2023-09-26   The Chinese government released a white paper...   \n3       2023-09-22   \\n\\nUltra Orthodox Jews perform the Kaparot c...   \n4       2023-09-21   \\n\\nA young Palestinian patient receives trea...   \n..             ...                                                ...   \n481     2023-09-14  Chongqing, Sichuan, Shandong… Stelios Virvidak...   \n481     2023-09-14  Chongqing, Sichuan, Shandong… Stelios Virvidak...   \n481     2023-09-14  Chongqing, Sichuan, Shandong… Stelios Virvidak...   \n481     2023-09-14  Chongqing, Sichuan, Shandong… Stelios Virvidak...   \n481     2023-09-14  Chongqing, Sichuan, Shandong… Stelios Virvidak...   \n\n    article_category_one article_category_two  \\\n0                  PHOTO                WORLD   \n1                  PHOTO                WORLD   \n2                  CHINA             POLITICS   \n3                  PHOTO                WORLD   \n4                  PHOTO                WORLD   \n..                   ...                  ...   \n481                 ARTS    CULTURE & LEISURE   \n481                 ARTS    CULTURE & LEISURE   \n481                 ARTS    CULTURE & LEISURE   \n481                 ARTS    CULTURE & LEISURE   \n481                 ARTS    CULTURE & LEISURE   \n\n                                   picture_description       author_title  \\\n0    Australian youths sing Chinese version of the ...                NaN   \n1    Saudi ambassador to Palestine Naif bin Bandar ...                NaN   \n2                                 Photo: Li Xuanmin/GT                NaN   \n3    Ultra Orthodox Jews perform the Kaparot ceremo...                NaN   \n4    A young Palestinian patient receives treatment...                NaN   \n..                                                 ...                ...   \n481                The University of Athens Photo: VCG  Reporter, Beijing   \n481                The University of Athens Photo: VCG  Reporter, Beijing   \n481                The University of Athens Photo: VCG  Reporter, Beijing   \n481                The University of Athens Photo: VCG  Reporter, Beijing   \n481                The University of Athens Photo: VCG  Reporter, Beijing   \n\n                                    author_description  \n0                                                  NaN  \n1                                                  NaN  \n2                                                  NaN  \n3                                                  NaN  \n4                                                  NaN  \n..                                                 ...  \n481  Global Times senior reporter, mainly covers th...  \n481  Global Times senior reporter, mainly covers th...  \n481  Global Times senior reporter, mainly covers th...  \n481  Global Times senior reporter, mainly covers th...  \n481  Global Times senior reporter, mainly covers th...  \n\n[1758 rows x 9 columns]",
      "text/html": "<div>\n<style scoped>\n    .dataframe tbody tr th:only-of-type {\n        vertical-align: middle;\n    }\n\n    .dataframe tbody tr th {\n        vertical-align: top;\n    }\n\n    .dataframe thead th {\n        text-align: right;\n    }\n</style>\n<table border=\"1\" class=\"dataframe\">\n  <thead>\n    <tr style=\"text-align: right;\">\n      <th></th>\n      <th>article_title</th>\n      <th>author</th>\n      <th>published_time</th>\n      <th>article_text</th>\n      <th>article_category_one</th>\n      <th>article_category_two</th>\n      <th>picture_description</th>\n      <th>author_title</th>\n      <th>author_description</th>\n    </tr>\n  </thead>\n  <tbody>\n    <tr>\n      <th>0</th>\n      <td>Various celebrations held across world to cele...</td>\n      <td>Xinhua</td>\n      <td>2023-09-29</td>\n      <td>Musicians perform during a Mid-Autumn Festiva...</td>\n      <td>PHOTO</td>\n      <td>WORLD</td>\n      <td>Australian youths sing Chinese version of the ...</td>\n      <td>NaN</td>\n      <td>NaN</td>\n    </tr>\n    <tr>\n      <th>1</th>\n      <td>First Saudi ambassador to Palestine arrives in...</td>\n      <td>Xinhua</td>\n      <td>2023-09-27</td>\n      <td>\\n\\nSaudi ambassador to Palestine Naif bin Ba...</td>\n      <td>PHOTO</td>\n      <td>WORLD</td>\n      <td>Saudi ambassador to Palestine Naif bin Bandar ...</td>\n      <td>NaN</td>\n      <td>NaN</td>\n    </tr>\n    <tr>\n      <th>2</th>\n      <td>China releases a white paper on its proposals ...</td>\n      <td>GT staff reporters</td>\n      <td>2023-09-26</td>\n      <td>The Chinese government released a white paper...</td>\n      <td>CHINA</td>\n      <td>POLITICS</td>\n      <td>Photo: Li Xuanmin/GT</td>\n      <td>NaN</td>\n      <td>NaN</td>\n    </tr>\n    <tr>\n      <th>3</th>\n      <td>Kaparot ceremony in Tel Aviv, Israel</td>\n      <td>Xinhua</td>\n      <td>2023-09-22</td>\n      <td>\\n\\nUltra Orthodox Jews perform the Kaparot c...</td>\n      <td>PHOTO</td>\n      <td>WORLD</td>\n      <td>Ultra Orthodox Jews perform the Kaparot ceremo...</td>\n      <td>NaN</td>\n      <td>NaN</td>\n    </tr>\n    <tr>\n      <th>4</th>\n      <td>1,100 Gazan kidney patients facing drug shorta...</td>\n      <td>Xinhua</td>\n      <td>2023-09-21</td>\n      <td>\\n\\nA young Palestinian patient receives trea...</td>\n      <td>PHOTO</td>\n      <td>WORLD</td>\n      <td>A young Palestinian patient receives treatment...</td>\n      <td>NaN</td>\n      <td>NaN</td>\n    </tr>\n    <tr>\n      <th>...</th>\n      <td>...</td>\n      <td>...</td>\n      <td>...</td>\n      <td>...</td>\n      <td>...</td>\n      <td>...</td>\n      <td>...</td>\n      <td>...</td>\n      <td>...</td>\n    </tr>\n    <tr>\n      <th>481</th>\n      <td>Greek scholar believes in ‘endless possibiliti...</td>\n      <td>Xu Liuliu</td>\n      <td>2023-09-14</td>\n      <td>Chongqing, Sichuan, Shandong… Stelios Virvidak...</td>\n      <td>ARTS</td>\n      <td>CULTURE &amp; LEISURE</td>\n      <td>The University of Athens Photo: VCG</td>\n      <td>Reporter, Beijing</td>\n      <td>Global Times senior reporter, mainly covers th...</td>\n    </tr>\n    <tr>\n      <th>481</th>\n      <td>Greek scholar believes in ‘endless possibiliti...</td>\n      <td>Xu Liuliu</td>\n      <td>2023-09-14</td>\n      <td>Chongqing, Sichuan, Shandong… Stelios Virvidak...</td>\n      <td>ARTS</td>\n      <td>CULTURE &amp; LEISURE</td>\n      <td>The University of Athens Photo: VCG</td>\n      <td>Reporter, Beijing</td>\n      <td>Global Times senior reporter, mainly covers th...</td>\n    </tr>\n    <tr>\n      <th>481</th>\n      <td>Greek scholar believes in ‘endless possibiliti...</td>\n      <td>Xu Liuliu</td>\n      <td>2023-09-14</td>\n      <td>Chongqing, Sichuan, Shandong… Stelios Virvidak...</td>\n      <td>ARTS</td>\n      <td>CULTURE &amp; LEISURE</td>\n      <td>The University of Athens Photo: VCG</td>\n      <td>Reporter, Beijing</td>\n      <td>Global Times senior reporter, mainly covers th...</td>\n    </tr>\n    <tr>\n      <th>481</th>\n      <td>Greek scholar believes in ‘endless possibiliti...</td>\n      <td>Xu Liuliu</td>\n      <td>2023-09-14</td>\n      <td>Chongqing, Sichuan, Shandong… Stelios Virvidak...</td>\n      <td>ARTS</td>\n      <td>CULTURE &amp; LEISURE</td>\n      <td>The University of Athens Photo: VCG</td>\n      <td>Reporter, Beijing</td>\n      <td>Global Times senior reporter, mainly covers th...</td>\n    </tr>\n    <tr>\n      <th>481</th>\n      <td>Greek scholar believes in ‘endless possibiliti...</td>\n      <td>Xu Liuliu</td>\n      <td>2023-09-14</td>\n      <td>Chongqing, Sichuan, Shandong… Stelios Virvidak...</td>\n      <td>ARTS</td>\n      <td>CULTURE &amp; LEISURE</td>\n      <td>The University of Athens Photo: VCG</td>\n      <td>Reporter, Beijing</td>\n      <td>Global Times senior reporter, mainly covers th...</td>\n    </tr>\n  </tbody>\n</table>\n<p>1758 rows × 9 columns</p>\n</div>"
     },
     "execution_count": 45,
     "metadata": {},
     "output_type": "execute_result"
    }
   ],
   "source": [
    "#merge articles and authors\n",
    "df =  articles.join(authors.set_index('author_name'), on='author', how='left')\n",
    "#drop duplicates\n",
    "df\n"
   ],
   "metadata": {
    "collapsed": false,
    "ExecuteTime": {
     "end_time": "2024-11-13T18:37:20.822923900Z",
     "start_time": "2024-11-13T18:37:20.809921300Z"
    }
   }
  },
  {
   "cell_type": "code",
   "execution_count": 13,
   "outputs": [
    {
     "data": {
      "text/plain": "                                          article_title              author  \\\n0     Various celebrations held across world to cele...              Xinhua   \n1     First Saudi ambassador to Palestine arrives in...              Xinhua   \n2     China releases a white paper on its proposals ...  GT staff reporters   \n3                  Kaparot ceremony in Tel Aviv, Israel              Xinhua   \n4     1,100 Gazan kidney patients facing drug shorta...              Xinhua   \n...                                                 ...                 ...   \n1753  Greek scholar believes in ‘endless possibiliti...           Xu Liuliu   \n1754  Greek scholar believes in ‘endless possibiliti...           Xu Liuliu   \n1755  Greek scholar believes in ‘endless possibiliti...           Xu Liuliu   \n1756  Greek scholar believes in ‘endless possibiliti...           Xu Liuliu   \n1757  Greek scholar believes in ‘endless possibiliti...           Xu Liuliu   \n\n     published_time                                       article_text  \\\n0        2023-09-29   Musicians perform during a Mid-Autumn Festiva...   \n1        2023-09-27   \\n\\nSaudi ambassador to Palestine Naif bin Ba...   \n2        2023-09-26   The Chinese government released a white paper...   \n3        2023-09-22   \\n\\nUltra Orthodox Jews perform the Kaparot c...   \n4        2023-09-21   \\n\\nA young Palestinian patient receives trea...   \n...             ...                                                ...   \n1753     2023-09-14  Chongqing, Sichuan, Shandong… Stelios Virvidak...   \n1754     2023-09-14  Chongqing, Sichuan, Shandong… Stelios Virvidak...   \n1755     2023-09-14  Chongqing, Sichuan, Shandong… Stelios Virvidak...   \n1756     2023-09-14  Chongqing, Sichuan, Shandong… Stelios Virvidak...   \n1757     2023-09-14  Chongqing, Sichuan, Shandong… Stelios Virvidak...   \n\n     article_category_one article_category_two  \\\n0                   PHOTO                WORLD   \n1                   PHOTO                WORLD   \n2                   CHINA             POLITICS   \n3                   PHOTO                WORLD   \n4                   PHOTO                WORLD   \n...                   ...                  ...   \n1753                 ARTS    CULTURE & LEISURE   \n1754                 ARTS    CULTURE & LEISURE   \n1755                 ARTS    CULTURE & LEISURE   \n1756                 ARTS    CULTURE & LEISURE   \n1757                 ARTS    CULTURE & LEISURE   \n\n                                    picture_description author_name  \\\n0     Australian youths sing Chinese version of the ...         NaN   \n1     Saudi ambassador to Palestine Naif bin Bandar ...         NaN   \n2                                  Photo: Li Xuanmin/GT         NaN   \n3     Ultra Orthodox Jews perform the Kaparot ceremo...         NaN   \n4     A young Palestinian patient receives treatment...         NaN   \n...                                                 ...         ...   \n1753                The University of Athens Photo: VCG   Xu Liuliu   \n1754                The University of Athens Photo: VCG   Xu Liuliu   \n1755                The University of Athens Photo: VCG   Xu Liuliu   \n1756                The University of Athens Photo: VCG   Xu Liuliu   \n1757                The University of Athens Photo: VCG   Xu Liuliu   \n\n           author_title                                 author_description  \n0                   NaN                                                NaN  \n1                   NaN                                                NaN  \n2                   NaN                                                NaN  \n3                   NaN                                                NaN  \n4                   NaN                                                NaN  \n...                 ...                                                ...  \n1753  Reporter, Beijing  Global Times senior reporter, mainly covers th...  \n1754  Reporter, Beijing  Global Times senior reporter, mainly covers th...  \n1755  Reporter, Beijing  Global Times senior reporter, mainly covers th...  \n1756  Reporter, Beijing  Global Times senior reporter, mainly covers th...  \n1757  Reporter, Beijing  Global Times senior reporter, mainly covers th...  \n\n[1758 rows x 10 columns]",
      "text/html": "<div>\n<style scoped>\n    .dataframe tbody tr th:only-of-type {\n        vertical-align: middle;\n    }\n\n    .dataframe tbody tr th {\n        vertical-align: top;\n    }\n\n    .dataframe thead th {\n        text-align: right;\n    }\n</style>\n<table border=\"1\" class=\"dataframe\">\n  <thead>\n    <tr style=\"text-align: right;\">\n      <th></th>\n      <th>article_title</th>\n      <th>author</th>\n      <th>published_time</th>\n      <th>article_text</th>\n      <th>article_category_one</th>\n      <th>article_category_two</th>\n      <th>picture_description</th>\n      <th>author_name</th>\n      <th>author_title</th>\n      <th>author_description</th>\n    </tr>\n  </thead>\n  <tbody>\n    <tr>\n      <th>0</th>\n      <td>Various celebrations held across world to cele...</td>\n      <td>Xinhua</td>\n      <td>2023-09-29</td>\n      <td>Musicians perform during a Mid-Autumn Festiva...</td>\n      <td>PHOTO</td>\n      <td>WORLD</td>\n      <td>Australian youths sing Chinese version of the ...</td>\n      <td>NaN</td>\n      <td>NaN</td>\n      <td>NaN</td>\n    </tr>\n    <tr>\n      <th>1</th>\n      <td>First Saudi ambassador to Palestine arrives in...</td>\n      <td>Xinhua</td>\n      <td>2023-09-27</td>\n      <td>\\n\\nSaudi ambassador to Palestine Naif bin Ba...</td>\n      <td>PHOTO</td>\n      <td>WORLD</td>\n      <td>Saudi ambassador to Palestine Naif bin Bandar ...</td>\n      <td>NaN</td>\n      <td>NaN</td>\n      <td>NaN</td>\n    </tr>\n    <tr>\n      <th>2</th>\n      <td>China releases a white paper on its proposals ...</td>\n      <td>GT staff reporters</td>\n      <td>2023-09-26</td>\n      <td>The Chinese government released a white paper...</td>\n      <td>CHINA</td>\n      <td>POLITICS</td>\n      <td>Photo: Li Xuanmin/GT</td>\n      <td>NaN</td>\n      <td>NaN</td>\n      <td>NaN</td>\n    </tr>\n    <tr>\n      <th>3</th>\n      <td>Kaparot ceremony in Tel Aviv, Israel</td>\n      <td>Xinhua</td>\n      <td>2023-09-22</td>\n      <td>\\n\\nUltra Orthodox Jews perform the Kaparot c...</td>\n      <td>PHOTO</td>\n      <td>WORLD</td>\n      <td>Ultra Orthodox Jews perform the Kaparot ceremo...</td>\n      <td>NaN</td>\n      <td>NaN</td>\n      <td>NaN</td>\n    </tr>\n    <tr>\n      <th>4</th>\n      <td>1,100 Gazan kidney patients facing drug shorta...</td>\n      <td>Xinhua</td>\n      <td>2023-09-21</td>\n      <td>\\n\\nA young Palestinian patient receives trea...</td>\n      <td>PHOTO</td>\n      <td>WORLD</td>\n      <td>A young Palestinian patient receives treatment...</td>\n      <td>NaN</td>\n      <td>NaN</td>\n      <td>NaN</td>\n    </tr>\n    <tr>\n      <th>...</th>\n      <td>...</td>\n      <td>...</td>\n      <td>...</td>\n      <td>...</td>\n      <td>...</td>\n      <td>...</td>\n      <td>...</td>\n      <td>...</td>\n      <td>...</td>\n      <td>...</td>\n    </tr>\n    <tr>\n      <th>1753</th>\n      <td>Greek scholar believes in ‘endless possibiliti...</td>\n      <td>Xu Liuliu</td>\n      <td>2023-09-14</td>\n      <td>Chongqing, Sichuan, Shandong… Stelios Virvidak...</td>\n      <td>ARTS</td>\n      <td>CULTURE &amp; LEISURE</td>\n      <td>The University of Athens Photo: VCG</td>\n      <td>Xu Liuliu</td>\n      <td>Reporter, Beijing</td>\n      <td>Global Times senior reporter, mainly covers th...</td>\n    </tr>\n    <tr>\n      <th>1754</th>\n      <td>Greek scholar believes in ‘endless possibiliti...</td>\n      <td>Xu Liuliu</td>\n      <td>2023-09-14</td>\n      <td>Chongqing, Sichuan, Shandong… Stelios Virvidak...</td>\n      <td>ARTS</td>\n      <td>CULTURE &amp; LEISURE</td>\n      <td>The University of Athens Photo: VCG</td>\n      <td>Xu Liuliu</td>\n      <td>Reporter, Beijing</td>\n      <td>Global Times senior reporter, mainly covers th...</td>\n    </tr>\n    <tr>\n      <th>1755</th>\n      <td>Greek scholar believes in ‘endless possibiliti...</td>\n      <td>Xu Liuliu</td>\n      <td>2023-09-14</td>\n      <td>Chongqing, Sichuan, Shandong… Stelios Virvidak...</td>\n      <td>ARTS</td>\n      <td>CULTURE &amp; LEISURE</td>\n      <td>The University of Athens Photo: VCG</td>\n      <td>Xu Liuliu</td>\n      <td>Reporter, Beijing</td>\n      <td>Global Times senior reporter, mainly covers th...</td>\n    </tr>\n    <tr>\n      <th>1756</th>\n      <td>Greek scholar believes in ‘endless possibiliti...</td>\n      <td>Xu Liuliu</td>\n      <td>2023-09-14</td>\n      <td>Chongqing, Sichuan, Shandong… Stelios Virvidak...</td>\n      <td>ARTS</td>\n      <td>CULTURE &amp; LEISURE</td>\n      <td>The University of Athens Photo: VCG</td>\n      <td>Xu Liuliu</td>\n      <td>Reporter, Beijing</td>\n      <td>Global Times senior reporter, mainly covers th...</td>\n    </tr>\n    <tr>\n      <th>1757</th>\n      <td>Greek scholar believes in ‘endless possibiliti...</td>\n      <td>Xu Liuliu</td>\n      <td>2023-09-14</td>\n      <td>Chongqing, Sichuan, Shandong… Stelios Virvidak...</td>\n      <td>ARTS</td>\n      <td>CULTURE &amp; LEISURE</td>\n      <td>The University of Athens Photo: VCG</td>\n      <td>Xu Liuliu</td>\n      <td>Reporter, Beijing</td>\n      <td>Global Times senior reporter, mainly covers th...</td>\n    </tr>\n  </tbody>\n</table>\n<p>1758 rows × 10 columns</p>\n</div>"
     },
     "execution_count": 13,
     "metadata": {},
     "output_type": "execute_result"
    }
   ],
   "source": [
    "#df = pd.merge(articles, authors, left_on='author', right_on='author_name', how='left')\n",
    "#df = df.drop(columns=['author_name'])\n",
    "#df.replace(pd.NA, 'Author detiles not found', inplace=True)\n",
    "#remove duplicates\n",
    "#df.to_csv('gaza_textcontain_before_new_preprocessed.csv')\n",
    "df"
   ],
   "metadata": {
    "collapsed": false,
    "ExecuteTime": {
     "end_time": "2024-11-13T18:08:16.826177100Z",
     "start_time": "2024-11-13T18:08:16.805178Z"
    }
   }
  },
  {
   "cell_type": "code",
   "execution_count": 9,
   "outputs": [],
   "source": [
    "#senance count\n",
    "df['sentence_count'] = df['article_text'].apply(lambda x: len(x.split('.')) - 1)"
   ],
   "metadata": {
    "collapsed": false,
    "ExecuteTime": {
     "end_time": "2024-11-13T18:06:44.507479300Z",
     "start_time": "2024-11-13T18:06:44.419476800Z"
    }
   }
  },
  {
   "cell_type": "code",
   "execution_count": 10,
   "outputs": [],
   "source": [
    "#word count using tokenization\n",
    "#remove stopwords\n",
    "stop_words = set(stopwords.words('english'))"
   ],
   "metadata": {
    "collapsed": false,
    "ExecuteTime": {
     "end_time": "2024-11-13T18:06:44.586473500Z",
     "start_time": "2024-11-13T18:06:44.451475Z"
    }
   }
  },
  {
   "cell_type": "code",
   "execution_count": 11,
   "outputs": [],
   "source": [
    "#word count using tokenization\n",
    "df['word_count'] = df['article_text'].apply(lambda x: len([word for word in word_tokenize(x) if word.isalpha()]))"
   ],
   "metadata": {
    "collapsed": false,
    "ExecuteTime": {
     "end_time": "2024-11-13T18:06:53.237496500Z",
     "start_time": "2024-11-13T18:06:44.465476900Z"
    }
   }
  },
  {
   "cell_type": "code",
   "execution_count": 12,
   "outputs": [
    {
     "name": "stderr",
     "output_type": "stream",
     "text": [
      "[nltk_data] Downloading package averaged_perceptron_tagger to\n",
      "[nltk_data]     C:\\Users\\lukas\\AppData\\Roaming\\nltk_data...\n",
      "[nltk_data]   Package averaged_perceptron_tagger is already up-to-\n",
      "[nltk_data]       date!\n"
     ]
    },
    {
     "ename": "KeyboardInterrupt",
     "evalue": "",
     "output_type": "error",
     "traceback": [
      "\u001B[1;31m---------------------------------------------------------------------------\u001B[0m",
      "\u001B[1;31mKeyboardInterrupt\u001B[0m                         Traceback (most recent call last)",
      "Cell \u001B[1;32mIn[12], line 3\u001B[0m\n\u001B[0;32m      1\u001B[0m \u001B[38;5;66;03m# part of speech count using tokenization wihout stopwords\u001B[39;00m\n\u001B[0;32m      2\u001B[0m nltk\u001B[38;5;241m.\u001B[39mdownload(\u001B[38;5;124m'\u001B[39m\u001B[38;5;124maveraged_perceptron_tagger\u001B[39m\u001B[38;5;124m'\u001B[39m)\n\u001B[1;32m----> 3\u001B[0m df[\u001B[38;5;124m'\u001B[39m\u001B[38;5;124mpos_count\u001B[39m\u001B[38;5;124m'\u001B[39m] \u001B[38;5;241m=\u001B[39m \u001B[43mdf\u001B[49m\u001B[43m[\u001B[49m\u001B[38;5;124;43m'\u001B[39;49m\u001B[38;5;124;43marticle_text\u001B[39;49m\u001B[38;5;124;43m'\u001B[39;49m\u001B[43m]\u001B[49m\u001B[38;5;241;43m.\u001B[39;49m\u001B[43mapply\u001B[49m\u001B[43m(\u001B[49m\u001B[38;5;28;43;01mlambda\u001B[39;49;00m\u001B[43m \u001B[49m\u001B[43mx\u001B[49m\u001B[43m:\u001B[49m\u001B[43m \u001B[49m\u001B[43mFreqDist\u001B[49m\u001B[43m(\u001B[49m\u001B[43m[\u001B[49m\u001B[43mtag\u001B[49m\u001B[43m \u001B[49m\u001B[38;5;28;43;01mfor\u001B[39;49;00m\u001B[43m \u001B[49m\u001B[43mword\u001B[49m\u001B[43m,\u001B[49m\u001B[43m \u001B[49m\u001B[43mtag\u001B[49m\u001B[43m \u001B[49m\u001B[38;5;129;43;01min\u001B[39;49;00m\u001B[43m \u001B[49m\u001B[43mnltk\u001B[49m\u001B[38;5;241;43m.\u001B[39;49m\u001B[43mpos_tag\u001B[49m\u001B[43m(\u001B[49m\u001B[43mword_tokenize\u001B[49m\u001B[43m(\u001B[49m\u001B[43mx\u001B[49m\u001B[43m)\u001B[49m\u001B[43m)\u001B[49m\u001B[43m \u001B[49m\u001B[38;5;28;43;01mif\u001B[39;49;00m\u001B[43m \u001B[49m\u001B[43mword\u001B[49m\u001B[38;5;241;43m.\u001B[39;49m\u001B[43misalpha\u001B[49m\u001B[43m(\u001B[49m\u001B[43m)\u001B[49m\u001B[43m \u001B[49m\u001B[38;5;129;43;01mand\u001B[39;49;00m\u001B[43m \u001B[49m\u001B[43mword\u001B[49m\u001B[43m \u001B[49m\u001B[38;5;129;43;01mnot\u001B[39;49;00m\u001B[43m \u001B[49m\u001B[38;5;129;43;01min\u001B[39;49;00m\u001B[43m \u001B[49m\u001B[43mstop_words\u001B[49m\u001B[43m]\u001B[49m\u001B[43m)\u001B[49m\u001B[43m)\u001B[49m\n",
      "File \u001B[1;32m~\\anaconda3\\lib\\site-packages\\pandas\\core\\series.py:4771\u001B[0m, in \u001B[0;36mSeries.apply\u001B[1;34m(self, func, convert_dtype, args, **kwargs)\u001B[0m\n\u001B[0;32m   4661\u001B[0m \u001B[38;5;28;01mdef\u001B[39;00m \u001B[38;5;21mapply\u001B[39m(\n\u001B[0;32m   4662\u001B[0m     \u001B[38;5;28mself\u001B[39m,\n\u001B[0;32m   4663\u001B[0m     func: AggFuncType,\n\u001B[1;32m   (...)\u001B[0m\n\u001B[0;32m   4666\u001B[0m     \u001B[38;5;241m*\u001B[39m\u001B[38;5;241m*\u001B[39mkwargs,\n\u001B[0;32m   4667\u001B[0m ) \u001B[38;5;241m-\u001B[39m\u001B[38;5;241m>\u001B[39m DataFrame \u001B[38;5;241m|\u001B[39m Series:\n\u001B[0;32m   4668\u001B[0m \u001B[38;5;250m    \u001B[39m\u001B[38;5;124;03m\"\"\"\u001B[39;00m\n\u001B[0;32m   4669\u001B[0m \u001B[38;5;124;03m    Invoke function on values of Series.\u001B[39;00m\n\u001B[0;32m   4670\u001B[0m \n\u001B[1;32m   (...)\u001B[0m\n\u001B[0;32m   4769\u001B[0m \u001B[38;5;124;03m    dtype: float64\u001B[39;00m\n\u001B[0;32m   4770\u001B[0m \u001B[38;5;124;03m    \"\"\"\u001B[39;00m\n\u001B[1;32m-> 4771\u001B[0m     \u001B[38;5;28;01mreturn\u001B[39;00m \u001B[43mSeriesApply\u001B[49m\u001B[43m(\u001B[49m\u001B[38;5;28;43mself\u001B[39;49m\u001B[43m,\u001B[49m\u001B[43m \u001B[49m\u001B[43mfunc\u001B[49m\u001B[43m,\u001B[49m\u001B[43m \u001B[49m\u001B[43mconvert_dtype\u001B[49m\u001B[43m,\u001B[49m\u001B[43m \u001B[49m\u001B[43margs\u001B[49m\u001B[43m,\u001B[49m\u001B[43m \u001B[49m\u001B[43mkwargs\u001B[49m\u001B[43m)\u001B[49m\u001B[38;5;241;43m.\u001B[39;49m\u001B[43mapply\u001B[49m\u001B[43m(\u001B[49m\u001B[43m)\u001B[49m\n",
      "File \u001B[1;32m~\\anaconda3\\lib\\site-packages\\pandas\\core\\apply.py:1123\u001B[0m, in \u001B[0;36mSeriesApply.apply\u001B[1;34m(self)\u001B[0m\n\u001B[0;32m   1120\u001B[0m     \u001B[38;5;28;01mreturn\u001B[39;00m \u001B[38;5;28mself\u001B[39m\u001B[38;5;241m.\u001B[39mapply_str()\n\u001B[0;32m   1122\u001B[0m \u001B[38;5;66;03m# self.f is Callable\u001B[39;00m\n\u001B[1;32m-> 1123\u001B[0m \u001B[38;5;28;01mreturn\u001B[39;00m \u001B[38;5;28;43mself\u001B[39;49m\u001B[38;5;241;43m.\u001B[39;49m\u001B[43mapply_standard\u001B[49m\u001B[43m(\u001B[49m\u001B[43m)\u001B[49m\n",
      "File \u001B[1;32m~\\anaconda3\\lib\\site-packages\\pandas\\core\\apply.py:1174\u001B[0m, in \u001B[0;36mSeriesApply.apply_standard\u001B[1;34m(self)\u001B[0m\n\u001B[0;32m   1172\u001B[0m     \u001B[38;5;28;01melse\u001B[39;00m:\n\u001B[0;32m   1173\u001B[0m         values \u001B[38;5;241m=\u001B[39m obj\u001B[38;5;241m.\u001B[39mastype(\u001B[38;5;28mobject\u001B[39m)\u001B[38;5;241m.\u001B[39m_values\n\u001B[1;32m-> 1174\u001B[0m         mapped \u001B[38;5;241m=\u001B[39m \u001B[43mlib\u001B[49m\u001B[38;5;241;43m.\u001B[39;49m\u001B[43mmap_infer\u001B[49m\u001B[43m(\u001B[49m\n\u001B[0;32m   1175\u001B[0m \u001B[43m            \u001B[49m\u001B[43mvalues\u001B[49m\u001B[43m,\u001B[49m\n\u001B[0;32m   1176\u001B[0m \u001B[43m            \u001B[49m\u001B[43mf\u001B[49m\u001B[43m,\u001B[49m\n\u001B[0;32m   1177\u001B[0m \u001B[43m            \u001B[49m\u001B[43mconvert\u001B[49m\u001B[38;5;241;43m=\u001B[39;49m\u001B[38;5;28;43mself\u001B[39;49m\u001B[38;5;241;43m.\u001B[39;49m\u001B[43mconvert_dtype\u001B[49m\u001B[43m,\u001B[49m\n\u001B[0;32m   1178\u001B[0m \u001B[43m        \u001B[49m\u001B[43m)\u001B[49m\n\u001B[0;32m   1180\u001B[0m \u001B[38;5;28;01mif\u001B[39;00m \u001B[38;5;28mlen\u001B[39m(mapped) \u001B[38;5;129;01mand\u001B[39;00m \u001B[38;5;28misinstance\u001B[39m(mapped[\u001B[38;5;241m0\u001B[39m], ABCSeries):\n\u001B[0;32m   1181\u001B[0m     \u001B[38;5;66;03m# GH#43986 Need to do list(mapped) in order to get treated as nested\u001B[39;00m\n\u001B[0;32m   1182\u001B[0m     \u001B[38;5;66;03m#  See also GH#25959 regarding EA support\u001B[39;00m\n\u001B[0;32m   1183\u001B[0m     \u001B[38;5;28;01mreturn\u001B[39;00m obj\u001B[38;5;241m.\u001B[39m_constructor_expanddim(\u001B[38;5;28mlist\u001B[39m(mapped), index\u001B[38;5;241m=\u001B[39mobj\u001B[38;5;241m.\u001B[39mindex)\n",
      "File \u001B[1;32m~\\anaconda3\\lib\\site-packages\\pandas\\_libs\\lib.pyx:2924\u001B[0m, in \u001B[0;36mpandas._libs.lib.map_infer\u001B[1;34m()\u001B[0m\n",
      "Cell \u001B[1;32mIn[12], line 3\u001B[0m, in \u001B[0;36m<lambda>\u001B[1;34m(x)\u001B[0m\n\u001B[0;32m      1\u001B[0m \u001B[38;5;66;03m# part of speech count using tokenization wihout stopwords\u001B[39;00m\n\u001B[0;32m      2\u001B[0m nltk\u001B[38;5;241m.\u001B[39mdownload(\u001B[38;5;124m'\u001B[39m\u001B[38;5;124maveraged_perceptron_tagger\u001B[39m\u001B[38;5;124m'\u001B[39m)\n\u001B[1;32m----> 3\u001B[0m df[\u001B[38;5;124m'\u001B[39m\u001B[38;5;124mpos_count\u001B[39m\u001B[38;5;124m'\u001B[39m] \u001B[38;5;241m=\u001B[39m df[\u001B[38;5;124m'\u001B[39m\u001B[38;5;124marticle_text\u001B[39m\u001B[38;5;124m'\u001B[39m]\u001B[38;5;241m.\u001B[39mapply(\u001B[38;5;28;01mlambda\u001B[39;00m x: \u001B[43mFreqDist\u001B[49m\u001B[43m(\u001B[49m\u001B[43m[\u001B[49m\u001B[43mtag\u001B[49m\u001B[43m \u001B[49m\u001B[38;5;28;43;01mfor\u001B[39;49;00m\u001B[43m \u001B[49m\u001B[43mword\u001B[49m\u001B[43m,\u001B[49m\u001B[43m \u001B[49m\u001B[43mtag\u001B[49m\u001B[43m \u001B[49m\u001B[38;5;129;43;01min\u001B[39;49;00m\u001B[43m \u001B[49m\u001B[43mnltk\u001B[49m\u001B[38;5;241;43m.\u001B[39;49m\u001B[43mpos_tag\u001B[49m\u001B[43m(\u001B[49m\u001B[43mword_tokenize\u001B[49m\u001B[43m(\u001B[49m\u001B[43mx\u001B[49m\u001B[43m)\u001B[49m\u001B[43m)\u001B[49m\u001B[43m \u001B[49m\u001B[38;5;28;43;01mif\u001B[39;49;00m\u001B[43m \u001B[49m\u001B[43mword\u001B[49m\u001B[38;5;241;43m.\u001B[39;49m\u001B[43misalpha\u001B[49m\u001B[43m(\u001B[49m\u001B[43m)\u001B[49m\u001B[43m \u001B[49m\u001B[38;5;129;43;01mand\u001B[39;49;00m\u001B[43m \u001B[49m\u001B[43mword\u001B[49m\u001B[43m \u001B[49m\u001B[38;5;129;43;01mnot\u001B[39;49;00m\u001B[43m \u001B[49m\u001B[38;5;129;43;01min\u001B[39;49;00m\u001B[43m \u001B[49m\u001B[43mstop_words\u001B[49m\u001B[43m]\u001B[49m\u001B[43m)\u001B[49m)\n",
      "File \u001B[1;32m~\\AppData\\Roaming\\Python\\Python38\\site-packages\\nltk\\probability.py:102\u001B[0m, in \u001B[0;36mFreqDist.__init__\u001B[1;34m(self, samples)\u001B[0m\n\u001B[0;32m     86\u001B[0m \u001B[38;5;28;01mdef\u001B[39;00m \u001B[38;5;21m__init__\u001B[39m(\u001B[38;5;28mself\u001B[39m, samples\u001B[38;5;241m=\u001B[39m\u001B[38;5;28;01mNone\u001B[39;00m):\n\u001B[0;32m     87\u001B[0m \u001B[38;5;250m    \u001B[39m\u001B[38;5;124;03m\"\"\"\u001B[39;00m\n\u001B[0;32m     88\u001B[0m \u001B[38;5;124;03m    Construct a new frequency distribution.  If ``samples`` is\u001B[39;00m\n\u001B[0;32m     89\u001B[0m \u001B[38;5;124;03m    given, then the frequency distribution will be initialized\u001B[39;00m\n\u001B[1;32m   (...)\u001B[0m\n\u001B[0;32m    100\u001B[0m \u001B[38;5;124;03m    :type samples: Sequence\u001B[39;00m\n\u001B[0;32m    101\u001B[0m \u001B[38;5;124;03m    \"\"\"\u001B[39;00m\n\u001B[1;32m--> 102\u001B[0m     \u001B[43mCounter\u001B[49m\u001B[38;5;241;43m.\u001B[39;49m\u001B[38;5;21;43m__init__\u001B[39;49m\u001B[43m(\u001B[49m\u001B[38;5;28;43mself\u001B[39;49m\u001B[43m,\u001B[49m\u001B[43m \u001B[49m\u001B[43msamples\u001B[49m\u001B[43m)\u001B[49m\n\u001B[0;32m    104\u001B[0m     \u001B[38;5;66;03m# Cached number of samples in this FreqDist\u001B[39;00m\n\u001B[0;32m    105\u001B[0m     \u001B[38;5;28mself\u001B[39m\u001B[38;5;241m.\u001B[39m_N \u001B[38;5;241m=\u001B[39m \u001B[38;5;28;01mNone\u001B[39;00m\n",
      "File \u001B[1;32m~\\anaconda3\\lib\\collections\\__init__.py:552\u001B[0m, in \u001B[0;36mCounter.__init__\u001B[1;34m(self, iterable, **kwds)\u001B[0m\n\u001B[0;32m    541\u001B[0m \u001B[38;5;250m\u001B[39m\u001B[38;5;124;03m'''Create a new, empty Counter object.  And if given, count elements\u001B[39;00m\n\u001B[0;32m    542\u001B[0m \u001B[38;5;124;03mfrom an input iterable.  Or, initialize the count from another mapping\u001B[39;00m\n\u001B[0;32m    543\u001B[0m \u001B[38;5;124;03mof elements to their counts.\u001B[39;00m\n\u001B[1;32m   (...)\u001B[0m\n\u001B[0;32m    549\u001B[0m \n\u001B[0;32m    550\u001B[0m \u001B[38;5;124;03m'''\u001B[39;00m\n\u001B[0;32m    551\u001B[0m \u001B[38;5;28msuper\u001B[39m(Counter, \u001B[38;5;28mself\u001B[39m)\u001B[38;5;241m.\u001B[39m\u001B[38;5;21m__init__\u001B[39m()\n\u001B[1;32m--> 552\u001B[0m \u001B[38;5;28;43mself\u001B[39;49m\u001B[38;5;241;43m.\u001B[39;49m\u001B[43mupdate\u001B[49m\u001B[43m(\u001B[49m\u001B[43miterable\u001B[49m\u001B[43m,\u001B[49m\u001B[43m \u001B[49m\u001B[38;5;241;43m*\u001B[39;49m\u001B[38;5;241;43m*\u001B[39;49m\u001B[43mkwds\u001B[49m\u001B[43m)\u001B[49m\n",
      "File \u001B[1;32m~\\AppData\\Roaming\\Python\\Python38\\site-packages\\nltk\\probability.py:140\u001B[0m, in \u001B[0;36mFreqDist.update\u001B[1;34m(self, *args, **kwargs)\u001B[0m\n\u001B[0;32m    136\u001B[0m \u001B[38;5;250m\u001B[39m\u001B[38;5;124;03m\"\"\"\u001B[39;00m\n\u001B[0;32m    137\u001B[0m \u001B[38;5;124;03mOverride ``Counter.update()`` to invalidate the cached N\u001B[39;00m\n\u001B[0;32m    138\u001B[0m \u001B[38;5;124;03m\"\"\"\u001B[39;00m\n\u001B[0;32m    139\u001B[0m \u001B[38;5;28mself\u001B[39m\u001B[38;5;241m.\u001B[39m_N \u001B[38;5;241m=\u001B[39m \u001B[38;5;28;01mNone\u001B[39;00m\n\u001B[1;32m--> 140\u001B[0m \u001B[38;5;28;43msuper\u001B[39;49m\u001B[43m(\u001B[49m\u001B[43m)\u001B[49m\u001B[38;5;241;43m.\u001B[39;49m\u001B[43mupdate\u001B[49m\u001B[43m(\u001B[49m\u001B[38;5;241;43m*\u001B[39;49m\u001B[43margs\u001B[49m\u001B[43m,\u001B[49m\u001B[43m \u001B[49m\u001B[38;5;241;43m*\u001B[39;49m\u001B[38;5;241;43m*\u001B[39;49m\u001B[43mkwargs\u001B[49m\u001B[43m)\u001B[49m\n",
      "File \u001B[1;32m~\\anaconda3\\lib\\collections\\__init__.py:637\u001B[0m, in \u001B[0;36mCounter.update\u001B[1;34m(self, iterable, **kwds)\u001B[0m\n\u001B[0;32m    635\u001B[0m             \u001B[38;5;28msuper\u001B[39m(Counter, \u001B[38;5;28mself\u001B[39m)\u001B[38;5;241m.\u001B[39mupdate(iterable) \u001B[38;5;66;03m# fast path when counter is empty\u001B[39;00m\n\u001B[0;32m    636\u001B[0m     \u001B[38;5;28;01melse\u001B[39;00m:\n\u001B[1;32m--> 637\u001B[0m         \u001B[43m_count_elements\u001B[49m\u001B[43m(\u001B[49m\u001B[38;5;28;43mself\u001B[39;49m\u001B[43m,\u001B[49m\u001B[43m \u001B[49m\u001B[43miterable\u001B[49m\u001B[43m)\u001B[49m\n\u001B[0;32m    638\u001B[0m \u001B[38;5;28;01mif\u001B[39;00m kwds:\n\u001B[0;32m    639\u001B[0m     \u001B[38;5;28mself\u001B[39m\u001B[38;5;241m.\u001B[39mupdate(kwds)\n",
      "File \u001B[1;32m~\\AppData\\Roaming\\Python\\Python38\\site-packages\\nltk\\probability.py:126\u001B[0m, in \u001B[0;36mFreqDist.__setitem__\u001B[1;34m(self, key, val)\u001B[0m\n\u001B[0;32m    122\u001B[0m \u001B[38;5;250m\u001B[39m\u001B[38;5;124;03m\"\"\"\u001B[39;00m\n\u001B[0;32m    123\u001B[0m \u001B[38;5;124;03mOverride ``Counter.__setitem__()`` to invalidate the cached N\u001B[39;00m\n\u001B[0;32m    124\u001B[0m \u001B[38;5;124;03m\"\"\"\u001B[39;00m\n\u001B[0;32m    125\u001B[0m \u001B[38;5;28mself\u001B[39m\u001B[38;5;241m.\u001B[39m_N \u001B[38;5;241m=\u001B[39m \u001B[38;5;28;01mNone\u001B[39;00m\n\u001B[1;32m--> 126\u001B[0m \u001B[38;5;28;43msuper\u001B[39;49m\u001B[43m(\u001B[49m\u001B[43m)\u001B[49m\u001B[38;5;241;43m.\u001B[39;49m\u001B[38;5;21;43m__setitem__\u001B[39;49m(key, val)\n",
      "\u001B[1;31mKeyboardInterrupt\u001B[0m: "
     ]
    }
   ],
   "source": [
    "# part of speech count using tokenization wihout stopwords\n",
    "nltk.download('averaged_perceptron_tagger')\n",
    "df['pos_count'] = df['article_text'].apply(lambda x: FreqDist([tag for word, tag in nltk.pos_tag(word_tokenize(x)) if word.isalpha() and word not in stop_words]))"
   ],
   "metadata": {
    "collapsed": false,
    "ExecuteTime": {
     "end_time": "2024-11-13T18:07:38.209629600Z",
     "start_time": "2024-11-13T18:06:53.243479400Z"
    }
   }
  },
  {
   "cell_type": "code",
   "execution_count": null,
   "outputs": [],
   "source": [
    "df['pos_count'].tolist()"
   ],
   "metadata": {
    "collapsed": false,
    "ExecuteTime": {
     "start_time": "2024-11-13T18:07:38.206629700Z"
    }
   }
  },
  {
   "cell_type": "code",
   "execution_count": null,
   "outputs": [],
   "source": [
    "#pos count to data frame\n",
    "df_pos = pd.DataFrame(df['pos_count'].tolist())\n",
    "df_pos.fillna(0, inplace=True)\n",
    "df_pos['sentence_count'] = df['sentence_count']\n",
    "df_pos['word_count'] = df['word_count']\n",
    "df_pos"
   ],
   "metadata": {
    "collapsed": false,
    "ExecuteTime": {
     "start_time": "2024-11-13T18:07:38.208629800Z"
    }
   }
  },
  {
   "cell_type": "markdown",
   "source": [
    "## Visualizations"
   ],
   "metadata": {
    "collapsed": false
   }
  },
  {
   "cell_type": "code",
   "execution_count": null,
   "outputs": [],
   "source": [
    "import matplotlib.pyplot as plt\n",
    "import seaborn as sns\n",
    "from wordcloud import WordCloud\n",
    "import plotly.graph_objects as go\n"
   ],
   "metadata": {
    "collapsed": false
   }
  },
  {
   "cell_type": "code",
   "execution_count": null,
   "outputs": [],
   "source": [
    "#word count; cut at 1000\n",
    "plt.figure(figsize=(12, 10))\n",
    "sns.histplot(df['word_count'], bins=20, kde=True)\n",
    "plt.xlim(0, 1500)\n",
    "#mean line\n",
    "plt.axvline(df['word_count'].mean(), color='red', linestyle='dashed', linewidth=2, label='Mean')\n",
    "plt.legend()\n",
    "plt.title('Word Count Distribution')\n",
    "plt.show()"
   ],
   "metadata": {
    "collapsed": false
   }
  },
  {
   "cell_type": "code",
   "execution_count": null,
   "outputs": [],
   "source": [
    "#sentence count; cut at 100\n",
    "plt.figure(figsize=(12, 10))\n",
    "sns.histplot(df['sentence_count'], bins=20, kde=True)\n",
    "plt.xlim(0,50)\n",
    "#mean line\n",
    "plt.axvline(df['sentence_count'].mean(), color='red', linestyle='dashed', linewidth=2, label='Mean')\n",
    "plt.legend()\n",
    "plt.title('Sentence Count Distribution')\n",
    "plt.show()\n"
   ],
   "metadata": {
    "collapsed": false
   }
  },
  {
   "cell_type": "code",
   "execution_count": null,
   "outputs": [],
   "source": [
    "#wordcloud form freqdist\n",
    "fdist = FreqDist([word for word in word_tokenize(' '.join(df['article_text'])) if word.isalpha() and word not in stop_words])\n",
    "wordcloud = WordCloud(width=400, height=400, background_color='white').generate_from_frequencies(dict(fdist.most_common(100)))\n",
    "plt.figure(figsize=(12, 10))\n",
    "plt.imshow(wordcloud)\n",
    "plt.axis('off')\n",
    "plt.title('Top 100 Most Common Words')\n",
    "plt.show()"
   ],
   "metadata": {
    "collapsed": false
   }
  },
  {
   "cell_type": "code",
   "execution_count": null,
   "outputs": [],
   "source": [
    "#top 10 most common part of speech\n",
    "plt.figure(figsize=(12, 10))\n",
    "df_pos.drop(columns=['sentence_count', 'word_count']).sum().sort_values(ascending=False).head(10).plot(kind='bar')\n",
    "plt.title('Top 10 Most Common Part of Speech')\n",
    "#turn x labels\n",
    "plt.xticks(rotation=45)\n",
    "plt.show()"
   ],
   "metadata": {
    "collapsed": false
   }
  },
  {
   "cell_type": "markdown",
   "source": [
    "### Total POS"
   ],
   "metadata": {
    "collapsed": false
   }
  },
  {
   "cell_type": "code",
   "execution_count": null,
   "outputs": [],
   "source": [
    "NN = FreqDist([word for word, tag in nltk.pos_tag(word_tokenize(' '.join(df['article_text']))) if tag ==\"NN\" and word.isalpha() and word not in stop_words])\n",
    "NNP = FreqDist([word for word, tag in nltk.pos_tag(word_tokenize(' '.join(df['article_text']))) if tag ==\"NNP\" and word.isalpha() and word not in stop_words])\n",
    "JJ = FreqDist([word for word, tag in nltk.pos_tag(word_tokenize(' '.join(df['article_text']))) if tag ==\"JJ\" and word.isalpha() and word not in stop_words])\n",
    "NNS = FreqDist([word for word, tag in nltk.pos_tag(word_tokenize(' '.join(df['article_text']))) if tag ==\"NNS\" and word.isalpha() and word not in stop_words])\n",
    "VB = FreqDist([word for word, tag in nltk.pos_tag(word_tokenize(' '.join(df['article_text']))) if tag ==\"VB\" and word.isalpha() and word not in stop_words])\n",
    "RB = FreqDist([word for word, tag in nltk.pos_tag(word_tokenize(' '.join(df['article_text']))) if tag ==\"RB\" and word.isalpha() and word not in stop_words])"
   ],
   "metadata": {
    "collapsed": false
   }
  },
  {
   "cell_type": "code",
   "execution_count": null,
   "outputs": [],
   "source": [
    "plt.figure(figsize=(12, 18))\n",
    "plt.subplot(3, 2, 1)\n",
    "wordcloud = WordCloud(width=400, height=400, background_color='white').generate_from_frequencies(dict(NN.most_common(100)))\n",
    "plt.imshow(wordcloud)\n",
    "plt.axis('off')\n",
    "plt.title('Top 100 Most Common Words of NN')\n",
    "\n",
    "\n",
    "plt.subplot(3, 2, 2)\n",
    "wordcloud = WordCloud(width=400, height=400, background_color='white').generate_from_frequencies(dict(NNP.most_common(100)))\n",
    "plt.imshow(wordcloud)\n",
    "plt.axis('off')\n",
    "plt.title('Top 100 Most Common Words of NNP')\n",
    "\n",
    "\n",
    "plt.subplot(3, 2, 3)\n",
    "wordcloud = WordCloud(width=400, height=400, background_color='white').generate_from_frequencies(dict(JJ.most_common(100)))\n",
    "plt.imshow(wordcloud)\n",
    "plt.axis('off')\n",
    "plt.title('Top 100 Most Common Words of JJ')\n",
    "\n",
    "\n",
    "plt.subplot(3, 2, 4)\n",
    "wordcloud = WordCloud(width=400, height=400, background_color='white').generate_from_frequencies(dict(NNS.most_common(100)))\n",
    "plt.imshow(wordcloud)\n",
    "plt.axis('off')\n",
    "plt.title('Top 100 Most Common Words of NNS')\n",
    "\n",
    "\n",
    "plt.subplot(3, 2, 5)\n",
    "wordcloud = WordCloud(width=400, height=400, background_color='white').generate_from_frequencies(dict(RB.most_common(100)))\n",
    "plt.imshow(wordcloud)\n",
    "plt.axis('off')\n",
    "plt.title('Top 100 Most Common Words of VB')\n",
    "\n",
    "plt.subplot(3, 2, 6)\n",
    "wordcloud = WordCloud(width=400, height=400, background_color='white').generate_from_frequencies(dict(NN.most_common(100)))\n",
    "plt.imshow(wordcloud)\n",
    "plt.axis('off')\n",
    "plt.title('Top 100 Most Common Words of RB')\n",
    "\n",
    "\n",
    "plt.show()\n"
   ],
   "metadata": {
    "collapsed": false
   }
  },
  {
   "cell_type": "code",
   "execution_count": null,
   "outputs": [],
   "source": [
    "wordcloud = WordCloud(width=400, height=400, background_color='white').generate_from_frequencies(dict(fdist.most_common(100)))\n",
    "plt.figure(figsize=(12, 10))\n",
    "plt.imshow(wordcloud)\n",
    "plt.axis('off')\n",
    "plt.title('Top 100 Most Common Words')\n",
    "plt.show()"
   ],
   "metadata": {
    "collapsed": false
   }
  },
  {
   "cell_type": "code",
   "execution_count": null,
   "outputs": [],
   "source": [
    "#sns countplot for article categories\n",
    "plt.figure(figsize=(12, 10))\n",
    "sns.countplot(y=df['article_category_one'], order=df['article_category_one'].value_counts().index, color='blue')\n",
    "plt.title('Article Categories')\n"
   ],
   "metadata": {
    "collapsed": false
   }
  },
  {
   "cell_type": "code",
   "execution_count": null,
   "outputs": [],
   "source": [
    "#plot for category one = opinion\n",
    "#3 plots in a row\n",
    "plt.figure(figsize=(15, 10))\n",
    "\n",
    "plt.subplot(1, 3, 1)\n",
    "sns.countplot(x=df[df['article_category_one'] == 'OPINION']['article_category_two'],  color='blue', order=df[df['article_category_one'] == 'OPINION']['article_category_two'].value_counts().index )\n",
    "plt.xticks(rotation=45)\n",
    "plt.ylim(0, 600)\n",
    "plt.title('OPINION Subcategories')\n",
    "\n",
    "plt.subplot(1, 3, 2)\n",
    "sns.countplot(x=df[df['article_category_one'] == 'WORLD']['article_category_two'],  color='blue', order=df[df['article_category_one'] == 'WORLD']['article_category_two'].value_counts().index)\n",
    "plt.title('WORLD Subcategories')\n",
    "plt.xticks(rotation=45)\n",
    "plt.ylim(0, 600)\n",
    "\n",
    "plt.subplot(1, 3, 3)\n",
    "sns.countplot(x=df[df['article_category_one'] == 'CHINA']['article_category_two'],  color='blue', order=df[df['article_category_one'] == 'CHINA']['article_category_two'].value_counts().index)\n",
    "plt.title('CHINA Subcategories')\n",
    "plt.xticks(rotation=45)\n",
    "plt.ylim(0, 600)\n",
    "plt.show()\n"
   ],
   "metadata": {
    "collapsed": false
   }
  },
  {
   "cell_type": "code",
   "execution_count": null,
   "outputs": [],
   "source": [],
   "metadata": {
    "collapsed": false
   }
  },
  {
   "cell_type": "markdown",
   "source": [
    "### POS: diplomacy vs columnists"
   ],
   "metadata": {
    "collapsed": false
   }
  },
  {
   "cell_type": "code",
   "execution_count": null,
   "outputs": [],
   "source": [
    "NN = FreqDist([word for word, tag in nltk.pos_tag(word_tokenize(' '.join(df['article_text'][df['article_category_two'] == 'DIPLOMACY']))) if tag ==\"NN\" and word.isalpha() and word not in stop_words])\n",
    "NNP = FreqDist([word for word, tag in nltk.pos_tag(word_tokenize(' '.join(df['article_text'][df['article_category_two'] == 'DIPLOMACY']))) if tag ==\"NNP\" and word.isalpha() and word not in stop_words])\n",
    "JJ = FreqDist([word for word, tag in nltk.pos_tag(word_tokenize(' '.join(df['article_text'][df['article_category_two'] == 'DIPLOMACY']))) if tag ==\"JJ\" and word.isalpha() and word not in stop_words])\n",
    "NNS = FreqDist([word for word, tag in nltk.pos_tag(word_tokenize(' '.join(df['article_text'][df['article_category_two'] == 'DIPLOMACY']))) if tag ==\"NNS\" and word.isalpha() and word not in stop_words])\n",
    "VB = FreqDist([word for word, tag in nltk.pos_tag(word_tokenize(' '.join(df['article_text'][df['article_category_two'] == 'DIPLOMACY']))) if tag ==\"VB\" and word.isalpha() and word not in stop_words])\n",
    "RB = FreqDist([word for word, tag in nltk.pos_tag(word_tokenize(' '.join(df['article_text'][df['article_category_two'] == 'DIPLOMACY']))) if tag ==\"RB\" and word.isalpha() and word not in stop_words])\n"
   ],
   "metadata": {
    "collapsed": false
   }
  },
  {
   "cell_type": "code",
   "execution_count": null,
   "outputs": [],
   "source": [
    "plt.figure(figsize=(6, 36))\n",
    "plt.subplot(6, 1, 1)\n",
    "wordcloud = WordCloud(width=400, height=400, background_color='white').generate_from_frequencies(dict(NN.most_common(100)))\n",
    "plt.imshow(wordcloud)\n",
    "plt.axis('off')\n",
    "plt.title('Top 100 Most Common Words of NN')\n",
    "\n",
    "\n",
    "plt.subplot(6, 1, 2)\n",
    "wordcloud = WordCloud(width=400, height=400, background_color='white').generate_from_frequencies(dict(NNP.most_common(100)))\n",
    "plt.imshow(wordcloud)\n",
    "plt.axis('off')\n",
    "plt.title('Top 100 Most Common Words of NNP')\n",
    "\n",
    "\n",
    "plt.subplot(6, 1, 3)\n",
    "wordcloud = WordCloud(width=400, height=400, background_color='white').generate_from_frequencies(dict(JJ.most_common(100)))\n",
    "plt.imshow(wordcloud)\n",
    "plt.axis('off')\n",
    "plt.title('Top 100 Most Common Words of JJ')\n",
    "\n",
    "\n",
    "plt.subplot(6, 1, 4)\n",
    "wordcloud = WordCloud(width=400, height=400, background_color='white').generate_from_frequencies(dict(NNS.most_common(100)))\n",
    "plt.imshow(wordcloud)\n",
    "plt.axis('off')\n",
    "plt.title('Top 100 Most Common Words of NNS')\n",
    "\n",
    "\n",
    "plt.subplot(6, 1, 5)\n",
    "wordcloud = WordCloud(width=400, height=400, background_color='white').generate_from_frequencies(dict(RB.most_common(100)))\n",
    "plt.imshow(wordcloud)\n",
    "plt.axis('off')\n",
    "plt.title('Top 100 Most Common Words of VB')\n",
    "\n",
    "plt.subplot(6, 1, 6)\n",
    "wordcloud = WordCloud(width=400, height=400, background_color='white').generate_from_frequencies(dict(NN.most_common(100)))\n",
    "plt.imshow(wordcloud)\n",
    "plt.axis('off')\n",
    "plt.title('Top 100 Most Common Words of RB')\n",
    "\n",
    "\n",
    "plt.show()\n"
   ],
   "metadata": {
    "collapsed": false
   }
  },
  {
   "cell_type": "code",
   "execution_count": null,
   "outputs": [],
   "source": [
    "NN = FreqDist([word for word, tag in nltk.pos_tag(word_tokenize(' '.join(df['article_text'][df['article_category_two'] == 'COLUMNISTS']))) if tag ==\"NN\" and word.isalpha() and word not in stop_words])\n",
    "NNP = FreqDist([word for word, tag in nltk.pos_tag(word_tokenize(' '.join(df['article_text'][df['article_category_two'] == 'COLUMNISTS']))) if tag ==\"NNP\" and word.isalpha() and word not in stop_words])\n",
    "JJ = FreqDist([word for word, tag in nltk.pos_tag(word_tokenize(' '.join(df['article_text'][df['article_category_two'] == 'COLUMNISTS']))) if tag ==\"JJ\" and word.isalpha() and word not in stop_words])\n",
    "NNS = FreqDist([word for word, tag in nltk.pos_tag(word_tokenize(' '.join(df['article_text'][df['article_category_two'] == 'COLUMNISTS']))) if tag ==\"NNS\" and word.isalpha() and word not in stop_words])\n",
    "VB = FreqDist([word for word, tag in nltk.pos_tag(word_tokenize(' '.join(df['article_text'][df['article_category_two'] == 'COLUMNISTS']))) if tag ==\"VB\" and word.isalpha() and word not in stop_words])\n",
    "RB = FreqDist([word for word, tag in nltk.pos_tag(word_tokenize(' '.join(df['article_text'][df['article_category_two'] == 'COLUMNISTS']))) if tag ==\"RB\" and word.isalpha() and word not in stop_words])\n"
   ],
   "metadata": {
    "collapsed": false
   }
  },
  {
   "cell_type": "code",
   "execution_count": null,
   "outputs": [],
   "source": [
    "plt.figure(figsize=(6, 36))\n",
    "plt.subplot(6, 1, 1)\n",
    "wordcloud = WordCloud(width=400, height=400, background_color='white').generate_from_frequencies(dict(NN.most_common(100)))\n",
    "plt.imshow(wordcloud)\n",
    "plt.axis('off')\n",
    "plt.title('Top 100 Most Common Words of NN')\n",
    "\n",
    "\n",
    "plt.subplot(6, 1, 2)\n",
    "wordcloud = WordCloud(width=400, height=400, background_color='white').generate_from_frequencies(dict(NNP.most_common(100)))\n",
    "plt.imshow(wordcloud)\n",
    "plt.axis('off')\n",
    "plt.title('Top 100 Most Common Words of NNP')\n",
    "\n",
    "\n",
    "plt.subplot(6, 1, 3)\n",
    "wordcloud = WordCloud(width=400, height=400, background_color='white').generate_from_frequencies(dict(JJ.most_common(100)))\n",
    "plt.imshow(wordcloud)\n",
    "plt.axis('off')\n",
    "plt.title('Top 100 Most Common Words of JJ')\n",
    "\n",
    "\n",
    "plt.subplot(6, 1, 4)\n",
    "wordcloud = WordCloud(width=400, height=400, background_color='white').generate_from_frequencies(dict(NNS.most_common(100)))\n",
    "plt.imshow(wordcloud)\n",
    "plt.axis('off')\n",
    "plt.title('Top 100 Most Common Words of NNS')\n",
    "\n",
    "\n",
    "plt.subplot(6, 1, 5)\n",
    "wordcloud = WordCloud(width=400, height=400, background_color='white').generate_from_frequencies(dict(RB.most_common(100)))\n",
    "plt.imshow(wordcloud)\n",
    "plt.axis('off')\n",
    "plt.title('Top 100 Most Common Words of VB')\n",
    "\n",
    "plt.subplot(6, 1, 6)\n",
    "wordcloud = WordCloud(width=400, height=400, background_color='white').generate_from_frequencies(dict(NN.most_common(100)))\n",
    "plt.imshow(wordcloud)\n",
    "plt.axis('off')\n",
    "plt.title('Top 100 Most Common Words of RB')\n",
    "\n",
    "\n",
    "plt.show()\n"
   ],
   "metadata": {
    "collapsed": false
   }
  }
 ],
 "metadata": {
  "kernelspec": {
   "display_name": "Python 3",
   "language": "python",
   "name": "python3"
  },
  "language_info": {
   "codemirror_mode": {
    "name": "ipython",
    "version": 2
   },
   "file_extension": ".py",
   "mimetype": "text/x-python",
   "name": "python",
   "nbconvert_exporter": "python",
   "pygments_lexer": "ipython2",
   "version": "2.7.6"
  }
 },
 "nbformat": 4,
 "nbformat_minor": 0
}
