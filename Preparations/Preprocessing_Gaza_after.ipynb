{
 "cells": [
  {
   "cell_type": "code",
   "execution_count": 14,
   "metadata": {
    "collapsed": true,
    "ExecuteTime": {
     "end_time": "2024-11-13T17:34:24.826011500Z",
     "start_time": "2024-11-13T17:34:24.811917800Z"
    }
   },
   "outputs": [],
   "source": [
    "import pandas as pd\n",
    "import nltk\n",
    "from nltk.tokenize import word_tokenize\n",
    "from nltk.corpus import stopwords\n",
    "from nltk.probability import FreqDist"
   ]
  },
  {
   "cell_type": "code",
   "execution_count": 15,
   "outputs": [],
   "source": [
    "articles = pd.read_csv('Gaza_textcontain_after_new.csv')\n",
    "authors = pd.read_csv('Gaza_textcontain_after_new_authors.csv')"
   ],
   "metadata": {
    "collapsed": false,
    "ExecuteTime": {
     "end_time": "2024-11-13T17:34:26.740532Z",
     "start_time": "2024-11-13T17:34:26.699533400Z"
    }
   }
  },
  {
   "cell_type": "code",
   "execution_count": 16,
   "outputs": [
    {
     "data": {
      "text/plain": "                                         article_title  \\\n0    Palestinian death toll in Gaza from Israeli at...   \n1    Daily life at Al-Maghazi refugee camp in Gaza ...   \n2    Two-State solution only way to break vicious c...   \n3          Biden to deliver State of the Union address   \n4    Houthi attacks in Red Sea reports first fatali...   \n..                                                 ...   \n485  Political efforts must be intensified to solve...   \n486  US biased attitude in Israel-Palestine conflic...   \n487  US inability to reconcile Israel-Palestine con...   \n488  Israel’s deepening attacks in Gaza likely to e...   \n489  GT Exclusive: Mainland tax, natural resource a...   \n\n                           author  \\\n0                       By Xinhua   \n1                       By Xinhua   \n2                 By Global Times   \n3           By GT staff reporters   \n4                     By Fan Anqi   \n..                            ...   \n485  By Xie Wenting and Bai Yunyi   \n486                 By Ma Xiaolin   \n487               By Global Times   \n488                    Zhao Yusha   \n489                       Liu Xin   \n\n                                        published_time  \\\n0                     Published: Mar 07, 2024 10:34 AM   \n1                     Published: Mar 07, 2024 11:44 AM   \n2                     Published: Mar 07, 2024 12:50 PM   \n3                     Published: Mar 07, 2024 10:28 PM   \n4                     Published: Mar 07, 2024 10:58 PM   \n..                                                 ...   \n485                   Published: Oct 22, 2023 06:32 PM   \n486                   Published: Oct 22, 2023 08:21 PM   \n487                   Published: Oct 22, 2023 08:32 PM   \n488  Published: Oct 22, 2023 09:31 PM Updated: Oct ...   \n489                   Published: Oct 22, 2023 10:05 PM   \n\n                                          article_text article_category_one  \\\n0    A young man walks past destroyed buildings in ...                PHOTO   \n1    A vendor makes desserts at Al-Maghazi refugee ...                PHOTO   \n2    People walk past destroyed buildings in the so...                CHINA   \n3    US President Joe Biden speaks during a meeting...                CHINA   \n4    A container ship sails in the Red Sea in the S...                CHINA   \n..                                                 ...                  ...   \n485  Teams conduct a search and rescue operation un...             IN-DEPTH   \n486  Illustration: Liu Rui/ GTAny act that leads to...              OPINION   \n487  NUSEIRAT, GAZA - OCTOBER 22: A view of destruc...              OPINION   \n488  Leaders and top officials from more than a doz...                CHINA   \n489  Foxconn Photo: VCGChinese mainland tax authori...                CHINA   \n\n    article_category_two                                picture_description  \n0                  WORLD  A young man walks past destroyed buildings in ...  \n1                  WORLD  A vendor makes desserts at Al-Maghazi refugee ...  \n2               POLITICS  People walk past destroyed buildings in the so...  \n3              DIPLOMACY  US President Joe Biden speaks during a meeting...  \n4              DIPLOMACY  A container ship sails in the Red Sea in the S...  \n..                   ...                                                ...  \n485   DIPLOMATIC CHANNEL  Teams conduct a search and rescue operation un...  \n486            VIEWPOINT                          Illustration: Liu Rui/ GT  \n487             OBSERVER  NUSEIRAT, GAZA - OCTOBER 22: A view of destruc...  \n488            DIPLOMACY  Leaders and top officials from more than a doz...  \n489             POLITICS                                 Foxconn Photo: VCG  \n\n[490 rows x 7 columns]",
      "text/html": "<div>\n<style scoped>\n    .dataframe tbody tr th:only-of-type {\n        vertical-align: middle;\n    }\n\n    .dataframe tbody tr th {\n        vertical-align: top;\n    }\n\n    .dataframe thead th {\n        text-align: right;\n    }\n</style>\n<table border=\"1\" class=\"dataframe\">\n  <thead>\n    <tr style=\"text-align: right;\">\n      <th></th>\n      <th>article_title</th>\n      <th>author</th>\n      <th>published_time</th>\n      <th>article_text</th>\n      <th>article_category_one</th>\n      <th>article_category_two</th>\n      <th>picture_description</th>\n    </tr>\n  </thead>\n  <tbody>\n    <tr>\n      <th>0</th>\n      <td>Palestinian death toll in Gaza from Israeli at...</td>\n      <td>By Xinhua</td>\n      <td>Published: Mar 07, 2024 10:34 AM</td>\n      <td>A young man walks past destroyed buildings in ...</td>\n      <td>PHOTO</td>\n      <td>WORLD</td>\n      <td>A young man walks past destroyed buildings in ...</td>\n    </tr>\n    <tr>\n      <th>1</th>\n      <td>Daily life at Al-Maghazi refugee camp in Gaza ...</td>\n      <td>By Xinhua</td>\n      <td>Published: Mar 07, 2024 11:44 AM</td>\n      <td>A vendor makes desserts at Al-Maghazi refugee ...</td>\n      <td>PHOTO</td>\n      <td>WORLD</td>\n      <td>A vendor makes desserts at Al-Maghazi refugee ...</td>\n    </tr>\n    <tr>\n      <th>2</th>\n      <td>Two-State solution only way to break vicious c...</td>\n      <td>By Global Times</td>\n      <td>Published: Mar 07, 2024 12:50 PM</td>\n      <td>People walk past destroyed buildings in the so...</td>\n      <td>CHINA</td>\n      <td>POLITICS</td>\n      <td>People walk past destroyed buildings in the so...</td>\n    </tr>\n    <tr>\n      <th>3</th>\n      <td>Biden to deliver State of the Union address</td>\n      <td>By GT staff reporters</td>\n      <td>Published: Mar 07, 2024 10:28 PM</td>\n      <td>US President Joe Biden speaks during a meeting...</td>\n      <td>CHINA</td>\n      <td>DIPLOMACY</td>\n      <td>US President Joe Biden speaks during a meeting...</td>\n    </tr>\n    <tr>\n      <th>4</th>\n      <td>Houthi attacks in Red Sea reports first fatali...</td>\n      <td>By Fan Anqi</td>\n      <td>Published: Mar 07, 2024 10:58 PM</td>\n      <td>A container ship sails in the Red Sea in the S...</td>\n      <td>CHINA</td>\n      <td>DIPLOMACY</td>\n      <td>A container ship sails in the Red Sea in the S...</td>\n    </tr>\n    <tr>\n      <th>...</th>\n      <td>...</td>\n      <td>...</td>\n      <td>...</td>\n      <td>...</td>\n      <td>...</td>\n      <td>...</td>\n      <td>...</td>\n    </tr>\n    <tr>\n      <th>485</th>\n      <td>Political efforts must be intensified to solve...</td>\n      <td>By Xie Wenting and Bai Yunyi</td>\n      <td>Published: Oct 22, 2023 06:32 PM</td>\n      <td>Teams conduct a search and rescue operation un...</td>\n      <td>IN-DEPTH</td>\n      <td>DIPLOMATIC CHANNEL</td>\n      <td>Teams conduct a search and rescue operation un...</td>\n    </tr>\n    <tr>\n      <th>486</th>\n      <td>US biased attitude in Israel-Palestine conflic...</td>\n      <td>By Ma Xiaolin</td>\n      <td>Published: Oct 22, 2023 08:21 PM</td>\n      <td>Illustration: Liu Rui/ GTAny act that leads to...</td>\n      <td>OPINION</td>\n      <td>VIEWPOINT</td>\n      <td>Illustration: Liu Rui/ GT</td>\n    </tr>\n    <tr>\n      <th>487</th>\n      <td>US inability to reconcile Israel-Palestine con...</td>\n      <td>By Global Times</td>\n      <td>Published: Oct 22, 2023 08:32 PM</td>\n      <td>NUSEIRAT, GAZA - OCTOBER 22: A view of destruc...</td>\n      <td>OPINION</td>\n      <td>OBSERVER</td>\n      <td>NUSEIRAT, GAZA - OCTOBER 22: A view of destruc...</td>\n    </tr>\n    <tr>\n      <th>488</th>\n      <td>Israel’s deepening attacks in Gaza likely to e...</td>\n      <td>Zhao Yusha</td>\n      <td>Published: Oct 22, 2023 09:31 PM Updated: Oct ...</td>\n      <td>Leaders and top officials from more than a doz...</td>\n      <td>CHINA</td>\n      <td>DIPLOMACY</td>\n      <td>Leaders and top officials from more than a doz...</td>\n    </tr>\n    <tr>\n      <th>489</th>\n      <td>GT Exclusive: Mainland tax, natural resource a...</td>\n      <td>Liu Xin</td>\n      <td>Published: Oct 22, 2023 10:05 PM</td>\n      <td>Foxconn Photo: VCGChinese mainland tax authori...</td>\n      <td>CHINA</td>\n      <td>POLITICS</td>\n      <td>Foxconn Photo: VCG</td>\n    </tr>\n  </tbody>\n</table>\n<p>490 rows × 7 columns</p>\n</div>"
     },
     "execution_count": 16,
     "metadata": {},
     "output_type": "execute_result"
    }
   ],
   "source": [
    "articles"
   ],
   "metadata": {
    "collapsed": false,
    "ExecuteTime": {
     "end_time": "2024-11-13T17:34:28.372983200Z",
     "start_time": "2024-11-13T17:34:28.354861Z"
    }
   }
  },
  {
   "cell_type": "code",
   "execution_count": 17,
   "outputs": [
    {
     "data": {
      "text/plain": "                                         article_title  \\\n0    Palestinian death toll in Gaza from Israeli at...   \n1    Daily life at Al-Maghazi refugee camp in Gaza ...   \n2    Two-State solution only way to break vicious c...   \n3          Biden to deliver State of the Union address   \n4    Houthi attacks in Red Sea reports first fatali...   \n..                                                 ...   \n485  Political efforts must be intensified to solve...   \n486  US biased attitude in Israel-Palestine conflic...   \n487  US inability to reconcile Israel-Palestine con...   \n488  Israel’s deepening attacks in Gaza likely to e...   \n489  GT Exclusive: Mainland tax, natural resource a...   \n\n                           author published_time  \\\n0                       By Xinhua     2024-03-07   \n1                       By Xinhua     2024-03-07   \n2                 By Global Times     2024-03-07   \n3           By GT staff reporters     2024-03-07   \n4                     By Fan Anqi     2024-03-07   \n..                            ...            ...   \n485  By Xie Wenting and Bai Yunyi     2023-10-22   \n486                 By Ma Xiaolin     2023-10-22   \n487               By Global Times     2023-10-22   \n488                    Zhao Yusha     2023-10-22   \n489                       Liu Xin     2023-10-22   \n\n                                          article_text article_category_one  \\\n0    A young man walks past destroyed buildings in ...                PHOTO   \n1    A vendor makes desserts at Al-Maghazi refugee ...                PHOTO   \n2    People walk past destroyed buildings in the so...                CHINA   \n3    US President Joe Biden speaks during a meeting...                CHINA   \n4    A container ship sails in the Red Sea in the S...                CHINA   \n..                                                 ...                  ...   \n485  Teams conduct a search and rescue operation un...             IN-DEPTH   \n486  Illustration: Liu Rui/ GTAny act that leads to...              OPINION   \n487  NUSEIRAT, GAZA - OCTOBER 22: A view of destruc...              OPINION   \n488  Leaders and top officials from more than a doz...                CHINA   \n489  Foxconn Photo: VCGChinese mainland tax authori...                CHINA   \n\n    article_category_two                                picture_description  \n0                  WORLD  A young man walks past destroyed buildings in ...  \n1                  WORLD  A vendor makes desserts at Al-Maghazi refugee ...  \n2               POLITICS  People walk past destroyed buildings in the so...  \n3              DIPLOMACY  US President Joe Biden speaks during a meeting...  \n4              DIPLOMACY  A container ship sails in the Red Sea in the S...  \n..                   ...                                                ...  \n485   DIPLOMATIC CHANNEL  Teams conduct a search and rescue operation un...  \n486            VIEWPOINT                          Illustration: Liu Rui/ GT  \n487             OBSERVER  NUSEIRAT, GAZA - OCTOBER 22: A view of destruc...  \n488            DIPLOMACY  Leaders and top officials from more than a doz...  \n489             POLITICS                                 Foxconn Photo: VCG  \n\n[489 rows x 7 columns]",
      "text/html": "<div>\n<style scoped>\n    .dataframe tbody tr th:only-of-type {\n        vertical-align: middle;\n    }\n\n    .dataframe tbody tr th {\n        vertical-align: top;\n    }\n\n    .dataframe thead th {\n        text-align: right;\n    }\n</style>\n<table border=\"1\" class=\"dataframe\">\n  <thead>\n    <tr style=\"text-align: right;\">\n      <th></th>\n      <th>article_title</th>\n      <th>author</th>\n      <th>published_time</th>\n      <th>article_text</th>\n      <th>article_category_one</th>\n      <th>article_category_two</th>\n      <th>picture_description</th>\n    </tr>\n  </thead>\n  <tbody>\n    <tr>\n      <th>0</th>\n      <td>Palestinian death toll in Gaza from Israeli at...</td>\n      <td>By Xinhua</td>\n      <td>2024-03-07</td>\n      <td>A young man walks past destroyed buildings in ...</td>\n      <td>PHOTO</td>\n      <td>WORLD</td>\n      <td>A young man walks past destroyed buildings in ...</td>\n    </tr>\n    <tr>\n      <th>1</th>\n      <td>Daily life at Al-Maghazi refugee camp in Gaza ...</td>\n      <td>By Xinhua</td>\n      <td>2024-03-07</td>\n      <td>A vendor makes desserts at Al-Maghazi refugee ...</td>\n      <td>PHOTO</td>\n      <td>WORLD</td>\n      <td>A vendor makes desserts at Al-Maghazi refugee ...</td>\n    </tr>\n    <tr>\n      <th>2</th>\n      <td>Two-State solution only way to break vicious c...</td>\n      <td>By Global Times</td>\n      <td>2024-03-07</td>\n      <td>People walk past destroyed buildings in the so...</td>\n      <td>CHINA</td>\n      <td>POLITICS</td>\n      <td>People walk past destroyed buildings in the so...</td>\n    </tr>\n    <tr>\n      <th>3</th>\n      <td>Biden to deliver State of the Union address</td>\n      <td>By GT staff reporters</td>\n      <td>2024-03-07</td>\n      <td>US President Joe Biden speaks during a meeting...</td>\n      <td>CHINA</td>\n      <td>DIPLOMACY</td>\n      <td>US President Joe Biden speaks during a meeting...</td>\n    </tr>\n    <tr>\n      <th>4</th>\n      <td>Houthi attacks in Red Sea reports first fatali...</td>\n      <td>By Fan Anqi</td>\n      <td>2024-03-07</td>\n      <td>A container ship sails in the Red Sea in the S...</td>\n      <td>CHINA</td>\n      <td>DIPLOMACY</td>\n      <td>A container ship sails in the Red Sea in the S...</td>\n    </tr>\n    <tr>\n      <th>...</th>\n      <td>...</td>\n      <td>...</td>\n      <td>...</td>\n      <td>...</td>\n      <td>...</td>\n      <td>...</td>\n      <td>...</td>\n    </tr>\n    <tr>\n      <th>485</th>\n      <td>Political efforts must be intensified to solve...</td>\n      <td>By Xie Wenting and Bai Yunyi</td>\n      <td>2023-10-22</td>\n      <td>Teams conduct a search and rescue operation un...</td>\n      <td>IN-DEPTH</td>\n      <td>DIPLOMATIC CHANNEL</td>\n      <td>Teams conduct a search and rescue operation un...</td>\n    </tr>\n    <tr>\n      <th>486</th>\n      <td>US biased attitude in Israel-Palestine conflic...</td>\n      <td>By Ma Xiaolin</td>\n      <td>2023-10-22</td>\n      <td>Illustration: Liu Rui/ GTAny act that leads to...</td>\n      <td>OPINION</td>\n      <td>VIEWPOINT</td>\n      <td>Illustration: Liu Rui/ GT</td>\n    </tr>\n    <tr>\n      <th>487</th>\n      <td>US inability to reconcile Israel-Palestine con...</td>\n      <td>By Global Times</td>\n      <td>2023-10-22</td>\n      <td>NUSEIRAT, GAZA - OCTOBER 22: A view of destruc...</td>\n      <td>OPINION</td>\n      <td>OBSERVER</td>\n      <td>NUSEIRAT, GAZA - OCTOBER 22: A view of destruc...</td>\n    </tr>\n    <tr>\n      <th>488</th>\n      <td>Israel’s deepening attacks in Gaza likely to e...</td>\n      <td>Zhao Yusha</td>\n      <td>2023-10-22</td>\n      <td>Leaders and top officials from more than a doz...</td>\n      <td>CHINA</td>\n      <td>DIPLOMACY</td>\n      <td>Leaders and top officials from more than a doz...</td>\n    </tr>\n    <tr>\n      <th>489</th>\n      <td>GT Exclusive: Mainland tax, natural resource a...</td>\n      <td>Liu Xin</td>\n      <td>2023-10-22</td>\n      <td>Foxconn Photo: VCGChinese mainland tax authori...</td>\n      <td>CHINA</td>\n      <td>POLITICS</td>\n      <td>Foxconn Photo: VCG</td>\n    </tr>\n  </tbody>\n</table>\n<p>489 rows × 7 columns</p>\n</div>"
     },
     "execution_count": 17,
     "metadata": {},
     "output_type": "execute_result"
    }
   ],
   "source": [
    "# date published\n",
    "#remoe where published time = published time not found\n",
    "\n",
    "articles = articles.drop(articles[articles['published_time'] == 'Published time not found'].index)\n",
    "\n",
    "articles['published_time'] = articles['published_time'].str[11:]\n",
    "articles['published_time'] = articles['published_time'].str[:12]\n",
    "#to date mmm dd, yyyy\n",
    "articles['published_time'] = pd.to_datetime(articles['published_time'], format='%b %d, %Y')\n",
    "articles"
   ],
   "metadata": {
    "collapsed": false,
    "ExecuteTime": {
     "end_time": "2024-11-13T17:34:39.094824600Z",
     "start_time": "2024-11-13T17:34:39.067825800Z"
    }
   }
  },
  {
   "cell_type": "code",
   "execution_count": 18,
   "outputs": [
    {
     "data": {
      "text/plain": "array(['By Xinhua', 'By Global Times', 'By GT staff reporters',\n       'By Fan Anqi', 'By Mark Blacklock', 'By VCG', 'By Xin Ping',\n       'By Zhang Han', 'Shan Jie', 'By Brian Berletic', 'Yang Sheng',\n       'By S.L. Kanthan', 'By Ma Yuhan', 'By Elias Cepeda', 'Zhao Yusha',\n       'By Chen Hong', 'By IC', 'Bradley Blankenship', 'Wang Qi',\n       'By Zhao Yongsheng', 'By Wang Shushen', 'By Timofei Bordachev',\n       'By Bai Yunyi', 'Chen Qingqing', 'Ding Gang', 'By Zhang Wenzong',\n       'By James Smith', 'By Xu Yelu', 'By Xia Wenxin', 'Andrey Kortunov',\n       'By Wang Jin', 'By Xie Wenting and Bai Yunyi', 'Wang Cong',\n       'Deng Xiaoci', 'By Joyce Chimbi', 'By Andrey Gubin',\n       'By Victor Gao', 'By AFP', 'By Wang Yan and Zhang Yuanshi',\n       'By Qian Jiayin', 'Hu Xijin', 'By Jerry Grey', 'By Jin Cuodao',\n       'By Yin Yeping', 'By Jan Oberg', 'Vitaly Podvitski', 'Liu Xin',\n       'Liu Caiyu', 'By Ma Ruiqian', 'By Ebrahim Hashem', 'By Guo Yichu',\n       'Martin Jacques', 'By Zhang Hong', 'Huang Lanlan',\n       'By GT staff reporter', 'Liu Xuanzun', 'By Danny Haiphong',\n       'By Chen Youjun', 'By Yao Jingxiang', 'By Cui Hongjian',\n       'By Carlos Martinez', 'By Ou Shi', 'By Su Lun', 'By He Zhigao',\n       'By Deng Zijun', 'By Jin Liangxiang',\n       'By Li Aixin and Guo Yuandan', 'By Guo Yuandan and Xu Yelu',\n       'Xu Keyue', 'By Sputnik', 'By Dong Yifan', 'By Xu Shanpin',\n       'By Global Times – Xinhua', 'By Yao Huina', 'By Yahia H. Zoubir',\n       'By Nebojsa Malic', 'By Ma Xiaolin'], dtype=object)"
     },
     "execution_count": 18,
     "metadata": {},
     "output_type": "execute_result"
    }
   ],
   "source": [
    "#stats published time\n",
    "articles['author'].unique()"
   ],
   "metadata": {
    "collapsed": false,
    "ExecuteTime": {
     "end_time": "2024-11-13T17:34:47.174460700Z",
     "start_time": "2024-11-13T17:34:47.151026100Z"
    }
   }
  },
  {
   "cell_type": "code",
   "execution_count": 19,
   "outputs": [
    {
     "data": {
      "text/plain": "                                         article_title  \\\n0    Palestinian death toll in Gaza from Israeli at...   \n1    Daily life at Al-Maghazi refugee camp in Gaza ...   \n2    Two-State solution only way to break vicious c...   \n3          Biden to deliver State of the Union address   \n4    Houthi attacks in Red Sea reports first fatali...   \n..                                                 ...   \n485  Political efforts must be intensified to solve...   \n486  US biased attitude in Israel-Palestine conflic...   \n487  US inability to reconcile Israel-Palestine con...   \n488  Israel’s deepening attacks in Gaza likely to e...   \n489  GT Exclusive: Mainland tax, natural resource a...   \n\n                        author published_time  \\\n0                       Xinhua     2024-03-07   \n1                       Xinhua     2024-03-07   \n2                 Global Times     2024-03-07   \n3           GT staff reporters     2024-03-07   \n4                     Fan Anqi     2024-03-07   \n..                         ...            ...   \n485  Xie Wenting and Bai Yunyi     2023-10-22   \n486                 Ma Xiaolin     2023-10-22   \n487               Global Times     2023-10-22   \n488                 Zhao Yusha     2023-10-22   \n489                    Liu Xin     2023-10-22   \n\n                                          article_text article_category_one  \\\n0    A young man walks past destroyed buildings in ...                PHOTO   \n1    A vendor makes desserts at Al-Maghazi refugee ...                PHOTO   \n2    People walk past destroyed buildings in the so...                CHINA   \n3    US President Joe Biden speaks during a meeting...                CHINA   \n4    A container ship sails in the Red Sea in the S...                CHINA   \n..                                                 ...                  ...   \n485  Teams conduct a search and rescue operation un...             IN-DEPTH   \n486  Illustration: Liu Rui/ GTAny act that leads to...              OPINION   \n487  NUSEIRAT, GAZA - OCTOBER 22: A view of destruc...              OPINION   \n488  Leaders and top officials from more than a doz...                CHINA   \n489  Foxconn Photo: VCGChinese mainland tax authori...                CHINA   \n\n    article_category_two                                picture_description  \n0                  WORLD  A young man walks past destroyed buildings in ...  \n1                  WORLD  A vendor makes desserts at Al-Maghazi refugee ...  \n2               POLITICS  People walk past destroyed buildings in the so...  \n3              DIPLOMACY  US President Joe Biden speaks during a meeting...  \n4              DIPLOMACY  A container ship sails in the Red Sea in the S...  \n..                   ...                                                ...  \n485   DIPLOMATIC CHANNEL  Teams conduct a search and rescue operation un...  \n486            VIEWPOINT                          Illustration: Liu Rui/ GT  \n487             OBSERVER  NUSEIRAT, GAZA - OCTOBER 22: A view of destruc...  \n488            DIPLOMACY  Leaders and top officials from more than a doz...  \n489             POLITICS                                 Foxconn Photo: VCG  \n\n[489 rows x 7 columns]",
      "text/html": "<div>\n<style scoped>\n    .dataframe tbody tr th:only-of-type {\n        vertical-align: middle;\n    }\n\n    .dataframe tbody tr th {\n        vertical-align: top;\n    }\n\n    .dataframe thead th {\n        text-align: right;\n    }\n</style>\n<table border=\"1\" class=\"dataframe\">\n  <thead>\n    <tr style=\"text-align: right;\">\n      <th></th>\n      <th>article_title</th>\n      <th>author</th>\n      <th>published_time</th>\n      <th>article_text</th>\n      <th>article_category_one</th>\n      <th>article_category_two</th>\n      <th>picture_description</th>\n    </tr>\n  </thead>\n  <tbody>\n    <tr>\n      <th>0</th>\n      <td>Palestinian death toll in Gaza from Israeli at...</td>\n      <td>Xinhua</td>\n      <td>2024-03-07</td>\n      <td>A young man walks past destroyed buildings in ...</td>\n      <td>PHOTO</td>\n      <td>WORLD</td>\n      <td>A young man walks past destroyed buildings in ...</td>\n    </tr>\n    <tr>\n      <th>1</th>\n      <td>Daily life at Al-Maghazi refugee camp in Gaza ...</td>\n      <td>Xinhua</td>\n      <td>2024-03-07</td>\n      <td>A vendor makes desserts at Al-Maghazi refugee ...</td>\n      <td>PHOTO</td>\n      <td>WORLD</td>\n      <td>A vendor makes desserts at Al-Maghazi refugee ...</td>\n    </tr>\n    <tr>\n      <th>2</th>\n      <td>Two-State solution only way to break vicious c...</td>\n      <td>Global Times</td>\n      <td>2024-03-07</td>\n      <td>People walk past destroyed buildings in the so...</td>\n      <td>CHINA</td>\n      <td>POLITICS</td>\n      <td>People walk past destroyed buildings in the so...</td>\n    </tr>\n    <tr>\n      <th>3</th>\n      <td>Biden to deliver State of the Union address</td>\n      <td>GT staff reporters</td>\n      <td>2024-03-07</td>\n      <td>US President Joe Biden speaks during a meeting...</td>\n      <td>CHINA</td>\n      <td>DIPLOMACY</td>\n      <td>US President Joe Biden speaks during a meeting...</td>\n    </tr>\n    <tr>\n      <th>4</th>\n      <td>Houthi attacks in Red Sea reports first fatali...</td>\n      <td>Fan Anqi</td>\n      <td>2024-03-07</td>\n      <td>A container ship sails in the Red Sea in the S...</td>\n      <td>CHINA</td>\n      <td>DIPLOMACY</td>\n      <td>A container ship sails in the Red Sea in the S...</td>\n    </tr>\n    <tr>\n      <th>...</th>\n      <td>...</td>\n      <td>...</td>\n      <td>...</td>\n      <td>...</td>\n      <td>...</td>\n      <td>...</td>\n      <td>...</td>\n    </tr>\n    <tr>\n      <th>485</th>\n      <td>Political efforts must be intensified to solve...</td>\n      <td>Xie Wenting and Bai Yunyi</td>\n      <td>2023-10-22</td>\n      <td>Teams conduct a search and rescue operation un...</td>\n      <td>IN-DEPTH</td>\n      <td>DIPLOMATIC CHANNEL</td>\n      <td>Teams conduct a search and rescue operation un...</td>\n    </tr>\n    <tr>\n      <th>486</th>\n      <td>US biased attitude in Israel-Palestine conflic...</td>\n      <td>Ma Xiaolin</td>\n      <td>2023-10-22</td>\n      <td>Illustration: Liu Rui/ GTAny act that leads to...</td>\n      <td>OPINION</td>\n      <td>VIEWPOINT</td>\n      <td>Illustration: Liu Rui/ GT</td>\n    </tr>\n    <tr>\n      <th>487</th>\n      <td>US inability to reconcile Israel-Palestine con...</td>\n      <td>Global Times</td>\n      <td>2023-10-22</td>\n      <td>NUSEIRAT, GAZA - OCTOBER 22: A view of destruc...</td>\n      <td>OPINION</td>\n      <td>OBSERVER</td>\n      <td>NUSEIRAT, GAZA - OCTOBER 22: A view of destruc...</td>\n    </tr>\n    <tr>\n      <th>488</th>\n      <td>Israel’s deepening attacks in Gaza likely to e...</td>\n      <td>Zhao Yusha</td>\n      <td>2023-10-22</td>\n      <td>Leaders and top officials from more than a doz...</td>\n      <td>CHINA</td>\n      <td>DIPLOMACY</td>\n      <td>Leaders and top officials from more than a doz...</td>\n    </tr>\n    <tr>\n      <th>489</th>\n      <td>GT Exclusive: Mainland tax, natural resource a...</td>\n      <td>Liu Xin</td>\n      <td>2023-10-22</td>\n      <td>Foxconn Photo: VCGChinese mainland tax authori...</td>\n      <td>CHINA</td>\n      <td>POLITICS</td>\n      <td>Foxconn Photo: VCG</td>\n    </tr>\n  </tbody>\n</table>\n<p>489 rows × 7 columns</p>\n</div>"
     },
     "execution_count": 19,
     "metadata": {},
     "output_type": "execute_result"
    }
   ],
   "source": [
    "# celan authors\n",
    "articles['author'] = articles['author'].apply(lambda x: x[3:] if x.startswith(\"By \") else x)\n",
    "articles"
   ],
   "metadata": {
    "collapsed": false,
    "ExecuteTime": {
     "end_time": "2024-11-13T17:34:52.412690900Z",
     "start_time": "2024-11-13T17:34:52.389092900Z"
    }
   }
  },
  {
   "cell_type": "code",
   "execution_count": 20,
   "outputs": [
    {
     "data": {
      "text/plain": "                                         article_title  \\\n0    Palestinian death toll in Gaza from Israeli at...   \n1    Daily life at Al-Maghazi refugee camp in Gaza ...   \n2    Two-State solution only way to break vicious c...   \n3          Biden to deliver State of the Union address   \n4    Houthi attacks in Red Sea reports first fatali...   \n..                                                 ...   \n485  Political efforts must be intensified to solve...   \n486  US biased attitude in Israel-Palestine conflic...   \n487  US inability to reconcile Israel-Palestine con...   \n488  Israel’s deepening attacks in Gaza likely to e...   \n489  GT Exclusive: Mainland tax, natural resource a...   \n\n                        author published_time  \\\n0                       Xinhua     2024-03-07   \n1                       Xinhua     2024-03-07   \n2                 Global Times     2024-03-07   \n3           GT staff reporters     2024-03-07   \n4                     Fan Anqi     2024-03-07   \n..                         ...            ...   \n485  Xie Wenting and Bai Yunyi     2023-10-22   \n486                 Ma Xiaolin     2023-10-22   \n487               Global Times     2023-10-22   \n488                 Zhao Yusha     2023-10-22   \n489                    Liu Xin     2023-10-22   \n\n                                          article_text article_category_one  \\\n0     \\n\\nPeople walk past destroyed buildings in t...                PHOTO   \n1     \\n\\nChildren are pictured at Al-Maghazi refug...                PHOTO   \n2    There is no distinction between noble and humb...                CHINA   \n3    US President Joe Biden is expected to deliver ...                CHINA   \n4    A Houthi missile attack on a merchant ship in ...                CHINA   \n..                                                 ...                  ...   \n485  Editor's Note:The death toll among Palestinian...             IN-DEPTH   \n486  Any act that leads to civilian deaths and othe...              OPINION   \n487  US media is currently attempting to redirect t...              OPINION   \n488  Israel's deepening attacks in Gaza for what it...                CHINA   \n489  Chinese mainland tax authorities have conducte...                CHINA   \n\n    article_category_two                                picture_description  \n0                  WORLD  A young man walks past destroyed buildings in ...  \n1                  WORLD  A vendor makes desserts at Al-Maghazi refugee ...  \n2               POLITICS  People walk past destroyed buildings in the so...  \n3              DIPLOMACY  US President Joe Biden speaks during a meeting...  \n4              DIPLOMACY  A container ship sails in the Red Sea in the S...  \n..                   ...                                                ...  \n485   DIPLOMATIC CHANNEL  Teams conduct a search and rescue operation un...  \n486            VIEWPOINT                          Illustration: Liu Rui/ GT  \n487             OBSERVER  NUSEIRAT, GAZA - OCTOBER 22: A view of destruc...  \n488            DIPLOMACY  Leaders and top officials from more than a doz...  \n489             POLITICS                                 Foxconn Photo: VCG  \n\n[489 rows x 7 columns]",
      "text/html": "<div>\n<style scoped>\n    .dataframe tbody tr th:only-of-type {\n        vertical-align: middle;\n    }\n\n    .dataframe tbody tr th {\n        vertical-align: top;\n    }\n\n    .dataframe thead th {\n        text-align: right;\n    }\n</style>\n<table border=\"1\" class=\"dataframe\">\n  <thead>\n    <tr style=\"text-align: right;\">\n      <th></th>\n      <th>article_title</th>\n      <th>author</th>\n      <th>published_time</th>\n      <th>article_text</th>\n      <th>article_category_one</th>\n      <th>article_category_two</th>\n      <th>picture_description</th>\n    </tr>\n  </thead>\n  <tbody>\n    <tr>\n      <th>0</th>\n      <td>Palestinian death toll in Gaza from Israeli at...</td>\n      <td>Xinhua</td>\n      <td>2024-03-07</td>\n      <td>\\n\\nPeople walk past destroyed buildings in t...</td>\n      <td>PHOTO</td>\n      <td>WORLD</td>\n      <td>A young man walks past destroyed buildings in ...</td>\n    </tr>\n    <tr>\n      <th>1</th>\n      <td>Daily life at Al-Maghazi refugee camp in Gaza ...</td>\n      <td>Xinhua</td>\n      <td>2024-03-07</td>\n      <td>\\n\\nChildren are pictured at Al-Maghazi refug...</td>\n      <td>PHOTO</td>\n      <td>WORLD</td>\n      <td>A vendor makes desserts at Al-Maghazi refugee ...</td>\n    </tr>\n    <tr>\n      <th>2</th>\n      <td>Two-State solution only way to break vicious c...</td>\n      <td>Global Times</td>\n      <td>2024-03-07</td>\n      <td>There is no distinction between noble and humb...</td>\n      <td>CHINA</td>\n      <td>POLITICS</td>\n      <td>People walk past destroyed buildings in the so...</td>\n    </tr>\n    <tr>\n      <th>3</th>\n      <td>Biden to deliver State of the Union address</td>\n      <td>GT staff reporters</td>\n      <td>2024-03-07</td>\n      <td>US President Joe Biden is expected to deliver ...</td>\n      <td>CHINA</td>\n      <td>DIPLOMACY</td>\n      <td>US President Joe Biden speaks during a meeting...</td>\n    </tr>\n    <tr>\n      <th>4</th>\n      <td>Houthi attacks in Red Sea reports first fatali...</td>\n      <td>Fan Anqi</td>\n      <td>2024-03-07</td>\n      <td>A Houthi missile attack on a merchant ship in ...</td>\n      <td>CHINA</td>\n      <td>DIPLOMACY</td>\n      <td>A container ship sails in the Red Sea in the S...</td>\n    </tr>\n    <tr>\n      <th>...</th>\n      <td>...</td>\n      <td>...</td>\n      <td>...</td>\n      <td>...</td>\n      <td>...</td>\n      <td>...</td>\n      <td>...</td>\n    </tr>\n    <tr>\n      <th>485</th>\n      <td>Political efforts must be intensified to solve...</td>\n      <td>Xie Wenting and Bai Yunyi</td>\n      <td>2023-10-22</td>\n      <td>Editor's Note:The death toll among Palestinian...</td>\n      <td>IN-DEPTH</td>\n      <td>DIPLOMATIC CHANNEL</td>\n      <td>Teams conduct a search and rescue operation un...</td>\n    </tr>\n    <tr>\n      <th>486</th>\n      <td>US biased attitude in Israel-Palestine conflic...</td>\n      <td>Ma Xiaolin</td>\n      <td>2023-10-22</td>\n      <td>Any act that leads to civilian deaths and othe...</td>\n      <td>OPINION</td>\n      <td>VIEWPOINT</td>\n      <td>Illustration: Liu Rui/ GT</td>\n    </tr>\n    <tr>\n      <th>487</th>\n      <td>US inability to reconcile Israel-Palestine con...</td>\n      <td>Global Times</td>\n      <td>2023-10-22</td>\n      <td>US media is currently attempting to redirect t...</td>\n      <td>OPINION</td>\n      <td>OBSERVER</td>\n      <td>NUSEIRAT, GAZA - OCTOBER 22: A view of destruc...</td>\n    </tr>\n    <tr>\n      <th>488</th>\n      <td>Israel’s deepening attacks in Gaza likely to e...</td>\n      <td>Zhao Yusha</td>\n      <td>2023-10-22</td>\n      <td>Israel's deepening attacks in Gaza for what it...</td>\n      <td>CHINA</td>\n      <td>DIPLOMACY</td>\n      <td>Leaders and top officials from more than a doz...</td>\n    </tr>\n    <tr>\n      <th>489</th>\n      <td>GT Exclusive: Mainland tax, natural resource a...</td>\n      <td>Liu Xin</td>\n      <td>2023-10-22</td>\n      <td>Chinese mainland tax authorities have conducte...</td>\n      <td>CHINA</td>\n      <td>POLITICS</td>\n      <td>Foxconn Photo: VCG</td>\n    </tr>\n  </tbody>\n</table>\n<p>489 rows × 7 columns</p>\n</div>"
     },
     "execution_count": 20,
     "metadata": {},
     "output_type": "execute_result"
    }
   ],
   "source": [
    "articles['article_text'] = articles.apply(lambda x: x['article_text'].replace(x['picture_description'], ''), axis=1)\n",
    "articles"
   ],
   "metadata": {
    "collapsed": false,
    "ExecuteTime": {
     "end_time": "2024-11-13T17:35:00.788714100Z",
     "start_time": "2024-11-13T17:35:00.751809200Z"
    }
   }
  },
  {
   "cell_type": "code",
   "execution_count": 21,
   "outputs": [
    {
     "data": {
      "text/plain": "                                          article_title              author  \\\n0     Palestinian death toll in Gaza from Israeli at...              Xinhua   \n1     Daily life at Al-Maghazi refugee camp in Gaza ...              Xinhua   \n2     Two-State solution only way to break vicious c...        Global Times   \n3           Biden to deliver State of the Union address  GT staff reporters   \n4     Houthi attacks in Red Sea reports first fatali...            Fan Anqi   \n...                                                 ...                 ...   \n1203  GT Exclusive: Mainland tax, natural resource a...             Liu Xin   \n1204  GT Exclusive: Mainland tax, natural resource a...             Liu Xin   \n1205  GT Exclusive: Mainland tax, natural resource a...             Liu Xin   \n1206  GT Exclusive: Mainland tax, natural resource a...             Liu Xin   \n1207  GT Exclusive: Mainland tax, natural resource a...             Liu Xin   \n\n     published_time                                       article_text  \\\n0        2024-03-07   \\n\\nPeople walk past destroyed buildings in t...   \n1        2024-03-07   \\n\\nChildren are pictured at Al-Maghazi refug...   \n2        2024-03-07  There is no distinction between noble and humb...   \n3        2024-03-07  US President Joe Biden is expected to deliver ...   \n4        2024-03-07  A Houthi missile attack on a merchant ship in ...   \n...             ...                                                ...   \n1203     2023-10-22  Chinese mainland tax authorities have conducte...   \n1204     2023-10-22  Chinese mainland tax authorities have conducte...   \n1205     2023-10-22  Chinese mainland tax authorities have conducte...   \n1206     2023-10-22  Chinese mainland tax authorities have conducte...   \n1207     2023-10-22  Chinese mainland tax authorities have conducte...   \n\n     article_category_one article_category_two  \\\n0                   PHOTO                WORLD   \n1                   PHOTO                WORLD   \n2                   CHINA             POLITICS   \n3                   CHINA            DIPLOMACY   \n4                   CHINA            DIPLOMACY   \n...                   ...                  ...   \n1203                CHINA             POLITICS   \n1204                CHINA             POLITICS   \n1205                CHINA             POLITICS   \n1206                CHINA             POLITICS   \n1207                CHINA             POLITICS   \n\n                                    picture_description  \\\n0     A young man walks past destroyed buildings in ...   \n1     A vendor makes desserts at Al-Maghazi refugee ...   \n2     People walk past destroyed buildings in the so...   \n3     US President Joe Biden speaks during a meeting...   \n4     A container ship sails in the Red Sea in the S...   \n...                                                 ...   \n1203                                 Foxconn Photo: VCG   \n1204                                 Foxconn Photo: VCG   \n1205                                 Foxconn Photo: VCG   \n1206                                 Foxconn Photo: VCG   \n1207                                 Foxconn Photo: VCG   \n\n                  author_title  \\\n0     Author detiles not found   \n1     Author detiles not found   \n2     Author detiles not found   \n3     Author detiles not found   \n4     Author detiles not found   \n...                        ...   \n1203         Reporter, Beijing   \n1204         Reporter, Beijing   \n1205         Reporter, Beijing   \n1206         Reporter, Beijing   \n1207         Reporter, Beijing   \n\n                                     author_description  \n0                              Author detiles not found  \n1                              Author detiles not found  \n2                              Author detiles not found  \n3                              Author detiles not found  \n4                              Author detiles not found  \n...                                                 ...  \n1203  Liu Xin co-leads the Global Times China desk. ...  \n1204  Liu Xin co-leads the Global Times China desk. ...  \n1205  Liu Xin co-leads the Global Times China desk. ...  \n1206  Liu Xin co-leads the Global Times China desk. ...  \n1207  Liu Xin co-leads the Global Times China desk. ...  \n\n[1208 rows x 9 columns]",
      "text/html": "<div>\n<style scoped>\n    .dataframe tbody tr th:only-of-type {\n        vertical-align: middle;\n    }\n\n    .dataframe tbody tr th {\n        vertical-align: top;\n    }\n\n    .dataframe thead th {\n        text-align: right;\n    }\n</style>\n<table border=\"1\" class=\"dataframe\">\n  <thead>\n    <tr style=\"text-align: right;\">\n      <th></th>\n      <th>article_title</th>\n      <th>author</th>\n      <th>published_time</th>\n      <th>article_text</th>\n      <th>article_category_one</th>\n      <th>article_category_two</th>\n      <th>picture_description</th>\n      <th>author_title</th>\n      <th>author_description</th>\n    </tr>\n  </thead>\n  <tbody>\n    <tr>\n      <th>0</th>\n      <td>Palestinian death toll in Gaza from Israeli at...</td>\n      <td>Xinhua</td>\n      <td>2024-03-07</td>\n      <td>\\n\\nPeople walk past destroyed buildings in t...</td>\n      <td>PHOTO</td>\n      <td>WORLD</td>\n      <td>A young man walks past destroyed buildings in ...</td>\n      <td>Author detiles not found</td>\n      <td>Author detiles not found</td>\n    </tr>\n    <tr>\n      <th>1</th>\n      <td>Daily life at Al-Maghazi refugee camp in Gaza ...</td>\n      <td>Xinhua</td>\n      <td>2024-03-07</td>\n      <td>\\n\\nChildren are pictured at Al-Maghazi refug...</td>\n      <td>PHOTO</td>\n      <td>WORLD</td>\n      <td>A vendor makes desserts at Al-Maghazi refugee ...</td>\n      <td>Author detiles not found</td>\n      <td>Author detiles not found</td>\n    </tr>\n    <tr>\n      <th>2</th>\n      <td>Two-State solution only way to break vicious c...</td>\n      <td>Global Times</td>\n      <td>2024-03-07</td>\n      <td>There is no distinction between noble and humb...</td>\n      <td>CHINA</td>\n      <td>POLITICS</td>\n      <td>People walk past destroyed buildings in the so...</td>\n      <td>Author detiles not found</td>\n      <td>Author detiles not found</td>\n    </tr>\n    <tr>\n      <th>3</th>\n      <td>Biden to deliver State of the Union address</td>\n      <td>GT staff reporters</td>\n      <td>2024-03-07</td>\n      <td>US President Joe Biden is expected to deliver ...</td>\n      <td>CHINA</td>\n      <td>DIPLOMACY</td>\n      <td>US President Joe Biden speaks during a meeting...</td>\n      <td>Author detiles not found</td>\n      <td>Author detiles not found</td>\n    </tr>\n    <tr>\n      <th>4</th>\n      <td>Houthi attacks in Red Sea reports first fatali...</td>\n      <td>Fan Anqi</td>\n      <td>2024-03-07</td>\n      <td>A Houthi missile attack on a merchant ship in ...</td>\n      <td>CHINA</td>\n      <td>DIPLOMACY</td>\n      <td>A container ship sails in the Red Sea in the S...</td>\n      <td>Author detiles not found</td>\n      <td>Author detiles not found</td>\n    </tr>\n    <tr>\n      <th>...</th>\n      <td>...</td>\n      <td>...</td>\n      <td>...</td>\n      <td>...</td>\n      <td>...</td>\n      <td>...</td>\n      <td>...</td>\n      <td>...</td>\n      <td>...</td>\n    </tr>\n    <tr>\n      <th>1203</th>\n      <td>GT Exclusive: Mainland tax, natural resource a...</td>\n      <td>Liu Xin</td>\n      <td>2023-10-22</td>\n      <td>Chinese mainland tax authorities have conducte...</td>\n      <td>CHINA</td>\n      <td>POLITICS</td>\n      <td>Foxconn Photo: VCG</td>\n      <td>Reporter, Beijing</td>\n      <td>Liu Xin co-leads the Global Times China desk. ...</td>\n    </tr>\n    <tr>\n      <th>1204</th>\n      <td>GT Exclusive: Mainland tax, natural resource a...</td>\n      <td>Liu Xin</td>\n      <td>2023-10-22</td>\n      <td>Chinese mainland tax authorities have conducte...</td>\n      <td>CHINA</td>\n      <td>POLITICS</td>\n      <td>Foxconn Photo: VCG</td>\n      <td>Reporter, Beijing</td>\n      <td>Liu Xin co-leads the Global Times China desk. ...</td>\n    </tr>\n    <tr>\n      <th>1205</th>\n      <td>GT Exclusive: Mainland tax, natural resource a...</td>\n      <td>Liu Xin</td>\n      <td>2023-10-22</td>\n      <td>Chinese mainland tax authorities have conducte...</td>\n      <td>CHINA</td>\n      <td>POLITICS</td>\n      <td>Foxconn Photo: VCG</td>\n      <td>Reporter, Beijing</td>\n      <td>Liu Xin co-leads the Global Times China desk. ...</td>\n    </tr>\n    <tr>\n      <th>1206</th>\n      <td>GT Exclusive: Mainland tax, natural resource a...</td>\n      <td>Liu Xin</td>\n      <td>2023-10-22</td>\n      <td>Chinese mainland tax authorities have conducte...</td>\n      <td>CHINA</td>\n      <td>POLITICS</td>\n      <td>Foxconn Photo: VCG</td>\n      <td>Reporter, Beijing</td>\n      <td>Liu Xin co-leads the Global Times China desk. ...</td>\n    </tr>\n    <tr>\n      <th>1207</th>\n      <td>GT Exclusive: Mainland tax, natural resource a...</td>\n      <td>Liu Xin</td>\n      <td>2023-10-22</td>\n      <td>Chinese mainland tax authorities have conducte...</td>\n      <td>CHINA</td>\n      <td>POLITICS</td>\n      <td>Foxconn Photo: VCG</td>\n      <td>Reporter, Beijing</td>\n      <td>Liu Xin co-leads the Global Times China desk. ...</td>\n    </tr>\n  </tbody>\n</table>\n<p>1208 rows × 9 columns</p>\n</div>"
     },
     "execution_count": 21,
     "metadata": {},
     "output_type": "execute_result"
    }
   ],
   "source": [
    "df = pd.merge(articles, authors, left_on='author', right_on='author_name', how='left')\n",
    "df = df.drop(columns=['author_name'])\n",
    "df.replace(pd.NA, 'Author detiles not found', inplace=True)\n",
    "df.to_csv('gaza_textcontain_after_new_preprocessed.csv')\n",
    "df"
   ],
   "metadata": {
    "collapsed": false,
    "ExecuteTime": {
     "end_time": "2024-11-13T17:35:06.222046600Z",
     "start_time": "2024-11-13T17:35:06.080044800Z"
    }
   }
  },
  {
   "cell_type": "code",
   "execution_count": 22,
   "outputs": [
    {
     "data": {
      "text/plain": "count      1208\nunique        9\ntop       CHINA\nfreq        772\nName: article_category_one, dtype: object"
     },
     "execution_count": 22,
     "metadata": {},
     "output_type": "execute_result"
    }
   ],
   "source": [
    "df['article_category_one'].describe()"
   ],
   "metadata": {
    "collapsed": false,
    "ExecuteTime": {
     "end_time": "2024-11-13T17:35:32.046824700Z",
     "start_time": "2024-11-13T17:35:32.034801600Z"
    }
   }
  },
  {
   "cell_type": "code",
   "execution_count": 10,
   "outputs": [],
   "source": [
    "#senance count\n",
    "df['sentence_count'] = df['article_text'].apply(lambda x: len(x.split('.')) - 1)"
   ],
   "metadata": {
    "collapsed": false,
    "ExecuteTime": {
     "end_time": "2024-11-13T17:33:34.686804500Z",
     "start_time": "2024-11-13T17:33:34.492805700Z"
    }
   }
  },
  {
   "cell_type": "code",
   "execution_count": 11,
   "outputs": [],
   "source": [
    "#word count using tokenization\n",
    "#remove stopwords\n",
    "stop_words = set(stopwords.words('english'))"
   ],
   "metadata": {
    "collapsed": false,
    "ExecuteTime": {
     "end_time": "2024-11-13T17:33:34.687805400Z",
     "start_time": "2024-11-13T17:33:34.535806800Z"
    }
   }
  },
  {
   "cell_type": "code",
   "execution_count": 12,
   "outputs": [],
   "source": [
    "#word count using tokenization\n",
    "df['word_count'] = df['article_text'].apply(lambda x: len([word for word in word_tokenize(x) if word.isalpha()]))"
   ],
   "metadata": {
    "collapsed": false,
    "ExecuteTime": {
     "end_time": "2024-11-13T17:33:39.864809Z",
     "start_time": "2024-11-13T17:33:34.556805700Z"
    }
   }
  },
  {
   "cell_type": "code",
   "execution_count": 13,
   "outputs": [
    {
     "name": "stderr",
     "output_type": "stream",
     "text": [
      "[nltk_data] Downloading package averaged_perceptron_tagger to\n",
      "[nltk_data]     C:\\Users\\lukas\\AppData\\Roaming\\nltk_data...\n",
      "[nltk_data]   Package averaged_perceptron_tagger is already up-to-\n",
      "[nltk_data]       date!\n"
     ]
    },
    {
     "ename": "KeyboardInterrupt",
     "evalue": "",
     "output_type": "error",
     "traceback": [
      "\u001B[1;31m---------------------------------------------------------------------------\u001B[0m",
      "\u001B[1;31mKeyboardInterrupt\u001B[0m                         Traceback (most recent call last)",
      "Cell \u001B[1;32mIn[13], line 3\u001B[0m\n\u001B[0;32m      1\u001B[0m \u001B[38;5;66;03m# part of speech count using tokenization wihout stopwords\u001B[39;00m\n\u001B[0;32m      2\u001B[0m nltk\u001B[38;5;241m.\u001B[39mdownload(\u001B[38;5;124m'\u001B[39m\u001B[38;5;124maveraged_perceptron_tagger\u001B[39m\u001B[38;5;124m'\u001B[39m)\n\u001B[1;32m----> 3\u001B[0m df[\u001B[38;5;124m'\u001B[39m\u001B[38;5;124mpos_count\u001B[39m\u001B[38;5;124m'\u001B[39m] \u001B[38;5;241m=\u001B[39m \u001B[43mdf\u001B[49m\u001B[43m[\u001B[49m\u001B[38;5;124;43m'\u001B[39;49m\u001B[38;5;124;43marticle_text\u001B[39;49m\u001B[38;5;124;43m'\u001B[39;49m\u001B[43m]\u001B[49m\u001B[38;5;241;43m.\u001B[39;49m\u001B[43mapply\u001B[49m\u001B[43m(\u001B[49m\u001B[38;5;28;43;01mlambda\u001B[39;49;00m\u001B[43m \u001B[49m\u001B[43mx\u001B[49m\u001B[43m:\u001B[49m\u001B[43m \u001B[49m\u001B[43mFreqDist\u001B[49m\u001B[43m(\u001B[49m\u001B[43m[\u001B[49m\u001B[43mtag\u001B[49m\u001B[43m \u001B[49m\u001B[38;5;28;43;01mfor\u001B[39;49;00m\u001B[43m \u001B[49m\u001B[43mword\u001B[49m\u001B[43m,\u001B[49m\u001B[43m \u001B[49m\u001B[43mtag\u001B[49m\u001B[43m \u001B[49m\u001B[38;5;129;43;01min\u001B[39;49;00m\u001B[43m \u001B[49m\u001B[43mnltk\u001B[49m\u001B[38;5;241;43m.\u001B[39;49m\u001B[43mpos_tag\u001B[49m\u001B[43m(\u001B[49m\u001B[43mword_tokenize\u001B[49m\u001B[43m(\u001B[49m\u001B[43mx\u001B[49m\u001B[43m)\u001B[49m\u001B[43m)\u001B[49m\u001B[43m \u001B[49m\u001B[38;5;28;43;01mif\u001B[39;49;00m\u001B[43m \u001B[49m\u001B[43mword\u001B[49m\u001B[38;5;241;43m.\u001B[39;49m\u001B[43misalpha\u001B[49m\u001B[43m(\u001B[49m\u001B[43m)\u001B[49m\u001B[43m \u001B[49m\u001B[38;5;129;43;01mand\u001B[39;49;00m\u001B[43m \u001B[49m\u001B[43mword\u001B[49m\u001B[43m \u001B[49m\u001B[38;5;129;43;01mnot\u001B[39;49;00m\u001B[43m \u001B[49m\u001B[38;5;129;43;01min\u001B[39;49;00m\u001B[43m \u001B[49m\u001B[43mstop_words\u001B[49m\u001B[43m]\u001B[49m\u001B[43m)\u001B[49m\u001B[43m)\u001B[49m\n",
      "File \u001B[1;32m~\\anaconda3\\lib\\site-packages\\pandas\\core\\series.py:4771\u001B[0m, in \u001B[0;36mSeries.apply\u001B[1;34m(self, func, convert_dtype, args, **kwargs)\u001B[0m\n\u001B[0;32m   4661\u001B[0m \u001B[38;5;28;01mdef\u001B[39;00m \u001B[38;5;21mapply\u001B[39m(\n\u001B[0;32m   4662\u001B[0m     \u001B[38;5;28mself\u001B[39m,\n\u001B[0;32m   4663\u001B[0m     func: AggFuncType,\n\u001B[1;32m   (...)\u001B[0m\n\u001B[0;32m   4666\u001B[0m     \u001B[38;5;241m*\u001B[39m\u001B[38;5;241m*\u001B[39mkwargs,\n\u001B[0;32m   4667\u001B[0m ) \u001B[38;5;241m-\u001B[39m\u001B[38;5;241m>\u001B[39m DataFrame \u001B[38;5;241m|\u001B[39m Series:\n\u001B[0;32m   4668\u001B[0m \u001B[38;5;250m    \u001B[39m\u001B[38;5;124;03m\"\"\"\u001B[39;00m\n\u001B[0;32m   4669\u001B[0m \u001B[38;5;124;03m    Invoke function on values of Series.\u001B[39;00m\n\u001B[0;32m   4670\u001B[0m \n\u001B[1;32m   (...)\u001B[0m\n\u001B[0;32m   4769\u001B[0m \u001B[38;5;124;03m    dtype: float64\u001B[39;00m\n\u001B[0;32m   4770\u001B[0m \u001B[38;5;124;03m    \"\"\"\u001B[39;00m\n\u001B[1;32m-> 4771\u001B[0m     \u001B[38;5;28;01mreturn\u001B[39;00m \u001B[43mSeriesApply\u001B[49m\u001B[43m(\u001B[49m\u001B[38;5;28;43mself\u001B[39;49m\u001B[43m,\u001B[49m\u001B[43m \u001B[49m\u001B[43mfunc\u001B[49m\u001B[43m,\u001B[49m\u001B[43m \u001B[49m\u001B[43mconvert_dtype\u001B[49m\u001B[43m,\u001B[49m\u001B[43m \u001B[49m\u001B[43margs\u001B[49m\u001B[43m,\u001B[49m\u001B[43m \u001B[49m\u001B[43mkwargs\u001B[49m\u001B[43m)\u001B[49m\u001B[38;5;241;43m.\u001B[39;49m\u001B[43mapply\u001B[49m\u001B[43m(\u001B[49m\u001B[43m)\u001B[49m\n",
      "File \u001B[1;32m~\\anaconda3\\lib\\site-packages\\pandas\\core\\apply.py:1123\u001B[0m, in \u001B[0;36mSeriesApply.apply\u001B[1;34m(self)\u001B[0m\n\u001B[0;32m   1120\u001B[0m     \u001B[38;5;28;01mreturn\u001B[39;00m \u001B[38;5;28mself\u001B[39m\u001B[38;5;241m.\u001B[39mapply_str()\n\u001B[0;32m   1122\u001B[0m \u001B[38;5;66;03m# self.f is Callable\u001B[39;00m\n\u001B[1;32m-> 1123\u001B[0m \u001B[38;5;28;01mreturn\u001B[39;00m \u001B[38;5;28;43mself\u001B[39;49m\u001B[38;5;241;43m.\u001B[39;49m\u001B[43mapply_standard\u001B[49m\u001B[43m(\u001B[49m\u001B[43m)\u001B[49m\n",
      "File \u001B[1;32m~\\anaconda3\\lib\\site-packages\\pandas\\core\\apply.py:1174\u001B[0m, in \u001B[0;36mSeriesApply.apply_standard\u001B[1;34m(self)\u001B[0m\n\u001B[0;32m   1172\u001B[0m     \u001B[38;5;28;01melse\u001B[39;00m:\n\u001B[0;32m   1173\u001B[0m         values \u001B[38;5;241m=\u001B[39m obj\u001B[38;5;241m.\u001B[39mastype(\u001B[38;5;28mobject\u001B[39m)\u001B[38;5;241m.\u001B[39m_values\n\u001B[1;32m-> 1174\u001B[0m         mapped \u001B[38;5;241m=\u001B[39m \u001B[43mlib\u001B[49m\u001B[38;5;241;43m.\u001B[39;49m\u001B[43mmap_infer\u001B[49m\u001B[43m(\u001B[49m\n\u001B[0;32m   1175\u001B[0m \u001B[43m            \u001B[49m\u001B[43mvalues\u001B[49m\u001B[43m,\u001B[49m\n\u001B[0;32m   1176\u001B[0m \u001B[43m            \u001B[49m\u001B[43mf\u001B[49m\u001B[43m,\u001B[49m\n\u001B[0;32m   1177\u001B[0m \u001B[43m            \u001B[49m\u001B[43mconvert\u001B[49m\u001B[38;5;241;43m=\u001B[39;49m\u001B[38;5;28;43mself\u001B[39;49m\u001B[38;5;241;43m.\u001B[39;49m\u001B[43mconvert_dtype\u001B[49m\u001B[43m,\u001B[49m\n\u001B[0;32m   1178\u001B[0m \u001B[43m        \u001B[49m\u001B[43m)\u001B[49m\n\u001B[0;32m   1180\u001B[0m \u001B[38;5;28;01mif\u001B[39;00m \u001B[38;5;28mlen\u001B[39m(mapped) \u001B[38;5;129;01mand\u001B[39;00m \u001B[38;5;28misinstance\u001B[39m(mapped[\u001B[38;5;241m0\u001B[39m], ABCSeries):\n\u001B[0;32m   1181\u001B[0m     \u001B[38;5;66;03m# GH#43986 Need to do list(mapped) in order to get treated as nested\u001B[39;00m\n\u001B[0;32m   1182\u001B[0m     \u001B[38;5;66;03m#  See also GH#25959 regarding EA support\u001B[39;00m\n\u001B[0;32m   1183\u001B[0m     \u001B[38;5;28;01mreturn\u001B[39;00m obj\u001B[38;5;241m.\u001B[39m_constructor_expanddim(\u001B[38;5;28mlist\u001B[39m(mapped), index\u001B[38;5;241m=\u001B[39mobj\u001B[38;5;241m.\u001B[39mindex)\n",
      "File \u001B[1;32m~\\anaconda3\\lib\\site-packages\\pandas\\_libs\\lib.pyx:2924\u001B[0m, in \u001B[0;36mpandas._libs.lib.map_infer\u001B[1;34m()\u001B[0m\n",
      "Cell \u001B[1;32mIn[13], line 3\u001B[0m, in \u001B[0;36m<lambda>\u001B[1;34m(x)\u001B[0m\n\u001B[0;32m      1\u001B[0m \u001B[38;5;66;03m# part of speech count using tokenization wihout stopwords\u001B[39;00m\n\u001B[0;32m      2\u001B[0m nltk\u001B[38;5;241m.\u001B[39mdownload(\u001B[38;5;124m'\u001B[39m\u001B[38;5;124maveraged_perceptron_tagger\u001B[39m\u001B[38;5;124m'\u001B[39m)\n\u001B[1;32m----> 3\u001B[0m df[\u001B[38;5;124m'\u001B[39m\u001B[38;5;124mpos_count\u001B[39m\u001B[38;5;124m'\u001B[39m] \u001B[38;5;241m=\u001B[39m df[\u001B[38;5;124m'\u001B[39m\u001B[38;5;124marticle_text\u001B[39m\u001B[38;5;124m'\u001B[39m]\u001B[38;5;241m.\u001B[39mapply(\u001B[38;5;28;01mlambda\u001B[39;00m x: FreqDist([tag \u001B[38;5;28;01mfor\u001B[39;00m word, tag \u001B[38;5;129;01min\u001B[39;00m \u001B[43mnltk\u001B[49m\u001B[38;5;241;43m.\u001B[39;49m\u001B[43mpos_tag\u001B[49m\u001B[43m(\u001B[49m\u001B[43mword_tokenize\u001B[49m\u001B[43m(\u001B[49m\u001B[43mx\u001B[49m\u001B[43m)\u001B[49m\u001B[43m)\u001B[49m \u001B[38;5;28;01mif\u001B[39;00m word\u001B[38;5;241m.\u001B[39misalpha() \u001B[38;5;129;01mand\u001B[39;00m word \u001B[38;5;129;01mnot\u001B[39;00m \u001B[38;5;129;01min\u001B[39;00m stop_words]))\n",
      "File \u001B[1;32m~\\AppData\\Roaming\\Python\\Python38\\site-packages\\nltk\\tag\\__init__.py:166\u001B[0m, in \u001B[0;36mpos_tag\u001B[1;34m(tokens, tagset, lang)\u001B[0m\n\u001B[0;32m    141\u001B[0m \u001B[38;5;250m\u001B[39m\u001B[38;5;124;03m\"\"\"\u001B[39;00m\n\u001B[0;32m    142\u001B[0m \u001B[38;5;124;03mUse NLTK's currently recommended part of speech tagger to\u001B[39;00m\n\u001B[0;32m    143\u001B[0m \u001B[38;5;124;03mtag the given list of tokens.\u001B[39;00m\n\u001B[1;32m   (...)\u001B[0m\n\u001B[0;32m    163\u001B[0m \u001B[38;5;124;03m:rtype: list(tuple(str, str))\u001B[39;00m\n\u001B[0;32m    164\u001B[0m \u001B[38;5;124;03m\"\"\"\u001B[39;00m\n\u001B[0;32m    165\u001B[0m tagger \u001B[38;5;241m=\u001B[39m _get_tagger(lang)\n\u001B[1;32m--> 166\u001B[0m \u001B[38;5;28;01mreturn\u001B[39;00m \u001B[43m_pos_tag\u001B[49m\u001B[43m(\u001B[49m\u001B[43mtokens\u001B[49m\u001B[43m,\u001B[49m\u001B[43m \u001B[49m\u001B[43mtagset\u001B[49m\u001B[43m,\u001B[49m\u001B[43m \u001B[49m\u001B[43mtagger\u001B[49m\u001B[43m,\u001B[49m\u001B[43m \u001B[49m\u001B[43mlang\u001B[49m\u001B[43m)\u001B[49m\n",
      "File \u001B[1;32m~\\AppData\\Roaming\\Python\\Python38\\site-packages\\nltk\\tag\\__init__.py:123\u001B[0m, in \u001B[0;36m_pos_tag\u001B[1;34m(tokens, tagset, tagger, lang)\u001B[0m\n\u001B[0;32m    120\u001B[0m     \u001B[38;5;28;01mraise\u001B[39;00m \u001B[38;5;167;01mTypeError\u001B[39;00m(\u001B[38;5;124m\"\u001B[39m\u001B[38;5;124mtokens: expected a list of strings, got a string\u001B[39m\u001B[38;5;124m\"\u001B[39m)\n\u001B[0;32m    122\u001B[0m \u001B[38;5;28;01melse\u001B[39;00m:\n\u001B[1;32m--> 123\u001B[0m     tagged_tokens \u001B[38;5;241m=\u001B[39m \u001B[43mtagger\u001B[49m\u001B[38;5;241;43m.\u001B[39;49m\u001B[43mtag\u001B[49m\u001B[43m(\u001B[49m\u001B[43mtokens\u001B[49m\u001B[43m)\u001B[49m\n\u001B[0;32m    124\u001B[0m     \u001B[38;5;28;01mif\u001B[39;00m tagset:  \u001B[38;5;66;03m# Maps to the specified tagset.\u001B[39;00m\n\u001B[0;32m    125\u001B[0m         \u001B[38;5;28;01mif\u001B[39;00m lang \u001B[38;5;241m==\u001B[39m \u001B[38;5;124m\"\u001B[39m\u001B[38;5;124meng\u001B[39m\u001B[38;5;124m\"\u001B[39m:\n",
      "File \u001B[1;32m~\\AppData\\Roaming\\Python\\Python38\\site-packages\\nltk\\tag\\perceptron.py:187\u001B[0m, in \u001B[0;36mPerceptronTagger.tag\u001B[1;34m(self, tokens, return_conf, use_tagdict)\u001B[0m\n\u001B[0;32m    185\u001B[0m \u001B[38;5;28;01mif\u001B[39;00m \u001B[38;5;129;01mnot\u001B[39;00m tag:\n\u001B[0;32m    186\u001B[0m     features \u001B[38;5;241m=\u001B[39m \u001B[38;5;28mself\u001B[39m\u001B[38;5;241m.\u001B[39m_get_features(i, word, context, prev, prev2)\n\u001B[1;32m--> 187\u001B[0m     tag, conf \u001B[38;5;241m=\u001B[39m \u001B[38;5;28;43mself\u001B[39;49m\u001B[38;5;241;43m.\u001B[39;49m\u001B[43mmodel\u001B[49m\u001B[38;5;241;43m.\u001B[39;49m\u001B[43mpredict\u001B[49m\u001B[43m(\u001B[49m\u001B[43mfeatures\u001B[49m\u001B[43m,\u001B[49m\u001B[43m \u001B[49m\u001B[43mreturn_conf\u001B[49m\u001B[43m)\u001B[49m\n\u001B[0;32m    188\u001B[0m output\u001B[38;5;241m.\u001B[39mappend((word, tag, conf) \u001B[38;5;28;01mif\u001B[39;00m return_conf \u001B[38;5;241m==\u001B[39m \u001B[38;5;28;01mTrue\u001B[39;00m \u001B[38;5;28;01melse\u001B[39;00m (word, tag))\n\u001B[0;32m    190\u001B[0m prev2 \u001B[38;5;241m=\u001B[39m prev\n",
      "File \u001B[1;32m~\\AppData\\Roaming\\Python\\Python38\\site-packages\\nltk\\tag\\perceptron.py:66\u001B[0m, in \u001B[0;36mAveragedPerceptron.predict\u001B[1;34m(self, features, return_conf)\u001B[0m\n\u001B[0;32m     64\u001B[0m     weights \u001B[38;5;241m=\u001B[39m \u001B[38;5;28mself\u001B[39m\u001B[38;5;241m.\u001B[39mweights[feat]\n\u001B[0;32m     65\u001B[0m     \u001B[38;5;28;01mfor\u001B[39;00m label, weight \u001B[38;5;129;01min\u001B[39;00m weights\u001B[38;5;241m.\u001B[39mitems():\n\u001B[1;32m---> 66\u001B[0m         scores[label] \u001B[38;5;241m+\u001B[39m\u001B[38;5;241m=\u001B[39m value \u001B[38;5;241m*\u001B[39m weight\n\u001B[0;32m     68\u001B[0m \u001B[38;5;66;03m# Do a secondary alphabetic sort, for stability\u001B[39;00m\n\u001B[0;32m     69\u001B[0m best_label \u001B[38;5;241m=\u001B[39m \u001B[38;5;28mmax\u001B[39m(\u001B[38;5;28mself\u001B[39m\u001B[38;5;241m.\u001B[39mclasses, key\u001B[38;5;241m=\u001B[39m\u001B[38;5;28;01mlambda\u001B[39;00m label: (scores[label], label))\n",
      "\u001B[1;31mKeyboardInterrupt\u001B[0m: "
     ]
    }
   ],
   "source": [
    "# part of speech count using tokenization wihout stopwords\n",
    "nltk.download('averaged_perceptron_tagger')\n",
    "df['pos_count'] = df['article_text'].apply(lambda x: FreqDist([tag for word, tag in nltk.pos_tag(word_tokenize(x)) if word.isalpha() and word not in stop_words]))"
   ],
   "metadata": {
    "collapsed": false,
    "ExecuteTime": {
     "end_time": "2024-11-13T17:34:12.795841900Z",
     "start_time": "2024-11-13T17:33:39.866806500Z"
    }
   }
  },
  {
   "cell_type": "code",
   "execution_count": null,
   "outputs": [],
   "source": [
    "df['pos_count'].tolist()"
   ],
   "metadata": {
    "collapsed": false
   }
  },
  {
   "cell_type": "code",
   "execution_count": null,
   "outputs": [],
   "source": [
    "#pos count to data frame\n",
    "df_pos = pd.DataFrame(df['pos_count'].tolist())\n",
    "df_pos.fillna(0, inplace=True)\n",
    "df_pos['sentence_count'] = df['sentence_count']\n",
    "df_pos['word_count'] = df['word_count']\n",
    "df_pos"
   ],
   "metadata": {
    "collapsed": false
   }
  },
  {
   "cell_type": "markdown",
   "source": [
    "## Visualizations"
   ],
   "metadata": {
    "collapsed": false
   }
  },
  {
   "cell_type": "code",
   "execution_count": null,
   "outputs": [],
   "source": [
    "import matplotlib.pyplot as plt\n",
    "import seaborn as sns\n",
    "from wordcloud import WordCloud\n",
    "import plotly.graph_objects as go\n"
   ],
   "metadata": {
    "collapsed": false
   }
  },
  {
   "cell_type": "code",
   "execution_count": null,
   "outputs": [],
   "source": [
    "#word count; cut at 1000\n",
    "plt.figure(figsize=(12, 10))\n",
    "sns.histplot(df['word_count'], bins=20, kde=True)\n",
    "plt.xlim(0, 2000)\n",
    "#mean line\n",
    "plt.axvline(df['word_count'].mean(), color='red', linestyle='dashed', linewidth=2, label='Mean')\n",
    "plt.legend()\n",
    "plt.title('Word Count Distribution')\n",
    "plt.show()"
   ],
   "metadata": {
    "collapsed": false
   }
  },
  {
   "cell_type": "code",
   "execution_count": null,
   "outputs": [],
   "source": [
    "#sentence count; cut at 100\n",
    "plt.figure(figsize=(12, 10))\n",
    "sns.histplot(df['sentence_count'], bins=20, kde=True)\n",
    "plt.xlim(0, 100)\n",
    "#mean line\n",
    "plt.axvline(df['sentence_count'].mean(), color='red', linestyle='dashed', linewidth=2, label='Mean')\n",
    "plt.legend()\n",
    "plt.title('Sentence Count Distribution')\n",
    "plt.show()\n"
   ],
   "metadata": {
    "collapsed": false
   }
  },
  {
   "cell_type": "code",
   "execution_count": null,
   "outputs": [],
   "source": [
    "#wordcloud form freqdist\n",
    "fdist = FreqDist([word for word in word_tokenize(' '.join(df['article_text'])) if word.isalpha() and word not in stop_words])\n",
    "wordcloud = WordCloud(width=400, height=400, background_color='white').generate_from_frequencies(dict(fdist.most_common(100)))\n",
    "plt.figure(figsize=(12, 10))\n",
    "plt.imshow(wordcloud)\n",
    "plt.axis('off')\n",
    "plt.title('Top 100 Most Common Words')\n",
    "plt.show()"
   ],
   "metadata": {
    "collapsed": false
   }
  },
  {
   "cell_type": "code",
   "execution_count": null,
   "outputs": [],
   "source": [
    "#top 10 most common part of speech\n",
    "plt.figure(figsize=(12, 10))\n",
    "df_pos.drop(columns=['sentence_count', 'word_count']).sum().sort_values(ascending=False).head(10).plot(kind='bar')\n",
    "plt.title('Top 10 Most Common Part of Speech')\n",
    "#turn x labels\n",
    "plt.xticks(rotation=45)\n",
    "plt.show()"
   ],
   "metadata": {
    "collapsed": false
   }
  },
  {
   "cell_type": "markdown",
   "source": [
    "### Total POS"
   ],
   "metadata": {
    "collapsed": false
   }
  },
  {
   "cell_type": "code",
   "execution_count": null,
   "outputs": [],
   "source": [
    "NN = FreqDist([word for word, tag in nltk.pos_tag(word_tokenize(' '.join(df['article_text']))) if tag ==\"NN\" and word.isalpha() and word not in stop_words])\n",
    "NNP = FreqDist([word for word, tag in nltk.pos_tag(word_tokenize(' '.join(df['article_text']))) if tag ==\"NNP\" and word.isalpha() and word not in stop_words])\n",
    "JJ = FreqDist([word for word, tag in nltk.pos_tag(word_tokenize(' '.join(df['article_text']))) if tag ==\"JJ\" and word.isalpha() and word not in stop_words])\n",
    "NNS = FreqDist([word for word, tag in nltk.pos_tag(word_tokenize(' '.join(df['article_text']))) if tag ==\"NNS\" and word.isalpha() and word not in stop_words])\n",
    "VB = FreqDist([word for word, tag in nltk.pos_tag(word_tokenize(' '.join(df['article_text']))) if tag ==\"VB\" and word.isalpha() and word not in stop_words])\n",
    "RB = FreqDist([word for word, tag in nltk.pos_tag(word_tokenize(' '.join(df['article_text']))) if tag ==\"RB\" and word.isalpha() and word not in stop_words])"
   ],
   "metadata": {
    "collapsed": false
   }
  },
  {
   "cell_type": "code",
   "execution_count": null,
   "outputs": [],
   "source": [
    "plt.figure(figsize=(12, 18))\n",
    "plt.subplot(3, 2, 1)\n",
    "wordcloud = WordCloud(width=400, height=400, background_color='white').generate_from_frequencies(dict(NN.most_common(100)))\n",
    "plt.imshow(wordcloud)\n",
    "plt.axis('off')\n",
    "plt.title('Top 100 Most Common Words of NN')\n",
    "\n",
    "\n",
    "plt.subplot(3, 2, 2)\n",
    "wordcloud = WordCloud(width=400, height=400, background_color='white').generate_from_frequencies(dict(NNP.most_common(100)))\n",
    "plt.imshow(wordcloud)\n",
    "plt.axis('off')\n",
    "plt.title('Top 100 Most Common Words of NNP')\n",
    "\n",
    "\n",
    "plt.subplot(3, 2, 3)\n",
    "wordcloud = WordCloud(width=400, height=400, background_color='white').generate_from_frequencies(dict(JJ.most_common(100)))\n",
    "plt.imshow(wordcloud)\n",
    "plt.axis('off')\n",
    "plt.title('Top 100 Most Common Words of JJ')\n",
    "\n",
    "\n",
    "plt.subplot(3, 2, 4)\n",
    "wordcloud = WordCloud(width=400, height=400, background_color='white').generate_from_frequencies(dict(NNS.most_common(100)))\n",
    "plt.imshow(wordcloud)\n",
    "plt.axis('off')\n",
    "plt.title('Top 100 Most Common Words of NNS')\n",
    "\n",
    "\n",
    "plt.subplot(3, 2, 5)\n",
    "wordcloud = WordCloud(width=400, height=400, background_color='white').generate_from_frequencies(dict(RB.most_common(100)))\n",
    "plt.imshow(wordcloud)\n",
    "plt.axis('off')\n",
    "plt.title('Top 100 Most Common Words of VB')\n",
    "\n",
    "plt.subplot(3, 2, 6)\n",
    "wordcloud = WordCloud(width=400, height=400, background_color='white').generate_from_frequencies(dict(NN.most_common(100)))\n",
    "plt.imshow(wordcloud)\n",
    "plt.axis('off')\n",
    "plt.title('Top 100 Most Common Words of RB')\n",
    "\n",
    "\n",
    "plt.show()\n"
   ],
   "metadata": {
    "collapsed": false
   }
  },
  {
   "cell_type": "code",
   "execution_count": null,
   "outputs": [],
   "source": [
    "wordcloud = WordCloud(width=400, height=400, background_color='white').generate_from_frequencies(dict(fdist.most_common(100)))\n",
    "plt.figure(figsize=(12, 10))\n",
    "plt.imshow(wordcloud)\n",
    "plt.axis('off')\n",
    "plt.title('Top 100 Most Common Words')\n",
    "plt.show()"
   ],
   "metadata": {
    "collapsed": false
   }
  },
  {
   "cell_type": "code",
   "execution_count": null,
   "outputs": [],
   "source": [
    "#sns countplot for article categories\n",
    "plt.figure(figsize=(12, 10))\n",
    "sns.countplot(y=df['article_category_one'], order=df['article_category_one'].value_counts().index, color='blue')\n",
    "plt.title('Article Categories')\n"
   ],
   "metadata": {
    "collapsed": false
   }
  },
  {
   "cell_type": "code",
   "execution_count": null,
   "outputs": [],
   "source": [
    "#plot for category one = opinion\n",
    "#3 plots in a row\n",
    "plt.figure(figsize=(15, 10))\n",
    "\n",
    "plt.subplot(1, 3, 1)\n",
    "sns.countplot(x=df[df['article_category_one'] == 'OPINION']['article_category_two'],  color='blue', order=df[df['article_category_one'] == 'OPINION']['article_category_two'].value_counts().index )\n",
    "plt.xticks(rotation=45)\n",
    "plt.ylim(0, 600)\n",
    "plt.title('OPINION Subcategories')\n",
    "\n",
    "plt.subplot(1, 3, 2)\n",
    "sns.countplot(x=df[df['article_category_one'] == 'WORLD']['article_category_two'],  color='blue', order=df[df['article_category_one'] == 'WORLD']['article_category_two'].value_counts().index)\n",
    "plt.title('WORLD Subcategories')\n",
    "plt.xticks(rotation=45)\n",
    "plt.ylim(0, 600)\n",
    "\n",
    "plt.subplot(1, 3, 3)\n",
    "sns.countplot(x=df[df['article_category_one'] == 'CHINA']['article_category_two'],  color='blue', order=df[df['article_category_one'] == 'CHINA']['article_category_two'].value_counts().index)\n",
    "plt.title('CHINA Subcategories')\n",
    "plt.xticks(rotation=45)\n",
    "plt.ylim(0, 600)\n",
    "plt.show()\n"
   ],
   "metadata": {
    "collapsed": false
   }
  },
  {
   "cell_type": "code",
   "execution_count": null,
   "outputs": [],
   "source": [],
   "metadata": {
    "collapsed": false
   }
  },
  {
   "cell_type": "markdown",
   "source": [
    "### POS: diplomacy vs columnists"
   ],
   "metadata": {
    "collapsed": false
   }
  },
  {
   "cell_type": "code",
   "execution_count": null,
   "outputs": [],
   "source": [
    "NN = FreqDist([word for word, tag in nltk.pos_tag(word_tokenize(' '.join(df['article_text'][df['article_category_two'] == 'DIPLOMACY']))) if tag ==\"NN\" and word.isalpha() and word not in stop_words])\n",
    "NNP = FreqDist([word for word, tag in nltk.pos_tag(word_tokenize(' '.join(df['article_text'][df['article_category_two'] == 'DIPLOMACY']))) if tag ==\"NNP\" and word.isalpha() and word not in stop_words])\n",
    "JJ = FreqDist([word for word, tag in nltk.pos_tag(word_tokenize(' '.join(df['article_text'][df['article_category_two'] == 'DIPLOMACY']))) if tag ==\"JJ\" and word.isalpha() and word not in stop_words])\n",
    "NNS = FreqDist([word for word, tag in nltk.pos_tag(word_tokenize(' '.join(df['article_text'][df['article_category_two'] == 'DIPLOMACY']))) if tag ==\"NNS\" and word.isalpha() and word not in stop_words])\n",
    "VB = FreqDist([word for word, tag in nltk.pos_tag(word_tokenize(' '.join(df['article_text'][df['article_category_two'] == 'DIPLOMACY']))) if tag ==\"VB\" and word.isalpha() and word not in stop_words])\n",
    "RB = FreqDist([word for word, tag in nltk.pos_tag(word_tokenize(' '.join(df['article_text'][df['article_category_two'] == 'DIPLOMACY']))) if tag ==\"RB\" and word.isalpha() and word not in stop_words])\n"
   ],
   "metadata": {
    "collapsed": false
   }
  },
  {
   "cell_type": "code",
   "execution_count": null,
   "outputs": [],
   "source": [
    "plt.figure(figsize=(6, 36))\n",
    "plt.subplot(6, 1, 1)\n",
    "wordcloud = WordCloud(width=400, height=400, background_color='white').generate_from_frequencies(dict(NN.most_common(100)))\n",
    "plt.imshow(wordcloud)\n",
    "plt.axis('off')\n",
    "plt.title('Top 100 Most Common Words of NN')\n",
    "\n",
    "\n",
    "plt.subplot(6, 1, 2)\n",
    "wordcloud = WordCloud(width=400, height=400, background_color='white').generate_from_frequencies(dict(NNP.most_common(100)))\n",
    "plt.imshow(wordcloud)\n",
    "plt.axis('off')\n",
    "plt.title('Top 100 Most Common Words of NNP')\n",
    "\n",
    "\n",
    "plt.subplot(6, 1, 3)\n",
    "wordcloud = WordCloud(width=400, height=400, background_color='white').generate_from_frequencies(dict(JJ.most_common(100)))\n",
    "plt.imshow(wordcloud)\n",
    "plt.axis('off')\n",
    "plt.title('Top 100 Most Common Words of JJ')\n",
    "\n",
    "\n",
    "plt.subplot(6, 1, 4)\n",
    "wordcloud = WordCloud(width=400, height=400, background_color='white').generate_from_frequencies(dict(NNS.most_common(100)))\n",
    "plt.imshow(wordcloud)\n",
    "plt.axis('off')\n",
    "plt.title('Top 100 Most Common Words of NNS')\n",
    "\n",
    "\n",
    "plt.subplot(6, 1, 5)\n",
    "wordcloud = WordCloud(width=400, height=400, background_color='white').generate_from_frequencies(dict(RB.most_common(100)))\n",
    "plt.imshow(wordcloud)\n",
    "plt.axis('off')\n",
    "plt.title('Top 100 Most Common Words of VB')\n",
    "\n",
    "plt.subplot(6, 1, 6)\n",
    "wordcloud = WordCloud(width=400, height=400, background_color='white').generate_from_frequencies(dict(NN.most_common(100)))\n",
    "plt.imshow(wordcloud)\n",
    "plt.axis('off')\n",
    "plt.title('Top 100 Most Common Words of RB')\n",
    "\n",
    "\n",
    "plt.show()\n"
   ],
   "metadata": {
    "collapsed": false
   }
  },
  {
   "cell_type": "code",
   "execution_count": null,
   "outputs": [],
   "source": [
    "NN = FreqDist([word for word, tag in nltk.pos_tag(word_tokenize(' '.join(df['article_text'][df['article_category_two'] == 'COLUMNISTS']))) if tag ==\"NN\" and word.isalpha() and word not in stop_words])\n",
    "NNP = FreqDist([word for word, tag in nltk.pos_tag(word_tokenize(' '.join(df['article_text'][df['article_category_two'] == 'COLUMNISTS']))) if tag ==\"NNP\" and word.isalpha() and word not in stop_words])\n",
    "JJ = FreqDist([word for word, tag in nltk.pos_tag(word_tokenize(' '.join(df['article_text'][df['article_category_two'] == 'COLUMNISTS']))) if tag ==\"JJ\" and word.isalpha() and word not in stop_words])\n",
    "NNS = FreqDist([word for word, tag in nltk.pos_tag(word_tokenize(' '.join(df['article_text'][df['article_category_two'] == 'COLUMNISTS']))) if tag ==\"NNS\" and word.isalpha() and word not in stop_words])\n",
    "VB = FreqDist([word for word, tag in nltk.pos_tag(word_tokenize(' '.join(df['article_text'][df['article_category_two'] == 'COLUMNISTS']))) if tag ==\"VB\" and word.isalpha() and word not in stop_words])\n",
    "RB = FreqDist([word for word, tag in nltk.pos_tag(word_tokenize(' '.join(df['article_text'][df['article_category_two'] == 'COLUMNISTS']))) if tag ==\"RB\" and word.isalpha() and word not in stop_words])\n"
   ],
   "metadata": {
    "collapsed": false
   }
  },
  {
   "cell_type": "code",
   "execution_count": null,
   "outputs": [],
   "source": [
    "plt.figure(figsize=(6, 36))\n",
    "plt.subplot(6, 1, 1)\n",
    "wordcloud = WordCloud(width=400, height=400, background_color='white').generate_from_frequencies(dict(NN.most_common(100)))\n",
    "plt.imshow(wordcloud)\n",
    "plt.axis('off')\n",
    "plt.title('Top 100 Most Common Words of NN')\n",
    "\n",
    "\n",
    "plt.subplot(6, 1, 2)\n",
    "wordcloud = WordCloud(width=400, height=400, background_color='white').generate_from_frequencies(dict(NNP.most_common(100)))\n",
    "plt.imshow(wordcloud)\n",
    "plt.axis('off')\n",
    "plt.title('Top 100 Most Common Words of NNP')\n",
    "\n",
    "\n",
    "plt.subplot(6, 1, 3)\n",
    "wordcloud = WordCloud(width=400, height=400, background_color='white').generate_from_frequencies(dict(JJ.most_common(100)))\n",
    "plt.imshow(wordcloud)\n",
    "plt.axis('off')\n",
    "plt.title('Top 100 Most Common Words of JJ')\n",
    "\n",
    "\n",
    "plt.subplot(6, 1, 4)\n",
    "wordcloud = WordCloud(width=400, height=400, background_color='white').generate_from_frequencies(dict(NNS.most_common(100)))\n",
    "plt.imshow(wordcloud)\n",
    "plt.axis('off')\n",
    "plt.title('Top 100 Most Common Words of NNS')\n",
    "\n",
    "\n",
    "plt.subplot(6, 1, 5)\n",
    "wordcloud = WordCloud(width=400, height=400, background_color='white').generate_from_frequencies(dict(RB.most_common(100)))\n",
    "plt.imshow(wordcloud)\n",
    "plt.axis('off')\n",
    "plt.title('Top 100 Most Common Words of VB')\n",
    "\n",
    "plt.subplot(6, 1, 6)\n",
    "wordcloud = WordCloud(width=400, height=400, background_color='white').generate_from_frequencies(dict(NN.most_common(100)))\n",
    "plt.imshow(wordcloud)\n",
    "plt.axis('off')\n",
    "plt.title('Top 100 Most Common Words of RB')\n",
    "\n",
    "\n",
    "plt.show()\n"
   ],
   "metadata": {
    "collapsed": false
   }
  }
 ],
 "metadata": {
  "kernelspec": {
   "display_name": "Python 3",
   "language": "python",
   "name": "python3"
  },
  "language_info": {
   "codemirror_mode": {
    "name": "ipython",
    "version": 2
   },
   "file_extension": ".py",
   "mimetype": "text/x-python",
   "name": "python",
   "nbconvert_exporter": "python",
   "pygments_lexer": "ipython2",
   "version": "2.7.6"
  }
 },
 "nbformat": 4,
 "nbformat_minor": 0
}
