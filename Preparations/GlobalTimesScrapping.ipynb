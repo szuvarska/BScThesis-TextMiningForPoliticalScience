{
 "cells": [
  {
   "cell_type": "code",
   "execution_count": 1,
   "id": "896cbd61",
   "metadata": {
    "ExecuteTime": {
     "end_time": "2024-11-11T11:56:37.881363100Z",
     "start_time": "2024-11-11T11:56:36.660355800Z"
    }
   },
   "outputs": [],
   "source": [
    "from bs4 import BeautifulSoup\n",
    "import requests\n",
    "from selenium import webdriver\n",
    "from selenium.webdriver.chrome.service import Service\n",
    "import pandas as pd\n",
    "from tqdm import tqdm"
   ]
  },
  {
   "cell_type": "code",
   "execution_count": 40,
   "id": "1ec8f5e9",
   "metadata": {
    "ExecuteTime": {
     "end_time": "2024-11-11T15:06:25.326791200Z",
     "start_time": "2024-11-11T15:06:25.315720100Z"
    }
   },
   "outputs": [],
   "source": [
    "#ukraine\n",
    "#gt_base_url = 'https://search.globaltimes.cn/SearchCtrl?title=Ukraine Russia&begin_date=2022-02-24&end_date=2022-06-23&orderByTime=yes&page_no={}'\n",
    "#gt_base_url = 'https://search.globaltimes.cn/SearchCtrl?textPage=Ukraine&begin_date=2022-02-24&end_date=2022-08-23&orderByTime=yes&page_no={}'\n",
    "#gt_base_url = 'https://search.globaltimes.cn/SearchCtrl?textPage=Ukraine&begin_date=2021-08-24&end_date=2022-02-23&orderByTime=yes&page_no={}'\n",
    "\n",
    "#Gaza\n",
    "#gt_base_url = 'https://search.globaltimes.cn/SearchCtrl?textPage=Gaza Israel Palestine&begin_date=2023-10-06&end_date=2024-03-07&orderByTime=yes&page_no={}'\n",
    "gt_base_url = 'https://search.globaltimes.cn/SearchCtrl?textPage=Gaza Israel Palestine&begin_date=2023-03-0&end_date=2023-10-06&orderByTime=yes&page_no={}'"
   ]
  },
  {
   "cell_type": "code",
   "execution_count": 41,
   "id": "6d3559cb",
   "metadata": {
    "ExecuteTime": {
     "end_time": "2024-11-11T15:07:02.679742600Z",
     "start_time": "2024-11-11T15:06:27.184216200Z"
    }
   },
   "outputs": [
    {
     "name": "stderr",
     "output_type": "stream",
     "text": [
      "100%|██████████| 49/49 [00:35<00:00,  1.38it/s]"
     ]
    },
    {
     "name": "stdout",
     "output_type": "stream",
     "text": [
      "Total links collected: 482\n",
      "Sample links: ['https://www.globaltimes.cn/page/202309/1299106.shtml', 'https://www.globaltimes.cn/page/202309/1299020.shtml', 'https://www.globaltimes.cn/page/202309/1298931.shtml', 'https://www.globaltimes.cn/page/202309/1298698.shtml', 'https://www.globaltimes.cn/page/202309/1298601.shtml']\n"
     ]
    },
    {
     "name": "stderr",
     "output_type": "stream",
     "text": [
      "\n"
     ]
    }
   ],
   "source": [
    "links = []\n",
    "for page_number in tqdm(range(1, 50)):  #loop from page 1 to 165\n",
    "    gt_url = gt_base_url.format(page_number)\n",
    "    #print(gt_url)\n",
    "    #print(\"Processing page:\", page_number)\n",
    "    \n",
    "    r = requests.get(gt_url)\n",
    "    b = BeautifulSoup(r.content, 'html.parser')\n",
    "\n",
    "    for news in b.findAll('div', {'class': 'span9'}):\n",
    "        link = news.find('a')['href']\n",
    "        links.append(link)\n",
    "\n",
    "print(\"Total links collected:\", len(links))\n",
    "print(\"Sample links:\", links[:5])"
   ]
  },
  {
   "cell_type": "code",
   "execution_count": 42,
   "id": "4718455e",
   "metadata": {
    "ExecuteTime": {
     "end_time": "2024-11-11T15:19:27.250311400Z",
     "start_time": "2024-11-11T15:07:07.113645400Z"
    }
   },
   "outputs": [
    {
     "name": "stderr",
     "output_type": "stream",
     "text": [
      " 12%|█▏        | 60/482 [01:49<10:28,  1.49s/it]"
     ]
    },
    {
     "name": "stdout",
     "output_type": "stream",
     "text": [
      "Author and published time not found, trying again\n"
     ]
    },
    {
     "name": "stderr",
     "output_type": "stream",
     "text": [
      " 23%|██▎       | 112/482 [03:18<10:20,  1.68s/it]"
     ]
    },
    {
     "name": "stdout",
     "output_type": "stream",
     "text": [
      "Author not found, trying again\n",
      "Author not found, trying again\n",
      "Author not found, trying again\n",
      "Author not found, trying again\n",
      "Author not found, trying again\n",
      "Author not found, trying again\n"
     ]
    },
    {
     "name": "stderr",
     "output_type": "stream",
     "text": [
      "100%|██████████| 482/482 [12:12<00:00,  1.52s/it]\n"
     ]
    }
   ],
   "source": [
    "#initialize webdriver\n",
    "driver = webdriver.Chrome()\n",
    "\n",
    "article_titles = []\n",
    "authors = []\n",
    "published_times = []\n",
    "article_texts = []\n",
    "article_categories_one = []\n",
    "article_categories_two = []\n",
    "picture_descriptions = []\n",
    "keywords = []\n",
    "descriptions = []\n",
    "authors_description_links = []\n",
    "\n",
    "#loop through each link\n",
    "for link in tqdm(links):\n",
    "    #navigate to the page containing the article\n",
    "    driver.get(link)\n",
    "\n",
    "    #extract the HTML content of the page\n",
    "    html_content = driver.page_source\n",
    "\n",
    "    #parse the HTML content\n",
    "    soup = BeautifulSoup(html_content, \"html.parser\")\n",
    "\n",
    "    #find article title\n",
    "    article_title_elem = soup.find(\"div\", class_=\"article_title\")\n",
    "    article_title = article_title_elem.text.strip() if article_title_elem else \"Title not found\"\n",
    "    article_titles.append(article_title)\n",
    "\n",
    "    #find author and published time\n",
    "    author_published_time = soup.find(\"div\", class_=\"author_share_left\")\n",
    "    if author_published_time == None:\n",
    "        print(\"Author and published time not found, trying again\")\n",
    "        driver.get(link)\n",
    "        html_content = driver.page_source\n",
    "        soup = BeautifulSoup(html_content, \"html.parser\")\n",
    "        author_published_time = soup.find(\"div\", class_=\"author_share_left\")\n",
    "\n",
    "    published_time = author_published_time.find(\"span\", class_=\"pub_time\").text.strip() if author_published_time else \"Published time not found\"\n",
    "    published_times.append(published_time)\n",
    "\n",
    "    ##find author\n",
    "    author_elem = soup.find(\"span\", class_=\"byline\")\n",
    "\n",
    "    iter = 0\n",
    "    while author_elem == None:\n",
    "        print(\"Author not found, trying again\")\n",
    "        driver.get(link)\n",
    "        html_content = driver.page_source\n",
    "        soup = BeautifulSoup(html_content, \"html.parser\")\n",
    "        author_elem = soup.find(\"span\", class_=\"byline\")\n",
    "        iter += 1\n",
    "        if iter > 5: break\n",
    "    author = author_elem.text.strip() if author_elem else \"Author not found\"\n",
    "    author_card = author_elem.find(\"div\", class_ = \"card_author_name\") if author_elem else None\n",
    "\n",
    "    if author_card:\n",
    "        author_description_link = author_card.find(\"a\")[\"href\"]\n",
    "        authors_description_links.append(author_description_link)\n",
    "        author = author_card.find(\"a\").text\n",
    "    authors.append(author)\n",
    "\n",
    "    #find article text\n",
    "    article_content_elem = soup.find(\"div\", class_=\"article_content\")\n",
    "    article_text = article_content_elem.text.strip() if article_content_elem else \"Article text not found\"\n",
    "    article_texts.append(article_text)\n",
    "\n",
    "    #articla category\n",
    "    article_column_elem = soup.find(\"div\", class_=\"article_column\")\n",
    "    if article_column_elem:\n",
    "        article_category_one_elem = article_column_elem.find(\"span\", class_= \"cloumm_level_one\")\n",
    "        aticlal_category_one = article_category_one_elem.text if article_category_one_elem else \"Category one not found\"\n",
    "        article_categories_one.append(aticlal_category_one)\n",
    "\n",
    "        article_category_two_elem = article_column_elem.find(\"span\", class_= \"cloumm_level_two\")\n",
    "        article_category_two = article_category_two_elem.text if article_category_two_elem else \"Category two not found\"\n",
    "        article_categories_two.append(article_category_two)\n",
    "    else:\n",
    "        article_categories_one.append(\"Category one not found\")\n",
    "        article_categories_two.append(\"Category two not found\")\n",
    "\n",
    "    #picture description\n",
    "    picture_description_elem = soup.find(\"p\", class_=\"picture\")\n",
    "    picture_description = picture_description_elem.text.strip() if picture_description_elem else \"Picture description not found\"\n",
    "    picture_descriptions.append(picture_description)\n",
    "\n",
    "    #keywords\n",
    "    meta_keywords_elem = soup.find(\"meta\", id= \"MetaKeywords\")[\"content\"] if soup.find(\"meta\", id= \"MetaKeywords\") else None\n",
    "    meta_keywords =  meta_keywords_elem.strip() if meta_keywords_elem else \"Keywords not found\"\n",
    "    keywords.append(meta_keywords)\n",
    "\n",
    "    #description\n",
    "    meta_description_elem = soup.find(\"meta\", id= \"MetaDescription\")[\"content\"] if soup.find(\"meta\", id= \"MetaKeywords\") else None\n",
    "    meta_description =  meta_description_elem.strip() if meta_description_elem else \"Description not found\"\n",
    "    descriptions.append(meta_description)\n",
    "\n",
    "#close webdriver\n",
    "driver.quit()"
   ]
  },
  {
   "cell_type": "code",
   "execution_count": 43,
   "outputs": [],
   "source": [
    "#authors details\n",
    "\n",
    "driver = webdriver.Chrome()\n",
    "\n",
    "authors_names = []\n",
    "authors_titles = []\n",
    "authors_descriptions = []\n",
    "\n",
    "for link in authors_description_links:\n",
    "    #navigate to the page containing the article\n",
    "    driver.get(link) if link.startswith(\"http\") else driver.get(\"https://www.globaltimes.cn\" + link)\n",
    "\n",
    "    #extract the HTML content of the page\n",
    "    html_content = driver.page_source\n",
    "\n",
    "    #parse the HTML content\n",
    "    soup = BeautifulSoup(html_content, \"html.parser\")\n",
    "\n",
    "    #find author name\n",
    "    author_name_elem = soup.find(\"div\", class_=\"author_name\")\n",
    "    author_name = author_name_elem.text.strip() if author_name_elem else \"Author name not found\"\n",
    "    authors_names.append(author_name)\n",
    "\n",
    "    #find author title\n",
    "    author_title_elem = soup.find(\"div\", class_=\"author_title\")\n",
    "    author_title = author_title_elem.text.strip() if author_title_elem else \"Author title not found\"\n",
    "    authors_titles.append(author_title)\n",
    "\n",
    "    #find author description\n",
    "    author_description_elem = soup.find(\"div\", class_=\"author_desc\")\n",
    "    author_description = author_description_elem.text.strip() if author_description_elem else \"Author description not found\"\n",
    "    authors_descriptions.append(author_description)\n",
    "\n",
    "#close webdriver\n",
    "driver.quit()"
   ],
   "metadata": {
    "collapsed": false,
    "ExecuteTime": {
     "end_time": "2024-11-11T15:20:42.164418700Z",
     "start_time": "2024-11-11T15:19:48.748760600Z"
    }
   }
  },
  {
   "cell_type": "code",
   "execution_count": 44,
   "id": "808972bd",
   "metadata": {
    "ExecuteTime": {
     "end_time": "2024-11-11T15:21:05.150956900Z",
     "start_time": "2024-11-11T15:21:05.116509100Z"
    }
   },
   "outputs": [],
   "source": [
    "#save to csv file\n",
    "data = {\n",
    "    \"article_title\": article_titles,\n",
    "    \"author\": authors,\n",
    "    \"published_time\": published_times,\n",
    "    \"article_text\": article_texts,\n",
    "    \"article_category_one\": article_categories_one,\n",
    "    \"article_category_two\": article_categories_two,\n",
    "    \"picture_description\": picture_descriptions\n",
    "}\n",
    "\n",
    "df = pd.DataFrame(data)\n",
    "df.to_csv(\"Gaza_textcontain_before_new.csv\", index=False)"
   ]
  },
  {
   "cell_type": "code",
   "execution_count": 36,
   "id": "77983ce9",
   "metadata": {
    "ExecuteTime": {
     "end_time": "2024-11-11T15:04:43.381697500Z",
     "start_time": "2024-11-11T15:04:43.364699700Z"
    }
   },
   "outputs": [
    {
     "data": {
      "text/plain": "                                         article_title  \\\n0    Palestinian death toll in Gaza from Israeli at...   \n1    Daily life at Al-Maghazi refugee camp in Gaza ...   \n2    Two-State solution only way to break vicious c...   \n3          Biden to deliver State of the Union address   \n4    Houthi attacks in Red Sea reports first fatali...   \n..                                                 ...   \n485  Political efforts must be intensified to solve...   \n486  US biased attitude in Israel-Palestine conflic...   \n487  US inability to reconcile Israel-Palestine con...   \n488  Israel’s deepening attacks in Gaza likely to e...   \n489  GT Exclusive: Mainland tax, natural resource a...   \n\n                           author  \\\n0                       By Xinhua   \n1                       By Xinhua   \n2                 By Global Times   \n3           By GT staff reporters   \n4                     By Fan Anqi   \n..                            ...   \n485  By Xie Wenting and Bai Yunyi   \n486                 By Ma Xiaolin   \n487               By Global Times   \n488                    Zhao Yusha   \n489                       Liu Xin   \n\n                                        published_time  \\\n0                     Published: Mar 07, 2024 10:34 AM   \n1                     Published: Mar 07, 2024 11:44 AM   \n2                     Published: Mar 07, 2024 12:50 PM   \n3                     Published: Mar 07, 2024 10:28 PM   \n4                     Published: Mar 07, 2024 10:58 PM   \n..                                                 ...   \n485                   Published: Oct 22, 2023 06:32 PM   \n486                   Published: Oct 22, 2023 08:21 PM   \n487                   Published: Oct 22, 2023 08:32 PM   \n488  Published: Oct 22, 2023 09:31 PM Updated: Oct ...   \n489                   Published: Oct 22, 2023 10:05 PM   \n\n                                          article_text article_category_one  \\\n0    A young man walks past destroyed buildings in ...                PHOTO   \n1    A vendor makes desserts at Al-Maghazi refugee ...                PHOTO   \n2    People walk past destroyed buildings in the so...                CHINA   \n3    US President Joe Biden speaks during a meeting...                CHINA   \n4    A container ship sails in the Red Sea in the S...                CHINA   \n..                                                 ...                  ...   \n485  Teams conduct a search and rescue operation un...             IN-DEPTH   \n486  Illustration: Liu Rui/ GTAny act that leads to...              OPINION   \n487  NUSEIRAT, GAZA - OCTOBER 22: A view of destruc...              OPINION   \n488  Leaders and top officials from more than a doz...                CHINA   \n489  Foxconn Photo: VCGChinese mainland tax authori...                CHINA   \n\n    article_category_two                                picture_description  \n0                  WORLD  A young man walks past destroyed buildings in ...  \n1                  WORLD  A vendor makes desserts at Al-Maghazi refugee ...  \n2               POLITICS  People walk past destroyed buildings in the so...  \n3              DIPLOMACY  US President Joe Biden speaks during a meeting...  \n4              DIPLOMACY  A container ship sails in the Red Sea in the S...  \n..                   ...                                                ...  \n485   DIPLOMATIC CHANNEL  Teams conduct a search and rescue operation un...  \n486            VIEWPOINT                          Illustration: Liu Rui/ GT  \n487             OBSERVER  NUSEIRAT, GAZA - OCTOBER 22: A view of destruc...  \n488            DIPLOMACY  Leaders and top officials from more than a doz...  \n489             POLITICS                                 Foxconn Photo: VCG  \n\n[490 rows x 7 columns]",
      "text/html": "<div>\n<style scoped>\n    .dataframe tbody tr th:only-of-type {\n        vertical-align: middle;\n    }\n\n    .dataframe tbody tr th {\n        vertical-align: top;\n    }\n\n    .dataframe thead th {\n        text-align: right;\n    }\n</style>\n<table border=\"1\" class=\"dataframe\">\n  <thead>\n    <tr style=\"text-align: right;\">\n      <th></th>\n      <th>article_title</th>\n      <th>author</th>\n      <th>published_time</th>\n      <th>article_text</th>\n      <th>article_category_one</th>\n      <th>article_category_two</th>\n      <th>picture_description</th>\n    </tr>\n  </thead>\n  <tbody>\n    <tr>\n      <th>0</th>\n      <td>Palestinian death toll in Gaza from Israeli at...</td>\n      <td>By Xinhua</td>\n      <td>Published: Mar 07, 2024 10:34 AM</td>\n      <td>A young man walks past destroyed buildings in ...</td>\n      <td>PHOTO</td>\n      <td>WORLD</td>\n      <td>A young man walks past destroyed buildings in ...</td>\n    </tr>\n    <tr>\n      <th>1</th>\n      <td>Daily life at Al-Maghazi refugee camp in Gaza ...</td>\n      <td>By Xinhua</td>\n      <td>Published: Mar 07, 2024 11:44 AM</td>\n      <td>A vendor makes desserts at Al-Maghazi refugee ...</td>\n      <td>PHOTO</td>\n      <td>WORLD</td>\n      <td>A vendor makes desserts at Al-Maghazi refugee ...</td>\n    </tr>\n    <tr>\n      <th>2</th>\n      <td>Two-State solution only way to break vicious c...</td>\n      <td>By Global Times</td>\n      <td>Published: Mar 07, 2024 12:50 PM</td>\n      <td>People walk past destroyed buildings in the so...</td>\n      <td>CHINA</td>\n      <td>POLITICS</td>\n      <td>People walk past destroyed buildings in the so...</td>\n    </tr>\n    <tr>\n      <th>3</th>\n      <td>Biden to deliver State of the Union address</td>\n      <td>By GT staff reporters</td>\n      <td>Published: Mar 07, 2024 10:28 PM</td>\n      <td>US President Joe Biden speaks during a meeting...</td>\n      <td>CHINA</td>\n      <td>DIPLOMACY</td>\n      <td>US President Joe Biden speaks during a meeting...</td>\n    </tr>\n    <tr>\n      <th>4</th>\n      <td>Houthi attacks in Red Sea reports first fatali...</td>\n      <td>By Fan Anqi</td>\n      <td>Published: Mar 07, 2024 10:58 PM</td>\n      <td>A container ship sails in the Red Sea in the S...</td>\n      <td>CHINA</td>\n      <td>DIPLOMACY</td>\n      <td>A container ship sails in the Red Sea in the S...</td>\n    </tr>\n    <tr>\n      <th>...</th>\n      <td>...</td>\n      <td>...</td>\n      <td>...</td>\n      <td>...</td>\n      <td>...</td>\n      <td>...</td>\n      <td>...</td>\n    </tr>\n    <tr>\n      <th>485</th>\n      <td>Political efforts must be intensified to solve...</td>\n      <td>By Xie Wenting and Bai Yunyi</td>\n      <td>Published: Oct 22, 2023 06:32 PM</td>\n      <td>Teams conduct a search and rescue operation un...</td>\n      <td>IN-DEPTH</td>\n      <td>DIPLOMATIC CHANNEL</td>\n      <td>Teams conduct a search and rescue operation un...</td>\n    </tr>\n    <tr>\n      <th>486</th>\n      <td>US biased attitude in Israel-Palestine conflic...</td>\n      <td>By Ma Xiaolin</td>\n      <td>Published: Oct 22, 2023 08:21 PM</td>\n      <td>Illustration: Liu Rui/ GTAny act that leads to...</td>\n      <td>OPINION</td>\n      <td>VIEWPOINT</td>\n      <td>Illustration: Liu Rui/ GT</td>\n    </tr>\n    <tr>\n      <th>487</th>\n      <td>US inability to reconcile Israel-Palestine con...</td>\n      <td>By Global Times</td>\n      <td>Published: Oct 22, 2023 08:32 PM</td>\n      <td>NUSEIRAT, GAZA - OCTOBER 22: A view of destruc...</td>\n      <td>OPINION</td>\n      <td>OBSERVER</td>\n      <td>NUSEIRAT, GAZA - OCTOBER 22: A view of destruc...</td>\n    </tr>\n    <tr>\n      <th>488</th>\n      <td>Israel’s deepening attacks in Gaza likely to e...</td>\n      <td>Zhao Yusha</td>\n      <td>Published: Oct 22, 2023 09:31 PM Updated: Oct ...</td>\n      <td>Leaders and top officials from more than a doz...</td>\n      <td>CHINA</td>\n      <td>DIPLOMACY</td>\n      <td>Leaders and top officials from more than a doz...</td>\n    </tr>\n    <tr>\n      <th>489</th>\n      <td>GT Exclusive: Mainland tax, natural resource a...</td>\n      <td>Liu Xin</td>\n      <td>Published: Oct 22, 2023 10:05 PM</td>\n      <td>Foxconn Photo: VCGChinese mainland tax authori...</td>\n      <td>CHINA</td>\n      <td>POLITICS</td>\n      <td>Foxconn Photo: VCG</td>\n    </tr>\n  </tbody>\n</table>\n<p>490 rows × 7 columns</p>\n</div>"
     },
     "execution_count": 36,
     "metadata": {},
     "output_type": "execute_result"
    }
   ],
   "source": [
    "df"
   ]
  },
  {
   "cell_type": "code",
   "execution_count": 45,
   "outputs": [
    {
     "data": {
      "text/plain": "            author_name            author_title  \\\n0             Xu Liuliu       Reporter, Beijing   \n1            Yang Sheng       Reporter, Beijing   \n2           Deng Xiaoci       Reporter, Beijing   \n3             Xu Liuliu       Reporter, Beijing   \n4           Deng Xiaoci       Reporter, Beijing   \n5            Yang Sheng       Reporter, Beijing   \n6               Liu Xin       Reporter, Beijing   \n7               Wang Qi       Reporter, Beijing   \n8   Bradley Blankenship  Author title not found   \n9            Yang Sheng       Reporter, Beijing   \n10              Liu Xin       Reporter, Beijing   \n11           Yang Sheng       Reporter, Beijing   \n12            Xu Liuliu       Reporter, Beijing   \n13            Xu Liuliu       Reporter, Beijing   \n14            Xu Liuliu       Reporter, Beijing   \n15            Xu Liuliu       Reporter, Beijing   \n16            Xu Liuliu       Reporter, Beijing   \n17            Xu Liuliu       Reporter, Beijing   \n18            Xu Liuliu       Reporter, Beijing   \n19            Xu Liuliu       Reporter, Beijing   \n20            Xu Liuliu       Reporter, Beijing   \n21            Xu Liuliu       Reporter, Beijing   \n22            Xu Liuliu       Reporter, Beijing   \n23            Xu Liuliu       Reporter, Beijing   \n24            Xu Liuliu       Reporter, Beijing   \n25            Xu Liuliu       Reporter, Beijing   \n26            Xu Liuliu       Reporter, Beijing   \n27            Xu Liuliu       Reporter, Beijing   \n28            Xu Liuliu       Reporter, Beijing   \n29            Xu Liuliu       Reporter, Beijing   \n30            Xu Liuliu       Reporter, Beijing   \n31            Xu Liuliu       Reporter, Beijing   \n32            Xu Liuliu       Reporter, Beijing   \n33            Xu Liuliu       Reporter, Beijing   \n34            Xu Liuliu       Reporter, Beijing   \n35            Xu Liuliu       Reporter, Beijing   \n36            Xu Liuliu       Reporter, Beijing   \n37            Xu Liuliu       Reporter, Beijing   \n38            Xu Liuliu       Reporter, Beijing   \n39            Xu Liuliu       Reporter, Beijing   \n40            Xu Liuliu       Reporter, Beijing   \n41            Xu Liuliu       Reporter, Beijing   \n42            Xu Liuliu       Reporter, Beijing   \n43            Xu Liuliu       Reporter, Beijing   \n44            Xu Liuliu       Reporter, Beijing   \n45            Xu Liuliu       Reporter, Beijing   \n\n                                   author_description  \n0   Global Times senior reporter, mainly covers th...  \n1   Yang Sheng is a chief reporter at the Global T...  \n2   Global Times reporter tracking China's space p...  \n3   Global Times senior reporter, mainly covers th...  \n4   Global Times reporter tracking China's space p...  \n5   Yang Sheng is a chief reporter at the Global T...  \n6   Liu Xin co-leads the Global Times China desk. ...  \n7   Global Times reporter covering international a...  \n8   Bradley Blankenship is a Prague-based American...  \n9   Yang Sheng is a chief reporter at the Global T...  \n10  Liu Xin co-leads the Global Times China desk. ...  \n11  Yang Sheng is a chief reporter at the Global T...  \n12  Global Times senior reporter, mainly covers th...  \n13  Global Times senior reporter, mainly covers th...  \n14  Global Times senior reporter, mainly covers th...  \n15  Global Times senior reporter, mainly covers th...  \n16  Global Times senior reporter, mainly covers th...  \n17  Global Times senior reporter, mainly covers th...  \n18  Global Times senior reporter, mainly covers th...  \n19  Global Times senior reporter, mainly covers th...  \n20  Global Times senior reporter, mainly covers th...  \n21  Global Times senior reporter, mainly covers th...  \n22  Global Times senior reporter, mainly covers th...  \n23  Global Times senior reporter, mainly covers th...  \n24  Global Times senior reporter, mainly covers th...  \n25  Global Times senior reporter, mainly covers th...  \n26  Global Times senior reporter, mainly covers th...  \n27  Global Times senior reporter, mainly covers th...  \n28  Global Times senior reporter, mainly covers th...  \n29  Global Times senior reporter, mainly covers th...  \n30  Global Times senior reporter, mainly covers th...  \n31  Global Times senior reporter, mainly covers th...  \n32  Global Times senior reporter, mainly covers th...  \n33  Global Times senior reporter, mainly covers th...  \n34  Global Times senior reporter, mainly covers th...  \n35  Global Times senior reporter, mainly covers th...  \n36  Global Times senior reporter, mainly covers th...  \n37  Global Times senior reporter, mainly covers th...  \n38  Global Times senior reporter, mainly covers th...  \n39  Global Times senior reporter, mainly covers th...  \n40  Global Times senior reporter, mainly covers th...  \n41  Global Times senior reporter, mainly covers th...  \n42  Global Times senior reporter, mainly covers th...  \n43  Global Times senior reporter, mainly covers th...  \n44  Global Times senior reporter, mainly covers th...  \n45  Global Times senior reporter, mainly covers th...  ",
      "text/html": "<div>\n<style scoped>\n    .dataframe tbody tr th:only-of-type {\n        vertical-align: middle;\n    }\n\n    .dataframe tbody tr th {\n        vertical-align: top;\n    }\n\n    .dataframe thead th {\n        text-align: right;\n    }\n</style>\n<table border=\"1\" class=\"dataframe\">\n  <thead>\n    <tr style=\"text-align: right;\">\n      <th></th>\n      <th>author_name</th>\n      <th>author_title</th>\n      <th>author_description</th>\n    </tr>\n  </thead>\n  <tbody>\n    <tr>\n      <th>0</th>\n      <td>Xu Liuliu</td>\n      <td>Reporter, Beijing</td>\n      <td>Global Times senior reporter, mainly covers th...</td>\n    </tr>\n    <tr>\n      <th>1</th>\n      <td>Yang Sheng</td>\n      <td>Reporter, Beijing</td>\n      <td>Yang Sheng is a chief reporter at the Global T...</td>\n    </tr>\n    <tr>\n      <th>2</th>\n      <td>Deng Xiaoci</td>\n      <td>Reporter, Beijing</td>\n      <td>Global Times reporter tracking China's space p...</td>\n    </tr>\n    <tr>\n      <th>3</th>\n      <td>Xu Liuliu</td>\n      <td>Reporter, Beijing</td>\n      <td>Global Times senior reporter, mainly covers th...</td>\n    </tr>\n    <tr>\n      <th>4</th>\n      <td>Deng Xiaoci</td>\n      <td>Reporter, Beijing</td>\n      <td>Global Times reporter tracking China's space p...</td>\n    </tr>\n    <tr>\n      <th>5</th>\n      <td>Yang Sheng</td>\n      <td>Reporter, Beijing</td>\n      <td>Yang Sheng is a chief reporter at the Global T...</td>\n    </tr>\n    <tr>\n      <th>6</th>\n      <td>Liu Xin</td>\n      <td>Reporter, Beijing</td>\n      <td>Liu Xin co-leads the Global Times China desk. ...</td>\n    </tr>\n    <tr>\n      <th>7</th>\n      <td>Wang Qi</td>\n      <td>Reporter, Beijing</td>\n      <td>Global Times reporter covering international a...</td>\n    </tr>\n    <tr>\n      <th>8</th>\n      <td>Bradley Blankenship</td>\n      <td>Author title not found</td>\n      <td>Bradley Blankenship is a Prague-based American...</td>\n    </tr>\n    <tr>\n      <th>9</th>\n      <td>Yang Sheng</td>\n      <td>Reporter, Beijing</td>\n      <td>Yang Sheng is a chief reporter at the Global T...</td>\n    </tr>\n    <tr>\n      <th>10</th>\n      <td>Liu Xin</td>\n      <td>Reporter, Beijing</td>\n      <td>Liu Xin co-leads the Global Times China desk. ...</td>\n    </tr>\n    <tr>\n      <th>11</th>\n      <td>Yang Sheng</td>\n      <td>Reporter, Beijing</td>\n      <td>Yang Sheng is a chief reporter at the Global T...</td>\n    </tr>\n    <tr>\n      <th>12</th>\n      <td>Xu Liuliu</td>\n      <td>Reporter, Beijing</td>\n      <td>Global Times senior reporter, mainly covers th...</td>\n    </tr>\n    <tr>\n      <th>13</th>\n      <td>Xu Liuliu</td>\n      <td>Reporter, Beijing</td>\n      <td>Global Times senior reporter, mainly covers th...</td>\n    </tr>\n    <tr>\n      <th>14</th>\n      <td>Xu Liuliu</td>\n      <td>Reporter, Beijing</td>\n      <td>Global Times senior reporter, mainly covers th...</td>\n    </tr>\n    <tr>\n      <th>15</th>\n      <td>Xu Liuliu</td>\n      <td>Reporter, Beijing</td>\n      <td>Global Times senior reporter, mainly covers th...</td>\n    </tr>\n    <tr>\n      <th>16</th>\n      <td>Xu Liuliu</td>\n      <td>Reporter, Beijing</td>\n      <td>Global Times senior reporter, mainly covers th...</td>\n    </tr>\n    <tr>\n      <th>17</th>\n      <td>Xu Liuliu</td>\n      <td>Reporter, Beijing</td>\n      <td>Global Times senior reporter, mainly covers th...</td>\n    </tr>\n    <tr>\n      <th>18</th>\n      <td>Xu Liuliu</td>\n      <td>Reporter, Beijing</td>\n      <td>Global Times senior reporter, mainly covers th...</td>\n    </tr>\n    <tr>\n      <th>19</th>\n      <td>Xu Liuliu</td>\n      <td>Reporter, Beijing</td>\n      <td>Global Times senior reporter, mainly covers th...</td>\n    </tr>\n    <tr>\n      <th>20</th>\n      <td>Xu Liuliu</td>\n      <td>Reporter, Beijing</td>\n      <td>Global Times senior reporter, mainly covers th...</td>\n    </tr>\n    <tr>\n      <th>21</th>\n      <td>Xu Liuliu</td>\n      <td>Reporter, Beijing</td>\n      <td>Global Times senior reporter, mainly covers th...</td>\n    </tr>\n    <tr>\n      <th>22</th>\n      <td>Xu Liuliu</td>\n      <td>Reporter, Beijing</td>\n      <td>Global Times senior reporter, mainly covers th...</td>\n    </tr>\n    <tr>\n      <th>23</th>\n      <td>Xu Liuliu</td>\n      <td>Reporter, Beijing</td>\n      <td>Global Times senior reporter, mainly covers th...</td>\n    </tr>\n    <tr>\n      <th>24</th>\n      <td>Xu Liuliu</td>\n      <td>Reporter, Beijing</td>\n      <td>Global Times senior reporter, mainly covers th...</td>\n    </tr>\n    <tr>\n      <th>25</th>\n      <td>Xu Liuliu</td>\n      <td>Reporter, Beijing</td>\n      <td>Global Times senior reporter, mainly covers th...</td>\n    </tr>\n    <tr>\n      <th>26</th>\n      <td>Xu Liuliu</td>\n      <td>Reporter, Beijing</td>\n      <td>Global Times senior reporter, mainly covers th...</td>\n    </tr>\n    <tr>\n      <th>27</th>\n      <td>Xu Liuliu</td>\n      <td>Reporter, Beijing</td>\n      <td>Global Times senior reporter, mainly covers th...</td>\n    </tr>\n    <tr>\n      <th>28</th>\n      <td>Xu Liuliu</td>\n      <td>Reporter, Beijing</td>\n      <td>Global Times senior reporter, mainly covers th...</td>\n    </tr>\n    <tr>\n      <th>29</th>\n      <td>Xu Liuliu</td>\n      <td>Reporter, Beijing</td>\n      <td>Global Times senior reporter, mainly covers th...</td>\n    </tr>\n    <tr>\n      <th>30</th>\n      <td>Xu Liuliu</td>\n      <td>Reporter, Beijing</td>\n      <td>Global Times senior reporter, mainly covers th...</td>\n    </tr>\n    <tr>\n      <th>31</th>\n      <td>Xu Liuliu</td>\n      <td>Reporter, Beijing</td>\n      <td>Global Times senior reporter, mainly covers th...</td>\n    </tr>\n    <tr>\n      <th>32</th>\n      <td>Xu Liuliu</td>\n      <td>Reporter, Beijing</td>\n      <td>Global Times senior reporter, mainly covers th...</td>\n    </tr>\n    <tr>\n      <th>33</th>\n      <td>Xu Liuliu</td>\n      <td>Reporter, Beijing</td>\n      <td>Global Times senior reporter, mainly covers th...</td>\n    </tr>\n    <tr>\n      <th>34</th>\n      <td>Xu Liuliu</td>\n      <td>Reporter, Beijing</td>\n      <td>Global Times senior reporter, mainly covers th...</td>\n    </tr>\n    <tr>\n      <th>35</th>\n      <td>Xu Liuliu</td>\n      <td>Reporter, Beijing</td>\n      <td>Global Times senior reporter, mainly covers th...</td>\n    </tr>\n    <tr>\n      <th>36</th>\n      <td>Xu Liuliu</td>\n      <td>Reporter, Beijing</td>\n      <td>Global Times senior reporter, mainly covers th...</td>\n    </tr>\n    <tr>\n      <th>37</th>\n      <td>Xu Liuliu</td>\n      <td>Reporter, Beijing</td>\n      <td>Global Times senior reporter, mainly covers th...</td>\n    </tr>\n    <tr>\n      <th>38</th>\n      <td>Xu Liuliu</td>\n      <td>Reporter, Beijing</td>\n      <td>Global Times senior reporter, mainly covers th...</td>\n    </tr>\n    <tr>\n      <th>39</th>\n      <td>Xu Liuliu</td>\n      <td>Reporter, Beijing</td>\n      <td>Global Times senior reporter, mainly covers th...</td>\n    </tr>\n    <tr>\n      <th>40</th>\n      <td>Xu Liuliu</td>\n      <td>Reporter, Beijing</td>\n      <td>Global Times senior reporter, mainly covers th...</td>\n    </tr>\n    <tr>\n      <th>41</th>\n      <td>Xu Liuliu</td>\n      <td>Reporter, Beijing</td>\n      <td>Global Times senior reporter, mainly covers th...</td>\n    </tr>\n    <tr>\n      <th>42</th>\n      <td>Xu Liuliu</td>\n      <td>Reporter, Beijing</td>\n      <td>Global Times senior reporter, mainly covers th...</td>\n    </tr>\n    <tr>\n      <th>43</th>\n      <td>Xu Liuliu</td>\n      <td>Reporter, Beijing</td>\n      <td>Global Times senior reporter, mainly covers th...</td>\n    </tr>\n    <tr>\n      <th>44</th>\n      <td>Xu Liuliu</td>\n      <td>Reporter, Beijing</td>\n      <td>Global Times senior reporter, mainly covers th...</td>\n    </tr>\n    <tr>\n      <th>45</th>\n      <td>Xu Liuliu</td>\n      <td>Reporter, Beijing</td>\n      <td>Global Times senior reporter, mainly covers th...</td>\n    </tr>\n  </tbody>\n</table>\n</div>"
     },
     "execution_count": 45,
     "metadata": {},
     "output_type": "execute_result"
    }
   ],
   "source": [
    "#authors details\n",
    "authors_data = {\n",
    "    \"author_name\": authors_names,\n",
    "    \"author_title\": authors_titles,\n",
    "    \"author_description\": authors_descriptions\n",
    "}\n",
    "\n",
    "authors_data = pd.DataFrame(authors_data)\n",
    "authors_data.to_csv(\"Gaza_textcontain_before_new_authors.csv\", index=False)\n",
    "authors_data"
   ],
   "metadata": {
    "collapsed": false,
    "ExecuteTime": {
     "end_time": "2024-11-11T15:21:10.315845800Z",
     "start_time": "2024-11-11T15:21:10.289854800Z"
    }
   }
  }
 ],
 "metadata": {
  "kernelspec": {
   "display_name": "Python 3 (ipykernel)",
   "language": "python",
   "name": "python3"
  },
  "language_info": {
   "codemirror_mode": {
    "name": "ipython",
    "version": 3
   },
   "file_extension": ".py",
   "mimetype": "text/x-python",
   "name": "python",
   "nbconvert_exporter": "python",
   "pygments_lexer": "ipython3",
   "version": "3.11.4"
  }
 },
 "nbformat": 4,
 "nbformat_minor": 5
}
