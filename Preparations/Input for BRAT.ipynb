{
 "cells": [
  {
   "cell_type": "code",
   "execution_count": 1,
   "metadata": {
    "collapsed": true,
    "ExecuteTime": {
     "end_time": "2024-11-15T19:31:23.755465900Z",
     "start_time": "2024-11-15T19:31:23.362547900Z"
    }
   },
   "outputs": [],
   "source": [
    "import pandas as pd\n"
   ]
  },
  {
   "cell_type": "code",
   "execution_count": 17,
   "outputs": [
    {
     "data": {
      "text/plain": "                                         article_title        author  \\\n0    All sides should give Russia, Ukraine some spa...  Global Times   \n1    Ukrainian president expects no conflict with R...        Xinhua   \n2    British PM announces sanctions against Russia ...        Xinhua   \n3    NATO chief urges Russia to choose diplomacy in...        Xinhua   \n4    EU agrees Russia sanctions package, warns of f...        Xinhua   \n..                                                 ...           ...   \n478  Russia's upper house approves use of military ...        Xinhua   \n479  US sanctions Russia after Putin sends troops t...        Xinhua   \n480  DPP's so-called sympathy for Ukraine 'self-ser...  Global Times   \n481  US hardly leads the West out of helplessness, ...  Zhao Minghao   \n482  Can US’ balancing strategy last after Ukraine ...     Ding Gang   \n\n    published_time                                       article_text  \\\n0       2022-02-23  Russian President Vladimir Putin on Monday sig...   \n1       2022-02-23   Ukrainian President Volodymyr Zelensky said o...   \n2       2022-02-23   British Prime Minister Boris Johnson announce...   \n3       2022-02-23   The chief of the North Atlantic Treaty Organi...   \n4       2022-02-23   The European Union (EU) is ready to take furt...   \n..             ...                                                ...   \n478     2022-02-23   The Russian Federation Council, or the upper ...   \n479     2022-02-23   U.S. President Joe Biden on Tuesday announced...   \n480     2022-02-23  The secessionist DPP authority's so-called \"sy...   \n481     2022-02-23  The Munich Security Conference 2022 was held u...   \n482     2022-02-23  On February 21, 1972, US President Richard Nix...   \n\n    article_category_one article_category_two  \\\n0                OPINION            EDITORIAL   \n1                  WORLD               EUROPE   \n2                  WORLD               EUROPE   \n3                  WORLD               EUROPE   \n4                  WORLD               EUROPE   \n..                   ...                  ...   \n478                WORLD               EUROPE   \n479                WORLD             AMERICAS   \n480                CHINA              SOCIETY   \n481              OPINION            VIEWPOINT   \n482              OPINION           COLUMNISTS   \n\n                                   picture_description  \\\n0    United Nations Security Council meets after Ru...   \n1    Ukrainian President Volodymyr Zelensky attends...   \n2      British Prime Minister Boris Johnson Photo: VCG   \n3    NATO Secretary General Jens Stoltenberg speaks...   \n4    European Commission President Ursula von der L...   \n..                                                 ...   \n478  Russian President Vladimir Putin signs documen...   \n479  U.S. President Joe Biden walks out from the So...   \n480                             Tsai Ing-wen Photo:AFP   \n481  Outgoing Munich Security Conference Chairman W...   \n482  An exhibition on US President Richard Nixon's ...   \n\n                 author_title  \\\n0    Author details not found   \n1    Author details not found   \n2    Author details not found   \n3    Author details not found   \n4    Author details not found   \n..                        ...   \n478  Author details not found   \n479  Author details not found   \n480  Author details not found   \n481  Author details not found   \n482    Author title not found   \n\n                                    author_description  \n0                             Author details not found  \n1                             Author details not found  \n2                             Author details not found  \n3                             Author details not found  \n4                             Author details not found  \n..                                                 ...  \n478                           Author details not found  \n479                           Author details not found  \n480                           Author details not found  \n481                           Author details not found  \n482  Ding Gang is a senior editor with People's Dai...  \n\n[483 rows x 9 columns]",
      "text/html": "<div>\n<style scoped>\n    .dataframe tbody tr th:only-of-type {\n        vertical-align: middle;\n    }\n\n    .dataframe tbody tr th {\n        vertical-align: top;\n    }\n\n    .dataframe thead th {\n        text-align: right;\n    }\n</style>\n<table border=\"1\" class=\"dataframe\">\n  <thead>\n    <tr style=\"text-align: right;\">\n      <th></th>\n      <th>article_title</th>\n      <th>author</th>\n      <th>published_time</th>\n      <th>article_text</th>\n      <th>article_category_one</th>\n      <th>article_category_two</th>\n      <th>picture_description</th>\n      <th>author_title</th>\n      <th>author_description</th>\n    </tr>\n  </thead>\n  <tbody>\n    <tr>\n      <th>0</th>\n      <td>All sides should give Russia, Ukraine some spa...</td>\n      <td>Global Times</td>\n      <td>2022-02-23</td>\n      <td>Russian President Vladimir Putin on Monday sig...</td>\n      <td>OPINION</td>\n      <td>EDITORIAL</td>\n      <td>United Nations Security Council meets after Ru...</td>\n      <td>Author details not found</td>\n      <td>Author details not found</td>\n    </tr>\n    <tr>\n      <th>1</th>\n      <td>Ukrainian president expects no conflict with R...</td>\n      <td>Xinhua</td>\n      <td>2022-02-23</td>\n      <td>Ukrainian President Volodymyr Zelensky said o...</td>\n      <td>WORLD</td>\n      <td>EUROPE</td>\n      <td>Ukrainian President Volodymyr Zelensky attends...</td>\n      <td>Author details not found</td>\n      <td>Author details not found</td>\n    </tr>\n    <tr>\n      <th>2</th>\n      <td>British PM announces sanctions against Russia ...</td>\n      <td>Xinhua</td>\n      <td>2022-02-23</td>\n      <td>British Prime Minister Boris Johnson announce...</td>\n      <td>WORLD</td>\n      <td>EUROPE</td>\n      <td>British Prime Minister Boris Johnson Photo: VCG</td>\n      <td>Author details not found</td>\n      <td>Author details not found</td>\n    </tr>\n    <tr>\n      <th>3</th>\n      <td>NATO chief urges Russia to choose diplomacy in...</td>\n      <td>Xinhua</td>\n      <td>2022-02-23</td>\n      <td>The chief of the North Atlantic Treaty Organi...</td>\n      <td>WORLD</td>\n      <td>EUROPE</td>\n      <td>NATO Secretary General Jens Stoltenberg speaks...</td>\n      <td>Author details not found</td>\n      <td>Author details not found</td>\n    </tr>\n    <tr>\n      <th>4</th>\n      <td>EU agrees Russia sanctions package, warns of f...</td>\n      <td>Xinhua</td>\n      <td>2022-02-23</td>\n      <td>The European Union (EU) is ready to take furt...</td>\n      <td>WORLD</td>\n      <td>EUROPE</td>\n      <td>European Commission President Ursula von der L...</td>\n      <td>Author details not found</td>\n      <td>Author details not found</td>\n    </tr>\n    <tr>\n      <th>...</th>\n      <td>...</td>\n      <td>...</td>\n      <td>...</td>\n      <td>...</td>\n      <td>...</td>\n      <td>...</td>\n      <td>...</td>\n      <td>...</td>\n      <td>...</td>\n    </tr>\n    <tr>\n      <th>478</th>\n      <td>Russia's upper house approves use of military ...</td>\n      <td>Xinhua</td>\n      <td>2022-02-23</td>\n      <td>The Russian Federation Council, or the upper ...</td>\n      <td>WORLD</td>\n      <td>EUROPE</td>\n      <td>Russian President Vladimir Putin signs documen...</td>\n      <td>Author details not found</td>\n      <td>Author details not found</td>\n    </tr>\n    <tr>\n      <th>479</th>\n      <td>US sanctions Russia after Putin sends troops t...</td>\n      <td>Xinhua</td>\n      <td>2022-02-23</td>\n      <td>U.S. President Joe Biden on Tuesday announced...</td>\n      <td>WORLD</td>\n      <td>AMERICAS</td>\n      <td>U.S. President Joe Biden walks out from the So...</td>\n      <td>Author details not found</td>\n      <td>Author details not found</td>\n    </tr>\n    <tr>\n      <th>480</th>\n      <td>DPP's so-called sympathy for Ukraine 'self-ser...</td>\n      <td>Global Times</td>\n      <td>2022-02-23</td>\n      <td>The secessionist DPP authority's so-called \"sy...</td>\n      <td>CHINA</td>\n      <td>SOCIETY</td>\n      <td>Tsai Ing-wen Photo:AFP</td>\n      <td>Author details not found</td>\n      <td>Author details not found</td>\n    </tr>\n    <tr>\n      <th>481</th>\n      <td>US hardly leads the West out of helplessness, ...</td>\n      <td>Zhao Minghao</td>\n      <td>2022-02-23</td>\n      <td>The Munich Security Conference 2022 was held u...</td>\n      <td>OPINION</td>\n      <td>VIEWPOINT</td>\n      <td>Outgoing Munich Security Conference Chairman W...</td>\n      <td>Author details not found</td>\n      <td>Author details not found</td>\n    </tr>\n    <tr>\n      <th>482</th>\n      <td>Can US’ balancing strategy last after Ukraine ...</td>\n      <td>Ding Gang</td>\n      <td>2022-02-23</td>\n      <td>On February 21, 1972, US President Richard Nix...</td>\n      <td>OPINION</td>\n      <td>COLUMNISTS</td>\n      <td>An exhibition on US President Richard Nixon's ...</td>\n      <td>Author title not found</td>\n      <td>Ding Gang is a senior editor with People's Dai...</td>\n    </tr>\n  </tbody>\n</table>\n<p>483 rows × 9 columns</p>\n</div>"
     },
     "execution_count": 17,
     "metadata": {},
     "output_type": "execute_result"
    }
   ],
   "source": [
    "#read preprocessed data\n",
    "gaza_after = pd.read_csv('../Data/gaza_textcontain_after_new_preprocessed.csv', index_col=0)\n",
    "gaza_before = pd.read_csv('../Data/gaza_textcontain_before_new_preprocessed.csv', index_col=0)\n",
    "ukraine_after = pd.read_csv('../Data/ukraine_textcontain_after_new_preprocessed.csv', index_col=0)\n",
    "ukraine_before = pd.read_csv('../Data/ukraine_textcontain_before_new_preprocessed.csv', index_col=0)\n",
    "ukraine_before"
   ],
   "metadata": {
    "collapsed": false,
    "ExecuteTime": {
     "end_time": "2024-11-15T19:53:06.446403400Z",
     "start_time": "2024-11-15T19:53:06.344389300Z"
    }
   }
  },
  {
   "cell_type": "code",
   "execution_count": 31,
   "outputs": [
    {
     "name": "stdout",
     "output_type": "stream",
     "text": [
      "Unexpected exception formatting exception. Falling back to standard exception\n"
     ]
    },
    {
     "name": "stderr",
     "output_type": "stream",
     "text": [
      "Traceback (most recent call last):\n",
      "  File \"C:\\Users\\lukas\\AppData\\Local\\Programs\\Python\\Python311\\Lib\\site-packages\\IPython\\core\\interactiveshell.py\", line 3508, in run_code\n",
      "    exec(code_obj, self.user_global_ns, self.user_ns)\n",
      "  File \"C:\\Users\\lukas\\AppData\\Local\\Temp\\ipykernel_30436\\2346524471.py\", line 13, in <module>\n",
      "    export_text_files(gaza_before, \"Gaza_before\")\n",
      "  File \"C:\\Users\\lukas\\AppData\\Local\\Temp\\ipykernel_30436\\2346524471.py\", line 4, in export_text_files\n",
      "    with open(f'../BRAT_Data/{folder_name}/{row[\"published_time\"]}-{row[\"article_title\"]}.txt', 'w', encoding='utf-8' ) as f:\n",
      "         ^^^^^^^^^^^^^^^^^^^^^^^^^^^^^^^^^^^^^^^^^^^^^^^^^^^^^^^^^^^^^^^^^^^^^^^^^^^^^^^^^^^^^^^^^^^^^^^^^^^^^^^^^^^^^^\n",
      "  File \"C:\\Users\\lukas\\AppData\\Local\\Programs\\Python\\Python311\\Lib\\site-packages\\IPython\\core\\interactiveshell.py\", line 284, in _modified_open\n",
      "    return io_open(file, *args, **kwargs)\n",
      "           ^^^^^^^^^^^^^^^^^^^^^^^^^^^^^^\n",
      "FileNotFoundError: [Errno 2] No such file or directory: '../BRAT_Data/Gaza_before/2023-09-29-Various celebrations held across world to celebrate Mid-Autumn Festival.txt'\n",
      "\n",
      "During handling of the above exception, another exception occurred:\n",
      "\n",
      "Traceback (most recent call last):\n",
      "  File \"C:\\Users\\lukas\\AppData\\Local\\Programs\\Python\\Python311\\Lib\\site-packages\\IPython\\core\\interactiveshell.py\", line 2105, in showtraceback\n",
      "    stb = self.InteractiveTB.structured_traceback(\n",
      "          ^^^^^^^^^^^^^^^^^^^^^^^^^^^^^^^^^^^^^^^^\n",
      "  File \"C:\\Users\\lukas\\AppData\\Local\\Programs\\Python\\Python311\\Lib\\site-packages\\IPython\\core\\ultratb.py\", line 1396, in structured_traceback\n",
      "    return FormattedTB.structured_traceback(\n",
      "           ^^^^^^^^^^^^^^^^^^^^^^^^^^^^^^^^^\n",
      "  File \"C:\\Users\\lukas\\AppData\\Local\\Programs\\Python\\Python311\\Lib\\site-packages\\IPython\\core\\ultratb.py\", line 1287, in structured_traceback\n",
      "    return VerboseTB.structured_traceback(\n",
      "           ^^^^^^^^^^^^^^^^^^^^^^^^^^^^^^^\n",
      "  File \"C:\\Users\\lukas\\AppData\\Local\\Programs\\Python\\Python311\\Lib\\site-packages\\IPython\\core\\ultratb.py\", line 1140, in structured_traceback\n",
      "    formatted_exception = self.format_exception_as_a_whole(etype, evalue, etb, number_of_lines_of_context,\n",
      "                          ^^^^^^^^^^^^^^^^^^^^^^^^^^^^^^^^^^^^^^^^^^^^^^^^^^^^^^^^^^^^^^^^^^^^^^^^^^^^^^^^\n",
      "  File \"C:\\Users\\lukas\\AppData\\Local\\Programs\\Python\\Python311\\Lib\\site-packages\\IPython\\core\\ultratb.py\", line 1055, in format_exception_as_a_whole\n",
      "    frames.append(self.format_record(record))\n",
      "                  ^^^^^^^^^^^^^^^^^^^^^^^^^^\n",
      "  File \"C:\\Users\\lukas\\AppData\\Local\\Programs\\Python\\Python311\\Lib\\site-packages\\IPython\\core\\ultratb.py\", line 955, in format_record\n",
      "    frame_info.lines, Colors, self.has_colors, lvals\n",
      "    ^^^^^^^^^^^^^^^^\n",
      "  File \"C:\\Users\\lukas\\AppData\\Local\\Programs\\Python\\Python311\\Lib\\site-packages\\IPython\\core\\ultratb.py\", line 778, in lines\n",
      "    return self._sd.lines\n",
      "           ^^^^^^^^^^^^^^\n",
      "  File \"C:\\Users\\lukas\\AppData\\Local\\Programs\\Python\\Python311\\Lib\\site-packages\\stack_data\\utils.py\", line 144, in cached_property_wrapper\n",
      "    value = obj.__dict__[self.func.__name__] = self.func(obj)\n",
      "                                               ^^^^^^^^^^^^^^\n",
      "  File \"C:\\Users\\lukas\\AppData\\Local\\Programs\\Python\\Python311\\Lib\\site-packages\\stack_data\\core.py\", line 734, in lines\n",
      "    pieces = self.included_pieces\n",
      "             ^^^^^^^^^^^^^^^^^^^^\n",
      "  File \"C:\\Users\\lukas\\AppData\\Local\\Programs\\Python\\Python311\\Lib\\site-packages\\stack_data\\utils.py\", line 144, in cached_property_wrapper\n",
      "    value = obj.__dict__[self.func.__name__] = self.func(obj)\n",
      "                                               ^^^^^^^^^^^^^^\n",
      "  File \"C:\\Users\\lukas\\AppData\\Local\\Programs\\Python\\Python311\\Lib\\site-packages\\stack_data\\core.py\", line 677, in included_pieces\n",
      "    scope_pieces = self.scope_pieces\n",
      "                   ^^^^^^^^^^^^^^^^^\n",
      "  File \"C:\\Users\\lukas\\AppData\\Local\\Programs\\Python\\Python311\\Lib\\site-packages\\stack_data\\utils.py\", line 144, in cached_property_wrapper\n",
      "    value = obj.__dict__[self.func.__name__] = self.func(obj)\n",
      "                                               ^^^^^^^^^^^^^^\n",
      "  File \"C:\\Users\\lukas\\AppData\\Local\\Programs\\Python\\Python311\\Lib\\site-packages\\stack_data\\core.py\", line 614, in scope_pieces\n",
      "    scope_start, scope_end = self.source.line_range(self.scope)\n",
      "                             ^^^^^^^^^^^^^^^^^^^^^^^^^^^^^^^^^^\n",
      "  File \"C:\\Users\\lukas\\AppData\\Local\\Programs\\Python\\Python311\\Lib\\site-packages\\stack_data\\core.py\", line 178, in line_range\n",
      "    return line_range(self.asttext(), node)\n",
      "                      ^^^^^^^^^^^^^^\n",
      "  File \"C:\\Users\\lukas\\AppData\\Local\\Programs\\Python\\Python311\\Lib\\site-packages\\executing\\executing.py\", line 428, in asttext\n",
      "    self._asttext = ASTText(self.text, tree=self.tree, filename=self.filename)\n",
      "                    ^^^^^^^^^^^^^^^^^^^^^^^^^^^^^^^^^^^^^^^^^^^^^^^^^^^^^^^^^^\n",
      "  File \"C:\\Users\\lukas\\AppData\\Local\\Programs\\Python\\Python311\\Lib\\site-packages\\asttokens\\asttokens.py\", line 307, in __init__\n",
      "    super(ASTText, self).__init__(source_text, filename)\n",
      "  File \"C:\\Users\\lukas\\AppData\\Local\\Programs\\Python\\Python311\\Lib\\site-packages\\asttokens\\asttokens.py\", line 44, in __init__\n",
      "    source_text = six.ensure_text(source_text)\n",
      "                  ^^^^^^^^^^^^^^^\n",
      "AttributeError: module 'six' has no attribute 'ensure_text'\n"
     ]
    }
   ],
   "source": [
    "#export each row of dataframe as a nicely formated text file\n",
    "def export_text_files(df, folder_name: str):\n",
    "    for idx, row in df.iterrows():\n",
    "        with open(f'../BRAT_Data/{folder_name}/{row[\"published_time\"]}-{row[\"article_title\"]}.txt', 'w', encoding='utf-8' ) as f:\n",
    "            f.write(f'Published Time: {row[\"published_time\"]}\\n')\n",
    "            f.write(f'Title: {row[\"article_title\"]}\\n')\n",
    "            f.write(f'Category 1: {row[\"article_category_one\"]}; Category 2: {row[\"article_category_two\"]}\\n')\n",
    "            f.write(f'Author: {row[\"author\"]}\\n')\n",
    "            f.write(f'Author title: {row[\"author_title\"]}\\n')\n",
    "            f.write(f'Author description: {row[\"author_description\"]}\\n')\n",
    "            f.write(f'Text: \\n --- \\n {row[\"article_text\"]}')\n",
    "\n",
    "export_text_files(gaza_before, \"Gaza_before\")"
   ],
   "metadata": {
    "collapsed": false,
    "ExecuteTime": {
     "end_time": "2024-11-15T20:03:13.464083200Z",
     "start_time": "2024-11-15T20:03:13.450425500Z"
    }
   }
  },
  {
   "cell_type": "code",
   "execution_count": null,
   "outputs": [],
   "source": [],
   "metadata": {
    "collapsed": false
   }
  },
  {
   "cell_type": "markdown",
   "source": [],
   "metadata": {
    "collapsed": false
   }
  }
 ],
 "metadata": {
  "kernelspec": {
   "display_name": "Python 3",
   "language": "python",
   "name": "python3"
  },
  "language_info": {
   "codemirror_mode": {
    "name": "ipython",
    "version": 2
   },
   "file_extension": ".py",
   "mimetype": "text/x-python",
   "name": "python",
   "nbconvert_exporter": "python",
   "pygments_lexer": "ipython2",
   "version": "2.7.6"
  }
 },
 "nbformat": 4,
 "nbformat_minor": 0
}
