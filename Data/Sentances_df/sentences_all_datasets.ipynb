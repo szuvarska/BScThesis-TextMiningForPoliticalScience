{
 "cells": [
  {
   "cell_type": "code",
   "metadata": {
    "collapsed": true,
    "ExecuteTime": {
     "end_time": "2025-01-13T00:17:59.421761Z",
     "start_time": "2025-01-13T00:17:47.482418Z"
    }
   },
   "source": [
    "import pandas as pd\n",
    "from sentences_script import make_sentences_df"
   ],
   "outputs": [
    {
     "name": "stderr",
     "output_type": "stream",
     "text": [
      "[nltk_data] Downloading package punkt_tab to\n",
      "[nltk_data]     C:\\Users\\lukas\\AppData\\Roaming\\nltk_data...\n",
      "[nltk_data]   Package punkt_tab is already up-to-date!\n"
     ]
    }
   ],
   "execution_count": 1
  },
  {
   "cell_type": "code",
   "execution_count": 6,
   "outputs": [
    {
     "name": "stderr",
     "output_type": "stream",
     "text": [
      "483it [03:46,  2.13it/s]\n",
      "Some weights of the model checkpoint at dbmdz/bert-large-cased-finetuned-conll03-english were not used when initializing BertForTokenClassification: ['bert.pooler.dense.bias', 'bert.pooler.dense.weight']\n",
      "- This IS expected if you are initializing BertForTokenClassification from the checkpoint of a model trained on another task or with another architecture (e.g. initializing a BertForSequenceClassification model from a BertForPreTraining model).\n",
      "- This IS NOT expected if you are initializing BertForTokenClassification from the checkpoint of a model that you expect to be exactly identical (initializing a BertForSequenceClassification model from a BertForSequenceClassification model).\n",
      "100%|██████████| 11282/11282 [37:48<00:00,  4.97it/s] \n"
     ]
    },
    {
     "name": "stdout",
     "output_type": "stream",
     "text": [
      "11282\n"
     ]
    },
    {
     "data": {
      "text/plain": "Batches:   0%|          | 0/353 [00:00<?, ?it/s]",
      "application/vnd.jupyter.widget-view+json": {
       "version_major": 2,
       "version_minor": 0,
       "model_id": "e2a8183df0af418cb39c1190241e0d83"
      }
     },
     "metadata": {},
     "output_type": "display_data"
    },
    {
     "name": "stderr",
     "output_type": "stream",
     "text": [
      "2025-01-05 23:17:54,690 - BERTopic - Embedding - Transforming documents to embeddings.\n"
     ]
    },
    {
     "data": {
      "text/plain": "Batches:   0%|          | 0/353 [00:00<?, ?it/s]",
      "application/vnd.jupyter.widget-view+json": {
       "version_major": 2,
       "version_minor": 0,
       "model_id": "708428a772f04f34b9b15af1cad809de"
      }
     },
     "metadata": {},
     "output_type": "display_data"
    },
    {
     "name": "stderr",
     "output_type": "stream",
     "text": [
      "2025-01-05 23:19:20,323 - BERTopic - Embedding - Completed ✓\n",
      "2025-01-05 23:19:20,324 - BERTopic - Dimensionality - Fitting the dimensionality reduction algorithm\n",
      "2025-01-05 23:19:26,153 - BERTopic - Dimensionality - Completed ✓\n",
      "2025-01-05 23:19:26,153 - BERTopic - Cluster - Start clustering the reduced embeddings\n",
      "2025-01-05 23:19:26,775 - BERTopic - Cluster - Completed ✓\n",
      "2025-01-05 23:19:26,775 - BERTopic - Representation - Extracting topics from clusters using representation models.\n",
      "2025-01-05 23:19:29,185 - BERTopic - Representation - Completed ✓\n"
     ]
    }
   ],
   "source": [
    "#ukraine before\n",
    "dict_name_ukraine = \"../../NER_and_ED/dict_ukraine.csv\"\n",
    "df_ukraine_before = pd.read_csv(\"../ukraine_textcontain_before_new_preprocessed.csv\")\n",
    "df_ukraine_before=df_ukraine_before\n",
    "\n",
    "ukraine_before_sentences, ukraine_before_topic_details, ukraine_before_topic_model = make_sentences_df(df_ukraine_before, dict_name_ukraine)"
   ],
   "metadata": {
    "collapsed": false,
    "ExecuteTime": {
     "end_time": "2025-01-05T22:19:29.450323100Z",
     "start_time": "2025-01-05T21:33:32.600962300Z"
    }
   }
  },
  {
   "cell_type": "code",
   "execution_count": 7,
   "outputs": [
    {
     "data": {
      "text/plain": "     sentence_id article_id  \\\n0        000-000        000   \n97       000-001        000   \n156      000-002        000   \n218      000-003        000   \n219      000-004        000   \n...          ...        ...   \n7502     482-027        482   \n4677     482-028        482   \n5125     482-029        482   \n4741     482-030        482   \n6792     482-031        482   \n\n                                           article_text published_time  \\\n0     Russia President Vladimir Putin on Monday sign...     2022-02-23   \n97    Ukraine decided to recall its charge d'affairs...     2022-02-23   \n156   The sudden change in the Ukraine situation has...     2022-02-23   \n218   In this regard, China State Councilor and Fore...     2022-02-23   \n219   He said China once again called on all parties...     2022-02-23   \n...                                                 ...            ...   \n7502  Any forces that US would like to leverage to r...     2022-02-23   \n4677  Fifty years ago, the US-China relationship mad...     2022-02-23   \n5125  This is because, in US's balanced strategy, it...     2022-02-23   \n4741  The author is a senior editor with People's Da...     2022-02-23   \n6792               Follow him on Twitter @dinggangchina     2022-02-23   \n\n     sentiment                                                NER  topic_id  \\\n0      neutral  {'Russia': ('LOC', 1), 'Lugansk': ('LOC', 1), ...        15   \n97     neutral      {'Ukraine': ('LOC', 1), 'Russia': ('LOC', 2)}        51   \n156   positive                            {'Ukraine': ('LOC', 1)}        40   \n218   positive  {'China': ('LOC', 1), 'Council': ('ORG', 1), '...        -1   \n219   positive                              {'China': ('LOC', 1)}        -1   \n...        ...                                                ...       ...   \n7502  positive            {'US': ('LOC', 1), 'China': ('LOC', 1)}        38   \n4677   neutral           {'US': ('MISC', 2), 'China': ('LOC', 1)}        -1   \n5125  positive                                 {'US': ('LOC', 1)}        12   \n4741   neutral  {'People ' s Daily': ('ORG', 1), 'Chongyang In...        32   \n6792   neutral                                                 {}        21   \n\n                                   topic_representation  \n0     [decrees, sovereign, signed, dpr, lpr, donetsk...  \n97    [reconsider, recall, dialogues, diplomatic, af...  \n156   [concern, ukraine, saudi, arabia, pandemic, cr...  \n218   [eu, ukraine, russia, crisis, nato, sanctions,...  \n219   [eu, ukraine, russia, crisis, nato, sanctions,...  \n...                                                 ...  \n7502  [leverage, reorganize, balancing, balance, for...  \n4677  [eu, ukraine, russia, crisis, nato, sanctions,...  \n5125  [breakup, footing, rivals, battle, confrontati...  \n4741  [senior, chongyang, dinggang, dissatisfaction,...  \n6792  [balance, dinggangchina, tranche, troops, mosc...  \n\n[11282 rows x 8 columns]",
      "text/html": "<div>\n<style scoped>\n    .dataframe tbody tr th:only-of-type {\n        vertical-align: middle;\n    }\n\n    .dataframe tbody tr th {\n        vertical-align: top;\n    }\n\n    .dataframe thead th {\n        text-align: right;\n    }\n</style>\n<table border=\"1\" class=\"dataframe\">\n  <thead>\n    <tr style=\"text-align: right;\">\n      <th></th>\n      <th>sentence_id</th>\n      <th>article_id</th>\n      <th>article_text</th>\n      <th>published_time</th>\n      <th>sentiment</th>\n      <th>NER</th>\n      <th>topic_id</th>\n      <th>topic_representation</th>\n    </tr>\n  </thead>\n  <tbody>\n    <tr>\n      <th>0</th>\n      <td>000-000</td>\n      <td>000</td>\n      <td>Russia President Vladimir Putin on Monday sign...</td>\n      <td>2022-02-23</td>\n      <td>neutral</td>\n      <td>{'Russia': ('LOC', 1), 'Lugansk': ('LOC', 1), ...</td>\n      <td>15</td>\n      <td>[decrees, sovereign, signed, dpr, lpr, donetsk...</td>\n    </tr>\n    <tr>\n      <th>97</th>\n      <td>000-001</td>\n      <td>000</td>\n      <td>Ukraine decided to recall its charge d'affairs...</td>\n      <td>2022-02-23</td>\n      <td>neutral</td>\n      <td>{'Ukraine': ('LOC', 1), 'Russia': ('LOC', 2)}</td>\n      <td>51</td>\n      <td>[reconsider, recall, dialogues, diplomatic, af...</td>\n    </tr>\n    <tr>\n      <th>156</th>\n      <td>000-002</td>\n      <td>000</td>\n      <td>The sudden change in the Ukraine situation has...</td>\n      <td>2022-02-23</td>\n      <td>positive</td>\n      <td>{'Ukraine': ('LOC', 1)}</td>\n      <td>40</td>\n      <td>[concern, ukraine, saudi, arabia, pandemic, cr...</td>\n    </tr>\n    <tr>\n      <th>218</th>\n      <td>000-003</td>\n      <td>000</td>\n      <td>In this regard, China State Councilor and Fore...</td>\n      <td>2022-02-23</td>\n      <td>positive</td>\n      <td>{'China': ('LOC', 1), 'Council': ('ORG', 1), '...</td>\n      <td>-1</td>\n      <td>[eu, ukraine, russia, crisis, nato, sanctions,...</td>\n    </tr>\n    <tr>\n      <th>219</th>\n      <td>000-004</td>\n      <td>000</td>\n      <td>He said China once again called on all parties...</td>\n      <td>2022-02-23</td>\n      <td>positive</td>\n      <td>{'China': ('LOC', 1)}</td>\n      <td>-1</td>\n      <td>[eu, ukraine, russia, crisis, nato, sanctions,...</td>\n    </tr>\n    <tr>\n      <th>...</th>\n      <td>...</td>\n      <td>...</td>\n      <td>...</td>\n      <td>...</td>\n      <td>...</td>\n      <td>...</td>\n      <td>...</td>\n      <td>...</td>\n    </tr>\n    <tr>\n      <th>7502</th>\n      <td>482-027</td>\n      <td>482</td>\n      <td>Any forces that US would like to leverage to r...</td>\n      <td>2022-02-23</td>\n      <td>positive</td>\n      <td>{'US': ('LOC', 1), 'China': ('LOC', 1)}</td>\n      <td>38</td>\n      <td>[leverage, reorganize, balancing, balance, for...</td>\n    </tr>\n    <tr>\n      <th>4677</th>\n      <td>482-028</td>\n      <td>482</td>\n      <td>Fifty years ago, the US-China relationship mad...</td>\n      <td>2022-02-23</td>\n      <td>neutral</td>\n      <td>{'US': ('MISC', 2), 'China': ('LOC', 1)}</td>\n      <td>-1</td>\n      <td>[eu, ukraine, russia, crisis, nato, sanctions,...</td>\n    </tr>\n    <tr>\n      <th>5125</th>\n      <td>482-029</td>\n      <td>482</td>\n      <td>This is because, in US's balanced strategy, it...</td>\n      <td>2022-02-23</td>\n      <td>positive</td>\n      <td>{'US': ('LOC', 1)}</td>\n      <td>12</td>\n      <td>[breakup, footing, rivals, battle, confrontati...</td>\n    </tr>\n    <tr>\n      <th>4741</th>\n      <td>482-030</td>\n      <td>482</td>\n      <td>The author is a senior editor with People's Da...</td>\n      <td>2022-02-23</td>\n      <td>neutral</td>\n      <td>{'People ' s Daily': ('ORG', 1), 'Chongyang In...</td>\n      <td>32</td>\n      <td>[senior, chongyang, dinggang, dissatisfaction,...</td>\n    </tr>\n    <tr>\n      <th>6792</th>\n      <td>482-031</td>\n      <td>482</td>\n      <td>Follow him on Twitter @dinggangchina</td>\n      <td>2022-02-23</td>\n      <td>neutral</td>\n      <td>{}</td>\n      <td>21</td>\n      <td>[balance, dinggangchina, tranche, troops, mosc...</td>\n    </tr>\n  </tbody>\n</table>\n<p>11282 rows × 8 columns</p>\n</div>"
     },
     "execution_count": 7,
     "metadata": {},
     "output_type": "execute_result"
    }
   ],
   "source": [
    "ukraine_before_sentences.to_csv(\"sentences_ukraine_before.csv\", index=False)\n",
    "ukraine_before_sentences"
   ],
   "metadata": {
    "collapsed": false,
    "ExecuteTime": {
     "end_time": "2025-01-05T22:19:29.586362Z",
     "start_time": "2025-01-05T22:19:29.452602900Z"
    }
   }
  },
  {
   "cell_type": "code",
   "source": [
    "#ukraine during\n",
    "dict_name_ukraine = \"../../NER_and_ED/dict_ukraine.csv\"\n",
    "df_ukraine_after = pd.read_csv(\"../ukraine_textcontain_after_new_preprocessed.csv\")\n",
    "df_ukraine_after=df_ukraine_after\n",
    "\n",
    "ukraine_after_sentences, ukraine_after_topic_details, ukraine_after_topic_model = make_sentences_df(df_ukraine_after, dict_name_ukraine)"
   ],
   "metadata": {
    "collapsed": false,
    "ExecuteTime": {
     "end_time": "2025-01-13T01:20:06.217535Z",
     "start_time": "2025-01-13T00:18:09.555948Z"
    }
   },
   "outputs": [
    {
     "name": "stderr",
     "output_type": "stream",
     "text": [
      "489it [04:05,  1.99it/s]\n",
      "100%|██████████| 16699/16699 [52:04<00:00,  5.34it/s] \n"
     ]
    },
    {
     "name": "stdout",
     "output_type": "stream",
     "text": [
      "16699\n"
     ]
    },
    {
     "data": {
      "text/plain": [
       "Batches:   0%|          | 0/522 [00:00<?, ?it/s]"
      ],
      "application/vnd.jupyter.widget-view+json": {
       "version_major": 2,
       "version_minor": 0,
       "model_id": "c901b1e3e6c64d1c98a2d3f47540f560"
      }
     },
     "metadata": {},
     "output_type": "display_data"
    },
    {
     "name": "stderr",
     "output_type": "stream",
     "text": [
      "2025-01-13 02:18:00,658 - BERTopic - Embedding - Transforming documents to embeddings.\n"
     ]
    },
    {
     "data": {
      "text/plain": [
       "Batches:   0%|          | 0/522 [00:00<?, ?it/s]"
      ],
      "application/vnd.jupyter.widget-view+json": {
       "version_major": 2,
       "version_minor": 0,
       "model_id": "31f9611752374a80918568f133996c74"
      }
     },
     "metadata": {},
     "output_type": "display_data"
    },
    {
     "name": "stderr",
     "output_type": "stream",
     "text": [
      "2025-01-13 02:19:43,509 - BERTopic - Embedding - Completed ✓\n",
      "2025-01-13 02:19:43,509 - BERTopic - Dimensionality - Fitting the dimensionality reduction algorithm\n",
      "2025-01-13 02:20:01,891 - BERTopic - Dimensionality - Completed ✓\n",
      "2025-01-13 02:20:01,893 - BERTopic - Cluster - Start clustering the reduced embeddings\n",
      "2025-01-13 02:20:03,953 - BERTopic - Cluster - Completed ✓\n",
      "2025-01-13 02:20:03,963 - BERTopic - Representation - Extracting topics from clusters using representation models.\n",
      "2025-01-13 02:20:05,987 - BERTopic - Representation - Completed ✓\n"
     ]
    }
   ],
   "execution_count": 2
  },
  {
   "metadata": {},
   "cell_type": "code",
   "outputs": [],
   "execution_count": null,
   "source": ""
  },
  {
   "cell_type": "code",
   "source": [
    "#save to csv\n",
    "ukraine_after_sentences.to_csv(\"sentences_ukraine_after.csv\")\n",
    "ukraine_after_sentences"
   ],
   "metadata": {
    "collapsed": false,
    "ExecuteTime": {
     "end_time": "2025-01-13T01:20:06.501982Z",
     "start_time": "2025-01-13T01:20:06.284678Z"
    }
   },
   "outputs": [
    {
     "data": {
      "text/plain": [
       "      sentence_id article_id  \\\n",
       "0         000-000        000   \n",
       "1         000-001        000   \n",
       "2         000-002        000   \n",
       "3         000-003        000   \n",
       "4         000-004        000   \n",
       "...           ...        ...   \n",
       "16694     488-001        488   \n",
       "16695     488-002        488   \n",
       "16696     488-003        488   \n",
       "16697     488-004        488   \n",
       "16698     488-005        488   \n",
       "\n",
       "                                            article_text published_time  \\\n",
       "0      Since this year, the UN (UN) has repeatedly so...     2022-08-22   \n",
       "1      UN Secretary-General Antonio Guterres on Satur...     2022-08-22   \n",
       "2      This is a major appeal made by UN Secretary-Ge...     2022-08-22   \n",
       "3      Guterres had clear target when he made these r...     2022-08-22   \n",
       "4      At present, it is no secret who is the biggest...     2022-08-22   \n",
       "...                                                  ...            ...   \n",
       "16694  The agreement was reached during a meeting of ...     2022-06-07   \n",
       "16695  The two countries agreed to work out mechanism...     2022-06-07   \n",
       "16696  In particular, the parties agreed to optimize ...     2022-06-07   \n",
       "16697  Besides, Ukraine and Moldova decided to consid...     2022-06-07   \n",
       "16698  Last month, Ukraine Prime Minister Denys Shmyh...     2022-06-07   \n",
       "\n",
       "      sentiment                                                NER  topic_id  \\\n",
       "0      negative                                 {'UN': ('ORG', 2)}        10   \n",
       "1       neutral  {'UN': ('ORG', 1), 'Antonio Guterres': ('PER',...        22   \n",
       "2      positive                                 {'UN': ('ORG', 1)}        -1   \n",
       "3      positive                           {'Guterres': ('PER', 1)}        -1   \n",
       "4      negative                             {'Russia': ('LOC', 1)}        -1   \n",
       "...         ...                                                ...       ...   \n",
       "16694  positive  {'Vyacheslav Demchenko': ('PER', 1), 'Igor Tal...        -1   \n",
       "16695  positive                                                 {}        23   \n",
       "16696  positive                                                 {}        23   \n",
       "16697   neutral     {'Ukraine': ('LOC', 2), 'Moldova': ('LOC', 2)}         4   \n",
       "16698  positive  {'Ukraine': ('LOC', 2), 'Moldova': ('LOC', 1),...        -1   \n",
       "\n",
       "                                    topic_representation  \n",
       "0      [food, grain, wheat, harvest, agricultural, hu...  \n",
       "1      [turkey, istanbul, food, ships, russia, export...  \n",
       "2      [china, russia, countries, global, asia, forei...  \n",
       "3      [china, russia, countries, global, asia, forei...  \n",
       "4      [china, russia, countries, global, asia, forei...  \n",
       "...                                                  ...  \n",
       "16694  [china, russia, countries, global, asia, forei...  \n",
       "16695  [freight, port, customs, mongolia, railway, ha...  \n",
       "16696  [freight, port, customs, mongolia, railway, ha...  \n",
       "16697  [ukraine, russia, kiev, zelensky, weapons, vol...  \n",
       "16698  [china, russia, countries, global, asia, forei...  \n",
       "\n",
       "[16699 rows x 8 columns]"
      ],
      "text/html": [
       "<div>\n",
       "<style scoped>\n",
       "    .dataframe tbody tr th:only-of-type {\n",
       "        vertical-align: middle;\n",
       "    }\n",
       "\n",
       "    .dataframe tbody tr th {\n",
       "        vertical-align: top;\n",
       "    }\n",
       "\n",
       "    .dataframe thead th {\n",
       "        text-align: right;\n",
       "    }\n",
       "</style>\n",
       "<table border=\"1\" class=\"dataframe\">\n",
       "  <thead>\n",
       "    <tr style=\"text-align: right;\">\n",
       "      <th></th>\n",
       "      <th>sentence_id</th>\n",
       "      <th>article_id</th>\n",
       "      <th>article_text</th>\n",
       "      <th>published_time</th>\n",
       "      <th>sentiment</th>\n",
       "      <th>NER</th>\n",
       "      <th>topic_id</th>\n",
       "      <th>topic_representation</th>\n",
       "    </tr>\n",
       "  </thead>\n",
       "  <tbody>\n",
       "    <tr>\n",
       "      <th>0</th>\n",
       "      <td>000-000</td>\n",
       "      <td>000</td>\n",
       "      <td>Since this year, the UN (UN) has repeatedly so...</td>\n",
       "      <td>2022-08-22</td>\n",
       "      <td>negative</td>\n",
       "      <td>{'UN': ('ORG', 2)}</td>\n",
       "      <td>10</td>\n",
       "      <td>[food, grain, wheat, harvest, agricultural, hu...</td>\n",
       "    </tr>\n",
       "    <tr>\n",
       "      <th>1</th>\n",
       "      <td>000-001</td>\n",
       "      <td>000</td>\n",
       "      <td>UN Secretary-General Antonio Guterres on Satur...</td>\n",
       "      <td>2022-08-22</td>\n",
       "      <td>neutral</td>\n",
       "      <td>{'UN': ('ORG', 1), 'Antonio Guterres': ('PER',...</td>\n",
       "      <td>22</td>\n",
       "      <td>[turkey, istanbul, food, ships, russia, export...</td>\n",
       "    </tr>\n",
       "    <tr>\n",
       "      <th>2</th>\n",
       "      <td>000-002</td>\n",
       "      <td>000</td>\n",
       "      <td>This is a major appeal made by UN Secretary-Ge...</td>\n",
       "      <td>2022-08-22</td>\n",
       "      <td>positive</td>\n",
       "      <td>{'UN': ('ORG', 1)}</td>\n",
       "      <td>-1</td>\n",
       "      <td>[china, russia, countries, global, asia, forei...</td>\n",
       "    </tr>\n",
       "    <tr>\n",
       "      <th>3</th>\n",
       "      <td>000-003</td>\n",
       "      <td>000</td>\n",
       "      <td>Guterres had clear target when he made these r...</td>\n",
       "      <td>2022-08-22</td>\n",
       "      <td>positive</td>\n",
       "      <td>{'Guterres': ('PER', 1)}</td>\n",
       "      <td>-1</td>\n",
       "      <td>[china, russia, countries, global, asia, forei...</td>\n",
       "    </tr>\n",
       "    <tr>\n",
       "      <th>4</th>\n",
       "      <td>000-004</td>\n",
       "      <td>000</td>\n",
       "      <td>At present, it is no secret who is the biggest...</td>\n",
       "      <td>2022-08-22</td>\n",
       "      <td>negative</td>\n",
       "      <td>{'Russia': ('LOC', 1)}</td>\n",
       "      <td>-1</td>\n",
       "      <td>[china, russia, countries, global, asia, forei...</td>\n",
       "    </tr>\n",
       "    <tr>\n",
       "      <th>...</th>\n",
       "      <td>...</td>\n",
       "      <td>...</td>\n",
       "      <td>...</td>\n",
       "      <td>...</td>\n",
       "      <td>...</td>\n",
       "      <td>...</td>\n",
       "      <td>...</td>\n",
       "      <td>...</td>\n",
       "    </tr>\n",
       "    <tr>\n",
       "      <th>16694</th>\n",
       "      <td>488-001</td>\n",
       "      <td>488</td>\n",
       "      <td>The agreement was reached during a meeting of ...</td>\n",
       "      <td>2022-06-07</td>\n",
       "      <td>positive</td>\n",
       "      <td>{'Vyacheslav Demchenko': ('PER', 1), 'Igor Tal...</td>\n",
       "      <td>-1</td>\n",
       "      <td>[china, russia, countries, global, asia, forei...</td>\n",
       "    </tr>\n",
       "    <tr>\n",
       "      <th>16695</th>\n",
       "      <td>488-002</td>\n",
       "      <td>488</td>\n",
       "      <td>The two countries agreed to work out mechanism...</td>\n",
       "      <td>2022-06-07</td>\n",
       "      <td>positive</td>\n",
       "      <td>{}</td>\n",
       "      <td>23</td>\n",
       "      <td>[freight, port, customs, mongolia, railway, ha...</td>\n",
       "    </tr>\n",
       "    <tr>\n",
       "      <th>16696</th>\n",
       "      <td>488-003</td>\n",
       "      <td>488</td>\n",
       "      <td>In particular, the parties agreed to optimize ...</td>\n",
       "      <td>2022-06-07</td>\n",
       "      <td>positive</td>\n",
       "      <td>{}</td>\n",
       "      <td>23</td>\n",
       "      <td>[freight, port, customs, mongolia, railway, ha...</td>\n",
       "    </tr>\n",
       "    <tr>\n",
       "      <th>16697</th>\n",
       "      <td>488-004</td>\n",
       "      <td>488</td>\n",
       "      <td>Besides, Ukraine and Moldova decided to consid...</td>\n",
       "      <td>2022-06-07</td>\n",
       "      <td>neutral</td>\n",
       "      <td>{'Ukraine': ('LOC', 2), 'Moldova': ('LOC', 2)}</td>\n",
       "      <td>4</td>\n",
       "      <td>[ukraine, russia, kiev, zelensky, weapons, vol...</td>\n",
       "    </tr>\n",
       "    <tr>\n",
       "      <th>16698</th>\n",
       "      <td>488-005</td>\n",
       "      <td>488</td>\n",
       "      <td>Last month, Ukraine Prime Minister Denys Shmyh...</td>\n",
       "      <td>2022-06-07</td>\n",
       "      <td>positive</td>\n",
       "      <td>{'Ukraine': ('LOC', 2), 'Moldova': ('LOC', 1),...</td>\n",
       "      <td>-1</td>\n",
       "      <td>[china, russia, countries, global, asia, forei...</td>\n",
       "    </tr>\n",
       "  </tbody>\n",
       "</table>\n",
       "<p>16699 rows × 8 columns</p>\n",
       "</div>"
      ]
     },
     "execution_count": 3,
     "metadata": {},
     "output_type": "execute_result"
    }
   ],
   "execution_count": 3
  },
  {
   "cell_type": "code",
   "execution_count": 5,
   "outputs": [
    {
     "name": "stderr",
     "output_type": "stream",
     "text": [
      "50it [00:20,  2.47it/s]\n",
      "Some weights of the model checkpoint at dbmdz/bert-large-cased-finetuned-conll03-english were not used when initializing BertForTokenClassification: ['bert.pooler.dense.bias', 'bert.pooler.dense.weight']\n",
      "- This IS expected if you are initializing BertForTokenClassification from the checkpoint of a model trained on another task or with another architecture (e.g. initializing a BertForSequenceClassification model from a BertForPreTraining model).\n",
      "- This IS NOT expected if you are initializing BertForTokenClassification from the checkpoint of a model that you expect to be exactly identical (initializing a BertForSequenceClassification model from a BertForSequenceClassification model).\n",
      "100%|██████████| 789/789 [02:34<00:00,  5.11it/s]\n"
     ]
    },
    {
     "name": "stdout",
     "output_type": "stream",
     "text": [
      "789\n"
     ]
    },
    {
     "data": {
      "text/plain": "Batches:   0%|          | 0/25 [00:00<?, ?it/s]",
      "application/vnd.jupyter.widget-view+json": {
       "version_major": 2,
       "version_minor": 0,
       "model_id": "c8eb20ef2ad44e5b9a82cf75ec0c9cb6"
      }
     },
     "metadata": {},
     "output_type": "display_data"
    },
    {
     "name": "stderr",
     "output_type": "stream",
     "text": [
      "2025-01-04 17:24:54,579 - BERTopic - Embedding - Transforming documents to embeddings.\n"
     ]
    },
    {
     "data": {
      "text/plain": "Batches:   0%|          | 0/25 [00:00<?, ?it/s]",
      "application/vnd.jupyter.widget-view+json": {
       "version_major": 2,
       "version_minor": 0,
       "model_id": "52de499f183b441f846ff4410655550f"
      }
     },
     "metadata": {},
     "output_type": "display_data"
    },
    {
     "name": "stderr",
     "output_type": "stream",
     "text": [
      "2025-01-04 17:25:00,235 - BERTopic - Embedding - Completed ✓\n",
      "2025-01-04 17:25:00,236 - BERTopic - Dimensionality - Fitting the dimensionality reduction algorithm\n",
      "2025-01-04 17:25:00,856 - BERTopic - Dimensionality - Completed ✓\n",
      "2025-01-04 17:25:00,857 - BERTopic - Cluster - Start clustering the reduced embeddings\n",
      "2025-01-04 17:25:00,884 - BERTopic - Cluster - Completed ✓\n",
      "2025-01-04 17:25:00,887 - BERTopic - Representation - Extracting topics from clusters using representation models.\n",
      "2025-01-04 17:25:01,107 - BERTopic - Representation - Completed ✓\n"
     ]
    }
   ],
   "source": [
    "#gaza before\n",
    "dict_name_gaza = \"../../NER_and_ED/dict_gaza.csv\"\n",
    "df_gaza_before = pd.read_csv(\"../gaza_textcontain_before_new_preprocessed.csv\")\n",
    "df_gaza_before = df_gaza_before\n",
    "\n",
    "gaza_before_sentences, gaza_before_topic_details, gaza_before_topic_model = make_sentences_df(df_gaza_before, dict_name_gaza)"
   ],
   "metadata": {
    "collapsed": false,
    "ExecuteTime": {
     "end_time": "2025-01-04T16:25:01.138164700Z",
     "start_time": "2025-01-04T16:21:46.285282800Z"
    }
   }
  },
  {
   "cell_type": "code",
   "execution_count": 13,
   "outputs": [
    {
     "data": {
      "text/plain": "    sentence_id article_id                                               text  \\\n0       000-000        000   Musicians perform during a Mid-Autumn Festiva...   \n1       000-001        000  Various celebrations are held across the world...   \n159     000-002        000  (Xinhua/Chen Junqing) Actors perform at a gala...   \n2       000-003        000  Various celebrations are held across the world...   \n160     000-004        000  (Xinhua/Hu Jiali) People taste mooncakes durin...   \n..          ...        ...                                                ...   \n657     049-024        049  Israel's response can be seen as a continuatio...   \n658     049-025        049  This further indicates that the US is finding ...   \n659     049-026        049  More and more allies and partners of the US in...   \n660     049-027        049  In the foreseeable future, the US' regional in...   \n661     049-028        049  Meanwhile, countries in the region will furthe...   \n\n    published_time sentiment  \\\n0       2023-09-29  positive   \n1       2023-09-29  positive   \n159     2023-09-29  positive   \n2       2023-09-29  positive   \n160     2023-09-29  positive   \n..             ...       ...   \n657     2023-06-27   neutral   \n658     2023-06-27  negative   \n659     2023-06-27  positive   \n660     2023-06-27  positive   \n661     2023-06-27   neutral   \n\n                                                   NER  topic_id  \\\n0    {'Mid - Autumn Festival': ('MISC', 1), 'China ...        -1   \n1               {'Mid - Autumn Festival': ('MISC', 1)}        -1   \n159  {'Xinhua': ('ORG', 1), 'Chen Junqing': ('PER',...         1   \n2               {'Mid - Autumn Festival': ('MISC', 1)}        -1   \n160  {'Xinhua': ('ORG', 1), 'Jiali': ('ORG', 1), 'H...         1   \n..                                                 ...       ...   \n657  {'Israel': ('LOC', 1), 'Saudi Arabia': ('LOC',...         0   \n658      {'US': ('LOC', 1), 'Middle East': ('LOC', 1)}         0   \n659  {'US': ('LOC', 1), 'Middle East': ('LOC', 1), ...         0   \n660      {'US': ('LOC', 1), 'Middle East': ('LOC', 1)}         0   \n661                                                 {}         0   \n\n                                  topic_representation  \n0    [china, algeria, tourism, sarcophagus, hungary...  \n1    [china, algeria, tourism, sarcophagus, hungary...  \n159  [israel, palestine, lebanon, aviv, gaza, bank,...  \n2    [china, algeria, tourism, sarcophagus, hungary...  \n160  [israel, palestine, lebanon, aviv, gaza, bank,...  \n..                                                 ...  \n657  [china, countries, iran, arabia, global, coope...  \n658  [china, countries, iran, arabia, global, coope...  \n659  [china, countries, iran, arabia, global, coope...  \n660  [china, countries, iran, arabia, global, coope...  \n661  [china, countries, iran, arabia, global, coope...  \n\n[789 rows x 8 columns]",
      "text/html": "<div>\n<style scoped>\n    .dataframe tbody tr th:only-of-type {\n        vertical-align: middle;\n    }\n\n    .dataframe tbody tr th {\n        vertical-align: top;\n    }\n\n    .dataframe thead th {\n        text-align: right;\n    }\n</style>\n<table border=\"1\" class=\"dataframe\">\n  <thead>\n    <tr style=\"text-align: right;\">\n      <th></th>\n      <th>sentence_id</th>\n      <th>article_id</th>\n      <th>text</th>\n      <th>published_time</th>\n      <th>sentiment</th>\n      <th>NER</th>\n      <th>topic_id</th>\n      <th>topic_representation</th>\n    </tr>\n  </thead>\n  <tbody>\n    <tr>\n      <th>0</th>\n      <td>000-000</td>\n      <td>000</td>\n      <td>Musicians perform during a Mid-Autumn Festiva...</td>\n      <td>2023-09-29</td>\n      <td>positive</td>\n      <td>{'Mid - Autumn Festival': ('MISC', 1), 'China ...</td>\n      <td>-1</td>\n      <td>[china, algeria, tourism, sarcophagus, hungary...</td>\n    </tr>\n    <tr>\n      <th>1</th>\n      <td>000-001</td>\n      <td>000</td>\n      <td>Various celebrations are held across the world...</td>\n      <td>2023-09-29</td>\n      <td>positive</td>\n      <td>{'Mid - Autumn Festival': ('MISC', 1)}</td>\n      <td>-1</td>\n      <td>[china, algeria, tourism, sarcophagus, hungary...</td>\n    </tr>\n    <tr>\n      <th>159</th>\n      <td>000-002</td>\n      <td>000</td>\n      <td>(Xinhua/Chen Junqing) Actors perform at a gala...</td>\n      <td>2023-09-29</td>\n      <td>positive</td>\n      <td>{'Xinhua': ('ORG', 1), 'Chen Junqing': ('PER',...</td>\n      <td>1</td>\n      <td>[israel, palestine, lebanon, aviv, gaza, bank,...</td>\n    </tr>\n    <tr>\n      <th>2</th>\n      <td>000-003</td>\n      <td>000</td>\n      <td>Various celebrations are held across the world...</td>\n      <td>2023-09-29</td>\n      <td>positive</td>\n      <td>{'Mid - Autumn Festival': ('MISC', 1)}</td>\n      <td>-1</td>\n      <td>[china, algeria, tourism, sarcophagus, hungary...</td>\n    </tr>\n    <tr>\n      <th>160</th>\n      <td>000-004</td>\n      <td>000</td>\n      <td>(Xinhua/Hu Jiali) People taste mooncakes durin...</td>\n      <td>2023-09-29</td>\n      <td>positive</td>\n      <td>{'Xinhua': ('ORG', 1), 'Jiali': ('ORG', 1), 'H...</td>\n      <td>1</td>\n      <td>[israel, palestine, lebanon, aviv, gaza, bank,...</td>\n    </tr>\n    <tr>\n      <th>...</th>\n      <td>...</td>\n      <td>...</td>\n      <td>...</td>\n      <td>...</td>\n      <td>...</td>\n      <td>...</td>\n      <td>...</td>\n      <td>...</td>\n    </tr>\n    <tr>\n      <th>657</th>\n      <td>049-024</td>\n      <td>049</td>\n      <td>Israel's response can be seen as a continuatio...</td>\n      <td>2023-06-27</td>\n      <td>neutral</td>\n      <td>{'Israel': ('LOC', 1), 'Saudi Arabia': ('LOC',...</td>\n      <td>0</td>\n      <td>[china, countries, iran, arabia, global, coope...</td>\n    </tr>\n    <tr>\n      <th>658</th>\n      <td>049-025</td>\n      <td>049</td>\n      <td>This further indicates that the US is finding ...</td>\n      <td>2023-06-27</td>\n      <td>negative</td>\n      <td>{'US': ('LOC', 1), 'Middle East': ('LOC', 1)}</td>\n      <td>0</td>\n      <td>[china, countries, iran, arabia, global, coope...</td>\n    </tr>\n    <tr>\n      <th>659</th>\n      <td>049-026</td>\n      <td>049</td>\n      <td>More and more allies and partners of the US in...</td>\n      <td>2023-06-27</td>\n      <td>positive</td>\n      <td>{'US': ('LOC', 1), 'Middle East': ('LOC', 1), ...</td>\n      <td>0</td>\n      <td>[china, countries, iran, arabia, global, coope...</td>\n    </tr>\n    <tr>\n      <th>660</th>\n      <td>049-027</td>\n      <td>049</td>\n      <td>In the foreseeable future, the US' regional in...</td>\n      <td>2023-06-27</td>\n      <td>positive</td>\n      <td>{'US': ('LOC', 1), 'Middle East': ('LOC', 1)}</td>\n      <td>0</td>\n      <td>[china, countries, iran, arabia, global, coope...</td>\n    </tr>\n    <tr>\n      <th>661</th>\n      <td>049-028</td>\n      <td>049</td>\n      <td>Meanwhile, countries in the region will furthe...</td>\n      <td>2023-06-27</td>\n      <td>neutral</td>\n      <td>{}</td>\n      <td>0</td>\n      <td>[china, countries, iran, arabia, global, coope...</td>\n    </tr>\n  </tbody>\n</table>\n<p>789 rows × 8 columns</p>\n</div>"
     },
     "execution_count": 13,
     "metadata": {},
     "output_type": "execute_result"
    }
   ],
   "source": [
    "gaza_before_sentences.to_csv(\"sentences_gaza_before.csv\", index=False)\n",
    "gaza_before_sentences"
   ],
   "metadata": {
    "collapsed": false,
    "ExecuteTime": {
     "end_time": "2025-01-04T16:39:40.837392200Z",
     "start_time": "2025-01-04T16:39:40.803402200Z"
    }
   }
  },
  {
   "cell_type": "code",
   "execution_count": 6,
   "outputs": [
    {
     "name": "stderr",
     "output_type": "stream",
     "text": [
      "50it [00:21,  2.28it/s]\n",
      "Some weights of the model checkpoint at dbmdz/bert-large-cased-finetuned-conll03-english were not used when initializing BertForTokenClassification: ['bert.pooler.dense.bias', 'bert.pooler.dense.weight']\n",
      "- This IS expected if you are initializing BertForTokenClassification from the checkpoint of a model trained on another task or with another architecture (e.g. initializing a BertForSequenceClassification model from a BertForPreTraining model).\n",
      "- This IS NOT expected if you are initializing BertForTokenClassification from the checkpoint of a model that you expect to be exactly identical (initializing a BertForSequenceClassification model from a BertForSequenceClassification model).\n",
      "100%|██████████| 789/789 [02:36<00:00,  5.03it/s]\n"
     ]
    },
    {
     "name": "stdout",
     "output_type": "stream",
     "text": [
      "789\n"
     ]
    },
    {
     "data": {
      "text/plain": "Batches:   0%|          | 0/25 [00:00<?, ?it/s]",
      "application/vnd.jupyter.widget-view+json": {
       "version_major": 2,
       "version_minor": 0,
       "model_id": "88c956f5fbff476eac3b68cc6a5c08ee"
      }
     },
     "metadata": {},
     "output_type": "display_data"
    },
    {
     "name": "stderr",
     "output_type": "stream",
     "text": [
      "2025-01-04 17:28:14,047 - BERTopic - Embedding - Transforming documents to embeddings.\n"
     ]
    },
    {
     "data": {
      "text/plain": "Batches:   0%|          | 0/25 [00:00<?, ?it/s]",
      "application/vnd.jupyter.widget-view+json": {
       "version_major": 2,
       "version_minor": 0,
       "model_id": "0322be96dbe84bbca7b356a7fb5e39a2"
      }
     },
     "metadata": {},
     "output_type": "display_data"
    },
    {
     "name": "stderr",
     "output_type": "stream",
     "text": [
      "2025-01-04 17:28:19,812 - BERTopic - Embedding - Completed ✓\n",
      "2025-01-04 17:28:19,813 - BERTopic - Dimensionality - Fitting the dimensionality reduction algorithm\n",
      "2025-01-04 17:28:20,434 - BERTopic - Dimensionality - Completed ✓\n",
      "2025-01-04 17:28:20,435 - BERTopic - Cluster - Start clustering the reduced embeddings\n",
      "2025-01-04 17:28:20,462 - BERTopic - Cluster - Completed ✓\n",
      "2025-01-04 17:28:20,465 - BERTopic - Representation - Extracting topics from clusters using representation models.\n",
      "2025-01-04 17:28:20,649 - BERTopic - Representation - Completed ✓\n"
     ]
    }
   ],
   "source": [
    "#gaza after\n",
    "dict_name_gaza = \"../../NER_and_ED/dict_gaza.csv\"\n",
    "df_gaza_after = pd.read_csv(\"../gaza_textcontain_after_new_preprocessed.csv\")\n",
    "df_gaza_after = df_gaza_after\n",
    "\n",
    "\n",
    "gaza_after_sentences, gaza_after_topic_details, gaza_after_topic_model = make_sentences_df(df_gaza_before, dict_name_gaza)"
   ],
   "metadata": {
    "collapsed": false,
    "ExecuteTime": {
     "end_time": "2025-01-04T16:28:20.677230300Z",
     "start_time": "2025-01-04T16:25:01.140165100Z"
    }
   }
  },
  {
   "cell_type": "code",
   "execution_count": 14,
   "outputs": [
    {
     "data": {
      "text/plain": "    sentence_id article_id                                               text  \\\n0       000-000        000   Musicians perform during a Mid-Autumn Festiva...   \n1       000-001        000  Various celebrations are held across the world...   \n207     000-002        000  (Xinhua/Chen Junqing) Actors perform at a gala...   \n2       000-003        000  Various celebrations are held across the world...   \n208     000-004        000  (Xinhua/Hu Jiali) People taste mooncakes durin...   \n..          ...        ...                                                ...   \n730     049-024        049  Israel's response can be seen as a continuatio...   \n731     049-025        049  This further indicates that the US is finding ...   \n732     049-026        049  More and more allies and partners of the US in...   \n733     049-027        049  In the foreseeable future, the US' regional in...   \n734     049-028        049  Meanwhile, countries in the region will furthe...   \n\n    published_time sentiment  \\\n0       2023-09-29  positive   \n1       2023-09-29  positive   \n207     2023-09-29  positive   \n2       2023-09-29  positive   \n208     2023-09-29  positive   \n..             ...       ...   \n730     2023-06-27   neutral   \n731     2023-06-27  negative   \n732     2023-06-27  positive   \n733     2023-06-27  positive   \n734     2023-06-27   neutral   \n\n                                                   NER  topic_id  \\\n0    {'Mid - Autumn Festival': ('MISC', 1), 'China ...        -1   \n1               {'Mid - Autumn Festival': ('MISC', 1)}        -1   \n207  {'Xinhua': ('ORG', 1), 'Chen Junqing': ('PER',...         1   \n2               {'Mid - Autumn Festival': ('MISC', 1)}        -1   \n208  {'Xinhua': ('ORG', 1), 'Jiali': ('ORG', 1), 'H...         1   \n..                                                 ...       ...   \n730  {'Israel': ('LOC', 1), 'Saudi Arabia': ('LOC',...         0   \n731      {'US': ('LOC', 1), 'Middle East': ('LOC', 1)}         0   \n732  {'US': ('LOC', 1), 'Middle East': ('LOC', 1), ...         0   \n733      {'US': ('LOC', 1), 'Middle East': ('LOC', 1)}         0   \n734                                                 {}         0   \n\n                                  topic_representation  \n0    [china, bridge, mainland, meters, xinhua, taiw...  \n1    [china, bridge, mainland, meters, xinhua, taiw...  \n207  [israel, palestine, lebanon, aviv, gaza, bank,...  \n2    [china, bridge, mainland, meters, xinhua, taiw...  \n208  [israel, palestine, lebanon, aviv, gaza, bank,...  \n..                                                 ...  \n730  [china, countries, iran, global, cooperation, ...  \n731  [china, countries, iran, global, cooperation, ...  \n732  [china, countries, iran, global, cooperation, ...  \n733  [china, countries, iran, global, cooperation, ...  \n734  [china, countries, iran, global, cooperation, ...  \n\n[789 rows x 8 columns]",
      "text/html": "<div>\n<style scoped>\n    .dataframe tbody tr th:only-of-type {\n        vertical-align: middle;\n    }\n\n    .dataframe tbody tr th {\n        vertical-align: top;\n    }\n\n    .dataframe thead th {\n        text-align: right;\n    }\n</style>\n<table border=\"1\" class=\"dataframe\">\n  <thead>\n    <tr style=\"text-align: right;\">\n      <th></th>\n      <th>sentence_id</th>\n      <th>article_id</th>\n      <th>text</th>\n      <th>published_time</th>\n      <th>sentiment</th>\n      <th>NER</th>\n      <th>topic_id</th>\n      <th>topic_representation</th>\n    </tr>\n  </thead>\n  <tbody>\n    <tr>\n      <th>0</th>\n      <td>000-000</td>\n      <td>000</td>\n      <td>Musicians perform during a Mid-Autumn Festiva...</td>\n      <td>2023-09-29</td>\n      <td>positive</td>\n      <td>{'Mid - Autumn Festival': ('MISC', 1), 'China ...</td>\n      <td>-1</td>\n      <td>[china, bridge, mainland, meters, xinhua, taiw...</td>\n    </tr>\n    <tr>\n      <th>1</th>\n      <td>000-001</td>\n      <td>000</td>\n      <td>Various celebrations are held across the world...</td>\n      <td>2023-09-29</td>\n      <td>positive</td>\n      <td>{'Mid - Autumn Festival': ('MISC', 1)}</td>\n      <td>-1</td>\n      <td>[china, bridge, mainland, meters, xinhua, taiw...</td>\n    </tr>\n    <tr>\n      <th>207</th>\n      <td>000-002</td>\n      <td>000</td>\n      <td>(Xinhua/Chen Junqing) Actors perform at a gala...</td>\n      <td>2023-09-29</td>\n      <td>positive</td>\n      <td>{'Xinhua': ('ORG', 1), 'Chen Junqing': ('PER',...</td>\n      <td>1</td>\n      <td>[israel, palestine, lebanon, aviv, gaza, bank,...</td>\n    </tr>\n    <tr>\n      <th>2</th>\n      <td>000-003</td>\n      <td>000</td>\n      <td>Various celebrations are held across the world...</td>\n      <td>2023-09-29</td>\n      <td>positive</td>\n      <td>{'Mid - Autumn Festival': ('MISC', 1)}</td>\n      <td>-1</td>\n      <td>[china, bridge, mainland, meters, xinhua, taiw...</td>\n    </tr>\n    <tr>\n      <th>208</th>\n      <td>000-004</td>\n      <td>000</td>\n      <td>(Xinhua/Hu Jiali) People taste mooncakes durin...</td>\n      <td>2023-09-29</td>\n      <td>positive</td>\n      <td>{'Xinhua': ('ORG', 1), 'Jiali': ('ORG', 1), 'H...</td>\n      <td>1</td>\n      <td>[israel, palestine, lebanon, aviv, gaza, bank,...</td>\n    </tr>\n    <tr>\n      <th>...</th>\n      <td>...</td>\n      <td>...</td>\n      <td>...</td>\n      <td>...</td>\n      <td>...</td>\n      <td>...</td>\n      <td>...</td>\n      <td>...</td>\n    </tr>\n    <tr>\n      <th>730</th>\n      <td>049-024</td>\n      <td>049</td>\n      <td>Israel's response can be seen as a continuatio...</td>\n      <td>2023-06-27</td>\n      <td>neutral</td>\n      <td>{'Israel': ('LOC', 1), 'Saudi Arabia': ('LOC',...</td>\n      <td>0</td>\n      <td>[china, countries, iran, global, cooperation, ...</td>\n    </tr>\n    <tr>\n      <th>731</th>\n      <td>049-025</td>\n      <td>049</td>\n      <td>This further indicates that the US is finding ...</td>\n      <td>2023-06-27</td>\n      <td>negative</td>\n      <td>{'US': ('LOC', 1), 'Middle East': ('LOC', 1)}</td>\n      <td>0</td>\n      <td>[china, countries, iran, global, cooperation, ...</td>\n    </tr>\n    <tr>\n      <th>732</th>\n      <td>049-026</td>\n      <td>049</td>\n      <td>More and more allies and partners of the US in...</td>\n      <td>2023-06-27</td>\n      <td>positive</td>\n      <td>{'US': ('LOC', 1), 'Middle East': ('LOC', 1), ...</td>\n      <td>0</td>\n      <td>[china, countries, iran, global, cooperation, ...</td>\n    </tr>\n    <tr>\n      <th>733</th>\n      <td>049-027</td>\n      <td>049</td>\n      <td>In the foreseeable future, the US' regional in...</td>\n      <td>2023-06-27</td>\n      <td>positive</td>\n      <td>{'US': ('LOC', 1), 'Middle East': ('LOC', 1)}</td>\n      <td>0</td>\n      <td>[china, countries, iran, global, cooperation, ...</td>\n    </tr>\n    <tr>\n      <th>734</th>\n      <td>049-028</td>\n      <td>049</td>\n      <td>Meanwhile, countries in the region will furthe...</td>\n      <td>2023-06-27</td>\n      <td>neutral</td>\n      <td>{}</td>\n      <td>0</td>\n      <td>[china, countries, iran, global, cooperation, ...</td>\n    </tr>\n  </tbody>\n</table>\n<p>789 rows × 8 columns</p>\n</div>"
     },
     "execution_count": 14,
     "metadata": {},
     "output_type": "execute_result"
    }
   ],
   "source": [
    "gaza_after_sentences.to_csv(\"sentences_gaza_after.csv\", index=False)\n",
    "gaza_after_sentences"
   ],
   "metadata": {
    "collapsed": false,
    "ExecuteTime": {
     "end_time": "2025-01-04T16:40:06.102853500Z",
     "start_time": "2025-01-04T16:40:06.070501400Z"
    }
   }
  }
 ],
 "metadata": {
  "kernelspec": {
   "display_name": "Python 3",
   "language": "python",
   "name": "python3"
  },
  "language_info": {
   "codemirror_mode": {
    "name": "ipython",
    "version": 2
   },
   "file_extension": ".py",
   "mimetype": "text/x-python",
   "name": "python",
   "nbconvert_exporter": "python",
   "pygments_lexer": "ipython2",
   "version": "2.7.6"
  }
 },
 "nbformat": 4,
 "nbformat_minor": 0
}
