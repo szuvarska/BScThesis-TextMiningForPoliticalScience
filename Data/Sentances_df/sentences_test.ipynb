{
 "cells": [
  {
   "cell_type": "code",
   "execution_count": 1,
   "metadata": {
    "collapsed": true,
    "ExecuteTime": {
     "end_time": "2025-01-03T21:31:38.984058200Z",
     "start_time": "2025-01-03T21:31:23.871493100Z"
    }
   },
   "outputs": [
    {
     "name": "stderr",
     "output_type": "stream",
     "text": [
      "[nltk_data] Downloading package punkt_tab to\n",
      "[nltk_data]     C:\\Users\\lukas\\AppData\\Roaming\\nltk_data...\n",
      "[nltk_data]   Package punkt_tab is already up-to-date!\n"
     ]
    }
   ],
   "source": [
    "import pandas as pd\n",
    "from Sentiment.sentiment_script import vader_sentiment, split_into_sentences\n",
    "from tqdm import tqdm\n",
    "from NER_and_ED.NER_ED_script import perform_ner_for_sentences\n",
    "from Topics.bratopic_script import perform_bratopic\n",
    "dict_name = \"../../NER_and_ED/dict_ukraine.csv\""
   ]
  },
  {
   "cell_type": "code",
   "execution_count": 2,
   "outputs": [
    {
     "data": {
      "text/plain": "     Unnamed: 0                                      article_title  \\\n0             0  US can no longer be perfunctory toward Guterre...   \n1             1  Healthy and stable China-S.Korea ties depend o...   \n2             2  China’s power in the world, economically and p...   \n3             3  Europe faces ‘coldest’ winter as energy crisis...   \n4             4  Severe drought in Europe ‘further expanding an...   \n..          ...                                                ...   \n484         485  US policy of ‘technological apartheid’ could l...   \n485         486  US behind global grain crises: Chinese FM spok...   \n486         487  ‘No longer US’ backyard,’ Latin America sends ...   \n487         488  Chinese envoy warns against providing weapons ...   \n488         489  Ukraine, Moldova agree to facilitate border cr...   \n\n                 author published_time  \\\n0          Global Times     2022-08-22   \n1         Wang Junsheng     2022-08-23   \n2          Global Times     2022-08-23   \n3              Qi Xijia     2022-08-23   \n4                   AFP     2022-08-23   \n..                  ...            ...   \n484       William Jones     2022-06-06   \n485        Global Times     2022-06-07   \n486  GT staff reporters     2022-06-07   \n487              Xinhua     2022-06-07   \n488              Xinhua     2022-06-07   \n\n                                          article_text article_category_one  \\\n0    Since this year, the United Nations (UN) has r...              OPINION   \n1    Wednesday marks the 30th anniversary of the es...              OPINION   \n2    Editor's Note: For Chinese people, the past de...              OPINION   \n3    A deepening energy crisis in Europe could put ...               SOURCE   \n4    A severe drought hitting swathes of Europe is ...                WORLD   \n..                                                 ...                  ...   \n484  A New York Times article earlier this month do...              OPINION   \n485  Zhao Lijian Photo: VCG  Each global grain cris...               SOURCE   \n486  Mexico's President Andres Manuel Lopez Obrador...                WORLD   \n487  A Chinese envoy on Monday warned against const...                CHINA   \n488  The customs agencies of Ukraine and Moldova ha...                WORLD   \n\n    article_category_two                                picture_description  \\\n0              EDITORIAL  United Nations Secretary-General Antonio Guter...   \n1              VIEWPOINT                          Illustration: Chen Xia/GT   \n2              VIEWPOINT             Tower Bridge, London, the UK Photo:VCG   \n3                ECONOMY  A coal-fired power plant operated by German en...   \n4                 EUROPE                      Picture description not found   \n..                   ...                                                ...   \n484            VIEWPOINT            Illustration: Tang Tengfei/Global Times   \n485              ECONOMY                      Picture description not found   \n486             AMERICAS                      Picture description not found   \n487            DIPLOMACY                      Picture description not found   \n488        CROSS-BORDERS                      Picture description not found   \n\n                 author_title        author_description  \n0    Author details not found  Author details not found  \n1    Author details not found  Author details not found  \n2    Author details not found  Author details not found  \n3    Author details not found  Author details not found  \n4    Author details not found  Author details not found  \n..                        ...                       ...  \n484  Author details not found  Author details not found  \n485  Author details not found  Author details not found  \n486  Author details not found  Author details not found  \n487  Author details not found  Author details not found  \n488  Author details not found  Author details not found  \n\n[489 rows x 10 columns]",
      "text/html": "<div>\n<style scoped>\n    .dataframe tbody tr th:only-of-type {\n        vertical-align: middle;\n    }\n\n    .dataframe tbody tr th {\n        vertical-align: top;\n    }\n\n    .dataframe thead th {\n        text-align: right;\n    }\n</style>\n<table border=\"1\" class=\"dataframe\">\n  <thead>\n    <tr style=\"text-align: right;\">\n      <th></th>\n      <th>Unnamed: 0</th>\n      <th>article_title</th>\n      <th>author</th>\n      <th>published_time</th>\n      <th>article_text</th>\n      <th>article_category_one</th>\n      <th>article_category_two</th>\n      <th>picture_description</th>\n      <th>author_title</th>\n      <th>author_description</th>\n    </tr>\n  </thead>\n  <tbody>\n    <tr>\n      <th>0</th>\n      <td>0</td>\n      <td>US can no longer be perfunctory toward Guterre...</td>\n      <td>Global Times</td>\n      <td>2022-08-22</td>\n      <td>Since this year, the United Nations (UN) has r...</td>\n      <td>OPINION</td>\n      <td>EDITORIAL</td>\n      <td>United Nations Secretary-General Antonio Guter...</td>\n      <td>Author details not found</td>\n      <td>Author details not found</td>\n    </tr>\n    <tr>\n      <th>1</th>\n      <td>1</td>\n      <td>Healthy and stable China-S.Korea ties depend o...</td>\n      <td>Wang Junsheng</td>\n      <td>2022-08-23</td>\n      <td>Wednesday marks the 30th anniversary of the es...</td>\n      <td>OPINION</td>\n      <td>VIEWPOINT</td>\n      <td>Illustration: Chen Xia/GT</td>\n      <td>Author details not found</td>\n      <td>Author details not found</td>\n    </tr>\n    <tr>\n      <th>2</th>\n      <td>2</td>\n      <td>China’s power in the world, economically and p...</td>\n      <td>Global Times</td>\n      <td>2022-08-23</td>\n      <td>Editor's Note: For Chinese people, the past de...</td>\n      <td>OPINION</td>\n      <td>VIEWPOINT</td>\n      <td>Tower Bridge, London, the UK Photo:VCG</td>\n      <td>Author details not found</td>\n      <td>Author details not found</td>\n    </tr>\n    <tr>\n      <th>3</th>\n      <td>3</td>\n      <td>Europe faces ‘coldest’ winter as energy crisis...</td>\n      <td>Qi Xijia</td>\n      <td>2022-08-23</td>\n      <td>A deepening energy crisis in Europe could put ...</td>\n      <td>SOURCE</td>\n      <td>ECONOMY</td>\n      <td>A coal-fired power plant operated by German en...</td>\n      <td>Author details not found</td>\n      <td>Author details not found</td>\n    </tr>\n    <tr>\n      <th>4</th>\n      <td>4</td>\n      <td>Severe drought in Europe ‘further expanding an...</td>\n      <td>AFP</td>\n      <td>2022-08-23</td>\n      <td>A severe drought hitting swathes of Europe is ...</td>\n      <td>WORLD</td>\n      <td>EUROPE</td>\n      <td>Picture description not found</td>\n      <td>Author details not found</td>\n      <td>Author details not found</td>\n    </tr>\n    <tr>\n      <th>...</th>\n      <td>...</td>\n      <td>...</td>\n      <td>...</td>\n      <td>...</td>\n      <td>...</td>\n      <td>...</td>\n      <td>...</td>\n      <td>...</td>\n      <td>...</td>\n      <td>...</td>\n    </tr>\n    <tr>\n      <th>484</th>\n      <td>485</td>\n      <td>US policy of ‘technological apartheid’ could l...</td>\n      <td>William Jones</td>\n      <td>2022-06-06</td>\n      <td>A New York Times article earlier this month do...</td>\n      <td>OPINION</td>\n      <td>VIEWPOINT</td>\n      <td>Illustration: Tang Tengfei/Global Times</td>\n      <td>Author details not found</td>\n      <td>Author details not found</td>\n    </tr>\n    <tr>\n      <th>485</th>\n      <td>486</td>\n      <td>US behind global grain crises: Chinese FM spok...</td>\n      <td>Global Times</td>\n      <td>2022-06-07</td>\n      <td>Zhao Lijian Photo: VCG  Each global grain cris...</td>\n      <td>SOURCE</td>\n      <td>ECONOMY</td>\n      <td>Picture description not found</td>\n      <td>Author details not found</td>\n      <td>Author details not found</td>\n    </tr>\n    <tr>\n      <th>486</th>\n      <td>487</td>\n      <td>‘No longer US’ backyard,’ Latin America sends ...</td>\n      <td>GT staff reporters</td>\n      <td>2022-06-07</td>\n      <td>Mexico's President Andres Manuel Lopez Obrador...</td>\n      <td>WORLD</td>\n      <td>AMERICAS</td>\n      <td>Picture description not found</td>\n      <td>Author details not found</td>\n      <td>Author details not found</td>\n    </tr>\n    <tr>\n      <th>487</th>\n      <td>488</td>\n      <td>Chinese envoy warns against providing weapons ...</td>\n      <td>Xinhua</td>\n      <td>2022-06-07</td>\n      <td>A Chinese envoy on Monday warned against const...</td>\n      <td>CHINA</td>\n      <td>DIPLOMACY</td>\n      <td>Picture description not found</td>\n      <td>Author details not found</td>\n      <td>Author details not found</td>\n    </tr>\n    <tr>\n      <th>488</th>\n      <td>489</td>\n      <td>Ukraine, Moldova agree to facilitate border cr...</td>\n      <td>Xinhua</td>\n      <td>2022-06-07</td>\n      <td>The customs agencies of Ukraine and Moldova ha...</td>\n      <td>WORLD</td>\n      <td>CROSS-BORDERS</td>\n      <td>Picture description not found</td>\n      <td>Author details not found</td>\n      <td>Author details not found</td>\n    </tr>\n  </tbody>\n</table>\n<p>489 rows × 10 columns</p>\n</div>"
     },
     "execution_count": 2,
     "metadata": {},
     "output_type": "execute_result"
    }
   ],
   "source": [
    "# Load data\n",
    "df = pd.read_csv(\"../ukraine_textcontain_after_new_preprocessed.csv\")\n",
    "df"
   ],
   "metadata": {
    "collapsed": false,
    "ExecuteTime": {
     "end_time": "2025-01-03T21:19:24.980321200Z",
     "start_time": "2025-01-03T21:19:24.899545Z"
    }
   }
  },
  {
   "cell_type": "code",
   "execution_count": null,
   "outputs": [],
   "source": [
    "article_text = []\n",
    "article_id = []\n",
    "dates = []\n",
    "\n",
    "for i in range(len(df)):\n",
    "    article_text.append(str(df['article_text'][i]))\n",
    "    date = str(df['published_time'][i])\n",
    "    title = str(df['article_text'][i]).replace(\" \", \"_\")\n",
    "    id =  str(df['Unnamed: 0'][i])\n",
    "    article_id.append(id)"
   ],
   "metadata": {
    "collapsed": false
   }
  },
  {
   "cell_type": "code",
   "execution_count": null,
   "outputs": [],
   "source": [
    "print(len(article_id))\n",
    "#count unique article_id\n",
    "print(len(set(article_id)))\n",
    "article_id"
   ],
   "metadata": {
    "collapsed": false
   }
  },
  {
   "cell_type": "code",
   "execution_count": null,
   "outputs": [],
   "source": [
    "senteces_all = []\n",
    "sentences_id_all = []\n",
    "senteces_date_all = []\n",
    "\n",
    "for article, id, date in tqdm(zip(article_text, article_id, df['published_time'])):\n",
    "    sentences = split_into_sentences(article)\n",
    "    sentences_id = []\n",
    "    for i in range(len(sentences)):\n",
    "        #sentence number 3digits with 0 padding\n",
    "        sentences_id.append(str(id).zfill(3) + \"-\" + str(i).zfill(3))\n",
    "        senteces_date_all.append(date)\n",
    "    senteces_all += sentences\n",
    "    sentences_id_all += sentences_id"
   ],
   "metadata": {
    "collapsed": false
   }
  },
  {
   "cell_type": "code",
   "execution_count": null,
   "outputs": [],
   "source": [
    "articles_id = [x.split(\"-\")[0] for x in sentences_id_all]\n",
    "sentences_df = pd.DataFrame({'sentence_id': sentences_id_all, 'article_id': articles_id,  'text': senteces_all, 'published_time': senteces_date_all})\n",
    "sentences_df"
   ],
   "metadata": {
    "collapsed": false
   }
  },
  {
   "cell_type": "code",
   "execution_count": null,
   "outputs": [],
   "source": [
    "#sentiment\n",
    "sentences_df['sentiment'] = sentences_df['text'].apply(vader_sentiment)\n",
    "sentences_df"
   ],
   "metadata": {
    "collapsed": false
   }
  },
  {
   "cell_type": "code",
   "execution_count": null,
   "outputs": [],
   "source": [
    "ner_df = perform_ner_for_sentences(sentences_df, dict_name)\n",
    "ner_df"
   ],
   "metadata": {
    "collapsed": false
   }
  },
  {
   "cell_type": "code",
   "execution_count": 36,
   "outputs": [
    {
     "data": {
      "text/plain": "       Unnamed: 0 sentence_id  article_id  \\\n0               0     000-000           0   \n1              12     000-012           0   \n2              14     000-014           0   \n3              15     000-015           0   \n4              16     000-016           0   \n...           ...         ...         ...   \n16811       12781     374-003         374   \n16812       12783     374-005         374   \n16813       12784     374-006         374   \n16814       12785     374-007         374   \n16815       12787     374-009         374   \n\n                                                    text sentiment  \\\n0      Since this year, the UN (UN) has repeatedly so...  negative   \n1      Apart from the food issue, many hegemonism and...  negative   \n2      In addition, on one side, it is the scene of p...  negative   \n3      The four companies known as the four \"largest ...   neutral   \n4      According to US media reports, high food price...  positive   \n...                                                  ...       ...   \n16811  Last week, Turkey said documents it received f...   neutral   \n16812  Ibrahim Kalin said Ankara was expecting Sweden...  positive   \n16813  Any progress on the Nordic membership bids \"no...  positive   \n16814  The talks in Brussels with officials from Swed...  positive   \n16815  \"Onal said Turkey expected a change of approac...  positive   \n\n                                                     NER published_time  \\\n0                                     {'UN': ('ORG', 2)}     2022-08-22   \n1                                     {'US': ('LOC', 1)}     2022-08-22   \n2                            {'Wall Street': ('LOC', 1)}     2022-08-22   \n3                                     {'US': ('LOC', 1)}     2022-08-22   \n4                                     {'US': ('LOC', 2)}     2022-08-22   \n...                                                  ...            ...   \n16811  {'Turkey': ('LOC', 2), 'Sweden': ('LOC', 1), '...     2022-06-21   \n16812  {'Ibrahim Kalin': ('PER', 1), 'Ankara': ('LOC'...     2022-06-21   \n16813                            {'Nordic': ('MISC', 1)}     2022-06-21   \n16814  {'Brussels': ('LOC', 1), 'Sweden': ('LOC', 1),...     2022-06-21   \n16815  {'Onal': ('ORG', 1), 'Turkey': ('LOC', 1), 'Sw...     2022-06-21   \n\n       topic_id  \n0            11  \n1            11  \n2            11  \n3            11  \n4            11  \n...         ...  \n16811        35  \n16812        35  \n16813        35  \n16814        35  \n16815        35  \n\n[16816 rows x 8 columns]",
      "text/html": "<div>\n<style scoped>\n    .dataframe tbody tr th:only-of-type {\n        vertical-align: middle;\n    }\n\n    .dataframe tbody tr th {\n        vertical-align: top;\n    }\n\n    .dataframe thead th {\n        text-align: right;\n    }\n</style>\n<table border=\"1\" class=\"dataframe\">\n  <thead>\n    <tr style=\"text-align: right;\">\n      <th></th>\n      <th>Unnamed: 0</th>\n      <th>sentence_id</th>\n      <th>article_id</th>\n      <th>text</th>\n      <th>sentiment</th>\n      <th>NER</th>\n      <th>published_time</th>\n      <th>topic_id</th>\n    </tr>\n  </thead>\n  <tbody>\n    <tr>\n      <th>0</th>\n      <td>0</td>\n      <td>000-000</td>\n      <td>0</td>\n      <td>Since this year, the UN (UN) has repeatedly so...</td>\n      <td>negative</td>\n      <td>{'UN': ('ORG', 2)}</td>\n      <td>2022-08-22</td>\n      <td>11</td>\n    </tr>\n    <tr>\n      <th>1</th>\n      <td>12</td>\n      <td>000-012</td>\n      <td>0</td>\n      <td>Apart from the food issue, many hegemonism and...</td>\n      <td>negative</td>\n      <td>{'US': ('LOC', 1)}</td>\n      <td>2022-08-22</td>\n      <td>11</td>\n    </tr>\n    <tr>\n      <th>2</th>\n      <td>14</td>\n      <td>000-014</td>\n      <td>0</td>\n      <td>In addition, on one side, it is the scene of p...</td>\n      <td>negative</td>\n      <td>{'Wall Street': ('LOC', 1)}</td>\n      <td>2022-08-22</td>\n      <td>11</td>\n    </tr>\n    <tr>\n      <th>3</th>\n      <td>15</td>\n      <td>000-015</td>\n      <td>0</td>\n      <td>The four companies known as the four \"largest ...</td>\n      <td>neutral</td>\n      <td>{'US': ('LOC', 1)}</td>\n      <td>2022-08-22</td>\n      <td>11</td>\n    </tr>\n    <tr>\n      <th>4</th>\n      <td>16</td>\n      <td>000-016</td>\n      <td>0</td>\n      <td>According to US media reports, high food price...</td>\n      <td>positive</td>\n      <td>{'US': ('LOC', 2)}</td>\n      <td>2022-08-22</td>\n      <td>11</td>\n    </tr>\n    <tr>\n      <th>...</th>\n      <td>...</td>\n      <td>...</td>\n      <td>...</td>\n      <td>...</td>\n      <td>...</td>\n      <td>...</td>\n      <td>...</td>\n      <td>...</td>\n    </tr>\n    <tr>\n      <th>16811</th>\n      <td>12781</td>\n      <td>374-003</td>\n      <td>374</td>\n      <td>Last week, Turkey said documents it received f...</td>\n      <td>neutral</td>\n      <td>{'Turkey': ('LOC', 2), 'Sweden': ('LOC', 1), '...</td>\n      <td>2022-06-21</td>\n      <td>35</td>\n    </tr>\n    <tr>\n      <th>16812</th>\n      <td>12783</td>\n      <td>374-005</td>\n      <td>374</td>\n      <td>Ibrahim Kalin said Ankara was expecting Sweden...</td>\n      <td>positive</td>\n      <td>{'Ibrahim Kalin': ('PER', 1), 'Ankara': ('LOC'...</td>\n      <td>2022-06-21</td>\n      <td>35</td>\n    </tr>\n    <tr>\n      <th>16813</th>\n      <td>12784</td>\n      <td>374-006</td>\n      <td>374</td>\n      <td>Any progress on the Nordic membership bids \"no...</td>\n      <td>positive</td>\n      <td>{'Nordic': ('MISC', 1)}</td>\n      <td>2022-06-21</td>\n      <td>35</td>\n    </tr>\n    <tr>\n      <th>16814</th>\n      <td>12785</td>\n      <td>374-007</td>\n      <td>374</td>\n      <td>The talks in Brussels with officials from Swed...</td>\n      <td>positive</td>\n      <td>{'Brussels': ('LOC', 1), 'Sweden': ('LOC', 1),...</td>\n      <td>2022-06-21</td>\n      <td>35</td>\n    </tr>\n    <tr>\n      <th>16815</th>\n      <td>12787</td>\n      <td>374-009</td>\n      <td>374</td>\n      <td>\"Onal said Turkey expected a change of approac...</td>\n      <td>positive</td>\n      <td>{'Onal': ('ORG', 1), 'Turkey': ('LOC', 1), 'Sw...</td>\n      <td>2022-06-21</td>\n      <td>35</td>\n    </tr>\n  </tbody>\n</table>\n<p>16816 rows × 8 columns</p>\n</div>"
     },
     "execution_count": 36,
     "metadata": {},
     "output_type": "execute_result"
    }
   ],
   "source": [
    "#ner_df.to_csv(\"senteces_ukraine_after.csv\", index=False)\n",
    "ner_df = pd.read_csv(\"senteces_ukraine_after.csv\")\n",
    "ner_df"
   ],
   "metadata": {
    "collapsed": false,
    "ExecuteTime": {
     "end_time": "2025-01-03T21:58:12.459771300Z",
     "start_time": "2025-01-03T21:58:12.304219800Z"
    }
   }
  },
  {
   "cell_type": "code",
   "execution_count": 37,
   "outputs": [
    {
     "name": "stdout",
     "output_type": "stream",
     "text": [
      "16816\n"
     ]
    },
    {
     "data": {
      "text/plain": "Batches:   0%|          | 0/526 [00:00<?, ?it/s]",
      "application/vnd.jupyter.widget-view+json": {
       "version_major": 2,
       "version_minor": 0,
       "model_id": "78b793c8ba364f51ada7be89c307edf0"
      }
     },
     "metadata": {},
     "output_type": "display_data"
    },
    {
     "name": "stderr",
     "output_type": "stream",
     "text": [
      "2025-01-03 23:00:26,587 - BERTopic - Embedding - Transforming documents to embeddings.\n"
     ]
    },
    {
     "data": {
      "text/plain": "Batches:   0%|          | 0/526 [00:00<?, ?it/s]",
      "application/vnd.jupyter.widget-view+json": {
       "version_major": 2,
       "version_minor": 0,
       "model_id": "d742b6aa0f8d4b36994b6125fabcb850"
      }
     },
     "metadata": {},
     "output_type": "display_data"
    },
    {
     "name": "stderr",
     "output_type": "stream",
     "text": [
      "2025-01-03 23:02:18,439 - BERTopic - Embedding - Completed ✓\n",
      "2025-01-03 23:02:18,440 - BERTopic - Dimensionality - Fitting the dimensionality reduction algorithm\n",
      "2025-01-03 23:02:21,923 - BERTopic - Dimensionality - Completed ✓\n",
      "2025-01-03 23:02:21,925 - BERTopic - Cluster - Start clustering the reduced embeddings\n",
      "2025-01-03 23:02:23,860 - BERTopic - Cluster - Completed ✓\n",
      "2025-01-03 23:02:23,864 - BERTopic - Representation - Extracting topics from clusters using representation models.\n",
      "2025-01-03 23:02:26,094 - BERTopic - Representation - Completed ✓\n"
     ]
    }
   ],
   "source": [
    "#topics\n",
    "topics, probs, topic_detailes_df, topic_model = perform_bratopic(ner_df)"
   ],
   "metadata": {
    "collapsed": false,
    "ExecuteTime": {
     "end_time": "2025-01-03T22:02:26.372613400Z",
     "start_time": "2025-01-03T21:58:22.970820200Z"
    }
   }
  },
  {
   "cell_type": "code",
   "execution_count": 43,
   "outputs": [
    {
     "data": {
      "text/plain": "    Topic  Count                                            Name  \\\n0      -1   4912                -1_china_russia_countries_global   \n1       0   2084            0_world_countries_democracy_security   \n2       1    921             1_china_relations_sovereignty_peace   \n3       2    884        2_xinjiang_training_institute_vocational   \n4       3    692          3_taiwan_straits_mainland_independence   \n5       4    607                   4_ukraine_russia_kiev_weapons   \n6       5    452              5_inflation_recession_fed_monetary   \n7       6    434               6_brics_bri_countries_cooperation   \n8       7    388           7_japan_kishida_constitution_military   \n9       8    310                  8_nato_expansion_soviet_warsaw   \n10      9    305                     9_pelosi_visit_taiwan_nancy   \n11     10    277              10_grain_prices_wheat_agricultural   \n12     11    260                 11_growth_percent_economy_china   \n13     12    208                         12_oil_eu_russia_prices   \n14     13    199          13_russia_ukraine_cooperation_conflict   \n15     14    197              14_eu_autonomy_europeans_strategic   \n16     15    193                  15_global_museum_hours_viewsas   \n17     16    182                   16_eu_ceec_cooperation_baltic   \n18     17    175           17_covid_epidemic_pandemic_quarantine   \n19     18    175                 18_ukraine_turkey_food_istanbul   \n20     19    173             19_border_jaishankar_nato_interests   \n21     20    171           20_biden_joe_administration_democrats   \n22     21    169                  21_korea_yoon_korean_peninsula   \n23     22    167  22_africa_continent_cooperation_infrastructure   \n24     23    166           23_boris_brexit_conservative_scotland   \n25     24    137             24_kong_hong_government_declaration   \n26     25    135                    25_meters_seconds_won_bronze   \n27     26    128                       26_freight_trains_port_eu   \n28     27    128                   27_lanka_debt_crisis_projects   \n29     28    124                28_sanctions_eu_economic_ukraine   \n30     29    117                  29_nato_asia_pacific_strategic   \n31     30    105           30_emissions_climate_carbon_pollution   \n32     31     96            31_afghanistan_afghan_taliban_karzai   \n33     32     93                   32_orange_depay_downs_despite   \n34     33     80                  33_nato_nordic_joining_swedish   \n35     34     77            34_indonesia_ministers_meeting_asean   \n36     35     72    35_pakistan_renewable_hydropower_electricity   \n37     36     70         36_author_reporter_journalist_publisher   \n38     37     69                 37_nato_ukraine_russia_conflict   \n39     38     65              38_refugees_refugee_asylum_seekers   \n40     39     61              39_xinjiang_genocide_ethnic_rights   \n41     40     61    40_temperatures_waves_drought_meteorological   \n42     41     60               41_nsa_validator_attacks_agencies   \n43     42     58              42_drills_exercises_military_korea   \n44     43     57           43_philippines_marcos_philippine_chen   \n45     44     57                   44_cn_globaltimes_com_opinion   \n46     45     55               45_aircraft_carrier_carriers_navy   \n47     46     53         46_friendship_association_nepal_culture   \n48     47     53             47_australia_minister_morrison_aspi   \n49     48     53    48_nuclear_proliferation_weapons_disarmament   \n50     49     51                49_xi_initiative_proposed_global   \n\n                                       Representation  \\\n0   [china, russia, countries, global, economic, a...   \n1   [world, countries, democracy, security, politi...   \n2   [china, relations, sovereignty, peace, countri...   \n3   [xinjiang, training, institute, vocational, ar...   \n4   [taiwan, straits, mainland, independence, prin...   \n5   [ukraine, russia, kiev, weapons, zelensky, vol...   \n6   [inflation, recession, fed, monetary, rates, c...   \n7   [brics, bri, countries, cooperation, emerging,...   \n8   [japan, kishida, constitution, military, tokyo...   \n9   [nato, expansion, soviet, warsaw, alliance, yu...   \n10  [pelosi, visit, taiwan, nancy, biden, straits,...   \n11  [grain, prices, wheat, agricultural, hunger, f...   \n12  [growth, percent, economy, china, gdp, rebound...   \n13  [oil, eu, russia, prices, imports, pipeline, s...   \n14  [russia, ukraine, cooperation, conflict, threa...   \n15  [eu, autonomy, europeans, strategic, countries...   \n16  [global, museum, hours, viewsas, queuing, meng...   \n17  [eu, ceec, cooperation, baltic, estonia, cui, ...   \n18  [covid, epidemic, pandemic, quarantine, virus,...   \n19  [ukraine, turkey, food, istanbul, ships, guter...   \n20  [border, jaishankar, nato, interests, cooperat...   \n21  [biden, joe, administration, democrats, iran, ...   \n22  [korea, yoon, korean, peninsula, relations, ja...   \n23  [africa, continent, cooperation, infrastructur...   \n24  [boris, brexit, conservative, scotland, minist...   \n25  [kong, hong, government, declaration, macao, h...   \n26  [meters, seconds, won, bronze, medal, minutes,...   \n27  [freight, trains, port, eu, customs, mongolia,...   \n28  [lanka, debt, crisis, projects, lankan, econom...   \n29  [sanctions, eu, economic, ukraine, lithuania, ...   \n30  [nato, asia, pacific, strategic, alliance, eu,...   \n31  [emissions, climate, carbon, pollution, neutra...   \n32  [afghanistan, afghan, taliban, karzai, kabul, ...   \n33  [orange, depay, downs, despite, , , , , , , , ...   \n34  [nato, nordic, joining, swedish, finnish, scan...   \n35  [indonesia, ministers, meeting, asean, bali, a...   \n36  [pakistan, renewable, hydropower, electricity,...   \n37  [author, reporter, journalist, publisher, mari...   \n38  [nato, ukraine, russia, conflict, eastward, ex...   \n39  [refugees, refugee, asylum, seekers, rwanda, d...   \n40  [xinjiang, genocide, ethnic, rights, zenz, min...   \n41  [temperatures, waves, drought, meteorological,...   \n42  [nsa, validator, attacks, agencies, espionage,...   \n43  [drills, exercises, military, korea, training,...   \n44  [philippines, marcos, philippine, chen, manila...   \n45  [cn, globaltimes, com, opinion, globaltime, , ...   \n46  [aircraft, carrier, carriers, navy, naval, cat...   \n47  [friendship, association, nepal, culture, ocea...   \n48  [australia, minister, morrison, aspi, governme...   \n49  [nuclear, proliferation, weapons, disarmament,...   \n50  [xi, initiative, proposed, global, sustainable...   \n\n                                  Representative_Docs  \n0   [The Ukraine crisis triggered by geopolitics a...  \n1   [In the face of the most serious systemic cris...  \n2   [Most peace loving countries in the region res...  \n3   [Xinjiang Uyghur Autonomous Region Commerce Ec...  \n4   [ The China People s Liberation Army PLA condu...  \n5   [The administration of U S President Joe Biden...  \n6   [US inflation has recently hit a year high of ...  \n7   [In response to media questions over China s v...  \n8   [On Friday Japan Prime Minister Fumio Kishida ...  \n9   [After the Cold War even though there were peo...  \n10  [The China Foreign Ministry and the People s L...  \n11  [At the same time summer grain production has ...  \n12  [According to data released by the National Bu...  \n13  [Increasing energy imports from the US may be ...  \n14  [Apparently when Russia attends some internati...  \n15  [Global Times Some EU leaders underline EU s s...  \n16      [Global Times , Global Times , Global Times ]  \n17  [Thus China CEEC Cooperation is a valuable sup...  \n18  [I don t think Japan has any reason to critici...  \n19  [Ukraine is preparing to start grain exports v...  \n20  [At a media briefing on Saturday China Ambassa...  \n21  [The Middle East diplomacy of the Joe Biden ad...  \n22  [How can South Korea ensure its economic secur...  \n23  [The US wants to persuade the Africa continent...  \n24  [The UK s current political turmoil did not st...  \n25  [A number of West people have a very strong at...  \n26  [Ledecky was on course to reclaim the record h...  \n27  [At Manzhouli railway port the largest of its ...  \n28  [China is a very important creditor of Sri Lan...  \n29  [Following the Russia Ukraine crisis the US an...  \n30  [NATO Secretary General Jens Stoltenberg said ...  \n31  [In comparison when the US had its carbon peak...  \n32  [The US government froze seven billion US doll...  \n33                   [ Despite,  Orange, Depay downs]  \n34  [Discussions between Turkey Finland and Sweden...  \n35  [A series of major regional or global events a...  \n36  [Energy China said that hydropower projects in...  \n37  [The author is an editor with the Global Times...  \n38  [From a non EU perspective NATO s eastward exp...  \n39  [If the refugees do arrive in a third country ...  \n40  [The effort is to follow the US in hyping the ...  \n41  [ The reason is that whereas heat waves are a ...  \n42  [According to a report on the indiscriminate w...  \n43  [The report noted that the drills will undersc...  \n44  [China is not only neighbor of the Philippines...  \n45  [opinion globaltimes com cn, opinion globaltim...  \n46  [The China People s Liberation Army PLA Navy h...  \n47  [China US People s Friendship Association , Ch...  \n48  [What would you like to say to the new Austral...  \n49  [Another form is geographic nuclear proliferat...  \n50  [Global Times China President Xi Jinping propo...  ",
      "text/html": "<div>\n<style scoped>\n    .dataframe tbody tr th:only-of-type {\n        vertical-align: middle;\n    }\n\n    .dataframe tbody tr th {\n        vertical-align: top;\n    }\n\n    .dataframe thead th {\n        text-align: right;\n    }\n</style>\n<table border=\"1\" class=\"dataframe\">\n  <thead>\n    <tr style=\"text-align: right;\">\n      <th></th>\n      <th>Topic</th>\n      <th>Count</th>\n      <th>Name</th>\n      <th>Representation</th>\n      <th>Representative_Docs</th>\n    </tr>\n  </thead>\n  <tbody>\n    <tr>\n      <th>0</th>\n      <td>-1</td>\n      <td>4912</td>\n      <td>-1_china_russia_countries_global</td>\n      <td>[china, russia, countries, global, economic, a...</td>\n      <td>[The Ukraine crisis triggered by geopolitics a...</td>\n    </tr>\n    <tr>\n      <th>1</th>\n      <td>0</td>\n      <td>2084</td>\n      <td>0_world_countries_democracy_security</td>\n      <td>[world, countries, democracy, security, politi...</td>\n      <td>[In the face of the most serious systemic cris...</td>\n    </tr>\n    <tr>\n      <th>2</th>\n      <td>1</td>\n      <td>921</td>\n      <td>1_china_relations_sovereignty_peace</td>\n      <td>[china, relations, sovereignty, peace, countri...</td>\n      <td>[Most peace loving countries in the region res...</td>\n    </tr>\n    <tr>\n      <th>3</th>\n      <td>2</td>\n      <td>884</td>\n      <td>2_xinjiang_training_institute_vocational</td>\n      <td>[xinjiang, training, institute, vocational, ar...</td>\n      <td>[Xinjiang Uyghur Autonomous Region Commerce Ec...</td>\n    </tr>\n    <tr>\n      <th>4</th>\n      <td>3</td>\n      <td>692</td>\n      <td>3_taiwan_straits_mainland_independence</td>\n      <td>[taiwan, straits, mainland, independence, prin...</td>\n      <td>[ The China People s Liberation Army PLA condu...</td>\n    </tr>\n    <tr>\n      <th>5</th>\n      <td>4</td>\n      <td>607</td>\n      <td>4_ukraine_russia_kiev_weapons</td>\n      <td>[ukraine, russia, kiev, weapons, zelensky, vol...</td>\n      <td>[The administration of U S President Joe Biden...</td>\n    </tr>\n    <tr>\n      <th>6</th>\n      <td>5</td>\n      <td>452</td>\n      <td>5_inflation_recession_fed_monetary</td>\n      <td>[inflation, recession, fed, monetary, rates, c...</td>\n      <td>[US inflation has recently hit a year high of ...</td>\n    </tr>\n    <tr>\n      <th>7</th>\n      <td>6</td>\n      <td>434</td>\n      <td>6_brics_bri_countries_cooperation</td>\n      <td>[brics, bri, countries, cooperation, emerging,...</td>\n      <td>[In response to media questions over China s v...</td>\n    </tr>\n    <tr>\n      <th>8</th>\n      <td>7</td>\n      <td>388</td>\n      <td>7_japan_kishida_constitution_military</td>\n      <td>[japan, kishida, constitution, military, tokyo...</td>\n      <td>[On Friday Japan Prime Minister Fumio Kishida ...</td>\n    </tr>\n    <tr>\n      <th>9</th>\n      <td>8</td>\n      <td>310</td>\n      <td>8_nato_expansion_soviet_warsaw</td>\n      <td>[nato, expansion, soviet, warsaw, alliance, yu...</td>\n      <td>[After the Cold War even though there were peo...</td>\n    </tr>\n    <tr>\n      <th>10</th>\n      <td>9</td>\n      <td>305</td>\n      <td>9_pelosi_visit_taiwan_nancy</td>\n      <td>[pelosi, visit, taiwan, nancy, biden, straits,...</td>\n      <td>[The China Foreign Ministry and the People s L...</td>\n    </tr>\n    <tr>\n      <th>11</th>\n      <td>10</td>\n      <td>277</td>\n      <td>10_grain_prices_wheat_agricultural</td>\n      <td>[grain, prices, wheat, agricultural, hunger, f...</td>\n      <td>[At the same time summer grain production has ...</td>\n    </tr>\n    <tr>\n      <th>12</th>\n      <td>11</td>\n      <td>260</td>\n      <td>11_growth_percent_economy_china</td>\n      <td>[growth, percent, economy, china, gdp, rebound...</td>\n      <td>[According to data released by the National Bu...</td>\n    </tr>\n    <tr>\n      <th>13</th>\n      <td>12</td>\n      <td>208</td>\n      <td>12_oil_eu_russia_prices</td>\n      <td>[oil, eu, russia, prices, imports, pipeline, s...</td>\n      <td>[Increasing energy imports from the US may be ...</td>\n    </tr>\n    <tr>\n      <th>14</th>\n      <td>13</td>\n      <td>199</td>\n      <td>13_russia_ukraine_cooperation_conflict</td>\n      <td>[russia, ukraine, cooperation, conflict, threa...</td>\n      <td>[Apparently when Russia attends some internati...</td>\n    </tr>\n    <tr>\n      <th>15</th>\n      <td>14</td>\n      <td>197</td>\n      <td>14_eu_autonomy_europeans_strategic</td>\n      <td>[eu, autonomy, europeans, strategic, countries...</td>\n      <td>[Global Times Some EU leaders underline EU s s...</td>\n    </tr>\n    <tr>\n      <th>16</th>\n      <td>15</td>\n      <td>193</td>\n      <td>15_global_museum_hours_viewsas</td>\n      <td>[global, museum, hours, viewsas, queuing, meng...</td>\n      <td>[Global Times , Global Times , Global Times ]</td>\n    </tr>\n    <tr>\n      <th>17</th>\n      <td>16</td>\n      <td>182</td>\n      <td>16_eu_ceec_cooperation_baltic</td>\n      <td>[eu, ceec, cooperation, baltic, estonia, cui, ...</td>\n      <td>[Thus China CEEC Cooperation is a valuable sup...</td>\n    </tr>\n    <tr>\n      <th>18</th>\n      <td>17</td>\n      <td>175</td>\n      <td>17_covid_epidemic_pandemic_quarantine</td>\n      <td>[covid, epidemic, pandemic, quarantine, virus,...</td>\n      <td>[I don t think Japan has any reason to critici...</td>\n    </tr>\n    <tr>\n      <th>19</th>\n      <td>18</td>\n      <td>175</td>\n      <td>18_ukraine_turkey_food_istanbul</td>\n      <td>[ukraine, turkey, food, istanbul, ships, guter...</td>\n      <td>[Ukraine is preparing to start grain exports v...</td>\n    </tr>\n    <tr>\n      <th>20</th>\n      <td>19</td>\n      <td>173</td>\n      <td>19_border_jaishankar_nato_interests</td>\n      <td>[border, jaishankar, nato, interests, cooperat...</td>\n      <td>[At a media briefing on Saturday China Ambassa...</td>\n    </tr>\n    <tr>\n      <th>21</th>\n      <td>20</td>\n      <td>171</td>\n      <td>20_biden_joe_administration_democrats</td>\n      <td>[biden, joe, administration, democrats, iran, ...</td>\n      <td>[The Middle East diplomacy of the Joe Biden ad...</td>\n    </tr>\n    <tr>\n      <th>22</th>\n      <td>21</td>\n      <td>169</td>\n      <td>21_korea_yoon_korean_peninsula</td>\n      <td>[korea, yoon, korean, peninsula, relations, ja...</td>\n      <td>[How can South Korea ensure its economic secur...</td>\n    </tr>\n    <tr>\n      <th>23</th>\n      <td>22</td>\n      <td>167</td>\n      <td>22_africa_continent_cooperation_infrastructure</td>\n      <td>[africa, continent, cooperation, infrastructur...</td>\n      <td>[The US wants to persuade the Africa continent...</td>\n    </tr>\n    <tr>\n      <th>24</th>\n      <td>23</td>\n      <td>166</td>\n      <td>23_boris_brexit_conservative_scotland</td>\n      <td>[boris, brexit, conservative, scotland, minist...</td>\n      <td>[The UK s current political turmoil did not st...</td>\n    </tr>\n    <tr>\n      <th>25</th>\n      <td>24</td>\n      <td>137</td>\n      <td>24_kong_hong_government_declaration</td>\n      <td>[kong, hong, government, declaration, macao, h...</td>\n      <td>[A number of West people have a very strong at...</td>\n    </tr>\n    <tr>\n      <th>26</th>\n      <td>25</td>\n      <td>135</td>\n      <td>25_meters_seconds_won_bronze</td>\n      <td>[meters, seconds, won, bronze, medal, minutes,...</td>\n      <td>[Ledecky was on course to reclaim the record h...</td>\n    </tr>\n    <tr>\n      <th>27</th>\n      <td>26</td>\n      <td>128</td>\n      <td>26_freight_trains_port_eu</td>\n      <td>[freight, trains, port, eu, customs, mongolia,...</td>\n      <td>[At Manzhouli railway port the largest of its ...</td>\n    </tr>\n    <tr>\n      <th>28</th>\n      <td>27</td>\n      <td>128</td>\n      <td>27_lanka_debt_crisis_projects</td>\n      <td>[lanka, debt, crisis, projects, lankan, econom...</td>\n      <td>[China is a very important creditor of Sri Lan...</td>\n    </tr>\n    <tr>\n      <th>29</th>\n      <td>28</td>\n      <td>124</td>\n      <td>28_sanctions_eu_economic_ukraine</td>\n      <td>[sanctions, eu, economic, ukraine, lithuania, ...</td>\n      <td>[Following the Russia Ukraine crisis the US an...</td>\n    </tr>\n    <tr>\n      <th>30</th>\n      <td>29</td>\n      <td>117</td>\n      <td>29_nato_asia_pacific_strategic</td>\n      <td>[nato, asia, pacific, strategic, alliance, eu,...</td>\n      <td>[NATO Secretary General Jens Stoltenberg said ...</td>\n    </tr>\n    <tr>\n      <th>31</th>\n      <td>30</td>\n      <td>105</td>\n      <td>30_emissions_climate_carbon_pollution</td>\n      <td>[emissions, climate, carbon, pollution, neutra...</td>\n      <td>[In comparison when the US had its carbon peak...</td>\n    </tr>\n    <tr>\n      <th>32</th>\n      <td>31</td>\n      <td>96</td>\n      <td>31_afghanistan_afghan_taliban_karzai</td>\n      <td>[afghanistan, afghan, taliban, karzai, kabul, ...</td>\n      <td>[The US government froze seven billion US doll...</td>\n    </tr>\n    <tr>\n      <th>33</th>\n      <td>32</td>\n      <td>93</td>\n      <td>32_orange_depay_downs_despite</td>\n      <td>[orange, depay, downs, despite, , , , , , , , ...</td>\n      <td>[ Despite,  Orange, Depay downs]</td>\n    </tr>\n    <tr>\n      <th>34</th>\n      <td>33</td>\n      <td>80</td>\n      <td>33_nato_nordic_joining_swedish</td>\n      <td>[nato, nordic, joining, swedish, finnish, scan...</td>\n      <td>[Discussions between Turkey Finland and Sweden...</td>\n    </tr>\n    <tr>\n      <th>35</th>\n      <td>34</td>\n      <td>77</td>\n      <td>34_indonesia_ministers_meeting_asean</td>\n      <td>[indonesia, ministers, meeting, asean, bali, a...</td>\n      <td>[A series of major regional or global events a...</td>\n    </tr>\n    <tr>\n      <th>36</th>\n      <td>35</td>\n      <td>72</td>\n      <td>35_pakistan_renewable_hydropower_electricity</td>\n      <td>[pakistan, renewable, hydropower, electricity,...</td>\n      <td>[Energy China said that hydropower projects in...</td>\n    </tr>\n    <tr>\n      <th>37</th>\n      <td>36</td>\n      <td>70</td>\n      <td>36_author_reporter_journalist_publisher</td>\n      <td>[author, reporter, journalist, publisher, mari...</td>\n      <td>[The author is an editor with the Global Times...</td>\n    </tr>\n    <tr>\n      <th>38</th>\n      <td>37</td>\n      <td>69</td>\n      <td>37_nato_ukraine_russia_conflict</td>\n      <td>[nato, ukraine, russia, conflict, eastward, ex...</td>\n      <td>[From a non EU perspective NATO s eastward exp...</td>\n    </tr>\n    <tr>\n      <th>39</th>\n      <td>38</td>\n      <td>65</td>\n      <td>38_refugees_refugee_asylum_seekers</td>\n      <td>[refugees, refugee, asylum, seekers, rwanda, d...</td>\n      <td>[If the refugees do arrive in a third country ...</td>\n    </tr>\n    <tr>\n      <th>40</th>\n      <td>39</td>\n      <td>61</td>\n      <td>39_xinjiang_genocide_ethnic_rights</td>\n      <td>[xinjiang, genocide, ethnic, rights, zenz, min...</td>\n      <td>[The effort is to follow the US in hyping the ...</td>\n    </tr>\n    <tr>\n      <th>41</th>\n      <td>40</td>\n      <td>61</td>\n      <td>40_temperatures_waves_drought_meteorological</td>\n      <td>[temperatures, waves, drought, meteorological,...</td>\n      <td>[ The reason is that whereas heat waves are a ...</td>\n    </tr>\n    <tr>\n      <th>42</th>\n      <td>41</td>\n      <td>60</td>\n      <td>41_nsa_validator_attacks_agencies</td>\n      <td>[nsa, validator, attacks, agencies, espionage,...</td>\n      <td>[According to a report on the indiscriminate w...</td>\n    </tr>\n    <tr>\n      <th>43</th>\n      <td>42</td>\n      <td>58</td>\n      <td>42_drills_exercises_military_korea</td>\n      <td>[drills, exercises, military, korea, training,...</td>\n      <td>[The report noted that the drills will undersc...</td>\n    </tr>\n    <tr>\n      <th>44</th>\n      <td>43</td>\n      <td>57</td>\n      <td>43_philippines_marcos_philippine_chen</td>\n      <td>[philippines, marcos, philippine, chen, manila...</td>\n      <td>[China is not only neighbor of the Philippines...</td>\n    </tr>\n    <tr>\n      <th>45</th>\n      <td>44</td>\n      <td>57</td>\n      <td>44_cn_globaltimes_com_opinion</td>\n      <td>[cn, globaltimes, com, opinion, globaltime, , ...</td>\n      <td>[opinion globaltimes com cn, opinion globaltim...</td>\n    </tr>\n    <tr>\n      <th>46</th>\n      <td>45</td>\n      <td>55</td>\n      <td>45_aircraft_carrier_carriers_navy</td>\n      <td>[aircraft, carrier, carriers, navy, naval, cat...</td>\n      <td>[The China People s Liberation Army PLA Navy h...</td>\n    </tr>\n    <tr>\n      <th>47</th>\n      <td>46</td>\n      <td>53</td>\n      <td>46_friendship_association_nepal_culture</td>\n      <td>[friendship, association, nepal, culture, ocea...</td>\n      <td>[China US People s Friendship Association , Ch...</td>\n    </tr>\n    <tr>\n      <th>48</th>\n      <td>47</td>\n      <td>53</td>\n      <td>47_australia_minister_morrison_aspi</td>\n      <td>[australia, minister, morrison, aspi, governme...</td>\n      <td>[What would you like to say to the new Austral...</td>\n    </tr>\n    <tr>\n      <th>49</th>\n      <td>48</td>\n      <td>53</td>\n      <td>48_nuclear_proliferation_weapons_disarmament</td>\n      <td>[nuclear, proliferation, weapons, disarmament,...</td>\n      <td>[Another form is geographic nuclear proliferat...</td>\n    </tr>\n    <tr>\n      <th>50</th>\n      <td>49</td>\n      <td>51</td>\n      <td>49_xi_initiative_proposed_global</td>\n      <td>[xi, initiative, proposed, global, sustainable...</td>\n      <td>[Global Times China President Xi Jinping propo...</td>\n    </tr>\n  </tbody>\n</table>\n</div>"
     },
     "execution_count": 43,
     "metadata": {},
     "output_type": "execute_result"
    }
   ],
   "source": [
    "topic_detailes_df"
   ],
   "metadata": {
    "collapsed": false,
    "ExecuteTime": {
     "end_time": "2025-01-03T22:12:17.256704Z",
     "start_time": "2025-01-03T22:12:17.230188700Z"
    }
   }
  },
  {
   "cell_type": "code",
   "execution_count": 38,
   "outputs": [
    {
     "data": {
      "text/plain": "       Unnamed: 0 sentence_id  article_id  \\\n0               0     000-000           0   \n1              12     000-012           0   \n2              14     000-014           0   \n3              15     000-015           0   \n4              16     000-016           0   \n...           ...         ...         ...   \n16811       12781     374-003         374   \n16812       12783     374-005         374   \n16813       12784     374-006         374   \n16814       12785     374-007         374   \n16815       12787     374-009         374   \n\n                                                    text sentiment  \\\n0      Since this year, the UN (UN) has repeatedly so...  negative   \n1      Apart from the food issue, many hegemonism and...  negative   \n2      In addition, on one side, it is the scene of p...  negative   \n3      The four companies known as the four \"largest ...   neutral   \n4      According to US media reports, high food price...  positive   \n...                                                  ...       ...   \n16811  Last week, Turkey said documents it received f...   neutral   \n16812  Ibrahim Kalin said Ankara was expecting Sweden...  positive   \n16813  Any progress on the Nordic membership bids \"no...  positive   \n16814  The talks in Brussels with officials from Swed...  positive   \n16815  \"Onal said Turkey expected a change of approac...  positive   \n\n                                                     NER published_time  \\\n0                                     {'UN': ('ORG', 2)}     2022-08-22   \n1                                     {'US': ('LOC', 1)}     2022-08-22   \n2                            {'Wall Street': ('LOC', 1)}     2022-08-22   \n3                                     {'US': ('LOC', 1)}     2022-08-22   \n4                                     {'US': ('LOC', 2)}     2022-08-22   \n...                                                  ...            ...   \n16811  {'Turkey': ('LOC', 2), 'Sweden': ('LOC', 1), '...     2022-06-21   \n16812  {'Ibrahim Kalin': ('PER', 1), 'Ankara': ('LOC'...     2022-06-21   \n16813                            {'Nordic': ('MISC', 1)}     2022-06-21   \n16814  {'Brussels': ('LOC', 1), 'Sweden': ('LOC', 1),...     2022-06-21   \n16815  {'Onal': ('ORG', 1), 'Turkey': ('LOC', 1), 'Sw...     2022-06-21   \n\n       topic_id  \n0            10  \n1            10  \n2            10  \n3            10  \n4            10  \n...         ...  \n16811        33  \n16812        33  \n16813        33  \n16814        33  \n16815        33  \n\n[16816 rows x 8 columns]",
      "text/html": "<div>\n<style scoped>\n    .dataframe tbody tr th:only-of-type {\n        vertical-align: middle;\n    }\n\n    .dataframe tbody tr th {\n        vertical-align: top;\n    }\n\n    .dataframe thead th {\n        text-align: right;\n    }\n</style>\n<table border=\"1\" class=\"dataframe\">\n  <thead>\n    <tr style=\"text-align: right;\">\n      <th></th>\n      <th>Unnamed: 0</th>\n      <th>sentence_id</th>\n      <th>article_id</th>\n      <th>text</th>\n      <th>sentiment</th>\n      <th>NER</th>\n      <th>published_time</th>\n      <th>topic_id</th>\n    </tr>\n  </thead>\n  <tbody>\n    <tr>\n      <th>0</th>\n      <td>0</td>\n      <td>000-000</td>\n      <td>0</td>\n      <td>Since this year, the UN (UN) has repeatedly so...</td>\n      <td>negative</td>\n      <td>{'UN': ('ORG', 2)}</td>\n      <td>2022-08-22</td>\n      <td>10</td>\n    </tr>\n    <tr>\n      <th>1</th>\n      <td>12</td>\n      <td>000-012</td>\n      <td>0</td>\n      <td>Apart from the food issue, many hegemonism and...</td>\n      <td>negative</td>\n      <td>{'US': ('LOC', 1)}</td>\n      <td>2022-08-22</td>\n      <td>10</td>\n    </tr>\n    <tr>\n      <th>2</th>\n      <td>14</td>\n      <td>000-014</td>\n      <td>0</td>\n      <td>In addition, on one side, it is the scene of p...</td>\n      <td>negative</td>\n      <td>{'Wall Street': ('LOC', 1)}</td>\n      <td>2022-08-22</td>\n      <td>10</td>\n    </tr>\n    <tr>\n      <th>3</th>\n      <td>15</td>\n      <td>000-015</td>\n      <td>0</td>\n      <td>The four companies known as the four \"largest ...</td>\n      <td>neutral</td>\n      <td>{'US': ('LOC', 1)}</td>\n      <td>2022-08-22</td>\n      <td>10</td>\n    </tr>\n    <tr>\n      <th>4</th>\n      <td>16</td>\n      <td>000-016</td>\n      <td>0</td>\n      <td>According to US media reports, high food price...</td>\n      <td>positive</td>\n      <td>{'US': ('LOC', 2)}</td>\n      <td>2022-08-22</td>\n      <td>10</td>\n    </tr>\n    <tr>\n      <th>...</th>\n      <td>...</td>\n      <td>...</td>\n      <td>...</td>\n      <td>...</td>\n      <td>...</td>\n      <td>...</td>\n      <td>...</td>\n      <td>...</td>\n    </tr>\n    <tr>\n      <th>16811</th>\n      <td>12781</td>\n      <td>374-003</td>\n      <td>374</td>\n      <td>Last week, Turkey said documents it received f...</td>\n      <td>neutral</td>\n      <td>{'Turkey': ('LOC', 2), 'Sweden': ('LOC', 1), '...</td>\n      <td>2022-06-21</td>\n      <td>33</td>\n    </tr>\n    <tr>\n      <th>16812</th>\n      <td>12783</td>\n      <td>374-005</td>\n      <td>374</td>\n      <td>Ibrahim Kalin said Ankara was expecting Sweden...</td>\n      <td>positive</td>\n      <td>{'Ibrahim Kalin': ('PER', 1), 'Ankara': ('LOC'...</td>\n      <td>2022-06-21</td>\n      <td>33</td>\n    </tr>\n    <tr>\n      <th>16813</th>\n      <td>12784</td>\n      <td>374-006</td>\n      <td>374</td>\n      <td>Any progress on the Nordic membership bids \"no...</td>\n      <td>positive</td>\n      <td>{'Nordic': ('MISC', 1)}</td>\n      <td>2022-06-21</td>\n      <td>33</td>\n    </tr>\n    <tr>\n      <th>16814</th>\n      <td>12785</td>\n      <td>374-007</td>\n      <td>374</td>\n      <td>The talks in Brussels with officials from Swed...</td>\n      <td>positive</td>\n      <td>{'Brussels': ('LOC', 1), 'Sweden': ('LOC', 1),...</td>\n      <td>2022-06-21</td>\n      <td>33</td>\n    </tr>\n    <tr>\n      <th>16815</th>\n      <td>12787</td>\n      <td>374-009</td>\n      <td>374</td>\n      <td>\"Onal said Turkey expected a change of approac...</td>\n      <td>positive</td>\n      <td>{'Onal': ('ORG', 1), 'Turkey': ('LOC', 1), 'Sw...</td>\n      <td>2022-06-21</td>\n      <td>33</td>\n    </tr>\n  </tbody>\n</table>\n<p>16816 rows × 8 columns</p>\n</div>"
     },
     "execution_count": 38,
     "metadata": {},
     "output_type": "execute_result"
    }
   ],
   "source": [
    "topics_df = ner_df\n",
    "topics_df['topic_id'] = topics\n",
    "topics_df"
   ],
   "metadata": {
    "collapsed": false,
    "ExecuteTime": {
     "end_time": "2025-01-03T22:06:00.369770900Z",
     "start_time": "2025-01-03T22:06:00.356455700Z"
    }
   }
  },
  {
   "cell_type": "code",
   "execution_count": 40,
   "outputs": [
    {
     "data": {
      "text/plain": "       Unnamed: 0 sentence_id  article_id  \\\n0               0     000-000           0   \n5641            1     000-001           0   \n296             2     000-002           0   \n297             3     000-003           0   \n4169            4     000-004           0   \n...           ...         ...         ...   \n4168        16811     489-001         489   \n14876       16812     489-002         489   \n14877       16813     489-003         489   \n10814       16814     489-004         489   \n4931        16815     489-005         489   \n\n                                                    text sentiment  \\\n0      Since this year, the UN (UN) has repeatedly so...  negative   \n5641   UN Secretary-General Antonio Guterres on Satur...   neutral   \n296    This is a major appeal made by UN Secretary-Ge...  positive   \n297    Guterres had clear target when he made these r...  positive   \n4169   At present, it is no secret who is the biggest...  negative   \n...                                                  ...       ...   \n4168   The agreement was reached during a meeting of ...  positive   \n14876  The two countries agreed to work out mechanism...  positive   \n14877  In particular, the parties agreed to optimize ...  positive   \n10814  Besides, Ukraine and Moldova decided to consid...   neutral   \n4931   Last month, Ukraine Prime Minister Denys Shmyh...  positive   \n\n                                                     NER published_time  \\\n0                                     {'UN': ('ORG', 2)}     2022-08-22   \n5641   {'UN': ('ORG', 1), 'Antonio Guterres': ('PER',...     2022-08-22   \n296                                   {'UN': ('ORG', 1)}     2022-08-22   \n297                             {'Guterres': ('PER', 1)}     2022-08-22   \n4169                              {'Russia': ('LOC', 1)}     2022-08-22   \n...                                                  ...            ...   \n4168   {'Vyacheslav Demchenko': ('PER', 1), 'Igor Tal...     2022-06-07   \n14876                                                 {}     2022-06-07   \n14877                                                 {}     2022-06-07   \n10814     {'Ukraine': ('LOC', 2), 'Moldova': ('LOC', 2)}     2022-06-07   \n4931   {'Ukraine': ('LOC', 2), 'Moldova': ('LOC', 1),...     2022-06-07   \n\n       topic_id                               topic_representation  \\\n0            10  [grain, prices, wheat, agricultural, hunger, f...   \n5641         18  [ukraine, turkey, food, istanbul, ships, guter...   \n296          -1  [china, russia, countries, global, economic, a...   \n297          -1  [china, russia, countries, global, economic, a...   \n4169         -1  [china, russia, countries, global, economic, a...   \n...         ...                                                ...   \n4168         -1  [china, russia, countries, global, economic, a...   \n14876        26  [freight, trains, port, eu, customs, mongolia,...   \n14877        26  [freight, trains, port, eu, customs, mongolia,...   \n10814         4  [ukraine, russia, kiev, weapons, zelensky, vol...   \n4931         -1  [china, russia, countries, global, economic, a...   \n\n                                    topic_representation  \n0      [grain, prices, wheat, agricultural, hunger, f...  \n5641   [ukraine, turkey, food, istanbul, ships, guter...  \n296    [china, russia, countries, global, economic, a...  \n297    [china, russia, countries, global, economic, a...  \n4169   [china, russia, countries, global, economic, a...  \n...                                                  ...  \n4168   [china, russia, countries, global, economic, a...  \n14876  [freight, trains, port, eu, customs, mongolia,...  \n14877  [freight, trains, port, eu, customs, mongolia,...  \n10814  [ukraine, russia, kiev, weapons, zelensky, vol...  \n4931   [china, russia, countries, global, economic, a...  \n\n[16816 rows x 10 columns]",
      "text/html": "<div>\n<style scoped>\n    .dataframe tbody tr th:only-of-type {\n        vertical-align: middle;\n    }\n\n    .dataframe tbody tr th {\n        vertical-align: top;\n    }\n\n    .dataframe thead th {\n        text-align: right;\n    }\n</style>\n<table border=\"1\" class=\"dataframe\">\n  <thead>\n    <tr style=\"text-align: right;\">\n      <th></th>\n      <th>Unnamed: 0</th>\n      <th>sentence_id</th>\n      <th>article_id</th>\n      <th>text</th>\n      <th>sentiment</th>\n      <th>NER</th>\n      <th>published_time</th>\n      <th>topic_id</th>\n      <th>topic_representation</th>\n      <th>topic_representation</th>\n    </tr>\n  </thead>\n  <tbody>\n    <tr>\n      <th>0</th>\n      <td>0</td>\n      <td>000-000</td>\n      <td>0</td>\n      <td>Since this year, the UN (UN) has repeatedly so...</td>\n      <td>negative</td>\n      <td>{'UN': ('ORG', 2)}</td>\n      <td>2022-08-22</td>\n      <td>10</td>\n      <td>[grain, prices, wheat, agricultural, hunger, f...</td>\n      <td>[grain, prices, wheat, agricultural, hunger, f...</td>\n    </tr>\n    <tr>\n      <th>5641</th>\n      <td>1</td>\n      <td>000-001</td>\n      <td>0</td>\n      <td>UN Secretary-General Antonio Guterres on Satur...</td>\n      <td>neutral</td>\n      <td>{'UN': ('ORG', 1), 'Antonio Guterres': ('PER',...</td>\n      <td>2022-08-22</td>\n      <td>18</td>\n      <td>[ukraine, turkey, food, istanbul, ships, guter...</td>\n      <td>[ukraine, turkey, food, istanbul, ships, guter...</td>\n    </tr>\n    <tr>\n      <th>296</th>\n      <td>2</td>\n      <td>000-002</td>\n      <td>0</td>\n      <td>This is a major appeal made by UN Secretary-Ge...</td>\n      <td>positive</td>\n      <td>{'UN': ('ORG', 1)}</td>\n      <td>2022-08-22</td>\n      <td>-1</td>\n      <td>[china, russia, countries, global, economic, a...</td>\n      <td>[china, russia, countries, global, economic, a...</td>\n    </tr>\n    <tr>\n      <th>297</th>\n      <td>3</td>\n      <td>000-003</td>\n      <td>0</td>\n      <td>Guterres had clear target when he made these r...</td>\n      <td>positive</td>\n      <td>{'Guterres': ('PER', 1)}</td>\n      <td>2022-08-22</td>\n      <td>-1</td>\n      <td>[china, russia, countries, global, economic, a...</td>\n      <td>[china, russia, countries, global, economic, a...</td>\n    </tr>\n    <tr>\n      <th>4169</th>\n      <td>4</td>\n      <td>000-004</td>\n      <td>0</td>\n      <td>At present, it is no secret who is the biggest...</td>\n      <td>negative</td>\n      <td>{'Russia': ('LOC', 1)}</td>\n      <td>2022-08-22</td>\n      <td>-1</td>\n      <td>[china, russia, countries, global, economic, a...</td>\n      <td>[china, russia, countries, global, economic, a...</td>\n    </tr>\n    <tr>\n      <th>...</th>\n      <td>...</td>\n      <td>...</td>\n      <td>...</td>\n      <td>...</td>\n      <td>...</td>\n      <td>...</td>\n      <td>...</td>\n      <td>...</td>\n      <td>...</td>\n      <td>...</td>\n    </tr>\n    <tr>\n      <th>4168</th>\n      <td>16811</td>\n      <td>489-001</td>\n      <td>489</td>\n      <td>The agreement was reached during a meeting of ...</td>\n      <td>positive</td>\n      <td>{'Vyacheslav Demchenko': ('PER', 1), 'Igor Tal...</td>\n      <td>2022-06-07</td>\n      <td>-1</td>\n      <td>[china, russia, countries, global, economic, a...</td>\n      <td>[china, russia, countries, global, economic, a...</td>\n    </tr>\n    <tr>\n      <th>14876</th>\n      <td>16812</td>\n      <td>489-002</td>\n      <td>489</td>\n      <td>The two countries agreed to work out mechanism...</td>\n      <td>positive</td>\n      <td>{}</td>\n      <td>2022-06-07</td>\n      <td>26</td>\n      <td>[freight, trains, port, eu, customs, mongolia,...</td>\n      <td>[freight, trains, port, eu, customs, mongolia,...</td>\n    </tr>\n    <tr>\n      <th>14877</th>\n      <td>16813</td>\n      <td>489-003</td>\n      <td>489</td>\n      <td>In particular, the parties agreed to optimize ...</td>\n      <td>positive</td>\n      <td>{}</td>\n      <td>2022-06-07</td>\n      <td>26</td>\n      <td>[freight, trains, port, eu, customs, mongolia,...</td>\n      <td>[freight, trains, port, eu, customs, mongolia,...</td>\n    </tr>\n    <tr>\n      <th>10814</th>\n      <td>16814</td>\n      <td>489-004</td>\n      <td>489</td>\n      <td>Besides, Ukraine and Moldova decided to consid...</td>\n      <td>neutral</td>\n      <td>{'Ukraine': ('LOC', 2), 'Moldova': ('LOC', 2)}</td>\n      <td>2022-06-07</td>\n      <td>4</td>\n      <td>[ukraine, russia, kiev, weapons, zelensky, vol...</td>\n      <td>[ukraine, russia, kiev, weapons, zelensky, vol...</td>\n    </tr>\n    <tr>\n      <th>4931</th>\n      <td>16815</td>\n      <td>489-005</td>\n      <td>489</td>\n      <td>Last month, Ukraine Prime Minister Denys Shmyh...</td>\n      <td>positive</td>\n      <td>{'Ukraine': ('LOC', 2), 'Moldova': ('LOC', 1),...</td>\n      <td>2022-06-07</td>\n      <td>-1</td>\n      <td>[china, russia, countries, global, economic, a...</td>\n      <td>[china, russia, countries, global, economic, a...</td>\n    </tr>\n  </tbody>\n</table>\n<p>16816 rows × 10 columns</p>\n</div>"
     },
     "execution_count": 40,
     "metadata": {},
     "output_type": "execute_result"
    }
   ],
   "source": [
    "#add topic represnetation to the ner_df\n",
    "topics_df = topics_df.merge(topic_detailes_df[['Topic', 'Representation']], left_on='topic_id', right_on='Topic')\n",
    "topics_df = topics_df.drop(columns=['Topic'], inplace=False)\n",
    "#rename column\n",
    "topics_df = topics_df.rename(columns={\"Representation\": \"topic_representation\"})\n",
    "topics_df.sort_values(by=['sentence_id'], inplace=True)\n",
    "topics_df"
   ],
   "metadata": {
    "collapsed": false,
    "ExecuteTime": {
     "end_time": "2025-01-03T22:06:44.718126400Z",
     "start_time": "2025-01-03T22:06:44.665247200Z"
    }
   }
  },
  {
   "cell_type": "code",
   "execution_count": 42,
   "outputs": [],
   "source": [
    "topics_df.to_csv(\"senteces_ukraine_after.csv\", index=False)"
   ],
   "metadata": {
    "collapsed": false,
    "ExecuteTime": {
     "end_time": "2025-01-03T22:07:09.392817700Z",
     "start_time": "2025-01-03T22:07:09.211983400Z"
    }
   }
  }
 ],
 "metadata": {
  "kernelspec": {
   "display_name": "Python 3",
   "language": "python",
   "name": "python3"
  },
  "language_info": {
   "codemirror_mode": {
    "name": "ipython",
    "version": 2
   },
   "file_extension": ".py",
   "mimetype": "text/x-python",
   "name": "python",
   "nbconvert_exporter": "python",
   "pygments_lexer": "ipython2",
   "version": "2.7.6"
  }
 },
 "nbformat": 4,
 "nbformat_minor": 0
}
