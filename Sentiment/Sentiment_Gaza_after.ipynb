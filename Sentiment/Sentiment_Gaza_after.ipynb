{
 "cells": [
  {
   "cell_type": "code",
   "execution_count": null,
   "id": "initial_id",
   "metadata": {
    "collapsed": true
   },
   "outputs": [],
   "source": "from sentiment_script import perform_sentiment_analysis, calculate_sentiment_dist, calculate_sentiment_dist_per_target, calculate_sentiment_over_time, calculate_sentiment_over_time_per_target, generate_word_clouds, caluclate_sentiment_dist_over_time_by_target"
  },
  {
   "metadata": {},
   "cell_type": "code",
   "outputs": [],
   "execution_count": null,
   "source": [
    "file_name = \"../Data/gaza_textcontain_after_new_preprocessed.csv\"\n",
    "dataset_name = \"Gaza during conflict\"\n",
    "target_entities = [\n",
    "    \"Palestinian-Israeli Conflict\", \"Israel\", \"Gaza\", \"Palestine\", \"US\",\n",
    "    \"China\", \"West\", \"Saudi Arabia\", \"West Bank\", \"Middle East\",\n",
    "    \"Houthi\", \"Hamas\", \"Rafah\", \"UN\", \"Wang Yi\",\n",
    "    \"Joe Biden\", \"Antony Blinken\", \"Zhang Jun\", \"Xi Jinping\", \"Benjamin Netanyahu\",\n",
    "    \"Antonio Guterres\", \"EU\", \"EU Union\"\n",
    "    ]"
   ],
   "id": "912d9e8b17d8c22"
  },
  {
   "metadata": {},
   "cell_type": "code",
   "outputs": [],
   "execution_count": null,
   "source": "tsc_results_df, vader_results_df = perform_sentiment_analysis(file_name, target_entities, dataset_name)",
   "id": "9c4147f8db20df07"
  },
  {
   "metadata": {},
   "cell_type": "code",
   "outputs": [],
   "execution_count": null,
   "source": "",
   "id": "641ee8144c094f69"
  }
 ],
 "metadata": {
  "kernelspec": {
   "display_name": "Python 3",
   "language": "python",
   "name": "python3"
  },
  "language_info": {
   "codemirror_mode": {
    "name": "ipython",
    "version": 2
   },
   "file_extension": ".py",
   "mimetype": "text/x-python",
   "name": "python",
   "nbconvert_exporter": "python",
   "pygments_lexer": "ipython2",
   "version": "2.7.6"
  }
 },
 "nbformat": 4,
 "nbformat_minor": 5
}
